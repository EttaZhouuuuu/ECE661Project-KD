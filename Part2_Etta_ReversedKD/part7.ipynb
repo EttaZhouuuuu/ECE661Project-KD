{
  "nbformat": 4,
  "nbformat_minor": 0,
  "metadata": {
    "colab": {
      "provenance": [],
      "toc_visible": true,
      "machine_shape": "hm",
      "gpuType": "L4"
    },
    "kernelspec": {
      "name": "python3",
      "display_name": "Python 3"
    },
    "language_info": {
      "name": "python"
    },
    "accelerator": "GPU"
  },
  "cells": [
    {
      "cell_type": "markdown",
      "source": [
        "## 任务分解\n",
        "\n",
        "1. **数据准备**  \n",
        "   1.1. 划分教师子集  \n",
        "   - 决定 \\(K\\) 个教师各自使用的训练子集（例如按类别分、或不同随机划分）。  \n",
        "   - 生成对应的 PyTorch `Subset` 或自定义 sampler。  \n",
        "   1.2. 标准 CIFAR‑10（或 MNIST）预处理  \n",
        "   - 随机裁剪、水平翻转、归一化；  \n",
        "   - 构建训练/验证 `DataLoader`（batch size、shuffle、num_workers）。\n",
        "\n",
        "2. **模型定义**  \n",
        "   2.1. 教师们  \n",
        "   - 实例化同一架构（如 ResNet18）或多种架构（ResNet18/34/50…）的 \\(K\\) 个模型；  \n",
        "   2.2. 学生  \n",
        "   - 实例化学生网络（如 ResNet18）——单一、小容量；  \n",
        "   2.3. 参数统计  \n",
        "   - 用 `torchinfo` 或 `flops-counter` 输出每个模型的参数量和 FLOPs。\n",
        "\n",
        "3. **教师训练**  \n",
        "   - 并行／顺序地在各自子集上训练 \\(K\\) 个教师；  \n",
        "   - 保存各自最佳 checkpoint；  \n",
        "   - 记录各自的验证准确率。\n",
        "\n",
        "4. **单教师蒸馏（Forward KD）——复用 Part 4 代码**  \n",
        "   - **已完成**：  \n",
        "     - 生成单一教师温度化软标签；  \n",
        "     - 定义并训练学生的 KD 损失（KL+CE）；  \n",
        "     - 评估并记录学生蒸馏后的性能。  \n",
        "\n",
        "5. **多教师蒸馏**  \n",
        "   5.1. **软标签融合**  \n",
        "   - 每个 mini‑batch 对 \\(K\\) 位教师分别做 forward，收集它们的 \\(\\tau\\)‑softmax 输出；  \n",
        "   - 逐元素平均得到 \\(\\,p_{\\rm avg}^{(\\tau)}\\)；  \n",
        "   5.2. **学生训练**  \n",
        "   - 损失同 Forward KD，只用 \\(p_{\\rm avg}^{(\\tau)}\\) 代替单个教师；  \n",
        "   - 学生前向／反向、保存 checkpoint；  \n",
        "   5.3. **评估**  \n",
        "   - 在同一验证集上测试学生，多教师 vs. 单教师 vs. 硬标签基线的准确率对比；  \n",
        "\n",
        "6. **超参数扫描与消融**  \n",
        "   - 遍历 \\(\\tau\\in\\{1,5,10,20\\}\\)、\\(\\alpha\\in\\{0.1,0.5,0.9\\}\\)、教师数 \\(K\\in\\{2,4,8\\}\\)；  \n",
        "   - 记录每组下学生的最终准确率；  \n",
        "   - 可选：试验“弱教师”检查点（训练不足的教师）对学生性能的影响。  \n",
        "\n",
        "7. **结果可视化 & 分析**  \n",
        "   - **定量：**  \n",
        "     - 各方案准确率表格（硬标签／单教师／多教师）；  \n",
        "     - Δ‑Accuracy 随 \\(\\tau\\)、\\(\\alpha\\)、\\(K\\) 的变化。  \n",
        "   - **可视化：**  \n",
        "     - 准确率 vs. 温度曲线；  \n",
        "     - K 值 vs. Δ‑Accuracy 柱状图；  \n",
        "   - **讨论：**  \n",
        "     - 多教师如何提供多样化“暗知识”增强正则化；  \n",
        "     - 与“标签平滑＝正则化”视角的联系。  \n",
        "\n",
        "8. **复现 & 代码组织**  \n",
        "   - 新建 `distill_multi.py`，沿用 `distill_single.py` 框架，增加教师列表与融合逻辑；  \n",
        "   - 在 `scripts/` 下补充命令行示例；  \n",
        "   - 确保随机种子、日志记录、参数统计一并复现。  \n",
        "\n"
      ],
      "metadata": {
        "id": "J92PshtlEjzr"
      }
    },
    {
      "cell_type": "markdown",
      "source": [
        "# Part8"
      ],
      "metadata": {
        "id": "WK05YXuW_s7I"
      }
    },
    {
      "cell_type": "code",
      "source": [
        "#!/usr/bin/env python3\n",
        "\"\"\"\n",
        "distill_multi.py\n",
        "\n",
        "Multi‑teacher knowledge distillation for CIFAR-10.\n",
        "\"\"\"\n",
        "\n",
        "import os\n",
        "import argparse\n",
        "import logging\n",
        "import random\n",
        "import numpy as np\n",
        "\n",
        "import torch\n",
        "import torch.nn as nn\n",
        "import torch.optim as optim\n",
        "import torch.nn.functional as F\n",
        "import torch.backends.cudnn as cudnn\n",
        "from torch.utils.data import DataLoader\n",
        "from torchvision import datasets, transforms, models\n",
        "from torchinfo import summary\n",
        "\n",
        "def parse_args():\n",
        "    p = argparse.ArgumentParser(description=\"Multi‑Teacher Distillation CIFAR-10\")\n",
        "    p.add_argument(\"--data_dir\",      type=str,   default=\"data/\",             help=\"dataset root\")\n",
        "    p.add_argument(\"--teacher_ckpts\", nargs=\"+\",  required=True,               help=\"paths to teacher .pth files\")\n",
        "    p.add_argument(\"--teacher_arch\",  type=str,   default=\"resnet50\",         help=\"teacher architecture\")\n",
        "    p.add_argument(\"--student_arch\",  type=str,   default=\"resnet34\",         help=\"student architecture\")\n",
        "    p.add_argument(\"--batch_size\",    type=int,   default=128,                 help=\"batch size\")\n",
        "    p.add_argument(\"--epochs\",        type=int,   default=200,                 help=\"training epochs\")\n",
        "    p.add_argument(\"--tau\",           type=float, default=5.0,                 help=\"distillation temperature\")\n",
        "    p.add_argument(\"--alpha\",         type=float, default=0.7,                 help=\"KD loss weight\")\n",
        "    p.add_argument(\"--lr\",            type=float, default=0.1,                 help=\"initial lr\")\n",
        "    p.add_argument(\"--milestones\",    nargs=\"+\",  type=int, default=[100,150], help=\"LR scheduler milestones\")\n",
        "    p.add_argument(\"--seed\",          type=int,   default=42,                  help=\"random seed\")\n",
        "    p.add_argument(\"--log_file\",      type=str,   default=\"distill_multi.log\",help=\"log file\")\n",
        "    p.add_argument(\"--out_dir\",       type=str,   default=\"out/multi\",        help=\"output directory\")\n",
        "    return p.parse_args()\n",
        "\n",
        "def set_seeds(seed):\n",
        "    random.seed(seed)\n",
        "    np.random.seed(seed)\n",
        "    torch.manual_seed(seed)\n",
        "    torch.cuda.manual_seed_all(seed)\n",
        "    cudnn.deterministic = True\n",
        "    cudnn.benchmark     = False\n",
        "\n",
        "def configure_logging(log_file):\n",
        "    os.makedirs(os.path.dirname(log_file), exist_ok=True)\n",
        "    logging.basicConfig(\n",
        "        level=logging.INFO,\n",
        "        format=\"%(asctime)s %(levelname)s %(message)s\",\n",
        "        handlers=[\n",
        "            logging.FileHandler(log_file),\n",
        "            logging.StreamHandler()\n",
        "        ]\n",
        "    )\n",
        "    return logging.getLogger()\n",
        "\n",
        "def build_dataloaders(data_dir, batch_size):\n",
        "    mean = (0.4914, 0.4822, 0.4465)\n",
        "    std  = (0.2470, 0.2435, 0.2616)\n",
        "\n",
        "    train_tf = transforms.Compose([\n",
        "        transforms.RandomCrop(32, padding=4),\n",
        "        transforms.RandomHorizontalFlip(),\n",
        "        transforms.ToTensor(),\n",
        "        transforms.Normalize(mean, std),\n",
        "    ])\n",
        "    test_tf = transforms.Compose([\n",
        "        transforms.ToTensor(),\n",
        "        transforms.Normalize(mean, std),\n",
        "    ])\n",
        "\n",
        "    train_ds = datasets.CIFAR10(root=data_dir, train=True,  download=True, transform=train_tf)\n",
        "    test_ds  = datasets.CIFAR10(root=data_dir, train=False, download=True, transform=test_tf)\n",
        "\n",
        "    train_loader = DataLoader(train_ds, batch_size=batch_size, shuffle=True,  num_workers=4, pin_memory=True)\n",
        "    test_loader  = DataLoader(test_ds,  batch_size=batch_size, shuffle=False, num_workers=4, pin_memory=True)\n",
        "    return train_loader, test_loader\n",
        "\n",
        "def load_teachers(ckpt_paths, architecture, device):\n",
        "    teachers = []\n",
        "    for path in ckpt_paths:\n",
        "        model = getattr(models, architecture)(num_classes=10)\n",
        "        sd = torch.load(path, map_location=device)['model_state']\n",
        "        model.load_state_dict(sd)\n",
        "        model.to(device).eval()\n",
        "        for p in model.parameters():\n",
        "            p.requires_grad = False\n",
        "        teachers.append(model)\n",
        "    return teachers\n",
        "\n",
        "def distillation_loss(student_logits, teacher_avg, targets, tau, alpha):\n",
        "    s_logprob = F.log_softmax(student_logits / tau, dim=1)\n",
        "    loss_kl    = F.kl_div(s_logprob, teacher_avg, reduction='batchmean') * (tau*tau)\n",
        "    loss_ce    = F.cross_entropy(student_logits, targets)\n",
        "    return alpha * loss_kl + (1 - alpha) * loss_ce\n",
        "\n",
        "def main():\n",
        "    args = parse_args()\n",
        "    set_seeds(args.seed)\n",
        "    log = configure_logging(args.log_file)\n",
        "    log.info(f\"Arguments: {args}\")\n",
        "\n",
        "    os.makedirs(args.out_dir, exist_ok=True)\n",
        "\n",
        "    device = torch.device(\"cuda\" if torch.cuda.is_available() else \"cpu\")\n",
        "\n",
        "    # Data\n",
        "    train_loader, test_loader = build_dataloaders(args.data_dir, args.batch_size)\n",
        "\n",
        "    # Teachers\n",
        "    teachers = load_teachers(args.teacher_ckpts, args.teacher_arch, device)\n",
        "    log.info(f\"Loaded {len(teachers)} teachers [{args.teacher_arch}]\")\n",
        "\n",
        "    # Student\n",
        "    student = getattr(models, args.student_arch)(num_classes=10).to(device)\n",
        "    log.info(f\"Student arch: {args.student_arch}\")\n",
        "    log.info(summary(student, input_size=(1,3,32,32)))\n",
        "\n",
        "    # Optimizer & scheduler\n",
        "    optimizer = optim.SGD(\n",
        "        student.parameters(),\n",
        "        lr=args.lr,\n",
        "        momentum=0.9,\n",
        "        weight_decay=5e-4\n",
        "    )\n",
        "    scheduler = optim.lr_scheduler.MultiStepLR(\n",
        "        optimizer,\n",
        "        milestones=args.milestones,\n",
        "        gamma=0.1\n",
        "    )\n",
        "\n",
        "    best_acc = 0.0\n",
        "\n",
        "    # Training loop\n",
        "    for epoch in range(1, args.epochs + 1):\n",
        "        student.train()\n",
        "        running_loss = 0.0\n",
        "\n",
        "        for inputs, targets in train_loader:\n",
        "            inputs, targets = inputs.to(device), targets.to(device)\n",
        "            optimizer.zero_grad()\n",
        "\n",
        "            # Soft‑label fusion\n",
        "            with torch.no_grad():\n",
        "                sum_soft = torch.zeros(inputs.size(0), 10, device=device)\n",
        "                for tm in teachers:\n",
        "                    logits_t = tm(inputs)\n",
        "                    sum_soft += F.softmax(logits_t / args.tau, dim=1)\n",
        "                teacher_avg = sum_soft / len(teachers)\n",
        "\n",
        "            # Student forward + loss\n",
        "            logits_s = student(inputs)\n",
        "            loss     = distillation_loss(logits_s, teacher_avg, targets, args.tau, args.alpha)\n",
        "\n",
        "            loss.backward()\n",
        "            optimizer.step()\n",
        "            running_loss += loss.item() * inputs.size(0)\n",
        "\n",
        "        scheduler.step()\n",
        "        avg_train_loss = running_loss / len(train_loader.dataset)\n",
        "        log.info(f\"Epoch {epoch:03d}/{args.epochs} train_loss={avg_train_loss:.4f}\")\n",
        "\n",
        "        # Validation\n",
        "        student.eval()\n",
        "        correct = total = 0\n",
        "        with torch.no_grad():\n",
        "            for inputs, targets in test_loader:\n",
        "                inputs, targets = inputs.to(device), targets.to(device)\n",
        "                preds = student(inputs).argmax(dim=1)\n",
        "                correct += (preds == targets).sum().item()\n",
        "                total   += targets.size(0)\n",
        "        test_acc = 100. * correct / total\n",
        "        log.info(f\"          test_acc={test_acc:.2f}%\")\n",
        "\n",
        "        # Checkpoint\n",
        "        if test_acc > best_acc:\n",
        "            best_acc = test_acc\n",
        "            ckpt_path = os.path.join(args.out_dir, f\"student_multi_best.pth\")\n",
        "            torch.save({\n",
        "                'epoch':        epoch,\n",
        "                'model_state':  student.state_dict(),\n",
        "                'opt_state':    optimizer.state_dict(),\n",
        "                'test_acc':     test_acc,\n",
        "            }, ckpt_path)\n",
        "            log.info(f\"  → New best saved to {ckpt_path}\")\n",
        "\n",
        "    log.info(f\"Finished. Best multi-teacher student acc: {best_acc:.2f}%\")\n",
        "\n",
        "if __name__ == \"__main__\":\n",
        "    main()\n"
      ],
      "metadata": {
        "id": "cEdwa9FG_oUf"
      },
      "execution_count": null,
      "outputs": []
    },
    {
      "cell_type": "code",
      "source": [
        "from google.colab import drive\n",
        "drive.mount('/content/drive')"
      ],
      "metadata": {
        "colab": {
          "base_uri": "https://localhost:8080/"
        },
        "id": "QfVx0QHw0YG7",
        "outputId": "50dca2da-d7a0-4f10-fc48-a5784378a874"
      },
      "execution_count": 4,
      "outputs": [
        {
          "output_type": "stream",
          "name": "stdout",
          "text": [
            "Mounted at /content/drive\n"
          ]
        }
      ]
    },
    {
      "cell_type": "code",
      "source": [
        "%cd \"/content/drive/MyDrive/661project\"\n",
        "!pwd"
      ],
      "metadata": {
        "colab": {
          "base_uri": "https://localhost:8080/"
        },
        "id": "1Fr6jGYS0qDH",
        "outputId": "0e0a97f8-075d-45f8-d697-c38cd690d532"
      },
      "execution_count": 5,
      "outputs": [
        {
          "output_type": "stream",
          "name": "stdout",
          "text": [
            "/content/drive/MyDrive/661project\n",
            "/content/drive/MyDrive/661project\n"
          ]
        }
      ]
    },
    {
      "cell_type": "markdown",
      "source": [
        "# Part1"
      ],
      "metadata": {
        "id": "Bh-RYifk_yVW"
      }
    },
    {
      "cell_type": "code",
      "execution_count": 6,
      "metadata": {
        "id": "XYPG48C4z-MZ"
      },
      "outputs": [],
      "source": [
        "from torchvision import datasets\n",
        "\n",
        "full_train = datasets.CIFAR10(\n",
        "    root='data/',\n",
        "    train=True,\n",
        "    download=True,\n",
        "    transform=None  # we'll apply transforms later\n",
        ")\n"
      ]
    },
    {
      "cell_type": "code",
      "source": [
        "# Suppose K = 5 and 10 classes => 2 classes per teacher\n",
        "K = 5\n",
        "classes_per_teacher = 10 // K  # = 2\n",
        "teacher_splits = []\n",
        "targets = full_train.targets  # list of integer labels\n",
        "\n",
        "for t in range(K):\n",
        "    cls_start = t * classes_per_teacher\n",
        "    cls_end   = cls_start + classes_per_teacher\n",
        "    # find indices whose label ∈ [cls_start, cls_end)\n",
        "    idxs = [i for i, lab in enumerate(targets)\n",
        "            if cls_start <= lab < cls_end]\n",
        "    teacher_splits.append(idxs)\n"
      ],
      "metadata": {
        "id": "d-rwESRX1S6H"
      },
      "execution_count": 7,
      "outputs": []
    },
    {
      "cell_type": "code",
      "source": [
        "import torch\n",
        "num_samples = len(full_train)\n",
        "perm = torch.randperm(num_samples).tolist()\n",
        "teacher_splits = []\n",
        "split_size = num_samples // K\n",
        "\n",
        "for t in range(K):\n",
        "    start = t * split_size\n",
        "    end   = start + split_size if t < K-1 else num_samples\n",
        "    teacher_splits.append(perm[start:end])\n"
      ],
      "metadata": {
        "id": "t6PqVttJ1XG8"
      },
      "execution_count": 8,
      "outputs": []
    },
    {
      "cell_type": "code",
      "source": [
        "from torch.utils.data import Subset\n",
        "\n",
        "teacher_datasets = [\n",
        "    Subset(full_train, idxs)\n",
        "    for idxs in teacher_splits\n",
        "]\n",
        "# Now teacher_datasets[i] is the CIFAR-10 subset for teacher #i\n"
      ],
      "metadata": {
        "id": "YnD1SMvF1Zov"
      },
      "execution_count": 9,
      "outputs": []
    },
    {
      "cell_type": "code",
      "source": [
        "from torchvision import transforms\n",
        "\n",
        "# CIFAR-10 normalization constants\n",
        "CIFAR10_MEAN = (0.4914, 0.4822, 0.4465)\n",
        "CIFAR10_STD  = (0.2470, 0.2435, 0.2616)\n",
        "\n",
        "train_transform = transforms.Compose([\n",
        "    transforms.RandomCrop(32, padding=4),\n",
        "    transforms.RandomHorizontalFlip(),\n",
        "    transforms.ToTensor(),\n",
        "    transforms.Normalize(CIFAR10_MEAN, CIFAR10_STD),\n",
        "])\n",
        "\n",
        "test_transform = transforms.Compose([\n",
        "    transforms.ToTensor(),\n",
        "    transforms.Normalize(CIFAR10_MEAN, CIFAR10_STD),\n",
        "])\n"
      ],
      "metadata": {
        "id": "FTcaRtgb1Zgo"
      },
      "execution_count": 10,
      "outputs": []
    },
    {
      "cell_type": "code",
      "source": [
        "# We need to override the transform of the underlying dataset\n",
        "# for each Subset. One simple approach is to wrap with a lambda:\n",
        "class TransformSubset(Subset):\n",
        "    def __init__(self, subset, transform):\n",
        "        super().__init__(subset.dataset, subset.indices)\n",
        "        self.transform = transform\n",
        "    def __getitem__(self, idx):\n",
        "        img, label = super().__getitem__(idx)\n",
        "        return self.transform(img), label\n",
        "\n",
        "teacher_load_datasets = [\n",
        "    TransformSubset(ds, train_transform)\n",
        "    for ds in teacher_datasets\n",
        "]\n"
      ],
      "metadata": {
        "id": "ZQlBHk2g1ZVY"
      },
      "execution_count": 11,
      "outputs": []
    },
    {
      "cell_type": "code",
      "source": [
        "from torch.utils.data import DataLoader\n",
        "\n",
        "batch_size  = 128\n",
        "num_workers = 4\n",
        "\n",
        "teacher_loaders = [\n",
        "    DataLoader(\n",
        "        ds,\n",
        "        batch_size=batch_size,\n",
        "        shuffle=True,\n",
        "        num_workers=num_workers,\n",
        "        pin_memory=True\n",
        "    )\n",
        "    for ds in teacher_load_datasets\n",
        "]\n",
        "\n",
        "# And for your student’s full training set (hard‑label baseline):\n",
        "full_train.transform = train_transform\n",
        "student_train_loader = DataLoader(\n",
        "    full_train,\n",
        "    batch_size=batch_size,\n",
        "    shuffle=True,\n",
        "    num_workers=num_workers,\n",
        "    pin_memory=True\n",
        ")\n",
        "\n",
        "# CIFAR-10 test set:\n",
        "test_set = datasets.CIFAR10(\n",
        "    root='data/',\n",
        "    train=False,\n",
        "    download=False,\n",
        "    transform=test_transform\n",
        ")\n",
        "test_loader = DataLoader(\n",
        "    test_set,\n",
        "    batch_size=batch_size,\n",
        "    shuffle=False,\n",
        "    num_workers=num_workers,\n",
        "    pin_memory=True\n",
        ")\n"
      ],
      "metadata": {
        "id": "Lfzh92ki1ZK-"
      },
      "execution_count": 12,
      "outputs": []
    },
    {
      "cell_type": "markdown",
      "source": [
        "# Part2"
      ],
      "metadata": {
        "id": "wpy9Q3pm12XQ"
      }
    },
    {
      "cell_type": "code",
      "source": [
        "pip install torchinfo"
      ],
      "metadata": {
        "colab": {
          "base_uri": "https://localhost:8080/"
        },
        "id": "1OrEsYUI1-PJ",
        "outputId": "cc4fdde4-8ceb-4e11-e824-264d7a62b6de"
      },
      "execution_count": 13,
      "outputs": [
        {
          "output_type": "stream",
          "name": "stdout",
          "text": [
            "Collecting torchinfo\n",
            "  Downloading torchinfo-1.8.0-py3-none-any.whl.metadata (21 kB)\n",
            "Downloading torchinfo-1.8.0-py3-none-any.whl (23 kB)\n",
            "Installing collected packages: torchinfo\n",
            "Successfully installed torchinfo-1.8.0\n"
          ]
        }
      ]
    },
    {
      "cell_type": "code",
      "source": [
        "import torch\n",
        "from torchvision.models import resnet18, resnet34, resnet50\n",
        "from torchinfo import summary\n",
        "\n",
        "# Device setup\n",
        "device = torch.device('cuda' if torch.cuda.is_available() else 'cpu')\n",
        "\n",
        "# 2.1 Instantiate K teacher models (here: ResNet18, ResNet34, ResNet50)\n",
        "teacher_archs = ['resnet18', 'resnet34', 'resnet50']\n",
        "teachers = []\n",
        "\n",
        "for arch in teacher_archs:\n",
        "    if arch == 'resnet18':\n",
        "        model = resnet18(num_classes=10)\n",
        "    elif arch == 'resnet34':\n",
        "        model = resnet34(num_classes=10)\n",
        "    elif arch == 'resnet50':\n",
        "        model = resnet50(num_classes=10)\n",
        "    else:\n",
        "        raise ValueError(f\"Unsupported architecture: {arch}\")\n",
        "    model.to(device)\n",
        "    teachers.append((arch, model))\n",
        "\n",
        "# 2.2 Instantiate the student model (smaller-capacity): ResNet18\n",
        "student = resnet18(num_classes=10)\n",
        "student.to(device)\n",
        "\n",
        "# 2.3 Parameter & FLOPs statistics using torchinfo.summary\n",
        "# Assume CIFAR-10 input size: (batch_size=1, channels=3, height=32, width=32)\n",
        "input_size = (1, 3, 32, 32)\n",
        "\n",
        "print(\"\\n=== Teacher Models ===\")\n",
        "for name, model in teachers:\n",
        "    print(f\"\\n-- {name.upper()} --\")\n",
        "    summary(model, input_size=input_size, col_names=(\"output_size\", \"num_params\", \"mult_adds\"))\n",
        "\n",
        "print(\"\\n=== Student Model ===\")\n",
        "print(\"-- RESNET18 STUDENT --\")\n",
        "summary(student, input_size=input_size, col_names=(\"output_size\", \"num_params\", \"mult_adds\"))\n"
      ],
      "metadata": {
        "colab": {
          "base_uri": "https://localhost:8080/"
        },
        "id": "oYMZN8sw14Cm",
        "outputId": "f58ad491-f162-4e57-dba5-d78556ec9d7b"
      },
      "execution_count": 14,
      "outputs": [
        {
          "output_type": "stream",
          "name": "stdout",
          "text": [
            "\n",
            "=== Teacher Models ===\n",
            "\n",
            "-- RESNET18 --\n",
            "\n",
            "-- RESNET34 --\n",
            "\n",
            "-- RESNET50 --\n",
            "\n",
            "=== Student Model ===\n",
            "-- RESNET18 STUDENT --\n"
          ]
        },
        {
          "output_type": "execute_result",
          "data": {
            "text/plain": [
              "===================================================================================================================\n",
              "Layer (type:depth-idx)                   Output Shape              Param #                   Mult-Adds\n",
              "===================================================================================================================\n",
              "ResNet                                   [1, 10]                   --                        --\n",
              "├─Conv2d: 1-1                            [1, 64, 16, 16]           9,408                     2,408,448\n",
              "├─BatchNorm2d: 1-2                       [1, 64, 16, 16]           128                       128\n",
              "├─ReLU: 1-3                              [1, 64, 16, 16]           --                        --\n",
              "├─MaxPool2d: 1-4                         [1, 64, 8, 8]             --                        --\n",
              "├─Sequential: 1-5                        [1, 64, 8, 8]             --                        --\n",
              "│    └─BasicBlock: 2-1                   [1, 64, 8, 8]             --                        --\n",
              "│    │    └─Conv2d: 3-1                  [1, 64, 8, 8]             36,864                    2,359,296\n",
              "│    │    └─BatchNorm2d: 3-2             [1, 64, 8, 8]             128                       128\n",
              "│    │    └─ReLU: 3-3                    [1, 64, 8, 8]             --                        --\n",
              "│    │    └─Conv2d: 3-4                  [1, 64, 8, 8]             36,864                    2,359,296\n",
              "│    │    └─BatchNorm2d: 3-5             [1, 64, 8, 8]             128                       128\n",
              "│    │    └─ReLU: 3-6                    [1, 64, 8, 8]             --                        --\n",
              "│    └─BasicBlock: 2-2                   [1, 64, 8, 8]             --                        --\n",
              "│    │    └─Conv2d: 3-7                  [1, 64, 8, 8]             36,864                    2,359,296\n",
              "│    │    └─BatchNorm2d: 3-8             [1, 64, 8, 8]             128                       128\n",
              "│    │    └─ReLU: 3-9                    [1, 64, 8, 8]             --                        --\n",
              "│    │    └─Conv2d: 3-10                 [1, 64, 8, 8]             36,864                    2,359,296\n",
              "│    │    └─BatchNorm2d: 3-11            [1, 64, 8, 8]             128                       128\n",
              "│    │    └─ReLU: 3-12                   [1, 64, 8, 8]             --                        --\n",
              "├─Sequential: 1-6                        [1, 128, 4, 4]            --                        --\n",
              "│    └─BasicBlock: 2-3                   [1, 128, 4, 4]            --                        --\n",
              "│    │    └─Conv2d: 3-13                 [1, 128, 4, 4]            73,728                    1,179,648\n",
              "│    │    └─BatchNorm2d: 3-14            [1, 128, 4, 4]            256                       256\n",
              "│    │    └─ReLU: 3-15                   [1, 128, 4, 4]            --                        --\n",
              "│    │    └─Conv2d: 3-16                 [1, 128, 4, 4]            147,456                   2,359,296\n",
              "│    │    └─BatchNorm2d: 3-17            [1, 128, 4, 4]            256                       256\n",
              "│    │    └─Sequential: 3-18             [1, 128, 4, 4]            8,448                     131,328\n",
              "│    │    └─ReLU: 3-19                   [1, 128, 4, 4]            --                        --\n",
              "│    └─BasicBlock: 2-4                   [1, 128, 4, 4]            --                        --\n",
              "│    │    └─Conv2d: 3-20                 [1, 128, 4, 4]            147,456                   2,359,296\n",
              "│    │    └─BatchNorm2d: 3-21            [1, 128, 4, 4]            256                       256\n",
              "│    │    └─ReLU: 3-22                   [1, 128, 4, 4]            --                        --\n",
              "│    │    └─Conv2d: 3-23                 [1, 128, 4, 4]            147,456                   2,359,296\n",
              "│    │    └─BatchNorm2d: 3-24            [1, 128, 4, 4]            256                       256\n",
              "│    │    └─ReLU: 3-25                   [1, 128, 4, 4]            --                        --\n",
              "├─Sequential: 1-7                        [1, 256, 2, 2]            --                        --\n",
              "│    └─BasicBlock: 2-5                   [1, 256, 2, 2]            --                        --\n",
              "│    │    └─Conv2d: 3-26                 [1, 256, 2, 2]            294,912                   1,179,648\n",
              "│    │    └─BatchNorm2d: 3-27            [1, 256, 2, 2]            512                       512\n",
              "│    │    └─ReLU: 3-28                   [1, 256, 2, 2]            --                        --\n",
              "│    │    └─Conv2d: 3-29                 [1, 256, 2, 2]            589,824                   2,359,296\n",
              "│    │    └─BatchNorm2d: 3-30            [1, 256, 2, 2]            512                       512\n",
              "│    │    └─Sequential: 3-31             [1, 256, 2, 2]            33,280                    131,584\n",
              "│    │    └─ReLU: 3-32                   [1, 256, 2, 2]            --                        --\n",
              "│    └─BasicBlock: 2-6                   [1, 256, 2, 2]            --                        --\n",
              "│    │    └─Conv2d: 3-33                 [1, 256, 2, 2]            589,824                   2,359,296\n",
              "│    │    └─BatchNorm2d: 3-34            [1, 256, 2, 2]            512                       512\n",
              "│    │    └─ReLU: 3-35                   [1, 256, 2, 2]            --                        --\n",
              "│    │    └─Conv2d: 3-36                 [1, 256, 2, 2]            589,824                   2,359,296\n",
              "│    │    └─BatchNorm2d: 3-37            [1, 256, 2, 2]            512                       512\n",
              "│    │    └─ReLU: 3-38                   [1, 256, 2, 2]            --                        --\n",
              "├─Sequential: 1-8                        [1, 512, 1, 1]            --                        --\n",
              "│    └─BasicBlock: 2-7                   [1, 512, 1, 1]            --                        --\n",
              "│    │    └─Conv2d: 3-39                 [1, 512, 1, 1]            1,179,648                 1,179,648\n",
              "│    │    └─BatchNorm2d: 3-40            [1, 512, 1, 1]            1,024                     1,024\n",
              "│    │    └─ReLU: 3-41                   [1, 512, 1, 1]            --                        --\n",
              "│    │    └─Conv2d: 3-42                 [1, 512, 1, 1]            2,359,296                 2,359,296\n",
              "│    │    └─BatchNorm2d: 3-43            [1, 512, 1, 1]            1,024                     1,024\n",
              "│    │    └─Sequential: 3-44             [1, 512, 1, 1]            132,096                   132,096\n",
              "│    │    └─ReLU: 3-45                   [1, 512, 1, 1]            --                        --\n",
              "│    └─BasicBlock: 2-8                   [1, 512, 1, 1]            --                        --\n",
              "│    │    └─Conv2d: 3-46                 [1, 512, 1, 1]            2,359,296                 2,359,296\n",
              "│    │    └─BatchNorm2d: 3-47            [1, 512, 1, 1]            1,024                     1,024\n",
              "│    │    └─ReLU: 3-48                   [1, 512, 1, 1]            --                        --\n",
              "│    │    └─Conv2d: 3-49                 [1, 512, 1, 1]            2,359,296                 2,359,296\n",
              "│    │    └─BatchNorm2d: 3-50            [1, 512, 1, 1]            1,024                     1,024\n",
              "│    │    └─ReLU: 3-51                   [1, 512, 1, 1]            --                        --\n",
              "├─AdaptiveAvgPool2d: 1-9                 [1, 512, 1, 1]            --                        --\n",
              "├─Linear: 1-10                           [1, 10]                   5,130                     5,130\n",
              "===================================================================================================================\n",
              "Total params: 11,181,642\n",
              "Trainable params: 11,181,642\n",
              "Non-trainable params: 0\n",
              "Total mult-adds (Units.MEGABYTES): 37.03\n",
              "===================================================================================================================\n",
              "Input size (MB): 0.01\n",
              "Forward/backward pass size (MB): 0.81\n",
              "Params size (MB): 44.73\n",
              "Estimated Total Size (MB): 45.55\n",
              "==================================================================================================================="
            ]
          },
          "metadata": {},
          "execution_count": 14
        }
      ]
    },
    {
      "cell_type": "markdown",
      "source": [
        "# Part3"
      ],
      "metadata": {
        "id": "TY-qErsi2oy2"
      }
    },
    {
      "cell_type": "markdown",
      "source": [
        "3. Teacher Training\n",
        "Train your\n",
        "𝐾\n",
        "K teachers—each on its own subset—saving the best checkpoint and logging validation accuracy.\n",
        "3.2 Notes on Parallel vs. Sequential\n",
        "Sequential: the loop above trains each teacher one after another in the same process.\n",
        "\n",
        "Parallel: if you have multiple GPUs or machines, you can spawn\n",
        "𝐾\n",
        "K separate Python processes—each binding one teacher’s subset and one GPU—and run the same code concurrently. Tools like torch.multiprocessing.spawn or simple shell scripts with CUDA_VISIBLE_DEVICES can help.\n",
        "\n",
        "3.3 Logging\n",
        "We print per‑epoch train loss and validation accuracy.\n",
        "\n",
        "After all\n",
        "𝐾\n",
        "K finishes, you’ll have a best_ckpt_path for each teacher and a Python list best_val_accs of length\n",
        "𝐾\n",
        "K."
      ],
      "metadata": {
        "id": "-d1YTqZ9B8-D"
      }
    },
    {
      "cell_type": "code",
      "source": [
        "import torch\n",
        "import torch.nn as nn\n",
        "import torch.optim as optim\n",
        "from tqdm import tqdm\n",
        "from torchvision.models import resnet34, resnet50  # import the two architectures\n",
        "\n",
        "# Assume:\n",
        "#   teacher_loaders = [DataLoader(subset_i, …) for i in range(K)]\n",
        "#   test_loader     = DataLoader(full_CIFAR10_test, …)\n",
        "#   device          = torch.device('cuda' if torch.cuda.is_available() else 'cpu')\n",
        "#   num_epochs      = 200\n",
        "\n",
        "best_val_accs = []\n",
        "\n",
        "# Cycle through the two imported constructors\n",
        "archs = [resnet34, resnet50]\n",
        "\n",
        "for i, train_loader in enumerate(teacher_loaders):\n",
        "    print(f\"\\n=== Training teacher #{i} ===\")\n",
        "\n",
        "    # Select architecture: resnet34 for even i, resnet50 for odd i, etc.\n",
        "    Arch = archs[i % len(archs)]\n",
        "    teacher_model = Arch(num_classes=10)  # override final fc to 10 classes\n",
        "    teacher_model = teacher_model.to(device)\n",
        "\n",
        "    criterion = nn.CrossEntropyLoss()\n",
        "    optimizer = optim.SGD(\n",
        "        teacher_model.parameters(),\n",
        "        lr=0.1,\n",
        "        momentum=0.9,\n",
        "        weight_decay=5e-4\n",
        "    )\n",
        "    scheduler = optim.lr_scheduler.MultiStepLR(\n",
        "        optimizer,\n",
        "        milestones=[100, 150],\n",
        "        gamma=0.1\n",
        "    )\n",
        "\n",
        "    best_acc       = 0.0\n",
        "    best_ckpt_path = f\"teacher_{i}_{Arch.__name__}_best.pth\"\n",
        "\n",
        "    for epoch in range(1, num_epochs + 1):\n",
        "        teacher_model.train()\n",
        "        running_loss = 0.0\n",
        "\n",
        "        for inputs, targets in tqdm(\n",
        "                train_loader,\n",
        "                desc=f\"Teacher {i} ({Arch.__name__}) Epoch {epoch}\",\n",
        "                leave=False):\n",
        "            inputs, targets = inputs.to(device), targets.to(device)\n",
        "            optimizer.zero_grad()\n",
        "            outputs = teacher_model(inputs)\n",
        "            loss    = criterion(outputs, targets)\n",
        "            loss.backward()\n",
        "            optimizer.step()\n",
        "            running_loss += loss.item() * inputs.size(0)\n",
        "\n",
        "        scheduler.step()\n",
        "\n",
        "        # Validation\n",
        "        teacher_model.eval()\n",
        "        correct = total = 0\n",
        "        with torch.no_grad():\n",
        "            for inputs, targets in test_loader:\n",
        "                inputs, targets = inputs.to(device), targets.to(device)\n",
        "                outputs  = teacher_model(inputs)\n",
        "                _, preds = outputs.max(1)\n",
        "                correct += preds.eq(targets).sum().item()\n",
        "                total   += targets.size(0)\n",
        "\n",
        "        val_acc  = 100. * correct / total\n",
        "        avg_loss = running_loss / len(train_loader.dataset)\n",
        "        print(f\"Epoch {epoch:03d} | train_loss={avg_loss:.4f} | val_acc={val_acc:.2f}%\")\n",
        "\n",
        "        if val_acc > best_acc:\n",
        "            best_acc = val_acc\n",
        "            torch.save({\n",
        "                'epoch': epoch,\n",
        "                'arch': Arch.__name__,\n",
        "                'model_state': teacher_model.state_dict(),\n",
        "                'optimizer_state': optimizer.state_dict(),\n",
        "                'val_acc': val_acc,\n",
        "            }, best_ckpt_path)\n",
        "            print(f\"  → New best! Saved to {best_ckpt_path}\")\n",
        "\n",
        "    best_val_accs.append(best_acc)\n",
        "    print(f\"Teacher #{i} ({Arch.__name__}) best validation accuracy: {best_acc:.2f}%\")\n"
      ],
      "metadata": {
        "colab": {
          "base_uri": "https://localhost:8080/"
        },
        "id": "rRLR3Ahh3z-O",
        "outputId": "a73e0e72-dac2-49c0-a7c8-6b91b7524d11"
      },
      "execution_count": 15,
      "outputs": [
        {
          "output_type": "stream",
          "name": "stdout",
          "text": [
            "\n",
            "=== Training teacher #0 ===\n"
          ]
        },
        {
          "output_type": "stream",
          "name": "stderr",
          "text": []
        },
        {
          "output_type": "stream",
          "name": "stdout",
          "text": [
            "Epoch 001 | train_loss=3.5669 | val_acc=9.67%\n",
            "  → New best! Saved to teacher_0_resnet34_best.pth\n"
          ]
        },
        {
          "output_type": "stream",
          "name": "stderr",
          "text": []
        },
        {
          "output_type": "stream",
          "name": "stdout",
          "text": [
            "Epoch 002 | train_loss=2.6240 | val_acc=17.21%\n",
            "  → New best! Saved to teacher_0_resnet34_best.pth\n"
          ]
        },
        {
          "output_type": "stream",
          "name": "stderr",
          "text": []
        },
        {
          "output_type": "stream",
          "name": "stdout",
          "text": [
            "Epoch 003 | train_loss=2.2381 | val_acc=18.44%\n",
            "  → New best! Saved to teacher_0_resnet34_best.pth\n"
          ]
        },
        {
          "output_type": "stream",
          "name": "stderr",
          "text": []
        },
        {
          "output_type": "stream",
          "name": "stdout",
          "text": [
            "Epoch 004 | train_loss=2.1175 | val_acc=22.87%\n",
            "  → New best! Saved to teacher_0_resnet34_best.pth\n"
          ]
        },
        {
          "output_type": "stream",
          "name": "stderr",
          "text": []
        },
        {
          "output_type": "stream",
          "name": "stdout",
          "text": [
            "Epoch 005 | train_loss=2.0353 | val_acc=22.60%\n"
          ]
        },
        {
          "output_type": "stream",
          "name": "stderr",
          "text": []
        },
        {
          "output_type": "stream",
          "name": "stdout",
          "text": [
            "Epoch 006 | train_loss=1.9970 | val_acc=24.62%\n",
            "  → New best! Saved to teacher_0_resnet34_best.pth\n"
          ]
        },
        {
          "output_type": "stream",
          "name": "stderr",
          "text": []
        },
        {
          "output_type": "stream",
          "name": "stdout",
          "text": [
            "Epoch 007 | train_loss=1.9373 | val_acc=26.72%\n",
            "  → New best! Saved to teacher_0_resnet34_best.pth\n"
          ]
        },
        {
          "output_type": "stream",
          "name": "stderr",
          "text": []
        },
        {
          "output_type": "stream",
          "name": "stdout",
          "text": [
            "Epoch 008 | train_loss=1.9026 | val_acc=30.03%\n",
            "  → New best! Saved to teacher_0_resnet34_best.pth\n"
          ]
        },
        {
          "output_type": "stream",
          "name": "stderr",
          "text": []
        },
        {
          "output_type": "stream",
          "name": "stdout",
          "text": [
            "Epoch 009 | train_loss=1.8379 | val_acc=33.67%\n",
            "  → New best! Saved to teacher_0_resnet34_best.pth\n"
          ]
        },
        {
          "output_type": "stream",
          "name": "stderr",
          "text": []
        },
        {
          "output_type": "stream",
          "name": "stdout",
          "text": [
            "Epoch 010 | train_loss=1.7704 | val_acc=34.83%\n",
            "  → New best! Saved to teacher_0_resnet34_best.pth\n"
          ]
        },
        {
          "output_type": "stream",
          "name": "stderr",
          "text": []
        },
        {
          "output_type": "stream",
          "name": "stdout",
          "text": [
            "Epoch 011 | train_loss=1.7391 | val_acc=37.98%\n",
            "  → New best! Saved to teacher_0_resnet34_best.pth\n"
          ]
        },
        {
          "output_type": "stream",
          "name": "stderr",
          "text": []
        },
        {
          "output_type": "stream",
          "name": "stdout",
          "text": [
            "Epoch 012 | train_loss=1.7043 | val_acc=37.92%\n"
          ]
        },
        {
          "output_type": "stream",
          "name": "stderr",
          "text": []
        },
        {
          "output_type": "stream",
          "name": "stdout",
          "text": [
            "Epoch 013 | train_loss=1.7033 | val_acc=38.10%\n",
            "  → New best! Saved to teacher_0_resnet34_best.pth\n"
          ]
        },
        {
          "output_type": "stream",
          "name": "stderr",
          "text": []
        },
        {
          "output_type": "stream",
          "name": "stdout",
          "text": [
            "Epoch 014 | train_loss=1.6495 | val_acc=38.49%\n",
            "  → New best! Saved to teacher_0_resnet34_best.pth\n"
          ]
        },
        {
          "output_type": "stream",
          "name": "stderr",
          "text": []
        },
        {
          "output_type": "stream",
          "name": "stdout",
          "text": [
            "Epoch 015 | train_loss=1.6144 | val_acc=41.45%\n",
            "  → New best! Saved to teacher_0_resnet34_best.pth\n"
          ]
        },
        {
          "output_type": "stream",
          "name": "stderr",
          "text": []
        },
        {
          "output_type": "stream",
          "name": "stdout",
          "text": [
            "Epoch 016 | train_loss=1.5806 | val_acc=39.89%\n"
          ]
        },
        {
          "output_type": "stream",
          "name": "stderr",
          "text": []
        },
        {
          "output_type": "stream",
          "name": "stdout",
          "text": [
            "Epoch 017 | train_loss=1.5760 | val_acc=41.79%\n",
            "  → New best! Saved to teacher_0_resnet34_best.pth\n"
          ]
        },
        {
          "output_type": "stream",
          "name": "stderr",
          "text": []
        },
        {
          "output_type": "stream",
          "name": "stdout",
          "text": [
            "Epoch 018 | train_loss=1.5327 | val_acc=43.35%\n",
            "  → New best! Saved to teacher_0_resnet34_best.pth\n"
          ]
        },
        {
          "output_type": "stream",
          "name": "stderr",
          "text": []
        },
        {
          "output_type": "stream",
          "name": "stdout",
          "text": [
            "Epoch 019 | train_loss=1.5061 | val_acc=45.86%\n",
            "  → New best! Saved to teacher_0_resnet34_best.pth\n"
          ]
        },
        {
          "output_type": "stream",
          "name": "stderr",
          "text": []
        },
        {
          "output_type": "stream",
          "name": "stdout",
          "text": [
            "Epoch 020 | train_loss=1.4621 | val_acc=44.92%\n"
          ]
        },
        {
          "output_type": "stream",
          "name": "stderr",
          "text": []
        },
        {
          "output_type": "stream",
          "name": "stdout",
          "text": [
            "Epoch 021 | train_loss=1.4462 | val_acc=48.39%\n",
            "  → New best! Saved to teacher_0_resnet34_best.pth\n"
          ]
        },
        {
          "output_type": "stream",
          "name": "stderr",
          "text": []
        },
        {
          "output_type": "stream",
          "name": "stdout",
          "text": [
            "Epoch 022 | train_loss=1.4179 | val_acc=50.61%\n",
            "  → New best! Saved to teacher_0_resnet34_best.pth\n"
          ]
        },
        {
          "output_type": "stream",
          "name": "stderr",
          "text": []
        },
        {
          "output_type": "stream",
          "name": "stdout",
          "text": [
            "Epoch 023 | train_loss=1.3730 | val_acc=50.80%\n",
            "  → New best! Saved to teacher_0_resnet34_best.pth\n"
          ]
        },
        {
          "output_type": "stream",
          "name": "stderr",
          "text": []
        },
        {
          "output_type": "stream",
          "name": "stdout",
          "text": [
            "Epoch 024 | train_loss=1.3587 | val_acc=50.34%\n"
          ]
        },
        {
          "output_type": "stream",
          "name": "stderr",
          "text": []
        },
        {
          "output_type": "stream",
          "name": "stdout",
          "text": [
            "Epoch 025 | train_loss=1.3286 | val_acc=52.68%\n",
            "  → New best! Saved to teacher_0_resnet34_best.pth\n"
          ]
        },
        {
          "output_type": "stream",
          "name": "stderr",
          "text": []
        },
        {
          "output_type": "stream",
          "name": "stdout",
          "text": [
            "Epoch 026 | train_loss=1.3367 | val_acc=51.86%\n"
          ]
        },
        {
          "output_type": "stream",
          "name": "stderr",
          "text": []
        },
        {
          "output_type": "stream",
          "name": "stdout",
          "text": [
            "Epoch 027 | train_loss=1.2992 | val_acc=52.36%\n"
          ]
        },
        {
          "output_type": "stream",
          "name": "stderr",
          "text": []
        },
        {
          "output_type": "stream",
          "name": "stdout",
          "text": [
            "Epoch 028 | train_loss=1.2704 | val_acc=54.43%\n",
            "  → New best! Saved to teacher_0_resnet34_best.pth\n"
          ]
        },
        {
          "output_type": "stream",
          "name": "stderr",
          "text": []
        },
        {
          "output_type": "stream",
          "name": "stdout",
          "text": [
            "Epoch 029 | train_loss=1.2525 | val_acc=53.77%\n"
          ]
        },
        {
          "output_type": "stream",
          "name": "stderr",
          "text": []
        },
        {
          "output_type": "stream",
          "name": "stdout",
          "text": [
            "Epoch 030 | train_loss=1.2252 | val_acc=53.54%\n"
          ]
        },
        {
          "output_type": "stream",
          "name": "stderr",
          "text": []
        },
        {
          "output_type": "stream",
          "name": "stdout",
          "text": [
            "Epoch 031 | train_loss=1.1934 | val_acc=53.22%\n"
          ]
        },
        {
          "output_type": "stream",
          "name": "stderr",
          "text": []
        },
        {
          "output_type": "stream",
          "name": "stdout",
          "text": [
            "Epoch 032 | train_loss=1.1935 | val_acc=56.77%\n",
            "  → New best! Saved to teacher_0_resnet34_best.pth\n"
          ]
        },
        {
          "output_type": "stream",
          "name": "stderr",
          "text": []
        },
        {
          "output_type": "stream",
          "name": "stdout",
          "text": [
            "Epoch 033 | train_loss=1.1714 | val_acc=57.59%\n",
            "  → New best! Saved to teacher_0_resnet34_best.pth\n"
          ]
        },
        {
          "output_type": "stream",
          "name": "stderr",
          "text": []
        },
        {
          "output_type": "stream",
          "name": "stdout",
          "text": [
            "Epoch 034 | train_loss=1.1309 | val_acc=55.75%\n"
          ]
        },
        {
          "output_type": "stream",
          "name": "stderr",
          "text": []
        },
        {
          "output_type": "stream",
          "name": "stdout",
          "text": [
            "Epoch 035 | train_loss=1.1329 | val_acc=56.25%\n"
          ]
        },
        {
          "output_type": "stream",
          "name": "stderr",
          "text": []
        },
        {
          "output_type": "stream",
          "name": "stdout",
          "text": [
            "Epoch 036 | train_loss=1.1015 | val_acc=57.85%\n",
            "  → New best! Saved to teacher_0_resnet34_best.pth\n"
          ]
        },
        {
          "output_type": "stream",
          "name": "stderr",
          "text": []
        },
        {
          "output_type": "stream",
          "name": "stdout",
          "text": [
            "Epoch 037 | train_loss=1.1122 | val_acc=59.62%\n",
            "  → New best! Saved to teacher_0_resnet34_best.pth\n"
          ]
        },
        {
          "output_type": "stream",
          "name": "stderr",
          "text": []
        },
        {
          "output_type": "stream",
          "name": "stdout",
          "text": [
            "Epoch 038 | train_loss=1.0922 | val_acc=56.24%\n"
          ]
        },
        {
          "output_type": "stream",
          "name": "stderr",
          "text": []
        },
        {
          "output_type": "stream",
          "name": "stdout",
          "text": [
            "Epoch 039 | train_loss=1.0805 | val_acc=61.16%\n",
            "  → New best! Saved to teacher_0_resnet34_best.pth\n"
          ]
        },
        {
          "output_type": "stream",
          "name": "stderr",
          "text": []
        },
        {
          "output_type": "stream",
          "name": "stdout",
          "text": [
            "Epoch 040 | train_loss=1.0845 | val_acc=57.98%\n"
          ]
        },
        {
          "output_type": "stream",
          "name": "stderr",
          "text": []
        },
        {
          "output_type": "stream",
          "name": "stdout",
          "text": [
            "Epoch 041 | train_loss=1.0378 | val_acc=59.61%\n"
          ]
        },
        {
          "output_type": "stream",
          "name": "stderr",
          "text": []
        },
        {
          "output_type": "stream",
          "name": "stdout",
          "text": [
            "Epoch 042 | train_loss=1.0197 | val_acc=60.87%\n"
          ]
        },
        {
          "output_type": "stream",
          "name": "stderr",
          "text": []
        },
        {
          "output_type": "stream",
          "name": "stdout",
          "text": [
            "Epoch 043 | train_loss=1.0051 | val_acc=62.79%\n",
            "  → New best! Saved to teacher_0_resnet34_best.pth\n"
          ]
        },
        {
          "output_type": "stream",
          "name": "stderr",
          "text": []
        },
        {
          "output_type": "stream",
          "name": "stdout",
          "text": [
            "Epoch 044 | train_loss=0.9975 | val_acc=59.91%\n"
          ]
        },
        {
          "output_type": "stream",
          "name": "stderr",
          "text": []
        },
        {
          "output_type": "stream",
          "name": "stdout",
          "text": [
            "Epoch 045 | train_loss=0.9989 | val_acc=62.57%\n"
          ]
        },
        {
          "output_type": "stream",
          "name": "stderr",
          "text": []
        },
        {
          "output_type": "stream",
          "name": "stdout",
          "text": [
            "Epoch 046 | train_loss=1.0106 | val_acc=62.28%\n"
          ]
        },
        {
          "output_type": "stream",
          "name": "stderr",
          "text": []
        },
        {
          "output_type": "stream",
          "name": "stdout",
          "text": [
            "Epoch 047 | train_loss=0.9667 | val_acc=61.46%\n"
          ]
        },
        {
          "output_type": "stream",
          "name": "stderr",
          "text": []
        },
        {
          "output_type": "stream",
          "name": "stdout",
          "text": [
            "Epoch 048 | train_loss=0.9620 | val_acc=63.94%\n",
            "  → New best! Saved to teacher_0_resnet34_best.pth\n"
          ]
        },
        {
          "output_type": "stream",
          "name": "stderr",
          "text": []
        },
        {
          "output_type": "stream",
          "name": "stdout",
          "text": [
            "Epoch 049 | train_loss=0.9723 | val_acc=59.60%\n"
          ]
        },
        {
          "output_type": "stream",
          "name": "stderr",
          "text": []
        },
        {
          "output_type": "stream",
          "name": "stdout",
          "text": [
            "Epoch 050 | train_loss=0.9264 | val_acc=63.20%\n"
          ]
        },
        {
          "output_type": "stream",
          "name": "stderr",
          "text": []
        },
        {
          "output_type": "stream",
          "name": "stdout",
          "text": [
            "Epoch 051 | train_loss=0.9180 | val_acc=62.32%\n"
          ]
        },
        {
          "output_type": "stream",
          "name": "stderr",
          "text": []
        },
        {
          "output_type": "stream",
          "name": "stdout",
          "text": [
            "Epoch 052 | train_loss=0.9523 | val_acc=62.08%\n"
          ]
        },
        {
          "output_type": "stream",
          "name": "stderr",
          "text": []
        },
        {
          "output_type": "stream",
          "name": "stdout",
          "text": [
            "Epoch 053 | train_loss=0.8809 | val_acc=62.89%\n"
          ]
        },
        {
          "output_type": "stream",
          "name": "stderr",
          "text": []
        },
        {
          "output_type": "stream",
          "name": "stdout",
          "text": [
            "Epoch 054 | train_loss=0.9008 | val_acc=61.53%\n"
          ]
        },
        {
          "output_type": "stream",
          "name": "stderr",
          "text": []
        },
        {
          "output_type": "stream",
          "name": "stdout",
          "text": [
            "Epoch 055 | train_loss=0.8395 | val_acc=62.92%\n"
          ]
        },
        {
          "output_type": "stream",
          "name": "stderr",
          "text": []
        },
        {
          "output_type": "stream",
          "name": "stdout",
          "text": [
            "Epoch 056 | train_loss=0.8766 | val_acc=61.14%\n"
          ]
        },
        {
          "output_type": "stream",
          "name": "stderr",
          "text": []
        },
        {
          "output_type": "stream",
          "name": "stdout",
          "text": [
            "Epoch 057 | train_loss=0.8360 | val_acc=64.06%\n",
            "  → New best! Saved to teacher_0_resnet34_best.pth\n"
          ]
        },
        {
          "output_type": "stream",
          "name": "stderr",
          "text": []
        },
        {
          "output_type": "stream",
          "name": "stdout",
          "text": [
            "Epoch 058 | train_loss=0.8360 | val_acc=63.40%\n"
          ]
        },
        {
          "output_type": "stream",
          "name": "stderr",
          "text": []
        },
        {
          "output_type": "stream",
          "name": "stdout",
          "text": [
            "Epoch 059 | train_loss=0.8308 | val_acc=66.05%\n",
            "  → New best! Saved to teacher_0_resnet34_best.pth\n"
          ]
        },
        {
          "output_type": "stream",
          "name": "stderr",
          "text": []
        },
        {
          "output_type": "stream",
          "name": "stdout",
          "text": [
            "Epoch 060 | train_loss=0.8410 | val_acc=67.55%\n",
            "  → New best! Saved to teacher_0_resnet34_best.pth\n"
          ]
        },
        {
          "output_type": "stream",
          "name": "stderr",
          "text": []
        },
        {
          "output_type": "stream",
          "name": "stdout",
          "text": [
            "Epoch 061 | train_loss=0.7989 | val_acc=62.18%\n"
          ]
        },
        {
          "output_type": "stream",
          "name": "stderr",
          "text": []
        },
        {
          "output_type": "stream",
          "name": "stdout",
          "text": [
            "Epoch 062 | train_loss=0.8382 | val_acc=65.83%\n"
          ]
        },
        {
          "output_type": "stream",
          "name": "stderr",
          "text": []
        },
        {
          "output_type": "stream",
          "name": "stdout",
          "text": [
            "Epoch 063 | train_loss=0.7985 | val_acc=67.82%\n",
            "  → New best! Saved to teacher_0_resnet34_best.pth\n"
          ]
        },
        {
          "output_type": "stream",
          "name": "stderr",
          "text": []
        },
        {
          "output_type": "stream",
          "name": "stdout",
          "text": [
            "Epoch 064 | train_loss=0.7928 | val_acc=67.54%\n"
          ]
        },
        {
          "output_type": "stream",
          "name": "stderr",
          "text": []
        },
        {
          "output_type": "stream",
          "name": "stdout",
          "text": [
            "Epoch 065 | train_loss=0.7644 | val_acc=62.36%\n"
          ]
        },
        {
          "output_type": "stream",
          "name": "stderr",
          "text": []
        },
        {
          "output_type": "stream",
          "name": "stdout",
          "text": [
            "Epoch 066 | train_loss=0.7540 | val_acc=66.28%\n"
          ]
        },
        {
          "output_type": "stream",
          "name": "stderr",
          "text": []
        },
        {
          "output_type": "stream",
          "name": "stdout",
          "text": [
            "Epoch 067 | train_loss=0.7444 | val_acc=67.37%\n"
          ]
        },
        {
          "output_type": "stream",
          "name": "stderr",
          "text": []
        },
        {
          "output_type": "stream",
          "name": "stdout",
          "text": [
            "Epoch 068 | train_loss=0.7463 | val_acc=66.95%\n"
          ]
        },
        {
          "output_type": "stream",
          "name": "stderr",
          "text": []
        },
        {
          "output_type": "stream",
          "name": "stdout",
          "text": [
            "Epoch 069 | train_loss=0.7789 | val_acc=67.50%\n"
          ]
        },
        {
          "output_type": "stream",
          "name": "stderr",
          "text": []
        },
        {
          "output_type": "stream",
          "name": "stdout",
          "text": [
            "Epoch 070 | train_loss=0.7364 | val_acc=63.37%\n"
          ]
        },
        {
          "output_type": "stream",
          "name": "stderr",
          "text": []
        },
        {
          "output_type": "stream",
          "name": "stdout",
          "text": [
            "Epoch 071 | train_loss=0.7373 | val_acc=65.96%\n"
          ]
        },
        {
          "output_type": "stream",
          "name": "stderr",
          "text": []
        },
        {
          "output_type": "stream",
          "name": "stdout",
          "text": [
            "Epoch 072 | train_loss=0.7301 | val_acc=66.70%\n"
          ]
        },
        {
          "output_type": "stream",
          "name": "stderr",
          "text": []
        },
        {
          "output_type": "stream",
          "name": "stdout",
          "text": [
            "Epoch 073 | train_loss=0.7251 | val_acc=62.87%\n"
          ]
        },
        {
          "output_type": "stream",
          "name": "stderr",
          "text": []
        },
        {
          "output_type": "stream",
          "name": "stdout",
          "text": [
            "Epoch 074 | train_loss=0.7426 | val_acc=67.05%\n"
          ]
        },
        {
          "output_type": "stream",
          "name": "stderr",
          "text": []
        },
        {
          "output_type": "stream",
          "name": "stdout",
          "text": [
            "Epoch 075 | train_loss=0.7112 | val_acc=67.05%\n"
          ]
        },
        {
          "output_type": "stream",
          "name": "stderr",
          "text": []
        },
        {
          "output_type": "stream",
          "name": "stdout",
          "text": [
            "Epoch 076 | train_loss=0.7022 | val_acc=67.07%\n"
          ]
        },
        {
          "output_type": "stream",
          "name": "stderr",
          "text": []
        },
        {
          "output_type": "stream",
          "name": "stdout",
          "text": [
            "Epoch 077 | train_loss=0.7210 | val_acc=65.47%\n"
          ]
        },
        {
          "output_type": "stream",
          "name": "stderr",
          "text": []
        },
        {
          "output_type": "stream",
          "name": "stdout",
          "text": [
            "Epoch 078 | train_loss=0.7040 | val_acc=65.22%\n"
          ]
        },
        {
          "output_type": "stream",
          "name": "stderr",
          "text": []
        },
        {
          "output_type": "stream",
          "name": "stdout",
          "text": [
            "Epoch 079 | train_loss=0.7100 | val_acc=67.65%\n"
          ]
        },
        {
          "output_type": "stream",
          "name": "stderr",
          "text": []
        },
        {
          "output_type": "stream",
          "name": "stdout",
          "text": [
            "Epoch 080 | train_loss=0.6789 | val_acc=67.49%\n"
          ]
        },
        {
          "output_type": "stream",
          "name": "stderr",
          "text": []
        },
        {
          "output_type": "stream",
          "name": "stdout",
          "text": [
            "Epoch 081 | train_loss=0.7094 | val_acc=67.20%\n"
          ]
        },
        {
          "output_type": "stream",
          "name": "stderr",
          "text": []
        },
        {
          "output_type": "stream",
          "name": "stdout",
          "text": [
            "Epoch 082 | train_loss=0.6652 | val_acc=66.77%\n"
          ]
        },
        {
          "output_type": "stream",
          "name": "stderr",
          "text": []
        },
        {
          "output_type": "stream",
          "name": "stdout",
          "text": [
            "Epoch 083 | train_loss=0.6771 | val_acc=69.06%\n",
            "  → New best! Saved to teacher_0_resnet34_best.pth\n"
          ]
        },
        {
          "output_type": "stream",
          "name": "stderr",
          "text": []
        },
        {
          "output_type": "stream",
          "name": "stdout",
          "text": [
            "Epoch 084 | train_loss=0.6856 | val_acc=63.13%\n"
          ]
        },
        {
          "output_type": "stream",
          "name": "stderr",
          "text": []
        },
        {
          "output_type": "stream",
          "name": "stdout",
          "text": [
            "Epoch 085 | train_loss=0.6999 | val_acc=66.96%\n"
          ]
        },
        {
          "output_type": "stream",
          "name": "stderr",
          "text": []
        },
        {
          "output_type": "stream",
          "name": "stdout",
          "text": [
            "Epoch 086 | train_loss=0.6594 | val_acc=68.98%\n"
          ]
        },
        {
          "output_type": "stream",
          "name": "stderr",
          "text": []
        },
        {
          "output_type": "stream",
          "name": "stdout",
          "text": [
            "Epoch 087 | train_loss=0.6345 | val_acc=65.30%\n"
          ]
        },
        {
          "output_type": "stream",
          "name": "stderr",
          "text": []
        },
        {
          "output_type": "stream",
          "name": "stdout",
          "text": [
            "Epoch 088 | train_loss=0.6656 | val_acc=66.72%\n"
          ]
        },
        {
          "output_type": "stream",
          "name": "stderr",
          "text": []
        },
        {
          "output_type": "stream",
          "name": "stdout",
          "text": [
            "Epoch 089 | train_loss=0.6749 | val_acc=66.49%\n"
          ]
        },
        {
          "output_type": "stream",
          "name": "stderr",
          "text": []
        },
        {
          "output_type": "stream",
          "name": "stdout",
          "text": [
            "Epoch 090 | train_loss=0.6463 | val_acc=66.80%\n"
          ]
        },
        {
          "output_type": "stream",
          "name": "stderr",
          "text": []
        },
        {
          "output_type": "stream",
          "name": "stdout",
          "text": [
            "Epoch 091 | train_loss=0.6296 | val_acc=66.81%\n"
          ]
        },
        {
          "output_type": "stream",
          "name": "stderr",
          "text": []
        },
        {
          "output_type": "stream",
          "name": "stdout",
          "text": [
            "Epoch 092 | train_loss=0.6220 | val_acc=65.66%\n"
          ]
        },
        {
          "output_type": "stream",
          "name": "stderr",
          "text": []
        },
        {
          "output_type": "stream",
          "name": "stdout",
          "text": [
            "Epoch 093 | train_loss=0.6404 | val_acc=66.96%\n"
          ]
        },
        {
          "output_type": "stream",
          "name": "stderr",
          "text": []
        },
        {
          "output_type": "stream",
          "name": "stdout",
          "text": [
            "Epoch 094 | train_loss=0.6510 | val_acc=66.93%\n"
          ]
        },
        {
          "output_type": "stream",
          "name": "stderr",
          "text": []
        },
        {
          "output_type": "stream",
          "name": "stdout",
          "text": [
            "Epoch 095 | train_loss=0.6372 | val_acc=68.68%\n"
          ]
        },
        {
          "output_type": "stream",
          "name": "stderr",
          "text": []
        },
        {
          "output_type": "stream",
          "name": "stdout",
          "text": [
            "Epoch 096 | train_loss=0.6640 | val_acc=68.36%\n"
          ]
        },
        {
          "output_type": "stream",
          "name": "stderr",
          "text": []
        },
        {
          "output_type": "stream",
          "name": "stdout",
          "text": [
            "Epoch 097 | train_loss=0.6281 | val_acc=67.94%\n"
          ]
        },
        {
          "output_type": "stream",
          "name": "stderr",
          "text": []
        },
        {
          "output_type": "stream",
          "name": "stdout",
          "text": [
            "Epoch 098 | train_loss=0.6342 | val_acc=67.11%\n"
          ]
        },
        {
          "output_type": "stream",
          "name": "stderr",
          "text": []
        },
        {
          "output_type": "stream",
          "name": "stdout",
          "text": [
            "Epoch 099 | train_loss=0.6093 | val_acc=66.65%\n"
          ]
        },
        {
          "output_type": "stream",
          "name": "stderr",
          "text": []
        },
        {
          "output_type": "stream",
          "name": "stdout",
          "text": [
            "Epoch 100 | train_loss=0.6167 | val_acc=63.76%\n"
          ]
        },
        {
          "output_type": "stream",
          "name": "stderr",
          "text": []
        },
        {
          "output_type": "stream",
          "name": "stdout",
          "text": [
            "Epoch 101 | train_loss=0.4475 | val_acc=74.79%\n",
            "  → New best! Saved to teacher_0_resnet34_best.pth\n"
          ]
        },
        {
          "output_type": "stream",
          "name": "stderr",
          "text": []
        },
        {
          "output_type": "stream",
          "name": "stdout",
          "text": [
            "Epoch 102 | train_loss=0.3457 | val_acc=74.76%\n"
          ]
        },
        {
          "output_type": "stream",
          "name": "stderr",
          "text": []
        },
        {
          "output_type": "stream",
          "name": "stdout",
          "text": [
            "Epoch 103 | train_loss=0.3272 | val_acc=75.49%\n",
            "  → New best! Saved to teacher_0_resnet34_best.pth\n"
          ]
        },
        {
          "output_type": "stream",
          "name": "stderr",
          "text": []
        },
        {
          "output_type": "stream",
          "name": "stdout",
          "text": [
            "Epoch 104 | train_loss=0.3022 | val_acc=75.25%\n"
          ]
        },
        {
          "output_type": "stream",
          "name": "stderr",
          "text": []
        },
        {
          "output_type": "stream",
          "name": "stdout",
          "text": [
            "Epoch 105 | train_loss=0.2816 | val_acc=75.39%\n"
          ]
        },
        {
          "output_type": "stream",
          "name": "stderr",
          "text": []
        },
        {
          "output_type": "stream",
          "name": "stdout",
          "text": [
            "Epoch 106 | train_loss=0.2692 | val_acc=75.44%\n"
          ]
        },
        {
          "output_type": "stream",
          "name": "stderr",
          "text": []
        },
        {
          "output_type": "stream",
          "name": "stdout",
          "text": [
            "Epoch 107 | train_loss=0.2690 | val_acc=75.80%\n",
            "  → New best! Saved to teacher_0_resnet34_best.pth\n"
          ]
        },
        {
          "output_type": "stream",
          "name": "stderr",
          "text": []
        },
        {
          "output_type": "stream",
          "name": "stdout",
          "text": [
            "Epoch 108 | train_loss=0.2463 | val_acc=75.38%\n"
          ]
        },
        {
          "output_type": "stream",
          "name": "stderr",
          "text": []
        },
        {
          "output_type": "stream",
          "name": "stdout",
          "text": [
            "Epoch 109 | train_loss=0.2323 | val_acc=75.30%\n"
          ]
        },
        {
          "output_type": "stream",
          "name": "stderr",
          "text": []
        },
        {
          "output_type": "stream",
          "name": "stdout",
          "text": [
            "Epoch 110 | train_loss=0.2223 | val_acc=75.28%\n"
          ]
        },
        {
          "output_type": "stream",
          "name": "stderr",
          "text": []
        },
        {
          "output_type": "stream",
          "name": "stdout",
          "text": [
            "Epoch 111 | train_loss=0.2172 | val_acc=75.71%\n"
          ]
        },
        {
          "output_type": "stream",
          "name": "stderr",
          "text": []
        },
        {
          "output_type": "stream",
          "name": "stdout",
          "text": [
            "Epoch 112 | train_loss=0.2074 | val_acc=75.18%\n"
          ]
        },
        {
          "output_type": "stream",
          "name": "stderr",
          "text": []
        },
        {
          "output_type": "stream",
          "name": "stdout",
          "text": [
            "Epoch 113 | train_loss=0.2119 | val_acc=74.84%\n"
          ]
        },
        {
          "output_type": "stream",
          "name": "stderr",
          "text": []
        },
        {
          "output_type": "stream",
          "name": "stdout",
          "text": [
            "Epoch 114 | train_loss=0.1913 | val_acc=74.97%\n"
          ]
        },
        {
          "output_type": "stream",
          "name": "stderr",
          "text": []
        },
        {
          "output_type": "stream",
          "name": "stdout",
          "text": [
            "Epoch 115 | train_loss=0.1892 | val_acc=75.16%\n"
          ]
        },
        {
          "output_type": "stream",
          "name": "stderr",
          "text": []
        },
        {
          "output_type": "stream",
          "name": "stdout",
          "text": [
            "Epoch 116 | train_loss=0.1867 | val_acc=74.76%\n"
          ]
        },
        {
          "output_type": "stream",
          "name": "stderr",
          "text": []
        },
        {
          "output_type": "stream",
          "name": "stdout",
          "text": [
            "Epoch 117 | train_loss=0.1716 | val_acc=74.86%\n"
          ]
        },
        {
          "output_type": "stream",
          "name": "stderr",
          "text": []
        },
        {
          "output_type": "stream",
          "name": "stdout",
          "text": [
            "Epoch 118 | train_loss=0.1692 | val_acc=74.61%\n"
          ]
        },
        {
          "output_type": "stream",
          "name": "stderr",
          "text": []
        },
        {
          "output_type": "stream",
          "name": "stdout",
          "text": [
            "Epoch 119 | train_loss=0.1703 | val_acc=75.25%\n"
          ]
        },
        {
          "output_type": "stream",
          "name": "stderr",
          "text": []
        },
        {
          "output_type": "stream",
          "name": "stdout",
          "text": [
            "Epoch 120 | train_loss=0.1484 | val_acc=74.76%\n"
          ]
        },
        {
          "output_type": "stream",
          "name": "stderr",
          "text": []
        },
        {
          "output_type": "stream",
          "name": "stdout",
          "text": [
            "Epoch 121 | train_loss=0.1546 | val_acc=75.04%\n"
          ]
        },
        {
          "output_type": "stream",
          "name": "stderr",
          "text": []
        },
        {
          "output_type": "stream",
          "name": "stdout",
          "text": [
            "Epoch 122 | train_loss=0.1499 | val_acc=74.63%\n"
          ]
        },
        {
          "output_type": "stream",
          "name": "stderr",
          "text": []
        },
        {
          "output_type": "stream",
          "name": "stdout",
          "text": [
            "Epoch 123 | train_loss=0.1453 | val_acc=75.09%\n"
          ]
        },
        {
          "output_type": "stream",
          "name": "stderr",
          "text": []
        },
        {
          "output_type": "stream",
          "name": "stdout",
          "text": [
            "Epoch 124 | train_loss=0.1321 | val_acc=75.01%\n"
          ]
        },
        {
          "output_type": "stream",
          "name": "stderr",
          "text": []
        },
        {
          "output_type": "stream",
          "name": "stdout",
          "text": [
            "Epoch 125 | train_loss=0.1362 | val_acc=74.40%\n"
          ]
        },
        {
          "output_type": "stream",
          "name": "stderr",
          "text": []
        },
        {
          "output_type": "stream",
          "name": "stdout",
          "text": [
            "Epoch 126 | train_loss=0.1307 | val_acc=74.71%\n"
          ]
        },
        {
          "output_type": "stream",
          "name": "stderr",
          "text": []
        },
        {
          "output_type": "stream",
          "name": "stdout",
          "text": [
            "Epoch 127 | train_loss=0.1177 | val_acc=74.77%\n"
          ]
        },
        {
          "output_type": "stream",
          "name": "stderr",
          "text": []
        },
        {
          "output_type": "stream",
          "name": "stdout",
          "text": [
            "Epoch 128 | train_loss=0.1309 | val_acc=75.14%\n"
          ]
        },
        {
          "output_type": "stream",
          "name": "stderr",
          "text": []
        },
        {
          "output_type": "stream",
          "name": "stdout",
          "text": [
            "Epoch 129 | train_loss=0.1233 | val_acc=74.66%\n"
          ]
        },
        {
          "output_type": "stream",
          "name": "stderr",
          "text": []
        },
        {
          "output_type": "stream",
          "name": "stdout",
          "text": [
            "Epoch 130 | train_loss=0.1204 | val_acc=74.47%\n"
          ]
        },
        {
          "output_type": "stream",
          "name": "stderr",
          "text": []
        },
        {
          "output_type": "stream",
          "name": "stdout",
          "text": [
            "Epoch 131 | train_loss=0.1215 | val_acc=74.76%\n"
          ]
        },
        {
          "output_type": "stream",
          "name": "stderr",
          "text": []
        },
        {
          "output_type": "stream",
          "name": "stdout",
          "text": [
            "Epoch 132 | train_loss=0.1198 | val_acc=74.58%\n"
          ]
        },
        {
          "output_type": "stream",
          "name": "stderr",
          "text": []
        },
        {
          "output_type": "stream",
          "name": "stdout",
          "text": [
            "Epoch 133 | train_loss=0.1071 | val_acc=74.61%\n"
          ]
        },
        {
          "output_type": "stream",
          "name": "stderr",
          "text": []
        },
        {
          "output_type": "stream",
          "name": "stdout",
          "text": [
            "Epoch 134 | train_loss=0.1131 | val_acc=74.66%\n"
          ]
        },
        {
          "output_type": "stream",
          "name": "stderr",
          "text": []
        },
        {
          "output_type": "stream",
          "name": "stdout",
          "text": [
            "Epoch 135 | train_loss=0.1021 | val_acc=74.95%\n"
          ]
        },
        {
          "output_type": "stream",
          "name": "stderr",
          "text": []
        },
        {
          "output_type": "stream",
          "name": "stdout",
          "text": [
            "Epoch 136 | train_loss=0.1029 | val_acc=74.80%\n"
          ]
        },
        {
          "output_type": "stream",
          "name": "stderr",
          "text": []
        },
        {
          "output_type": "stream",
          "name": "stdout",
          "text": [
            "Epoch 137 | train_loss=0.1119 | val_acc=75.12%\n"
          ]
        },
        {
          "output_type": "stream",
          "name": "stderr",
          "text": []
        },
        {
          "output_type": "stream",
          "name": "stdout",
          "text": [
            "Epoch 138 | train_loss=0.1234 | val_acc=74.71%\n"
          ]
        },
        {
          "output_type": "stream",
          "name": "stderr",
          "text": []
        },
        {
          "output_type": "stream",
          "name": "stdout",
          "text": [
            "Epoch 139 | train_loss=0.1072 | val_acc=74.93%\n"
          ]
        },
        {
          "output_type": "stream",
          "name": "stderr",
          "text": []
        },
        {
          "output_type": "stream",
          "name": "stdout",
          "text": [
            "Epoch 140 | train_loss=0.0945 | val_acc=75.00%\n"
          ]
        },
        {
          "output_type": "stream",
          "name": "stderr",
          "text": []
        },
        {
          "output_type": "stream",
          "name": "stdout",
          "text": [
            "Epoch 141 | train_loss=0.1090 | val_acc=75.01%\n"
          ]
        },
        {
          "output_type": "stream",
          "name": "stderr",
          "text": []
        },
        {
          "output_type": "stream",
          "name": "stdout",
          "text": [
            "Epoch 142 | train_loss=0.1262 | val_acc=74.69%\n"
          ]
        },
        {
          "output_type": "stream",
          "name": "stderr",
          "text": []
        },
        {
          "output_type": "stream",
          "name": "stdout",
          "text": [
            "Epoch 143 | train_loss=0.1352 | val_acc=75.28%\n"
          ]
        },
        {
          "output_type": "stream",
          "name": "stderr",
          "text": []
        },
        {
          "output_type": "stream",
          "name": "stdout",
          "text": [
            "Epoch 144 | train_loss=0.0899 | val_acc=75.06%\n"
          ]
        },
        {
          "output_type": "stream",
          "name": "stderr",
          "text": []
        },
        {
          "output_type": "stream",
          "name": "stdout",
          "text": [
            "Epoch 145 | train_loss=0.0840 | val_acc=74.68%\n"
          ]
        },
        {
          "output_type": "stream",
          "name": "stderr",
          "text": []
        },
        {
          "output_type": "stream",
          "name": "stdout",
          "text": [
            "Epoch 146 | train_loss=0.0894 | val_acc=75.28%\n"
          ]
        },
        {
          "output_type": "stream",
          "name": "stderr",
          "text": []
        },
        {
          "output_type": "stream",
          "name": "stdout",
          "text": [
            "Epoch 147 | train_loss=0.0958 | val_acc=74.17%\n"
          ]
        },
        {
          "output_type": "stream",
          "name": "stderr",
          "text": []
        },
        {
          "output_type": "stream",
          "name": "stdout",
          "text": [
            "Epoch 148 | train_loss=0.1259 | val_acc=74.27%\n"
          ]
        },
        {
          "output_type": "stream",
          "name": "stderr",
          "text": []
        },
        {
          "output_type": "stream",
          "name": "stdout",
          "text": [
            "Epoch 149 | train_loss=0.1109 | val_acc=74.50%\n"
          ]
        },
        {
          "output_type": "stream",
          "name": "stderr",
          "text": []
        },
        {
          "output_type": "stream",
          "name": "stdout",
          "text": [
            "Epoch 150 | train_loss=0.0928 | val_acc=74.31%\n"
          ]
        },
        {
          "output_type": "stream",
          "name": "stderr",
          "text": []
        },
        {
          "output_type": "stream",
          "name": "stdout",
          "text": [
            "Epoch 151 | train_loss=0.0716 | val_acc=75.07%\n"
          ]
        },
        {
          "output_type": "stream",
          "name": "stderr",
          "text": []
        },
        {
          "output_type": "stream",
          "name": "stdout",
          "text": [
            "Epoch 152 | train_loss=0.0637 | val_acc=75.36%\n"
          ]
        },
        {
          "output_type": "stream",
          "name": "stderr",
          "text": []
        },
        {
          "output_type": "stream",
          "name": "stdout",
          "text": [
            "Epoch 153 | train_loss=0.0623 | val_acc=75.18%\n"
          ]
        },
        {
          "output_type": "stream",
          "name": "stderr",
          "text": []
        },
        {
          "output_type": "stream",
          "name": "stdout",
          "text": [
            "Epoch 154 | train_loss=0.0614 | val_acc=75.33%\n"
          ]
        },
        {
          "output_type": "stream",
          "name": "stderr",
          "text": []
        },
        {
          "output_type": "stream",
          "name": "stdout",
          "text": [
            "Epoch 155 | train_loss=0.0516 | val_acc=75.33%\n"
          ]
        },
        {
          "output_type": "stream",
          "name": "stderr",
          "text": []
        },
        {
          "output_type": "stream",
          "name": "stdout",
          "text": [
            "Epoch 156 | train_loss=0.0569 | val_acc=75.19%\n"
          ]
        },
        {
          "output_type": "stream",
          "name": "stderr",
          "text": []
        },
        {
          "output_type": "stream",
          "name": "stdout",
          "text": [
            "Epoch 157 | train_loss=0.0497 | val_acc=75.33%\n"
          ]
        },
        {
          "output_type": "stream",
          "name": "stderr",
          "text": []
        },
        {
          "output_type": "stream",
          "name": "stdout",
          "text": [
            "Epoch 158 | train_loss=0.0455 | val_acc=75.33%\n"
          ]
        },
        {
          "output_type": "stream",
          "name": "stderr",
          "text": []
        },
        {
          "output_type": "stream",
          "name": "stdout",
          "text": [
            "Epoch 159 | train_loss=0.0497 | val_acc=75.27%\n"
          ]
        },
        {
          "output_type": "stream",
          "name": "stderr",
          "text": []
        },
        {
          "output_type": "stream",
          "name": "stdout",
          "text": [
            "Epoch 160 | train_loss=0.0521 | val_acc=75.40%\n"
          ]
        },
        {
          "output_type": "stream",
          "name": "stderr",
          "text": []
        },
        {
          "output_type": "stream",
          "name": "stdout",
          "text": [
            "Epoch 161 | train_loss=0.0512 | val_acc=75.34%\n"
          ]
        },
        {
          "output_type": "stream",
          "name": "stderr",
          "text": []
        },
        {
          "output_type": "stream",
          "name": "stdout",
          "text": [
            "Epoch 162 | train_loss=0.0484 | val_acc=75.43%\n"
          ]
        },
        {
          "output_type": "stream",
          "name": "stderr",
          "text": []
        },
        {
          "output_type": "stream",
          "name": "stdout",
          "text": [
            "Epoch 163 | train_loss=0.0448 | val_acc=75.57%\n"
          ]
        },
        {
          "output_type": "stream",
          "name": "stderr",
          "text": []
        },
        {
          "output_type": "stream",
          "name": "stdout",
          "text": [
            "Epoch 164 | train_loss=0.0430 | val_acc=75.47%\n"
          ]
        },
        {
          "output_type": "stream",
          "name": "stderr",
          "text": []
        },
        {
          "output_type": "stream",
          "name": "stdout",
          "text": [
            "Epoch 165 | train_loss=0.0388 | val_acc=75.53%\n"
          ]
        },
        {
          "output_type": "stream",
          "name": "stderr",
          "text": []
        },
        {
          "output_type": "stream",
          "name": "stdout",
          "text": [
            "Epoch 166 | train_loss=0.0435 | val_acc=75.18%\n"
          ]
        },
        {
          "output_type": "stream",
          "name": "stderr",
          "text": []
        },
        {
          "output_type": "stream",
          "name": "stdout",
          "text": [
            "Epoch 167 | train_loss=0.0411 | val_acc=75.37%\n"
          ]
        },
        {
          "output_type": "stream",
          "name": "stderr",
          "text": []
        },
        {
          "output_type": "stream",
          "name": "stdout",
          "text": [
            "Epoch 168 | train_loss=0.0405 | val_acc=75.42%\n"
          ]
        },
        {
          "output_type": "stream",
          "name": "stderr",
          "text": []
        },
        {
          "output_type": "stream",
          "name": "stdout",
          "text": [
            "Epoch 169 | train_loss=0.0391 | val_acc=75.18%\n"
          ]
        },
        {
          "output_type": "stream",
          "name": "stderr",
          "text": []
        },
        {
          "output_type": "stream",
          "name": "stdout",
          "text": [
            "Epoch 170 | train_loss=0.0387 | val_acc=75.31%\n"
          ]
        },
        {
          "output_type": "stream",
          "name": "stderr",
          "text": []
        },
        {
          "output_type": "stream",
          "name": "stdout",
          "text": [
            "Epoch 171 | train_loss=0.0367 | val_acc=75.18%\n"
          ]
        },
        {
          "output_type": "stream",
          "name": "stderr",
          "text": []
        },
        {
          "output_type": "stream",
          "name": "stdout",
          "text": [
            "Epoch 172 | train_loss=0.0367 | val_acc=75.42%\n"
          ]
        },
        {
          "output_type": "stream",
          "name": "stderr",
          "text": []
        },
        {
          "output_type": "stream",
          "name": "stdout",
          "text": [
            "Epoch 173 | train_loss=0.0370 | val_acc=75.24%\n"
          ]
        },
        {
          "output_type": "stream",
          "name": "stderr",
          "text": []
        },
        {
          "output_type": "stream",
          "name": "stdout",
          "text": [
            "Epoch 174 | train_loss=0.0406 | val_acc=75.22%\n"
          ]
        },
        {
          "output_type": "stream",
          "name": "stderr",
          "text": []
        },
        {
          "output_type": "stream",
          "name": "stdout",
          "text": [
            "Epoch 175 | train_loss=0.0364 | val_acc=75.29%\n"
          ]
        },
        {
          "output_type": "stream",
          "name": "stderr",
          "text": []
        },
        {
          "output_type": "stream",
          "name": "stdout",
          "text": [
            "Epoch 176 | train_loss=0.0372 | val_acc=75.28%\n"
          ]
        },
        {
          "output_type": "stream",
          "name": "stderr",
          "text": []
        },
        {
          "output_type": "stream",
          "name": "stdout",
          "text": [
            "Epoch 177 | train_loss=0.0361 | val_acc=75.17%\n"
          ]
        },
        {
          "output_type": "stream",
          "name": "stderr",
          "text": []
        },
        {
          "output_type": "stream",
          "name": "stdout",
          "text": [
            "Epoch 178 | train_loss=0.0403 | val_acc=75.46%\n"
          ]
        },
        {
          "output_type": "stream",
          "name": "stderr",
          "text": []
        },
        {
          "output_type": "stream",
          "name": "stdout",
          "text": [
            "Epoch 179 | train_loss=0.0363 | val_acc=75.35%\n"
          ]
        },
        {
          "output_type": "stream",
          "name": "stderr",
          "text": []
        },
        {
          "output_type": "stream",
          "name": "stdout",
          "text": [
            "Epoch 180 | train_loss=0.0336 | val_acc=75.36%\n"
          ]
        },
        {
          "output_type": "stream",
          "name": "stderr",
          "text": []
        },
        {
          "output_type": "stream",
          "name": "stdout",
          "text": [
            "Epoch 181 | train_loss=0.0364 | val_acc=75.27%\n"
          ]
        },
        {
          "output_type": "stream",
          "name": "stderr",
          "text": []
        },
        {
          "output_type": "stream",
          "name": "stdout",
          "text": [
            "Epoch 182 | train_loss=0.0328 | val_acc=75.40%\n"
          ]
        },
        {
          "output_type": "stream",
          "name": "stderr",
          "text": []
        },
        {
          "output_type": "stream",
          "name": "stdout",
          "text": [
            "Epoch 183 | train_loss=0.0333 | val_acc=75.45%\n"
          ]
        },
        {
          "output_type": "stream",
          "name": "stderr",
          "text": []
        },
        {
          "output_type": "stream",
          "name": "stdout",
          "text": [
            "Epoch 184 | train_loss=0.0304 | val_acc=75.60%\n"
          ]
        },
        {
          "output_type": "stream",
          "name": "stderr",
          "text": []
        },
        {
          "output_type": "stream",
          "name": "stdout",
          "text": [
            "Epoch 185 | train_loss=0.0330 | val_acc=75.35%\n"
          ]
        },
        {
          "output_type": "stream",
          "name": "stderr",
          "text": []
        },
        {
          "output_type": "stream",
          "name": "stdout",
          "text": [
            "Epoch 186 | train_loss=0.0282 | val_acc=75.61%\n"
          ]
        },
        {
          "output_type": "stream",
          "name": "stderr",
          "text": []
        },
        {
          "output_type": "stream",
          "name": "stdout",
          "text": [
            "Epoch 187 | train_loss=0.0338 | val_acc=75.59%\n"
          ]
        },
        {
          "output_type": "stream",
          "name": "stderr",
          "text": []
        },
        {
          "output_type": "stream",
          "name": "stdout",
          "text": [
            "Epoch 188 | train_loss=0.0303 | val_acc=75.37%\n"
          ]
        },
        {
          "output_type": "stream",
          "name": "stderr",
          "text": []
        },
        {
          "output_type": "stream",
          "name": "stdout",
          "text": [
            "Epoch 189 | train_loss=0.0307 | val_acc=75.37%\n"
          ]
        },
        {
          "output_type": "stream",
          "name": "stderr",
          "text": []
        },
        {
          "output_type": "stream",
          "name": "stdout",
          "text": [
            "Epoch 190 | train_loss=0.0335 | val_acc=75.40%\n"
          ]
        },
        {
          "output_type": "stream",
          "name": "stderr",
          "text": []
        },
        {
          "output_type": "stream",
          "name": "stdout",
          "text": [
            "Epoch 191 | train_loss=0.0325 | val_acc=75.36%\n"
          ]
        },
        {
          "output_type": "stream",
          "name": "stderr",
          "text": []
        },
        {
          "output_type": "stream",
          "name": "stdout",
          "text": [
            "Epoch 192 | train_loss=0.0317 | val_acc=75.48%\n"
          ]
        },
        {
          "output_type": "stream",
          "name": "stderr",
          "text": []
        },
        {
          "output_type": "stream",
          "name": "stdout",
          "text": [
            "Epoch 193 | train_loss=0.0318 | val_acc=75.56%\n"
          ]
        },
        {
          "output_type": "stream",
          "name": "stderr",
          "text": []
        },
        {
          "output_type": "stream",
          "name": "stdout",
          "text": [
            "Epoch 194 | train_loss=0.0273 | val_acc=75.38%\n"
          ]
        },
        {
          "output_type": "stream",
          "name": "stderr",
          "text": []
        },
        {
          "output_type": "stream",
          "name": "stdout",
          "text": [
            "Epoch 195 | train_loss=0.0309 | val_acc=75.26%\n"
          ]
        },
        {
          "output_type": "stream",
          "name": "stderr",
          "text": []
        },
        {
          "output_type": "stream",
          "name": "stdout",
          "text": [
            "Epoch 196 | train_loss=0.0301 | val_acc=75.60%\n"
          ]
        },
        {
          "output_type": "stream",
          "name": "stderr",
          "text": []
        },
        {
          "output_type": "stream",
          "name": "stdout",
          "text": [
            "Epoch 197 | train_loss=0.0289 | val_acc=75.32%\n"
          ]
        },
        {
          "output_type": "stream",
          "name": "stderr",
          "text": []
        },
        {
          "output_type": "stream",
          "name": "stdout",
          "text": [
            "Epoch 198 | train_loss=0.0306 | val_acc=75.37%\n"
          ]
        },
        {
          "output_type": "stream",
          "name": "stderr",
          "text": []
        },
        {
          "output_type": "stream",
          "name": "stdout",
          "text": [
            "Epoch 199 | train_loss=0.0292 | val_acc=75.55%\n"
          ]
        },
        {
          "output_type": "stream",
          "name": "stderr",
          "text": []
        },
        {
          "output_type": "stream",
          "name": "stdout",
          "text": [
            "Epoch 200 | train_loss=0.0281 | val_acc=75.22%\n",
            "Teacher #0 (resnet34) best validation accuracy: 75.80%\n",
            "\n",
            "=== Training teacher #1 ===\n"
          ]
        },
        {
          "output_type": "stream",
          "name": "stderr",
          "text": []
        },
        {
          "output_type": "stream",
          "name": "stdout",
          "text": [
            "Epoch 001 | train_loss=11.9468 | val_acc=10.00%\n",
            "  → New best! Saved to teacher_1_resnet50_best.pth\n"
          ]
        },
        {
          "output_type": "stream",
          "name": "stderr",
          "text": []
        },
        {
          "output_type": "stream",
          "name": "stdout",
          "text": [
            "Epoch 002 | train_loss=3.0727 | val_acc=13.32%\n",
            "  → New best! Saved to teacher_1_resnet50_best.pth\n"
          ]
        },
        {
          "output_type": "stream",
          "name": "stderr",
          "text": []
        },
        {
          "output_type": "stream",
          "name": "stdout",
          "text": [
            "Epoch 003 | train_loss=2.4110 | val_acc=18.14%\n",
            "  → New best! Saved to teacher_1_resnet50_best.pth\n"
          ]
        },
        {
          "output_type": "stream",
          "name": "stderr",
          "text": []
        },
        {
          "output_type": "stream",
          "name": "stdout",
          "text": [
            "Epoch 004 | train_loss=2.2429 | val_acc=17.61%\n"
          ]
        },
        {
          "output_type": "stream",
          "name": "stderr",
          "text": []
        },
        {
          "output_type": "stream",
          "name": "stdout",
          "text": [
            "Epoch 005 | train_loss=2.1734 | val_acc=18.95%\n",
            "  → New best! Saved to teacher_1_resnet50_best.pth\n"
          ]
        },
        {
          "output_type": "stream",
          "name": "stderr",
          "text": []
        },
        {
          "output_type": "stream",
          "name": "stdout",
          "text": [
            "Epoch 006 | train_loss=2.1162 | val_acc=18.50%\n"
          ]
        },
        {
          "output_type": "stream",
          "name": "stderr",
          "text": []
        },
        {
          "output_type": "stream",
          "name": "stdout",
          "text": [
            "Epoch 007 | train_loss=2.0879 | val_acc=18.86%\n"
          ]
        },
        {
          "output_type": "stream",
          "name": "stderr",
          "text": []
        },
        {
          "output_type": "stream",
          "name": "stdout",
          "text": [
            "Epoch 008 | train_loss=2.0535 | val_acc=22.63%\n",
            "  → New best! Saved to teacher_1_resnet50_best.pth\n"
          ]
        },
        {
          "output_type": "stream",
          "name": "stderr",
          "text": []
        },
        {
          "output_type": "stream",
          "name": "stdout",
          "text": [
            "Epoch 009 | train_loss=2.0022 | val_acc=17.51%\n"
          ]
        },
        {
          "output_type": "stream",
          "name": "stderr",
          "text": []
        },
        {
          "output_type": "stream",
          "name": "stdout",
          "text": [
            "Epoch 010 | train_loss=1.9800 | val_acc=22.18%\n"
          ]
        },
        {
          "output_type": "stream",
          "name": "stderr",
          "text": []
        },
        {
          "output_type": "stream",
          "name": "stdout",
          "text": [
            "Epoch 011 | train_loss=1.9605 | val_acc=26.02%\n",
            "  → New best! Saved to teacher_1_resnet50_best.pth\n"
          ]
        },
        {
          "output_type": "stream",
          "name": "stderr",
          "text": []
        },
        {
          "output_type": "stream",
          "name": "stdout",
          "text": [
            "Epoch 012 | train_loss=1.9281 | val_acc=26.13%\n",
            "  → New best! Saved to teacher_1_resnet50_best.pth\n"
          ]
        },
        {
          "output_type": "stream",
          "name": "stderr",
          "text": []
        },
        {
          "output_type": "stream",
          "name": "stdout",
          "text": [
            "Epoch 013 | train_loss=1.8920 | val_acc=29.54%\n",
            "  → New best! Saved to teacher_1_resnet50_best.pth\n"
          ]
        },
        {
          "output_type": "stream",
          "name": "stderr",
          "text": []
        },
        {
          "output_type": "stream",
          "name": "stdout",
          "text": [
            "Epoch 014 | train_loss=1.8644 | val_acc=28.53%\n"
          ]
        },
        {
          "output_type": "stream",
          "name": "stderr",
          "text": []
        },
        {
          "output_type": "stream",
          "name": "stdout",
          "text": [
            "Epoch 015 | train_loss=1.8066 | val_acc=33.17%\n",
            "  → New best! Saved to teacher_1_resnet50_best.pth\n"
          ]
        },
        {
          "output_type": "stream",
          "name": "stderr",
          "text": []
        },
        {
          "output_type": "stream",
          "name": "stdout",
          "text": [
            "Epoch 016 | train_loss=1.7661 | val_acc=34.20%\n",
            "  → New best! Saved to teacher_1_resnet50_best.pth\n"
          ]
        },
        {
          "output_type": "stream",
          "name": "stderr",
          "text": []
        },
        {
          "output_type": "stream",
          "name": "stdout",
          "text": [
            "Epoch 017 | train_loss=1.7600 | val_acc=35.21%\n",
            "  → New best! Saved to teacher_1_resnet50_best.pth\n"
          ]
        },
        {
          "output_type": "stream",
          "name": "stderr",
          "text": []
        },
        {
          "output_type": "stream",
          "name": "stdout",
          "text": [
            "Epoch 018 | train_loss=1.7518 | val_acc=36.65%\n",
            "  → New best! Saved to teacher_1_resnet50_best.pth\n"
          ]
        },
        {
          "output_type": "stream",
          "name": "stderr",
          "text": []
        },
        {
          "output_type": "stream",
          "name": "stdout",
          "text": [
            "Epoch 019 | train_loss=1.7183 | val_acc=37.00%\n",
            "  → New best! Saved to teacher_1_resnet50_best.pth\n"
          ]
        },
        {
          "output_type": "stream",
          "name": "stderr",
          "text": []
        },
        {
          "output_type": "stream",
          "name": "stdout",
          "text": [
            "Epoch 020 | train_loss=1.7093 | val_acc=39.32%\n",
            "  → New best! Saved to teacher_1_resnet50_best.pth\n"
          ]
        },
        {
          "output_type": "stream",
          "name": "stderr",
          "text": []
        },
        {
          "output_type": "stream",
          "name": "stdout",
          "text": [
            "Epoch 021 | train_loss=1.6925 | val_acc=39.32%\n"
          ]
        },
        {
          "output_type": "stream",
          "name": "stderr",
          "text": []
        },
        {
          "output_type": "stream",
          "name": "stdout",
          "text": [
            "Epoch 022 | train_loss=1.6597 | val_acc=39.03%\n"
          ]
        },
        {
          "output_type": "stream",
          "name": "stderr",
          "text": []
        },
        {
          "output_type": "stream",
          "name": "stdout",
          "text": [
            "Epoch 023 | train_loss=1.6599 | val_acc=36.85%\n"
          ]
        },
        {
          "output_type": "stream",
          "name": "stderr",
          "text": []
        },
        {
          "output_type": "stream",
          "name": "stdout",
          "text": [
            "Epoch 024 | train_loss=1.6515 | val_acc=38.83%\n"
          ]
        },
        {
          "output_type": "stream",
          "name": "stderr",
          "text": []
        },
        {
          "output_type": "stream",
          "name": "stdout",
          "text": [
            "Epoch 025 | train_loss=1.6345 | val_acc=42.89%\n",
            "  → New best! Saved to teacher_1_resnet50_best.pth\n"
          ]
        },
        {
          "output_type": "stream",
          "name": "stderr",
          "text": []
        },
        {
          "output_type": "stream",
          "name": "stdout",
          "text": [
            "Epoch 026 | train_loss=1.6032 | val_acc=43.44%\n",
            "  → New best! Saved to teacher_1_resnet50_best.pth\n"
          ]
        },
        {
          "output_type": "stream",
          "name": "stderr",
          "text": []
        },
        {
          "output_type": "stream",
          "name": "stdout",
          "text": [
            "Epoch 027 | train_loss=1.5865 | val_acc=42.66%\n"
          ]
        },
        {
          "output_type": "stream",
          "name": "stderr",
          "text": []
        },
        {
          "output_type": "stream",
          "name": "stdout",
          "text": [
            "Epoch 028 | train_loss=1.5965 | val_acc=42.97%\n"
          ]
        },
        {
          "output_type": "stream",
          "name": "stderr",
          "text": []
        },
        {
          "output_type": "stream",
          "name": "stdout",
          "text": [
            "Epoch 029 | train_loss=1.5661 | val_acc=44.45%\n",
            "  → New best! Saved to teacher_1_resnet50_best.pth\n"
          ]
        },
        {
          "output_type": "stream",
          "name": "stderr",
          "text": []
        },
        {
          "output_type": "stream",
          "name": "stdout",
          "text": [
            "Epoch 030 | train_loss=1.5804 | val_acc=42.25%\n"
          ]
        },
        {
          "output_type": "stream",
          "name": "stderr",
          "text": []
        },
        {
          "output_type": "stream",
          "name": "stdout",
          "text": [
            "Epoch 031 | train_loss=1.5345 | val_acc=45.04%\n",
            "  → New best! Saved to teacher_1_resnet50_best.pth\n"
          ]
        },
        {
          "output_type": "stream",
          "name": "stderr",
          "text": []
        },
        {
          "output_type": "stream",
          "name": "stdout",
          "text": [
            "Epoch 032 | train_loss=1.5018 | val_acc=44.85%\n"
          ]
        },
        {
          "output_type": "stream",
          "name": "stderr",
          "text": []
        },
        {
          "output_type": "stream",
          "name": "stdout",
          "text": [
            "Epoch 033 | train_loss=1.5109 | val_acc=46.05%\n",
            "  → New best! Saved to teacher_1_resnet50_best.pth\n"
          ]
        },
        {
          "output_type": "stream",
          "name": "stderr",
          "text": []
        },
        {
          "output_type": "stream",
          "name": "stdout",
          "text": [
            "Epoch 034 | train_loss=1.4873 | val_acc=42.76%\n"
          ]
        },
        {
          "output_type": "stream",
          "name": "stderr",
          "text": []
        },
        {
          "output_type": "stream",
          "name": "stdout",
          "text": [
            "Epoch 035 | train_loss=1.5517 | val_acc=45.42%\n"
          ]
        },
        {
          "output_type": "stream",
          "name": "stderr",
          "text": []
        },
        {
          "output_type": "stream",
          "name": "stdout",
          "text": [
            "Epoch 036 | train_loss=1.4998 | val_acc=45.78%\n"
          ]
        },
        {
          "output_type": "stream",
          "name": "stderr",
          "text": []
        },
        {
          "output_type": "stream",
          "name": "stdout",
          "text": [
            "Epoch 037 | train_loss=1.4581 | val_acc=48.32%\n",
            "  → New best! Saved to teacher_1_resnet50_best.pth\n"
          ]
        },
        {
          "output_type": "stream",
          "name": "stderr",
          "text": []
        },
        {
          "output_type": "stream",
          "name": "stdout",
          "text": [
            "Epoch 038 | train_loss=1.4486 | val_acc=48.65%\n",
            "  → New best! Saved to teacher_1_resnet50_best.pth\n"
          ]
        },
        {
          "output_type": "stream",
          "name": "stderr",
          "text": []
        },
        {
          "output_type": "stream",
          "name": "stdout",
          "text": [
            "Epoch 039 | train_loss=1.4241 | val_acc=48.83%\n",
            "  → New best! Saved to teacher_1_resnet50_best.pth\n"
          ]
        },
        {
          "output_type": "stream",
          "name": "stderr",
          "text": []
        },
        {
          "output_type": "stream",
          "name": "stdout",
          "text": [
            "Epoch 040 | train_loss=1.4082 | val_acc=47.93%\n"
          ]
        },
        {
          "output_type": "stream",
          "name": "stderr",
          "text": []
        },
        {
          "output_type": "stream",
          "name": "stdout",
          "text": [
            "Epoch 041 | train_loss=1.4013 | val_acc=46.89%\n"
          ]
        },
        {
          "output_type": "stream",
          "name": "stderr",
          "text": []
        },
        {
          "output_type": "stream",
          "name": "stdout",
          "text": [
            "Epoch 042 | train_loss=1.3883 | val_acc=45.46%\n"
          ]
        },
        {
          "output_type": "stream",
          "name": "stderr",
          "text": []
        },
        {
          "output_type": "stream",
          "name": "stdout",
          "text": [
            "Epoch 043 | train_loss=1.3751 | val_acc=51.03%\n",
            "  → New best! Saved to teacher_1_resnet50_best.pth\n"
          ]
        },
        {
          "output_type": "stream",
          "name": "stderr",
          "text": []
        },
        {
          "output_type": "stream",
          "name": "stdout",
          "text": [
            "Epoch 044 | train_loss=1.3377 | val_acc=46.75%\n"
          ]
        },
        {
          "output_type": "stream",
          "name": "stderr",
          "text": []
        },
        {
          "output_type": "stream",
          "name": "stdout",
          "text": [
            "Epoch 045 | train_loss=1.3414 | val_acc=51.72%\n",
            "  → New best! Saved to teacher_1_resnet50_best.pth\n"
          ]
        },
        {
          "output_type": "stream",
          "name": "stderr",
          "text": []
        },
        {
          "output_type": "stream",
          "name": "stdout",
          "text": [
            "Epoch 046 | train_loss=1.3436 | val_acc=46.02%\n"
          ]
        },
        {
          "output_type": "stream",
          "name": "stderr",
          "text": []
        },
        {
          "output_type": "stream",
          "name": "stdout",
          "text": [
            "Epoch 047 | train_loss=1.3259 | val_acc=50.82%\n"
          ]
        },
        {
          "output_type": "stream",
          "name": "stderr",
          "text": []
        },
        {
          "output_type": "stream",
          "name": "stdout",
          "text": [
            "Epoch 048 | train_loss=1.3166 | val_acc=48.16%\n"
          ]
        },
        {
          "output_type": "stream",
          "name": "stderr",
          "text": []
        },
        {
          "output_type": "stream",
          "name": "stdout",
          "text": [
            "Epoch 049 | train_loss=1.2848 | val_acc=53.66%\n",
            "  → New best! Saved to teacher_1_resnet50_best.pth\n"
          ]
        },
        {
          "output_type": "stream",
          "name": "stderr",
          "text": []
        },
        {
          "output_type": "stream",
          "name": "stdout",
          "text": [
            "Epoch 050 | train_loss=1.2632 | val_acc=53.19%\n"
          ]
        },
        {
          "output_type": "stream",
          "name": "stderr",
          "text": []
        },
        {
          "output_type": "stream",
          "name": "stdout",
          "text": [
            "Epoch 051 | train_loss=1.2562 | val_acc=54.25%\n",
            "  → New best! Saved to teacher_1_resnet50_best.pth\n"
          ]
        },
        {
          "output_type": "stream",
          "name": "stderr",
          "text": []
        },
        {
          "output_type": "stream",
          "name": "stdout",
          "text": [
            "Epoch 052 | train_loss=1.2442 | val_acc=50.98%\n"
          ]
        },
        {
          "output_type": "stream",
          "name": "stderr",
          "text": []
        },
        {
          "output_type": "stream",
          "name": "stdout",
          "text": [
            "Epoch 053 | train_loss=1.2743 | val_acc=53.41%\n"
          ]
        },
        {
          "output_type": "stream",
          "name": "stderr",
          "text": []
        },
        {
          "output_type": "stream",
          "name": "stdout",
          "text": [
            "Epoch 054 | train_loss=1.2596 | val_acc=47.94%\n"
          ]
        },
        {
          "output_type": "stream",
          "name": "stderr",
          "text": []
        },
        {
          "output_type": "stream",
          "name": "stdout",
          "text": [
            "Epoch 055 | train_loss=1.2271 | val_acc=51.46%\n"
          ]
        },
        {
          "output_type": "stream",
          "name": "stderr",
          "text": []
        },
        {
          "output_type": "stream",
          "name": "stdout",
          "text": [
            "Epoch 056 | train_loss=1.2725 | val_acc=54.02%\n"
          ]
        },
        {
          "output_type": "stream",
          "name": "stderr",
          "text": []
        },
        {
          "output_type": "stream",
          "name": "stdout",
          "text": [
            "Epoch 057 | train_loss=1.2503 | val_acc=52.76%\n"
          ]
        },
        {
          "output_type": "stream",
          "name": "stderr",
          "text": []
        },
        {
          "output_type": "stream",
          "name": "stdout",
          "text": [
            "Epoch 058 | train_loss=1.1856 | val_acc=50.85%\n"
          ]
        },
        {
          "output_type": "stream",
          "name": "stderr",
          "text": []
        },
        {
          "output_type": "stream",
          "name": "stdout",
          "text": [
            "Epoch 059 | train_loss=1.2218 | val_acc=51.77%\n"
          ]
        },
        {
          "output_type": "stream",
          "name": "stderr",
          "text": []
        },
        {
          "output_type": "stream",
          "name": "stdout",
          "text": [
            "Epoch 060 | train_loss=1.1739 | val_acc=55.23%\n",
            "  → New best! Saved to teacher_1_resnet50_best.pth\n"
          ]
        },
        {
          "output_type": "stream",
          "name": "stderr",
          "text": []
        },
        {
          "output_type": "stream",
          "name": "stdout",
          "text": [
            "Epoch 061 | train_loss=1.1443 | val_acc=50.04%\n"
          ]
        },
        {
          "output_type": "stream",
          "name": "stderr",
          "text": []
        },
        {
          "output_type": "stream",
          "name": "stdout",
          "text": [
            "Epoch 062 | train_loss=1.1483 | val_acc=55.94%\n",
            "  → New best! Saved to teacher_1_resnet50_best.pth\n"
          ]
        },
        {
          "output_type": "stream",
          "name": "stderr",
          "text": []
        },
        {
          "output_type": "stream",
          "name": "stdout",
          "text": [
            "Epoch 063 | train_loss=1.1373 | val_acc=57.05%\n",
            "  → New best! Saved to teacher_1_resnet50_best.pth\n"
          ]
        },
        {
          "output_type": "stream",
          "name": "stderr",
          "text": []
        },
        {
          "output_type": "stream",
          "name": "stdout",
          "text": [
            "Epoch 064 | train_loss=1.1292 | val_acc=58.41%\n",
            "  → New best! Saved to teacher_1_resnet50_best.pth\n"
          ]
        },
        {
          "output_type": "stream",
          "name": "stderr",
          "text": []
        },
        {
          "output_type": "stream",
          "name": "stdout",
          "text": [
            "Epoch 065 | train_loss=1.1398 | val_acc=57.86%\n"
          ]
        },
        {
          "output_type": "stream",
          "name": "stderr",
          "text": []
        },
        {
          "output_type": "stream",
          "name": "stdout",
          "text": [
            "Epoch 066 | train_loss=1.1103 | val_acc=59.26%\n",
            "  → New best! Saved to teacher_1_resnet50_best.pth\n"
          ]
        },
        {
          "output_type": "stream",
          "name": "stderr",
          "text": []
        },
        {
          "output_type": "stream",
          "name": "stdout",
          "text": [
            "Epoch 067 | train_loss=1.0875 | val_acc=56.45%\n"
          ]
        },
        {
          "output_type": "stream",
          "name": "stderr",
          "text": []
        },
        {
          "output_type": "stream",
          "name": "stdout",
          "text": [
            "Epoch 068 | train_loss=1.0965 | val_acc=59.26%\n"
          ]
        },
        {
          "output_type": "stream",
          "name": "stderr",
          "text": []
        },
        {
          "output_type": "stream",
          "name": "stdout",
          "text": [
            "Epoch 069 | train_loss=1.0833 | val_acc=52.94%\n"
          ]
        },
        {
          "output_type": "stream",
          "name": "stderr",
          "text": []
        },
        {
          "output_type": "stream",
          "name": "stdout",
          "text": [
            "Epoch 070 | train_loss=1.0800 | val_acc=55.68%\n"
          ]
        },
        {
          "output_type": "stream",
          "name": "stderr",
          "text": []
        },
        {
          "output_type": "stream",
          "name": "stdout",
          "text": [
            "Epoch 071 | train_loss=1.0539 | val_acc=59.13%\n"
          ]
        },
        {
          "output_type": "stream",
          "name": "stderr",
          "text": []
        },
        {
          "output_type": "stream",
          "name": "stdout",
          "text": [
            "Epoch 072 | train_loss=1.0536 | val_acc=57.70%\n"
          ]
        },
        {
          "output_type": "stream",
          "name": "stderr",
          "text": []
        },
        {
          "output_type": "stream",
          "name": "stdout",
          "text": [
            "Epoch 073 | train_loss=1.0553 | val_acc=56.98%\n"
          ]
        },
        {
          "output_type": "stream",
          "name": "stderr",
          "text": []
        },
        {
          "output_type": "stream",
          "name": "stdout",
          "text": [
            "Epoch 074 | train_loss=1.0230 | val_acc=59.89%\n",
            "  → New best! Saved to teacher_1_resnet50_best.pth\n"
          ]
        },
        {
          "output_type": "stream",
          "name": "stderr",
          "text": []
        },
        {
          "output_type": "stream",
          "name": "stdout",
          "text": [
            "Epoch 075 | train_loss=1.0044 | val_acc=57.65%\n"
          ]
        },
        {
          "output_type": "stream",
          "name": "stderr",
          "text": []
        },
        {
          "output_type": "stream",
          "name": "stdout",
          "text": [
            "Epoch 076 | train_loss=1.0151 | val_acc=59.97%\n",
            "  → New best! Saved to teacher_1_resnet50_best.pth\n"
          ]
        },
        {
          "output_type": "stream",
          "name": "stderr",
          "text": []
        },
        {
          "output_type": "stream",
          "name": "stdout",
          "text": [
            "Epoch 077 | train_loss=1.0171 | val_acc=61.11%\n",
            "  → New best! Saved to teacher_1_resnet50_best.pth\n"
          ]
        },
        {
          "output_type": "stream",
          "name": "stderr",
          "text": []
        },
        {
          "output_type": "stream",
          "name": "stdout",
          "text": [
            "Epoch 078 | train_loss=0.9916 | val_acc=59.07%\n"
          ]
        },
        {
          "output_type": "stream",
          "name": "stderr",
          "text": []
        },
        {
          "output_type": "stream",
          "name": "stdout",
          "text": [
            "Epoch 079 | train_loss=0.9755 | val_acc=61.16%\n",
            "  → New best! Saved to teacher_1_resnet50_best.pth\n"
          ]
        },
        {
          "output_type": "stream",
          "name": "stderr",
          "text": []
        },
        {
          "output_type": "stream",
          "name": "stdout",
          "text": [
            "Epoch 080 | train_loss=0.9823 | val_acc=62.42%\n",
            "  → New best! Saved to teacher_1_resnet50_best.pth\n"
          ]
        },
        {
          "output_type": "stream",
          "name": "stderr",
          "text": []
        },
        {
          "output_type": "stream",
          "name": "stdout",
          "text": [
            "Epoch 081 | train_loss=0.9760 | val_acc=57.81%\n"
          ]
        },
        {
          "output_type": "stream",
          "name": "stderr",
          "text": []
        },
        {
          "output_type": "stream",
          "name": "stdout",
          "text": [
            "Epoch 082 | train_loss=0.9351 | val_acc=64.53%\n",
            "  → New best! Saved to teacher_1_resnet50_best.pth\n"
          ]
        },
        {
          "output_type": "stream",
          "name": "stderr",
          "text": []
        },
        {
          "output_type": "stream",
          "name": "stdout",
          "text": [
            "Epoch 083 | train_loss=0.9371 | val_acc=63.32%\n"
          ]
        },
        {
          "output_type": "stream",
          "name": "stderr",
          "text": []
        },
        {
          "output_type": "stream",
          "name": "stdout",
          "text": [
            "Epoch 084 | train_loss=0.9449 | val_acc=61.97%\n"
          ]
        },
        {
          "output_type": "stream",
          "name": "stderr",
          "text": []
        },
        {
          "output_type": "stream",
          "name": "stdout",
          "text": [
            "Epoch 085 | train_loss=0.9469 | val_acc=60.75%\n"
          ]
        },
        {
          "output_type": "stream",
          "name": "stderr",
          "text": []
        },
        {
          "output_type": "stream",
          "name": "stdout",
          "text": [
            "Epoch 086 | train_loss=0.9567 | val_acc=59.92%\n"
          ]
        },
        {
          "output_type": "stream",
          "name": "stderr",
          "text": []
        },
        {
          "output_type": "stream",
          "name": "stdout",
          "text": [
            "Epoch 087 | train_loss=0.9202 | val_acc=61.17%\n"
          ]
        },
        {
          "output_type": "stream",
          "name": "stderr",
          "text": []
        },
        {
          "output_type": "stream",
          "name": "stdout",
          "text": [
            "Epoch 088 | train_loss=0.9374 | val_acc=64.14%\n"
          ]
        },
        {
          "output_type": "stream",
          "name": "stderr",
          "text": []
        },
        {
          "output_type": "stream",
          "name": "stdout",
          "text": [
            "Epoch 089 | train_loss=0.9387 | val_acc=60.92%\n"
          ]
        },
        {
          "output_type": "stream",
          "name": "stderr",
          "text": []
        },
        {
          "output_type": "stream",
          "name": "stdout",
          "text": [
            "Epoch 090 | train_loss=0.9359 | val_acc=65.18%\n",
            "  → New best! Saved to teacher_1_resnet50_best.pth\n"
          ]
        },
        {
          "output_type": "stream",
          "name": "stderr",
          "text": []
        },
        {
          "output_type": "stream",
          "name": "stdout",
          "text": [
            "Epoch 091 | train_loss=0.9053 | val_acc=62.39%\n"
          ]
        },
        {
          "output_type": "stream",
          "name": "stderr",
          "text": []
        },
        {
          "output_type": "stream",
          "name": "stdout",
          "text": [
            "Epoch 092 | train_loss=0.8885 | val_acc=64.91%\n"
          ]
        },
        {
          "output_type": "stream",
          "name": "stderr",
          "text": []
        },
        {
          "output_type": "stream",
          "name": "stdout",
          "text": [
            "Epoch 093 | train_loss=0.8819 | val_acc=64.45%\n"
          ]
        },
        {
          "output_type": "stream",
          "name": "stderr",
          "text": []
        },
        {
          "output_type": "stream",
          "name": "stdout",
          "text": [
            "Epoch 094 | train_loss=0.8486 | val_acc=63.57%\n"
          ]
        },
        {
          "output_type": "stream",
          "name": "stderr",
          "text": []
        },
        {
          "output_type": "stream",
          "name": "stdout",
          "text": [
            "Epoch 095 | train_loss=0.8710 | val_acc=64.26%\n"
          ]
        },
        {
          "output_type": "stream",
          "name": "stderr",
          "text": []
        },
        {
          "output_type": "stream",
          "name": "stdout",
          "text": [
            "Epoch 096 | train_loss=0.8481 | val_acc=65.05%\n"
          ]
        },
        {
          "output_type": "stream",
          "name": "stderr",
          "text": []
        },
        {
          "output_type": "stream",
          "name": "stdout",
          "text": [
            "Epoch 097 | train_loss=0.8742 | val_acc=66.82%\n",
            "  → New best! Saved to teacher_1_resnet50_best.pth\n"
          ]
        },
        {
          "output_type": "stream",
          "name": "stderr",
          "text": []
        },
        {
          "output_type": "stream",
          "name": "stdout",
          "text": [
            "Epoch 098 | train_loss=0.8354 | val_acc=66.37%\n"
          ]
        },
        {
          "output_type": "stream",
          "name": "stderr",
          "text": []
        },
        {
          "output_type": "stream",
          "name": "stdout",
          "text": [
            "Epoch 099 | train_loss=0.8671 | val_acc=62.26%\n"
          ]
        },
        {
          "output_type": "stream",
          "name": "stderr",
          "text": []
        },
        {
          "output_type": "stream",
          "name": "stdout",
          "text": [
            "Epoch 100 | train_loss=0.8522 | val_acc=62.70%\n"
          ]
        },
        {
          "output_type": "stream",
          "name": "stderr",
          "text": []
        },
        {
          "output_type": "stream",
          "name": "stdout",
          "text": [
            "Epoch 101 | train_loss=0.6765 | val_acc=73.42%\n",
            "  → New best! Saved to teacher_1_resnet50_best.pth\n"
          ]
        },
        {
          "output_type": "stream",
          "name": "stderr",
          "text": []
        },
        {
          "output_type": "stream",
          "name": "stdout",
          "text": [
            "Epoch 102 | train_loss=0.5937 | val_acc=74.14%\n",
            "  → New best! Saved to teacher_1_resnet50_best.pth\n"
          ]
        },
        {
          "output_type": "stream",
          "name": "stderr",
          "text": []
        },
        {
          "output_type": "stream",
          "name": "stdout",
          "text": [
            "Epoch 103 | train_loss=0.5588 | val_acc=74.25%\n",
            "  → New best! Saved to teacher_1_resnet50_best.pth\n"
          ]
        },
        {
          "output_type": "stream",
          "name": "stderr",
          "text": []
        },
        {
          "output_type": "stream",
          "name": "stdout",
          "text": [
            "Epoch 104 | train_loss=0.5388 | val_acc=74.58%\n",
            "  → New best! Saved to teacher_1_resnet50_best.pth\n"
          ]
        },
        {
          "output_type": "stream",
          "name": "stderr",
          "text": []
        },
        {
          "output_type": "stream",
          "name": "stdout",
          "text": [
            "Epoch 105 | train_loss=0.5249 | val_acc=74.27%\n"
          ]
        },
        {
          "output_type": "stream",
          "name": "stderr",
          "text": []
        },
        {
          "output_type": "stream",
          "name": "stdout",
          "text": [
            "Epoch 106 | train_loss=0.5114 | val_acc=74.41%\n"
          ]
        },
        {
          "output_type": "stream",
          "name": "stderr",
          "text": []
        },
        {
          "output_type": "stream",
          "name": "stdout",
          "text": [
            "Epoch 107 | train_loss=0.5017 | val_acc=74.70%\n",
            "  → New best! Saved to teacher_1_resnet50_best.pth\n"
          ]
        },
        {
          "output_type": "stream",
          "name": "stderr",
          "text": []
        },
        {
          "output_type": "stream",
          "name": "stdout",
          "text": [
            "Epoch 108 | train_loss=0.4801 | val_acc=74.91%\n",
            "  → New best! Saved to teacher_1_resnet50_best.pth\n"
          ]
        },
        {
          "output_type": "stream",
          "name": "stderr",
          "text": []
        },
        {
          "output_type": "stream",
          "name": "stdout",
          "text": [
            "Epoch 109 | train_loss=0.4690 | val_acc=75.10%\n",
            "  → New best! Saved to teacher_1_resnet50_best.pth\n"
          ]
        },
        {
          "output_type": "stream",
          "name": "stderr",
          "text": []
        },
        {
          "output_type": "stream",
          "name": "stdout",
          "text": [
            "Epoch 110 | train_loss=0.4599 | val_acc=74.96%\n"
          ]
        },
        {
          "output_type": "stream",
          "name": "stderr",
          "text": []
        },
        {
          "output_type": "stream",
          "name": "stdout",
          "text": [
            "Epoch 111 | train_loss=0.4604 | val_acc=74.72%\n"
          ]
        },
        {
          "output_type": "stream",
          "name": "stderr",
          "text": []
        },
        {
          "output_type": "stream",
          "name": "stdout",
          "text": [
            "Epoch 112 | train_loss=0.4395 | val_acc=73.82%\n"
          ]
        },
        {
          "output_type": "stream",
          "name": "stderr",
          "text": []
        },
        {
          "output_type": "stream",
          "name": "stdout",
          "text": [
            "Epoch 113 | train_loss=0.4323 | val_acc=75.11%\n",
            "  → New best! Saved to teacher_1_resnet50_best.pth\n"
          ]
        },
        {
          "output_type": "stream",
          "name": "stderr",
          "text": []
        },
        {
          "output_type": "stream",
          "name": "stdout",
          "text": [
            "Epoch 114 | train_loss=0.4322 | val_acc=74.85%\n"
          ]
        },
        {
          "output_type": "stream",
          "name": "stderr",
          "text": []
        },
        {
          "output_type": "stream",
          "name": "stdout",
          "text": [
            "Epoch 115 | train_loss=0.4096 | val_acc=75.10%\n"
          ]
        },
        {
          "output_type": "stream",
          "name": "stderr",
          "text": []
        },
        {
          "output_type": "stream",
          "name": "stdout",
          "text": [
            "Epoch 116 | train_loss=0.4136 | val_acc=75.34%\n",
            "  → New best! Saved to teacher_1_resnet50_best.pth\n"
          ]
        },
        {
          "output_type": "stream",
          "name": "stderr",
          "text": []
        },
        {
          "output_type": "stream",
          "name": "stdout",
          "text": [
            "Epoch 117 | train_loss=0.4099 | val_acc=75.29%\n"
          ]
        },
        {
          "output_type": "stream",
          "name": "stderr",
          "text": []
        },
        {
          "output_type": "stream",
          "name": "stdout",
          "text": [
            "Epoch 118 | train_loss=0.3839 | val_acc=75.14%\n"
          ]
        },
        {
          "output_type": "stream",
          "name": "stderr",
          "text": []
        },
        {
          "output_type": "stream",
          "name": "stdout",
          "text": [
            "Epoch 119 | train_loss=0.3823 | val_acc=74.46%\n"
          ]
        },
        {
          "output_type": "stream",
          "name": "stderr",
          "text": []
        },
        {
          "output_type": "stream",
          "name": "stdout",
          "text": [
            "Epoch 120 | train_loss=0.3757 | val_acc=74.19%\n"
          ]
        },
        {
          "output_type": "stream",
          "name": "stderr",
          "text": []
        },
        {
          "output_type": "stream",
          "name": "stdout",
          "text": [
            "Epoch 121 | train_loss=0.3900 | val_acc=75.30%\n"
          ]
        },
        {
          "output_type": "stream",
          "name": "stderr",
          "text": []
        },
        {
          "output_type": "stream",
          "name": "stdout",
          "text": [
            "Epoch 122 | train_loss=0.3753 | val_acc=74.59%\n"
          ]
        },
        {
          "output_type": "stream",
          "name": "stderr",
          "text": []
        },
        {
          "output_type": "stream",
          "name": "stdout",
          "text": [
            "Epoch 123 | train_loss=0.3671 | val_acc=74.65%\n"
          ]
        },
        {
          "output_type": "stream",
          "name": "stderr",
          "text": []
        },
        {
          "output_type": "stream",
          "name": "stdout",
          "text": [
            "Epoch 124 | train_loss=0.3592 | val_acc=75.12%\n"
          ]
        },
        {
          "output_type": "stream",
          "name": "stderr",
          "text": []
        },
        {
          "output_type": "stream",
          "name": "stdout",
          "text": [
            "Epoch 125 | train_loss=0.3383 | val_acc=74.89%\n"
          ]
        },
        {
          "output_type": "stream",
          "name": "stderr",
          "text": []
        },
        {
          "output_type": "stream",
          "name": "stdout",
          "text": [
            "Epoch 126 | train_loss=0.3571 | val_acc=75.27%\n"
          ]
        },
        {
          "output_type": "stream",
          "name": "stderr",
          "text": []
        },
        {
          "output_type": "stream",
          "name": "stdout",
          "text": [
            "Epoch 127 | train_loss=0.3579 | val_acc=75.11%\n"
          ]
        },
        {
          "output_type": "stream",
          "name": "stderr",
          "text": []
        },
        {
          "output_type": "stream",
          "name": "stdout",
          "text": [
            "Epoch 128 | train_loss=0.3394 | val_acc=75.43%\n",
            "  → New best! Saved to teacher_1_resnet50_best.pth\n"
          ]
        },
        {
          "output_type": "stream",
          "name": "stderr",
          "text": []
        },
        {
          "output_type": "stream",
          "name": "stdout",
          "text": [
            "Epoch 129 | train_loss=0.3208 | val_acc=74.91%\n"
          ]
        },
        {
          "output_type": "stream",
          "name": "stderr",
          "text": []
        },
        {
          "output_type": "stream",
          "name": "stdout",
          "text": [
            "Epoch 130 | train_loss=0.3147 | val_acc=75.09%\n"
          ]
        },
        {
          "output_type": "stream",
          "name": "stderr",
          "text": []
        },
        {
          "output_type": "stream",
          "name": "stdout",
          "text": [
            "Epoch 131 | train_loss=0.3042 | val_acc=75.09%\n"
          ]
        },
        {
          "output_type": "stream",
          "name": "stderr",
          "text": []
        },
        {
          "output_type": "stream",
          "name": "stdout",
          "text": [
            "Epoch 132 | train_loss=0.3129 | val_acc=74.32%\n"
          ]
        },
        {
          "output_type": "stream",
          "name": "stderr",
          "text": []
        },
        {
          "output_type": "stream",
          "name": "stdout",
          "text": [
            "Epoch 133 | train_loss=0.3098 | val_acc=75.28%\n"
          ]
        },
        {
          "output_type": "stream",
          "name": "stderr",
          "text": []
        },
        {
          "output_type": "stream",
          "name": "stdout",
          "text": [
            "Epoch 134 | train_loss=0.3302 | val_acc=74.63%\n"
          ]
        },
        {
          "output_type": "stream",
          "name": "stderr",
          "text": []
        },
        {
          "output_type": "stream",
          "name": "stdout",
          "text": [
            "Epoch 135 | train_loss=0.2955 | val_acc=75.03%\n"
          ]
        },
        {
          "output_type": "stream",
          "name": "stderr",
          "text": []
        },
        {
          "output_type": "stream",
          "name": "stdout",
          "text": [
            "Epoch 136 | train_loss=0.2872 | val_acc=75.14%\n"
          ]
        },
        {
          "output_type": "stream",
          "name": "stderr",
          "text": []
        },
        {
          "output_type": "stream",
          "name": "stdout",
          "text": [
            "Epoch 137 | train_loss=0.2879 | val_acc=74.02%\n"
          ]
        },
        {
          "output_type": "stream",
          "name": "stderr",
          "text": []
        },
        {
          "output_type": "stream",
          "name": "stdout",
          "text": [
            "Epoch 138 | train_loss=0.2894 | val_acc=74.33%\n"
          ]
        },
        {
          "output_type": "stream",
          "name": "stderr",
          "text": []
        },
        {
          "output_type": "stream",
          "name": "stdout",
          "text": [
            "Epoch 139 | train_loss=0.2827 | val_acc=74.09%\n"
          ]
        },
        {
          "output_type": "stream",
          "name": "stderr",
          "text": []
        },
        {
          "output_type": "stream",
          "name": "stdout",
          "text": [
            "Epoch 140 | train_loss=0.2805 | val_acc=74.39%\n"
          ]
        },
        {
          "output_type": "stream",
          "name": "stderr",
          "text": []
        },
        {
          "output_type": "stream",
          "name": "stdout",
          "text": [
            "Epoch 141 | train_loss=0.2925 | val_acc=74.74%\n"
          ]
        },
        {
          "output_type": "stream",
          "name": "stderr",
          "text": []
        },
        {
          "output_type": "stream",
          "name": "stdout",
          "text": [
            "Epoch 142 | train_loss=0.2691 | val_acc=74.49%\n"
          ]
        },
        {
          "output_type": "stream",
          "name": "stderr",
          "text": []
        },
        {
          "output_type": "stream",
          "name": "stdout",
          "text": [
            "Epoch 143 | train_loss=0.2741 | val_acc=74.83%\n"
          ]
        },
        {
          "output_type": "stream",
          "name": "stderr",
          "text": []
        },
        {
          "output_type": "stream",
          "name": "stdout",
          "text": [
            "Epoch 144 | train_loss=0.2636 | val_acc=74.26%\n"
          ]
        },
        {
          "output_type": "stream",
          "name": "stderr",
          "text": []
        },
        {
          "output_type": "stream",
          "name": "stdout",
          "text": [
            "Epoch 145 | train_loss=0.2633 | val_acc=74.51%\n"
          ]
        },
        {
          "output_type": "stream",
          "name": "stderr",
          "text": []
        },
        {
          "output_type": "stream",
          "name": "stdout",
          "text": [
            "Epoch 146 | train_loss=0.2818 | val_acc=74.85%\n"
          ]
        },
        {
          "output_type": "stream",
          "name": "stderr",
          "text": []
        },
        {
          "output_type": "stream",
          "name": "stdout",
          "text": [
            "Epoch 147 | train_loss=0.2550 | val_acc=74.42%\n"
          ]
        },
        {
          "output_type": "stream",
          "name": "stderr",
          "text": []
        },
        {
          "output_type": "stream",
          "name": "stdout",
          "text": [
            "Epoch 148 | train_loss=0.2698 | val_acc=73.40%\n"
          ]
        },
        {
          "output_type": "stream",
          "name": "stderr",
          "text": []
        },
        {
          "output_type": "stream",
          "name": "stdout",
          "text": [
            "Epoch 149 | train_loss=0.2618 | val_acc=74.62%\n"
          ]
        },
        {
          "output_type": "stream",
          "name": "stderr",
          "text": []
        },
        {
          "output_type": "stream",
          "name": "stdout",
          "text": [
            "Epoch 150 | train_loss=0.2337 | val_acc=74.52%\n"
          ]
        },
        {
          "output_type": "stream",
          "name": "stderr",
          "text": []
        },
        {
          "output_type": "stream",
          "name": "stdout",
          "text": [
            "Epoch 151 | train_loss=0.1910 | val_acc=75.54%\n",
            "  → New best! Saved to teacher_1_resnet50_best.pth\n"
          ]
        },
        {
          "output_type": "stream",
          "name": "stderr",
          "text": []
        },
        {
          "output_type": "stream",
          "name": "stdout",
          "text": [
            "Epoch 152 | train_loss=0.1663 | val_acc=75.77%\n",
            "  → New best! Saved to teacher_1_resnet50_best.pth\n"
          ]
        },
        {
          "output_type": "stream",
          "name": "stderr",
          "text": []
        },
        {
          "output_type": "stream",
          "name": "stdout",
          "text": [
            "Epoch 153 | train_loss=0.1681 | val_acc=76.04%\n",
            "  → New best! Saved to teacher_1_resnet50_best.pth\n"
          ]
        },
        {
          "output_type": "stream",
          "name": "stderr",
          "text": []
        },
        {
          "output_type": "stream",
          "name": "stdout",
          "text": [
            "Epoch 154 | train_loss=0.1540 | val_acc=75.80%\n"
          ]
        },
        {
          "output_type": "stream",
          "name": "stderr",
          "text": []
        },
        {
          "output_type": "stream",
          "name": "stdout",
          "text": [
            "Epoch 155 | train_loss=0.1465 | val_acc=76.06%\n",
            "  → New best! Saved to teacher_1_resnet50_best.pth\n"
          ]
        },
        {
          "output_type": "stream",
          "name": "stderr",
          "text": []
        },
        {
          "output_type": "stream",
          "name": "stdout",
          "text": [
            "Epoch 156 | train_loss=0.1418 | val_acc=75.90%\n"
          ]
        },
        {
          "output_type": "stream",
          "name": "stderr",
          "text": []
        },
        {
          "output_type": "stream",
          "name": "stdout",
          "text": [
            "Epoch 157 | train_loss=0.1417 | val_acc=76.29%\n",
            "  → New best! Saved to teacher_1_resnet50_best.pth\n"
          ]
        },
        {
          "output_type": "stream",
          "name": "stderr",
          "text": []
        },
        {
          "output_type": "stream",
          "name": "stdout",
          "text": [
            "Epoch 158 | train_loss=0.1413 | val_acc=76.03%\n"
          ]
        },
        {
          "output_type": "stream",
          "name": "stderr",
          "text": []
        },
        {
          "output_type": "stream",
          "name": "stdout",
          "text": [
            "Epoch 159 | train_loss=0.1283 | val_acc=75.96%\n"
          ]
        },
        {
          "output_type": "stream",
          "name": "stderr",
          "text": []
        },
        {
          "output_type": "stream",
          "name": "stdout",
          "text": [
            "Epoch 160 | train_loss=0.1310 | val_acc=75.85%\n"
          ]
        },
        {
          "output_type": "stream",
          "name": "stderr",
          "text": []
        },
        {
          "output_type": "stream",
          "name": "stdout",
          "text": [
            "Epoch 161 | train_loss=0.1307 | val_acc=76.17%\n"
          ]
        },
        {
          "output_type": "stream",
          "name": "stderr",
          "text": []
        },
        {
          "output_type": "stream",
          "name": "stdout",
          "text": [
            "Epoch 162 | train_loss=0.1248 | val_acc=76.02%\n"
          ]
        },
        {
          "output_type": "stream",
          "name": "stderr",
          "text": []
        },
        {
          "output_type": "stream",
          "name": "stdout",
          "text": [
            "Epoch 163 | train_loss=0.1226 | val_acc=75.97%\n"
          ]
        },
        {
          "output_type": "stream",
          "name": "stderr",
          "text": []
        },
        {
          "output_type": "stream",
          "name": "stdout",
          "text": [
            "Epoch 164 | train_loss=0.1186 | val_acc=76.17%\n"
          ]
        },
        {
          "output_type": "stream",
          "name": "stderr",
          "text": []
        },
        {
          "output_type": "stream",
          "name": "stdout",
          "text": [
            "Epoch 165 | train_loss=0.1186 | val_acc=76.21%\n"
          ]
        },
        {
          "output_type": "stream",
          "name": "stderr",
          "text": []
        },
        {
          "output_type": "stream",
          "name": "stdout",
          "text": [
            "Epoch 166 | train_loss=0.1184 | val_acc=75.95%\n"
          ]
        },
        {
          "output_type": "stream",
          "name": "stderr",
          "text": []
        },
        {
          "output_type": "stream",
          "name": "stdout",
          "text": [
            "Epoch 167 | train_loss=0.1271 | val_acc=76.22%\n"
          ]
        },
        {
          "output_type": "stream",
          "name": "stderr",
          "text": []
        },
        {
          "output_type": "stream",
          "name": "stdout",
          "text": [
            "Epoch 168 | train_loss=0.1179 | val_acc=75.77%\n"
          ]
        },
        {
          "output_type": "stream",
          "name": "stderr",
          "text": []
        },
        {
          "output_type": "stream",
          "name": "stdout",
          "text": [
            "Epoch 169 | train_loss=0.1145 | val_acc=75.96%\n"
          ]
        },
        {
          "output_type": "stream",
          "name": "stderr",
          "text": []
        },
        {
          "output_type": "stream",
          "name": "stdout",
          "text": [
            "Epoch 170 | train_loss=0.1085 | val_acc=76.18%\n"
          ]
        },
        {
          "output_type": "stream",
          "name": "stderr",
          "text": []
        },
        {
          "output_type": "stream",
          "name": "stdout",
          "text": [
            "Epoch 171 | train_loss=0.1039 | val_acc=75.90%\n"
          ]
        },
        {
          "output_type": "stream",
          "name": "stderr",
          "text": []
        },
        {
          "output_type": "stream",
          "name": "stdout",
          "text": [
            "Epoch 172 | train_loss=0.1089 | val_acc=75.94%\n"
          ]
        },
        {
          "output_type": "stream",
          "name": "stderr",
          "text": []
        },
        {
          "output_type": "stream",
          "name": "stdout",
          "text": [
            "Epoch 173 | train_loss=0.1115 | val_acc=76.22%\n"
          ]
        },
        {
          "output_type": "stream",
          "name": "stderr",
          "text": []
        },
        {
          "output_type": "stream",
          "name": "stdout",
          "text": [
            "Epoch 174 | train_loss=0.1046 | val_acc=76.07%\n"
          ]
        },
        {
          "output_type": "stream",
          "name": "stderr",
          "text": []
        },
        {
          "output_type": "stream",
          "name": "stdout",
          "text": [
            "Epoch 175 | train_loss=0.1019 | val_acc=75.77%\n"
          ]
        },
        {
          "output_type": "stream",
          "name": "stderr",
          "text": []
        },
        {
          "output_type": "stream",
          "name": "stdout",
          "text": [
            "Epoch 176 | train_loss=0.1066 | val_acc=75.80%\n"
          ]
        },
        {
          "output_type": "stream",
          "name": "stderr",
          "text": []
        },
        {
          "output_type": "stream",
          "name": "stdout",
          "text": [
            "Epoch 177 | train_loss=0.1053 | val_acc=75.89%\n"
          ]
        },
        {
          "output_type": "stream",
          "name": "stderr",
          "text": []
        },
        {
          "output_type": "stream",
          "name": "stdout",
          "text": [
            "Epoch 178 | train_loss=0.1064 | val_acc=75.91%\n"
          ]
        },
        {
          "output_type": "stream",
          "name": "stderr",
          "text": []
        },
        {
          "output_type": "stream",
          "name": "stdout",
          "text": [
            "Epoch 179 | train_loss=0.0971 | val_acc=75.93%\n"
          ]
        },
        {
          "output_type": "stream",
          "name": "stderr",
          "text": []
        },
        {
          "output_type": "stream",
          "name": "stdout",
          "text": [
            "Epoch 180 | train_loss=0.0924 | val_acc=75.93%\n"
          ]
        },
        {
          "output_type": "stream",
          "name": "stderr",
          "text": []
        },
        {
          "output_type": "stream",
          "name": "stdout",
          "text": [
            "Epoch 181 | train_loss=0.0957 | val_acc=75.97%\n"
          ]
        },
        {
          "output_type": "stream",
          "name": "stderr",
          "text": []
        },
        {
          "output_type": "stream",
          "name": "stdout",
          "text": [
            "Epoch 182 | train_loss=0.0988 | val_acc=75.90%\n"
          ]
        },
        {
          "output_type": "stream",
          "name": "stderr",
          "text": []
        },
        {
          "output_type": "stream",
          "name": "stdout",
          "text": [
            "Epoch 183 | train_loss=0.0942 | val_acc=76.00%\n"
          ]
        },
        {
          "output_type": "stream",
          "name": "stderr",
          "text": []
        },
        {
          "output_type": "stream",
          "name": "stdout",
          "text": [
            "Epoch 184 | train_loss=0.0977 | val_acc=75.97%\n"
          ]
        },
        {
          "output_type": "stream",
          "name": "stderr",
          "text": []
        },
        {
          "output_type": "stream",
          "name": "stdout",
          "text": [
            "Epoch 185 | train_loss=0.0972 | val_acc=75.58%\n"
          ]
        },
        {
          "output_type": "stream",
          "name": "stderr",
          "text": []
        },
        {
          "output_type": "stream",
          "name": "stdout",
          "text": [
            "Epoch 186 | train_loss=0.1008 | val_acc=75.79%\n"
          ]
        },
        {
          "output_type": "stream",
          "name": "stderr",
          "text": []
        },
        {
          "output_type": "stream",
          "name": "stdout",
          "text": [
            "Epoch 187 | train_loss=0.0893 | val_acc=75.75%\n"
          ]
        },
        {
          "output_type": "stream",
          "name": "stderr",
          "text": []
        },
        {
          "output_type": "stream",
          "name": "stdout",
          "text": [
            "Epoch 188 | train_loss=0.0867 | val_acc=75.83%\n"
          ]
        },
        {
          "output_type": "stream",
          "name": "stderr",
          "text": []
        },
        {
          "output_type": "stream",
          "name": "stdout",
          "text": [
            "Epoch 189 | train_loss=0.0852 | val_acc=76.10%\n"
          ]
        },
        {
          "output_type": "stream",
          "name": "stderr",
          "text": []
        },
        {
          "output_type": "stream",
          "name": "stdout",
          "text": [
            "Epoch 190 | train_loss=0.0887 | val_acc=75.91%\n"
          ]
        },
        {
          "output_type": "stream",
          "name": "stderr",
          "text": []
        },
        {
          "output_type": "stream",
          "name": "stdout",
          "text": [
            "Epoch 191 | train_loss=0.0895 | val_acc=75.80%\n"
          ]
        },
        {
          "output_type": "stream",
          "name": "stderr",
          "text": []
        },
        {
          "output_type": "stream",
          "name": "stdout",
          "text": [
            "Epoch 192 | train_loss=0.0868 | val_acc=75.85%\n"
          ]
        },
        {
          "output_type": "stream",
          "name": "stderr",
          "text": []
        },
        {
          "output_type": "stream",
          "name": "stdout",
          "text": [
            "Epoch 193 | train_loss=0.0802 | val_acc=75.91%\n"
          ]
        },
        {
          "output_type": "stream",
          "name": "stderr",
          "text": []
        },
        {
          "output_type": "stream",
          "name": "stdout",
          "text": [
            "Epoch 194 | train_loss=0.0849 | val_acc=75.78%\n"
          ]
        },
        {
          "output_type": "stream",
          "name": "stderr",
          "text": []
        },
        {
          "output_type": "stream",
          "name": "stdout",
          "text": [
            "Epoch 195 | train_loss=0.0871 | val_acc=75.81%\n"
          ]
        },
        {
          "output_type": "stream",
          "name": "stderr",
          "text": []
        },
        {
          "output_type": "stream",
          "name": "stdout",
          "text": [
            "Epoch 196 | train_loss=0.0790 | val_acc=76.16%\n"
          ]
        },
        {
          "output_type": "stream",
          "name": "stderr",
          "text": []
        },
        {
          "output_type": "stream",
          "name": "stdout",
          "text": [
            "Epoch 197 | train_loss=0.0800 | val_acc=75.78%\n"
          ]
        },
        {
          "output_type": "stream",
          "name": "stderr",
          "text": []
        },
        {
          "output_type": "stream",
          "name": "stdout",
          "text": [
            "Epoch 198 | train_loss=0.0779 | val_acc=76.07%\n"
          ]
        },
        {
          "output_type": "stream",
          "name": "stderr",
          "text": []
        },
        {
          "output_type": "stream",
          "name": "stdout",
          "text": [
            "Epoch 199 | train_loss=0.0818 | val_acc=75.69%\n"
          ]
        },
        {
          "output_type": "stream",
          "name": "stderr",
          "text": []
        },
        {
          "output_type": "stream",
          "name": "stdout",
          "text": [
            "Epoch 200 | train_loss=0.0797 | val_acc=76.08%\n",
            "Teacher #1 (resnet50) best validation accuracy: 76.29%\n",
            "\n",
            "=== Training teacher #2 ===\n"
          ]
        },
        {
          "output_type": "stream",
          "name": "stderr",
          "text": []
        },
        {
          "output_type": "stream",
          "name": "stdout",
          "text": [
            "Epoch 001 | train_loss=3.7970 | val_acc=15.27%\n",
            "  → New best! Saved to teacher_2_resnet34_best.pth\n"
          ]
        },
        {
          "output_type": "stream",
          "name": "stderr",
          "text": []
        },
        {
          "output_type": "stream",
          "name": "stdout",
          "text": [
            "Epoch 002 | train_loss=2.5824 | val_acc=14.57%\n"
          ]
        },
        {
          "output_type": "stream",
          "name": "stderr",
          "text": []
        },
        {
          "output_type": "stream",
          "name": "stdout",
          "text": [
            "Epoch 003 | train_loss=2.3322 | val_acc=14.25%\n"
          ]
        },
        {
          "output_type": "stream",
          "name": "stderr",
          "text": []
        },
        {
          "output_type": "stream",
          "name": "stdout",
          "text": [
            "Epoch 004 | train_loss=2.1368 | val_acc=18.37%\n",
            "  → New best! Saved to teacher_2_resnet34_best.pth\n"
          ]
        },
        {
          "output_type": "stream",
          "name": "stderr",
          "text": []
        },
        {
          "output_type": "stream",
          "name": "stdout",
          "text": [
            "Epoch 005 | train_loss=2.0377 | val_acc=22.39%\n",
            "  → New best! Saved to teacher_2_resnet34_best.pth\n"
          ]
        },
        {
          "output_type": "stream",
          "name": "stderr",
          "text": []
        },
        {
          "output_type": "stream",
          "name": "stdout",
          "text": [
            "Epoch 006 | train_loss=1.9814 | val_acc=23.91%\n",
            "  → New best! Saved to teacher_2_resnet34_best.pth\n"
          ]
        },
        {
          "output_type": "stream",
          "name": "stderr",
          "text": []
        },
        {
          "output_type": "stream",
          "name": "stdout",
          "text": [
            "Epoch 007 | train_loss=1.9262 | val_acc=27.46%\n",
            "  → New best! Saved to teacher_2_resnet34_best.pth\n"
          ]
        },
        {
          "output_type": "stream",
          "name": "stderr",
          "text": []
        },
        {
          "output_type": "stream",
          "name": "stdout",
          "text": [
            "Epoch 008 | train_loss=1.8949 | val_acc=28.31%\n",
            "  → New best! Saved to teacher_2_resnet34_best.pth\n"
          ]
        },
        {
          "output_type": "stream",
          "name": "stderr",
          "text": []
        },
        {
          "output_type": "stream",
          "name": "stdout",
          "text": [
            "Epoch 009 | train_loss=1.8422 | val_acc=28.66%\n",
            "  → New best! Saved to teacher_2_resnet34_best.pth\n"
          ]
        },
        {
          "output_type": "stream",
          "name": "stderr",
          "text": []
        },
        {
          "output_type": "stream",
          "name": "stdout",
          "text": [
            "Epoch 010 | train_loss=1.8174 | val_acc=28.10%\n"
          ]
        },
        {
          "output_type": "stream",
          "name": "stderr",
          "text": []
        },
        {
          "output_type": "stream",
          "name": "stdout",
          "text": [
            "Epoch 011 | train_loss=1.8087 | val_acc=29.91%\n",
            "  → New best! Saved to teacher_2_resnet34_best.pth\n"
          ]
        },
        {
          "output_type": "stream",
          "name": "stderr",
          "text": []
        },
        {
          "output_type": "stream",
          "name": "stdout",
          "text": [
            "Epoch 012 | train_loss=1.7545 | val_acc=34.74%\n",
            "  → New best! Saved to teacher_2_resnet34_best.pth\n"
          ]
        },
        {
          "output_type": "stream",
          "name": "stderr",
          "text": []
        },
        {
          "output_type": "stream",
          "name": "stdout",
          "text": [
            "Epoch 013 | train_loss=1.7381 | val_acc=34.13%\n"
          ]
        },
        {
          "output_type": "stream",
          "name": "stderr",
          "text": []
        },
        {
          "output_type": "stream",
          "name": "stdout",
          "text": [
            "Epoch 014 | train_loss=1.7360 | val_acc=31.83%\n"
          ]
        },
        {
          "output_type": "stream",
          "name": "stderr",
          "text": []
        },
        {
          "output_type": "stream",
          "name": "stdout",
          "text": [
            "Epoch 015 | train_loss=1.7927 | val_acc=33.96%\n"
          ]
        },
        {
          "output_type": "stream",
          "name": "stderr",
          "text": []
        },
        {
          "output_type": "stream",
          "name": "stdout",
          "text": [
            "Epoch 016 | train_loss=1.6874 | val_acc=28.66%\n"
          ]
        },
        {
          "output_type": "stream",
          "name": "stderr",
          "text": []
        },
        {
          "output_type": "stream",
          "name": "stdout",
          "text": [
            "Epoch 017 | train_loss=1.7690 | val_acc=35.05%\n",
            "  → New best! Saved to teacher_2_resnet34_best.pth\n"
          ]
        },
        {
          "output_type": "stream",
          "name": "stderr",
          "text": []
        },
        {
          "output_type": "stream",
          "name": "stdout",
          "text": [
            "Epoch 018 | train_loss=1.6621 | val_acc=38.26%\n",
            "  → New best! Saved to teacher_2_resnet34_best.pth\n"
          ]
        },
        {
          "output_type": "stream",
          "name": "stderr",
          "text": []
        },
        {
          "output_type": "stream",
          "name": "stdout",
          "text": [
            "Epoch 019 | train_loss=1.6104 | val_acc=39.05%\n",
            "  → New best! Saved to teacher_2_resnet34_best.pth\n"
          ]
        },
        {
          "output_type": "stream",
          "name": "stderr",
          "text": []
        },
        {
          "output_type": "stream",
          "name": "stdout",
          "text": [
            "Epoch 020 | train_loss=1.5854 | val_acc=39.29%\n",
            "  → New best! Saved to teacher_2_resnet34_best.pth\n"
          ]
        },
        {
          "output_type": "stream",
          "name": "stderr",
          "text": []
        },
        {
          "output_type": "stream",
          "name": "stdout",
          "text": [
            "Epoch 021 | train_loss=1.5601 | val_acc=39.60%\n",
            "  → New best! Saved to teacher_2_resnet34_best.pth\n"
          ]
        },
        {
          "output_type": "stream",
          "name": "stderr",
          "text": []
        },
        {
          "output_type": "stream",
          "name": "stdout",
          "text": [
            "Epoch 022 | train_loss=1.5313 | val_acc=43.97%\n",
            "  → New best! Saved to teacher_2_resnet34_best.pth\n"
          ]
        },
        {
          "output_type": "stream",
          "name": "stderr",
          "text": []
        },
        {
          "output_type": "stream",
          "name": "stdout",
          "text": [
            "Epoch 023 | train_loss=1.5171 | val_acc=44.26%\n",
            "  → New best! Saved to teacher_2_resnet34_best.pth\n"
          ]
        },
        {
          "output_type": "stream",
          "name": "stderr",
          "text": []
        },
        {
          "output_type": "stream",
          "name": "stdout",
          "text": [
            "Epoch 024 | train_loss=1.4852 | val_acc=46.91%\n",
            "  → New best! Saved to teacher_2_resnet34_best.pth\n"
          ]
        },
        {
          "output_type": "stream",
          "name": "stderr",
          "text": []
        },
        {
          "output_type": "stream",
          "name": "stdout",
          "text": [
            "Epoch 025 | train_loss=1.4355 | val_acc=47.88%\n",
            "  → New best! Saved to teacher_2_resnet34_best.pth\n"
          ]
        },
        {
          "output_type": "stream",
          "name": "stderr",
          "text": []
        },
        {
          "output_type": "stream",
          "name": "stdout",
          "text": [
            "Epoch 026 | train_loss=1.4114 | val_acc=46.97%\n"
          ]
        },
        {
          "output_type": "stream",
          "name": "stderr",
          "text": []
        },
        {
          "output_type": "stream",
          "name": "stdout",
          "text": [
            "Epoch 027 | train_loss=1.3970 | val_acc=48.11%\n",
            "  → New best! Saved to teacher_2_resnet34_best.pth\n"
          ]
        },
        {
          "output_type": "stream",
          "name": "stderr",
          "text": []
        },
        {
          "output_type": "stream",
          "name": "stdout",
          "text": [
            "Epoch 028 | train_loss=1.3396 | val_acc=51.33%\n",
            "  → New best! Saved to teacher_2_resnet34_best.pth\n"
          ]
        },
        {
          "output_type": "stream",
          "name": "stderr",
          "text": []
        },
        {
          "output_type": "stream",
          "name": "stdout",
          "text": [
            "Epoch 029 | train_loss=1.3144 | val_acc=54.51%\n",
            "  → New best! Saved to teacher_2_resnet34_best.pth\n"
          ]
        },
        {
          "output_type": "stream",
          "name": "stderr",
          "text": []
        },
        {
          "output_type": "stream",
          "name": "stdout",
          "text": [
            "Epoch 030 | train_loss=1.2962 | val_acc=50.31%\n"
          ]
        },
        {
          "output_type": "stream",
          "name": "stderr",
          "text": []
        },
        {
          "output_type": "stream",
          "name": "stdout",
          "text": [
            "Epoch 031 | train_loss=1.2573 | val_acc=54.46%\n"
          ]
        },
        {
          "output_type": "stream",
          "name": "stderr",
          "text": []
        },
        {
          "output_type": "stream",
          "name": "stdout",
          "text": [
            "Epoch 032 | train_loss=1.2456 | val_acc=56.38%\n",
            "  → New best! Saved to teacher_2_resnet34_best.pth\n"
          ]
        },
        {
          "output_type": "stream",
          "name": "stderr",
          "text": []
        },
        {
          "output_type": "stream",
          "name": "stdout",
          "text": [
            "Epoch 033 | train_loss=1.1908 | val_acc=56.34%\n"
          ]
        },
        {
          "output_type": "stream",
          "name": "stderr",
          "text": []
        },
        {
          "output_type": "stream",
          "name": "stdout",
          "text": [
            "Epoch 034 | train_loss=1.2087 | val_acc=54.99%\n"
          ]
        },
        {
          "output_type": "stream",
          "name": "stderr",
          "text": []
        },
        {
          "output_type": "stream",
          "name": "stdout",
          "text": [
            "Epoch 035 | train_loss=1.1701 | val_acc=55.04%\n"
          ]
        },
        {
          "output_type": "stream",
          "name": "stderr",
          "text": []
        },
        {
          "output_type": "stream",
          "name": "stdout",
          "text": [
            "Epoch 036 | train_loss=1.1419 | val_acc=56.48%\n",
            "  → New best! Saved to teacher_2_resnet34_best.pth\n"
          ]
        },
        {
          "output_type": "stream",
          "name": "stderr",
          "text": []
        },
        {
          "output_type": "stream",
          "name": "stdout",
          "text": [
            "Epoch 037 | train_loss=1.1291 | val_acc=55.95%\n"
          ]
        },
        {
          "output_type": "stream",
          "name": "stderr",
          "text": []
        },
        {
          "output_type": "stream",
          "name": "stdout",
          "text": [
            "Epoch 038 | train_loss=1.1170 | val_acc=53.28%\n"
          ]
        },
        {
          "output_type": "stream",
          "name": "stderr",
          "text": []
        },
        {
          "output_type": "stream",
          "name": "stdout",
          "text": [
            "Epoch 039 | train_loss=1.1123 | val_acc=55.38%\n"
          ]
        },
        {
          "output_type": "stream",
          "name": "stderr",
          "text": []
        },
        {
          "output_type": "stream",
          "name": "stdout",
          "text": [
            "Epoch 040 | train_loss=1.0930 | val_acc=55.45%\n"
          ]
        },
        {
          "output_type": "stream",
          "name": "stderr",
          "text": []
        },
        {
          "output_type": "stream",
          "name": "stdout",
          "text": [
            "Epoch 041 | train_loss=1.1906 | val_acc=55.92%\n"
          ]
        },
        {
          "output_type": "stream",
          "name": "stderr",
          "text": []
        },
        {
          "output_type": "stream",
          "name": "stdout",
          "text": [
            "Epoch 042 | train_loss=1.1147 | val_acc=59.81%\n",
            "  → New best! Saved to teacher_2_resnet34_best.pth\n"
          ]
        },
        {
          "output_type": "stream",
          "name": "stderr",
          "text": []
        },
        {
          "output_type": "stream",
          "name": "stdout",
          "text": [
            "Epoch 043 | train_loss=1.0789 | val_acc=60.89%\n",
            "  → New best! Saved to teacher_2_resnet34_best.pth\n"
          ]
        },
        {
          "output_type": "stream",
          "name": "stderr",
          "text": []
        },
        {
          "output_type": "stream",
          "name": "stdout",
          "text": [
            "Epoch 044 | train_loss=1.0458 | val_acc=60.33%\n"
          ]
        },
        {
          "output_type": "stream",
          "name": "stderr",
          "text": []
        },
        {
          "output_type": "stream",
          "name": "stdout",
          "text": [
            "Epoch 045 | train_loss=1.0334 | val_acc=56.16%\n"
          ]
        },
        {
          "output_type": "stream",
          "name": "stderr",
          "text": []
        },
        {
          "output_type": "stream",
          "name": "stdout",
          "text": [
            "Epoch 046 | train_loss=1.0558 | val_acc=57.73%\n"
          ]
        },
        {
          "output_type": "stream",
          "name": "stderr",
          "text": []
        },
        {
          "output_type": "stream",
          "name": "stdout",
          "text": [
            "Epoch 047 | train_loss=1.0008 | val_acc=58.39%\n"
          ]
        },
        {
          "output_type": "stream",
          "name": "stderr",
          "text": []
        },
        {
          "output_type": "stream",
          "name": "stdout",
          "text": [
            "Epoch 048 | train_loss=0.9913 | val_acc=64.17%\n",
            "  → New best! Saved to teacher_2_resnet34_best.pth\n"
          ]
        },
        {
          "output_type": "stream",
          "name": "stderr",
          "text": []
        },
        {
          "output_type": "stream",
          "name": "stdout",
          "text": [
            "Epoch 049 | train_loss=1.0634 | val_acc=60.44%\n"
          ]
        },
        {
          "output_type": "stream",
          "name": "stderr",
          "text": []
        },
        {
          "output_type": "stream",
          "name": "stdout",
          "text": [
            "Epoch 050 | train_loss=0.9849 | val_acc=55.94%\n"
          ]
        },
        {
          "output_type": "stream",
          "name": "stderr",
          "text": []
        },
        {
          "output_type": "stream",
          "name": "stdout",
          "text": [
            "Epoch 051 | train_loss=0.9740 | val_acc=59.72%\n"
          ]
        },
        {
          "output_type": "stream",
          "name": "stderr",
          "text": []
        },
        {
          "output_type": "stream",
          "name": "stdout",
          "text": [
            "Epoch 052 | train_loss=0.9508 | val_acc=63.79%\n"
          ]
        },
        {
          "output_type": "stream",
          "name": "stderr",
          "text": []
        },
        {
          "output_type": "stream",
          "name": "stdout",
          "text": [
            "Epoch 053 | train_loss=0.9301 | val_acc=63.68%\n"
          ]
        },
        {
          "output_type": "stream",
          "name": "stderr",
          "text": []
        },
        {
          "output_type": "stream",
          "name": "stdout",
          "text": [
            "Epoch 054 | train_loss=0.8888 | val_acc=65.48%\n",
            "  → New best! Saved to teacher_2_resnet34_best.pth\n"
          ]
        },
        {
          "output_type": "stream",
          "name": "stderr",
          "text": []
        },
        {
          "output_type": "stream",
          "name": "stdout",
          "text": [
            "Epoch 055 | train_loss=0.9252 | val_acc=64.76%\n"
          ]
        },
        {
          "output_type": "stream",
          "name": "stderr",
          "text": []
        },
        {
          "output_type": "stream",
          "name": "stdout",
          "text": [
            "Epoch 056 | train_loss=0.9113 | val_acc=62.34%\n"
          ]
        },
        {
          "output_type": "stream",
          "name": "stderr",
          "text": []
        },
        {
          "output_type": "stream",
          "name": "stdout",
          "text": [
            "Epoch 057 | train_loss=0.8837 | val_acc=65.51%\n",
            "  → New best! Saved to teacher_2_resnet34_best.pth\n"
          ]
        },
        {
          "output_type": "stream",
          "name": "stderr",
          "text": []
        },
        {
          "output_type": "stream",
          "name": "stdout",
          "text": [
            "Epoch 058 | train_loss=0.8877 | val_acc=63.58%\n"
          ]
        },
        {
          "output_type": "stream",
          "name": "stderr",
          "text": []
        },
        {
          "output_type": "stream",
          "name": "stdout",
          "text": [
            "Epoch 059 | train_loss=0.8594 | val_acc=58.85%\n"
          ]
        },
        {
          "output_type": "stream",
          "name": "stderr",
          "text": []
        },
        {
          "output_type": "stream",
          "name": "stdout",
          "text": [
            "Epoch 060 | train_loss=0.8498 | val_acc=64.73%\n"
          ]
        },
        {
          "output_type": "stream",
          "name": "stderr",
          "text": []
        },
        {
          "output_type": "stream",
          "name": "stdout",
          "text": [
            "Epoch 061 | train_loss=0.8358 | val_acc=65.51%\n"
          ]
        },
        {
          "output_type": "stream",
          "name": "stderr",
          "text": []
        },
        {
          "output_type": "stream",
          "name": "stdout",
          "text": [
            "Epoch 062 | train_loss=0.8320 | val_acc=65.55%\n",
            "  → New best! Saved to teacher_2_resnet34_best.pth\n"
          ]
        },
        {
          "output_type": "stream",
          "name": "stderr",
          "text": []
        },
        {
          "output_type": "stream",
          "name": "stdout",
          "text": [
            "Epoch 063 | train_loss=0.8245 | val_acc=64.89%\n"
          ]
        },
        {
          "output_type": "stream",
          "name": "stderr",
          "text": []
        },
        {
          "output_type": "stream",
          "name": "stdout",
          "text": [
            "Epoch 064 | train_loss=0.8160 | val_acc=64.61%\n"
          ]
        },
        {
          "output_type": "stream",
          "name": "stderr",
          "text": []
        },
        {
          "output_type": "stream",
          "name": "stdout",
          "text": [
            "Epoch 065 | train_loss=0.8186 | val_acc=63.69%\n"
          ]
        },
        {
          "output_type": "stream",
          "name": "stderr",
          "text": []
        },
        {
          "output_type": "stream",
          "name": "stdout",
          "text": [
            "Epoch 066 | train_loss=0.8068 | val_acc=64.59%\n"
          ]
        },
        {
          "output_type": "stream",
          "name": "stderr",
          "text": []
        },
        {
          "output_type": "stream",
          "name": "stdout",
          "text": [
            "Epoch 067 | train_loss=0.8484 | val_acc=62.91%\n"
          ]
        },
        {
          "output_type": "stream",
          "name": "stderr",
          "text": []
        },
        {
          "output_type": "stream",
          "name": "stdout",
          "text": [
            "Epoch 068 | train_loss=0.8319 | val_acc=68.37%\n",
            "  → New best! Saved to teacher_2_resnet34_best.pth\n"
          ]
        },
        {
          "output_type": "stream",
          "name": "stderr",
          "text": []
        },
        {
          "output_type": "stream",
          "name": "stdout",
          "text": [
            "Epoch 069 | train_loss=0.7746 | val_acc=68.57%\n",
            "  → New best! Saved to teacher_2_resnet34_best.pth\n"
          ]
        },
        {
          "output_type": "stream",
          "name": "stderr",
          "text": []
        },
        {
          "output_type": "stream",
          "name": "stdout",
          "text": [
            "Epoch 070 | train_loss=0.8049 | val_acc=66.50%\n"
          ]
        },
        {
          "output_type": "stream",
          "name": "stderr",
          "text": []
        },
        {
          "output_type": "stream",
          "name": "stdout",
          "text": [
            "Epoch 071 | train_loss=0.7824 | val_acc=67.23%\n"
          ]
        },
        {
          "output_type": "stream",
          "name": "stderr",
          "text": []
        },
        {
          "output_type": "stream",
          "name": "stdout",
          "text": [
            "Epoch 072 | train_loss=0.7512 | val_acc=67.63%\n"
          ]
        },
        {
          "output_type": "stream",
          "name": "stderr",
          "text": []
        },
        {
          "output_type": "stream",
          "name": "stdout",
          "text": [
            "Epoch 073 | train_loss=0.7204 | val_acc=61.80%\n"
          ]
        },
        {
          "output_type": "stream",
          "name": "stderr",
          "text": []
        },
        {
          "output_type": "stream",
          "name": "stdout",
          "text": [
            "Epoch 074 | train_loss=0.7440 | val_acc=65.58%\n"
          ]
        },
        {
          "output_type": "stream",
          "name": "stderr",
          "text": []
        },
        {
          "output_type": "stream",
          "name": "stdout",
          "text": [
            "Epoch 075 | train_loss=0.7239 | val_acc=69.69%\n",
            "  → New best! Saved to teacher_2_resnet34_best.pth\n"
          ]
        },
        {
          "output_type": "stream",
          "name": "stderr",
          "text": []
        },
        {
          "output_type": "stream",
          "name": "stdout",
          "text": [
            "Epoch 076 | train_loss=0.7964 | val_acc=67.95%\n"
          ]
        },
        {
          "output_type": "stream",
          "name": "stderr",
          "text": []
        },
        {
          "output_type": "stream",
          "name": "stdout",
          "text": [
            "Epoch 077 | train_loss=0.7601 | val_acc=63.74%\n"
          ]
        },
        {
          "output_type": "stream",
          "name": "stderr",
          "text": []
        },
        {
          "output_type": "stream",
          "name": "stdout",
          "text": [
            "Epoch 078 | train_loss=0.7169 | val_acc=68.66%\n"
          ]
        },
        {
          "output_type": "stream",
          "name": "stderr",
          "text": []
        },
        {
          "output_type": "stream",
          "name": "stdout",
          "text": [
            "Epoch 079 | train_loss=0.6963 | val_acc=65.56%\n"
          ]
        },
        {
          "output_type": "stream",
          "name": "stderr",
          "text": []
        },
        {
          "output_type": "stream",
          "name": "stdout",
          "text": [
            "Epoch 080 | train_loss=0.6904 | val_acc=67.71%\n"
          ]
        },
        {
          "output_type": "stream",
          "name": "stderr",
          "text": []
        },
        {
          "output_type": "stream",
          "name": "stdout",
          "text": [
            "Epoch 081 | train_loss=0.7142 | val_acc=66.22%\n"
          ]
        },
        {
          "output_type": "stream",
          "name": "stderr",
          "text": []
        },
        {
          "output_type": "stream",
          "name": "stdout",
          "text": [
            "Epoch 082 | train_loss=0.7433 | val_acc=65.78%\n"
          ]
        },
        {
          "output_type": "stream",
          "name": "stderr",
          "text": []
        },
        {
          "output_type": "stream",
          "name": "stdout",
          "text": [
            "Epoch 083 | train_loss=0.7024 | val_acc=65.56%\n"
          ]
        },
        {
          "output_type": "stream",
          "name": "stderr",
          "text": []
        },
        {
          "output_type": "stream",
          "name": "stdout",
          "text": [
            "Epoch 084 | train_loss=0.6734 | val_acc=67.98%\n"
          ]
        },
        {
          "output_type": "stream",
          "name": "stderr",
          "text": []
        },
        {
          "output_type": "stream",
          "name": "stdout",
          "text": [
            "Epoch 085 | train_loss=0.7200 | val_acc=66.42%\n"
          ]
        },
        {
          "output_type": "stream",
          "name": "stderr",
          "text": []
        },
        {
          "output_type": "stream",
          "name": "stdout",
          "text": [
            "Epoch 086 | train_loss=0.7219 | val_acc=68.37%\n"
          ]
        },
        {
          "output_type": "stream",
          "name": "stderr",
          "text": []
        },
        {
          "output_type": "stream",
          "name": "stdout",
          "text": [
            "Epoch 087 | train_loss=0.6584 | val_acc=68.88%\n"
          ]
        },
        {
          "output_type": "stream",
          "name": "stderr",
          "text": []
        },
        {
          "output_type": "stream",
          "name": "stdout",
          "text": [
            "Epoch 088 | train_loss=0.6603 | val_acc=63.15%\n"
          ]
        },
        {
          "output_type": "stream",
          "name": "stderr",
          "text": []
        },
        {
          "output_type": "stream",
          "name": "stdout",
          "text": [
            "Epoch 089 | train_loss=0.6855 | val_acc=67.67%\n"
          ]
        },
        {
          "output_type": "stream",
          "name": "stderr",
          "text": []
        },
        {
          "output_type": "stream",
          "name": "stdout",
          "text": [
            "Epoch 090 | train_loss=0.6541 | val_acc=70.93%\n",
            "  → New best! Saved to teacher_2_resnet34_best.pth\n"
          ]
        },
        {
          "output_type": "stream",
          "name": "stderr",
          "text": []
        },
        {
          "output_type": "stream",
          "name": "stdout",
          "text": [
            "Epoch 091 | train_loss=0.6482 | val_acc=69.08%\n"
          ]
        },
        {
          "output_type": "stream",
          "name": "stderr",
          "text": []
        },
        {
          "output_type": "stream",
          "name": "stdout",
          "text": [
            "Epoch 092 | train_loss=0.6294 | val_acc=69.96%\n"
          ]
        },
        {
          "output_type": "stream",
          "name": "stderr",
          "text": []
        },
        {
          "output_type": "stream",
          "name": "stdout",
          "text": [
            "Epoch 093 | train_loss=0.6464 | val_acc=68.01%\n"
          ]
        },
        {
          "output_type": "stream",
          "name": "stderr",
          "text": []
        },
        {
          "output_type": "stream",
          "name": "stdout",
          "text": [
            "Epoch 094 | train_loss=0.6546 | val_acc=64.93%\n"
          ]
        },
        {
          "output_type": "stream",
          "name": "stderr",
          "text": []
        },
        {
          "output_type": "stream",
          "name": "stdout",
          "text": [
            "Epoch 095 | train_loss=0.6736 | val_acc=67.65%\n"
          ]
        },
        {
          "output_type": "stream",
          "name": "stderr",
          "text": []
        },
        {
          "output_type": "stream",
          "name": "stdout",
          "text": [
            "Epoch 096 | train_loss=0.6572 | val_acc=65.78%\n"
          ]
        },
        {
          "output_type": "stream",
          "name": "stderr",
          "text": []
        },
        {
          "output_type": "stream",
          "name": "stdout",
          "text": [
            "Epoch 097 | train_loss=0.6793 | val_acc=70.07%\n"
          ]
        },
        {
          "output_type": "stream",
          "name": "stderr",
          "text": []
        },
        {
          "output_type": "stream",
          "name": "stdout",
          "text": [
            "Epoch 098 | train_loss=0.6395 | val_acc=69.52%\n"
          ]
        },
        {
          "output_type": "stream",
          "name": "stderr",
          "text": []
        },
        {
          "output_type": "stream",
          "name": "stdout",
          "text": [
            "Epoch 099 | train_loss=0.6169 | val_acc=69.46%\n"
          ]
        },
        {
          "output_type": "stream",
          "name": "stderr",
          "text": []
        },
        {
          "output_type": "stream",
          "name": "stdout",
          "text": [
            "Epoch 100 | train_loss=0.6089 | val_acc=68.83%\n"
          ]
        },
        {
          "output_type": "stream",
          "name": "stderr",
          "text": []
        },
        {
          "output_type": "stream",
          "name": "stdout",
          "text": [
            "Epoch 101 | train_loss=0.4495 | val_acc=75.47%\n",
            "  → New best! Saved to teacher_2_resnet34_best.pth\n"
          ]
        },
        {
          "output_type": "stream",
          "name": "stderr",
          "text": []
        },
        {
          "output_type": "stream",
          "name": "stdout",
          "text": [
            "Epoch 102 | train_loss=0.3589 | val_acc=76.52%\n",
            "  → New best! Saved to teacher_2_resnet34_best.pth\n"
          ]
        },
        {
          "output_type": "stream",
          "name": "stderr",
          "text": []
        },
        {
          "output_type": "stream",
          "name": "stdout",
          "text": [
            "Epoch 103 | train_loss=0.3313 | val_acc=76.06%\n"
          ]
        },
        {
          "output_type": "stream",
          "name": "stderr",
          "text": []
        },
        {
          "output_type": "stream",
          "name": "stdout",
          "text": [
            "Epoch 104 | train_loss=0.3095 | val_acc=76.08%\n"
          ]
        },
        {
          "output_type": "stream",
          "name": "stderr",
          "text": []
        },
        {
          "output_type": "stream",
          "name": "stdout",
          "text": [
            "Epoch 105 | train_loss=0.2840 | val_acc=76.41%\n"
          ]
        },
        {
          "output_type": "stream",
          "name": "stderr",
          "text": []
        },
        {
          "output_type": "stream",
          "name": "stdout",
          "text": [
            "Epoch 106 | train_loss=0.2924 | val_acc=76.35%\n"
          ]
        },
        {
          "output_type": "stream",
          "name": "stderr",
          "text": []
        },
        {
          "output_type": "stream",
          "name": "stdout",
          "text": [
            "Epoch 107 | train_loss=0.2647 | val_acc=76.46%\n"
          ]
        },
        {
          "output_type": "stream",
          "name": "stderr",
          "text": []
        },
        {
          "output_type": "stream",
          "name": "stdout",
          "text": [
            "Epoch 108 | train_loss=0.2618 | val_acc=76.60%\n",
            "  → New best! Saved to teacher_2_resnet34_best.pth\n"
          ]
        },
        {
          "output_type": "stream",
          "name": "stderr",
          "text": []
        },
        {
          "output_type": "stream",
          "name": "stdout",
          "text": [
            "Epoch 109 | train_loss=0.2471 | val_acc=76.46%\n"
          ]
        },
        {
          "output_type": "stream",
          "name": "stderr",
          "text": []
        },
        {
          "output_type": "stream",
          "name": "stdout",
          "text": [
            "Epoch 110 | train_loss=0.2318 | val_acc=76.50%\n"
          ]
        },
        {
          "output_type": "stream",
          "name": "stderr",
          "text": []
        },
        {
          "output_type": "stream",
          "name": "stdout",
          "text": [
            "Epoch 111 | train_loss=0.2364 | val_acc=76.67%\n",
            "  → New best! Saved to teacher_2_resnet34_best.pth\n"
          ]
        },
        {
          "output_type": "stream",
          "name": "stderr",
          "text": []
        },
        {
          "output_type": "stream",
          "name": "stdout",
          "text": [
            "Epoch 112 | train_loss=0.2242 | val_acc=76.75%\n",
            "  → New best! Saved to teacher_2_resnet34_best.pth\n"
          ]
        },
        {
          "output_type": "stream",
          "name": "stderr",
          "text": []
        },
        {
          "output_type": "stream",
          "name": "stdout",
          "text": [
            "Epoch 113 | train_loss=0.2105 | val_acc=76.61%\n"
          ]
        },
        {
          "output_type": "stream",
          "name": "stderr",
          "text": []
        },
        {
          "output_type": "stream",
          "name": "stdout",
          "text": [
            "Epoch 114 | train_loss=0.2012 | val_acc=76.42%\n"
          ]
        },
        {
          "output_type": "stream",
          "name": "stderr",
          "text": []
        },
        {
          "output_type": "stream",
          "name": "stdout",
          "text": [
            "Epoch 115 | train_loss=0.1970 | val_acc=76.40%\n"
          ]
        },
        {
          "output_type": "stream",
          "name": "stderr",
          "text": []
        },
        {
          "output_type": "stream",
          "name": "stdout",
          "text": [
            "Epoch 116 | train_loss=0.1954 | val_acc=76.16%\n"
          ]
        },
        {
          "output_type": "stream",
          "name": "stderr",
          "text": []
        },
        {
          "output_type": "stream",
          "name": "stdout",
          "text": [
            "Epoch 117 | train_loss=0.1928 | val_acc=76.24%\n"
          ]
        },
        {
          "output_type": "stream",
          "name": "stderr",
          "text": []
        },
        {
          "output_type": "stream",
          "name": "stdout",
          "text": [
            "Epoch 118 | train_loss=0.1825 | val_acc=76.20%\n"
          ]
        },
        {
          "output_type": "stream",
          "name": "stderr",
          "text": []
        },
        {
          "output_type": "stream",
          "name": "stdout",
          "text": [
            "Epoch 119 | train_loss=0.1643 | val_acc=76.64%\n"
          ]
        },
        {
          "output_type": "stream",
          "name": "stderr",
          "text": []
        },
        {
          "output_type": "stream",
          "name": "stdout",
          "text": [
            "Epoch 120 | train_loss=0.1698 | val_acc=75.87%\n"
          ]
        },
        {
          "output_type": "stream",
          "name": "stderr",
          "text": []
        },
        {
          "output_type": "stream",
          "name": "stdout",
          "text": [
            "Epoch 121 | train_loss=0.1852 | val_acc=76.07%\n"
          ]
        },
        {
          "output_type": "stream",
          "name": "stderr",
          "text": []
        },
        {
          "output_type": "stream",
          "name": "stdout",
          "text": [
            "Epoch 122 | train_loss=0.1544 | val_acc=76.04%\n"
          ]
        },
        {
          "output_type": "stream",
          "name": "stderr",
          "text": []
        },
        {
          "output_type": "stream",
          "name": "stdout",
          "text": [
            "Epoch 123 | train_loss=0.1547 | val_acc=76.27%\n"
          ]
        },
        {
          "output_type": "stream",
          "name": "stderr",
          "text": []
        },
        {
          "output_type": "stream",
          "name": "stdout",
          "text": [
            "Epoch 124 | train_loss=0.1531 | val_acc=76.03%\n"
          ]
        },
        {
          "output_type": "stream",
          "name": "stderr",
          "text": []
        },
        {
          "output_type": "stream",
          "name": "stdout",
          "text": [
            "Epoch 125 | train_loss=0.1561 | val_acc=75.65%\n"
          ]
        },
        {
          "output_type": "stream",
          "name": "stderr",
          "text": []
        },
        {
          "output_type": "stream",
          "name": "stdout",
          "text": [
            "Epoch 126 | train_loss=0.1378 | val_acc=75.35%\n"
          ]
        },
        {
          "output_type": "stream",
          "name": "stderr",
          "text": []
        },
        {
          "output_type": "stream",
          "name": "stdout",
          "text": [
            "Epoch 127 | train_loss=0.1334 | val_acc=75.85%\n"
          ]
        },
        {
          "output_type": "stream",
          "name": "stderr",
          "text": []
        },
        {
          "output_type": "stream",
          "name": "stdout",
          "text": [
            "Epoch 128 | train_loss=0.1466 | val_acc=75.58%\n"
          ]
        },
        {
          "output_type": "stream",
          "name": "stderr",
          "text": []
        },
        {
          "output_type": "stream",
          "name": "stdout",
          "text": [
            "Epoch 129 | train_loss=0.1266 | val_acc=76.04%\n"
          ]
        },
        {
          "output_type": "stream",
          "name": "stderr",
          "text": []
        },
        {
          "output_type": "stream",
          "name": "stdout",
          "text": [
            "Epoch 130 | train_loss=0.1262 | val_acc=75.90%\n"
          ]
        },
        {
          "output_type": "stream",
          "name": "stderr",
          "text": []
        },
        {
          "output_type": "stream",
          "name": "stdout",
          "text": [
            "Epoch 131 | train_loss=0.1269 | val_acc=75.56%\n"
          ]
        },
        {
          "output_type": "stream",
          "name": "stderr",
          "text": []
        },
        {
          "output_type": "stream",
          "name": "stdout",
          "text": [
            "Epoch 132 | train_loss=0.1178 | val_acc=75.96%\n"
          ]
        },
        {
          "output_type": "stream",
          "name": "stderr",
          "text": []
        },
        {
          "output_type": "stream",
          "name": "stdout",
          "text": [
            "Epoch 133 | train_loss=0.1155 | val_acc=76.24%\n"
          ]
        },
        {
          "output_type": "stream",
          "name": "stderr",
          "text": []
        },
        {
          "output_type": "stream",
          "name": "stdout",
          "text": [
            "Epoch 134 | train_loss=0.1187 | val_acc=76.26%\n"
          ]
        },
        {
          "output_type": "stream",
          "name": "stderr",
          "text": []
        },
        {
          "output_type": "stream",
          "name": "stdout",
          "text": [
            "Epoch 135 | train_loss=0.1272 | val_acc=75.72%\n"
          ]
        },
        {
          "output_type": "stream",
          "name": "stderr",
          "text": []
        },
        {
          "output_type": "stream",
          "name": "stdout",
          "text": [
            "Epoch 136 | train_loss=0.1076 | val_acc=76.09%\n"
          ]
        },
        {
          "output_type": "stream",
          "name": "stderr",
          "text": []
        },
        {
          "output_type": "stream",
          "name": "stdout",
          "text": [
            "Epoch 137 | train_loss=0.1052 | val_acc=75.77%\n"
          ]
        },
        {
          "output_type": "stream",
          "name": "stderr",
          "text": []
        },
        {
          "output_type": "stream",
          "name": "stdout",
          "text": [
            "Epoch 138 | train_loss=0.1041 | val_acc=75.67%\n"
          ]
        },
        {
          "output_type": "stream",
          "name": "stderr",
          "text": []
        },
        {
          "output_type": "stream",
          "name": "stdout",
          "text": [
            "Epoch 139 | train_loss=0.1028 | val_acc=75.70%\n"
          ]
        },
        {
          "output_type": "stream",
          "name": "stderr",
          "text": []
        },
        {
          "output_type": "stream",
          "name": "stdout",
          "text": [
            "Epoch 140 | train_loss=0.1004 | val_acc=75.30%\n"
          ]
        },
        {
          "output_type": "stream",
          "name": "stderr",
          "text": []
        },
        {
          "output_type": "stream",
          "name": "stdout",
          "text": [
            "Epoch 141 | train_loss=0.1083 | val_acc=74.77%\n"
          ]
        },
        {
          "output_type": "stream",
          "name": "stderr",
          "text": []
        },
        {
          "output_type": "stream",
          "name": "stdout",
          "text": [
            "Epoch 142 | train_loss=0.1080 | val_acc=75.71%\n"
          ]
        },
        {
          "output_type": "stream",
          "name": "stderr",
          "text": []
        },
        {
          "output_type": "stream",
          "name": "stdout",
          "text": [
            "Epoch 143 | train_loss=0.0913 | val_acc=75.55%\n"
          ]
        },
        {
          "output_type": "stream",
          "name": "stderr",
          "text": []
        },
        {
          "output_type": "stream",
          "name": "stdout",
          "text": [
            "Epoch 144 | train_loss=0.1131 | val_acc=75.08%\n"
          ]
        },
        {
          "output_type": "stream",
          "name": "stderr",
          "text": []
        },
        {
          "output_type": "stream",
          "name": "stdout",
          "text": [
            "Epoch 145 | train_loss=0.0903 | val_acc=75.77%\n"
          ]
        },
        {
          "output_type": "stream",
          "name": "stderr",
          "text": []
        },
        {
          "output_type": "stream",
          "name": "stdout",
          "text": [
            "Epoch 146 | train_loss=0.0960 | val_acc=75.51%\n"
          ]
        },
        {
          "output_type": "stream",
          "name": "stderr",
          "text": []
        },
        {
          "output_type": "stream",
          "name": "stdout",
          "text": [
            "Epoch 147 | train_loss=0.1193 | val_acc=76.05%\n"
          ]
        },
        {
          "output_type": "stream",
          "name": "stderr",
          "text": []
        },
        {
          "output_type": "stream",
          "name": "stdout",
          "text": [
            "Epoch 148 | train_loss=0.1347 | val_acc=76.17%\n"
          ]
        },
        {
          "output_type": "stream",
          "name": "stderr",
          "text": []
        },
        {
          "output_type": "stream",
          "name": "stdout",
          "text": [
            "Epoch 149 | train_loss=0.0984 | val_acc=75.81%\n"
          ]
        },
        {
          "output_type": "stream",
          "name": "stderr",
          "text": []
        },
        {
          "output_type": "stream",
          "name": "stdout",
          "text": [
            "Epoch 150 | train_loss=0.0883 | val_acc=75.41%\n"
          ]
        },
        {
          "output_type": "stream",
          "name": "stderr",
          "text": []
        },
        {
          "output_type": "stream",
          "name": "stdout",
          "text": [
            "Epoch 151 | train_loss=0.0789 | val_acc=76.21%\n"
          ]
        },
        {
          "output_type": "stream",
          "name": "stderr",
          "text": []
        },
        {
          "output_type": "stream",
          "name": "stdout",
          "text": [
            "Epoch 152 | train_loss=0.0670 | val_acc=76.34%\n"
          ]
        },
        {
          "output_type": "stream",
          "name": "stderr",
          "text": []
        },
        {
          "output_type": "stream",
          "name": "stdout",
          "text": [
            "Epoch 153 | train_loss=0.0604 | val_acc=76.28%\n"
          ]
        },
        {
          "output_type": "stream",
          "name": "stderr",
          "text": []
        },
        {
          "output_type": "stream",
          "name": "stdout",
          "text": [
            "Epoch 154 | train_loss=0.0590 | val_acc=76.07%\n"
          ]
        },
        {
          "output_type": "stream",
          "name": "stderr",
          "text": []
        },
        {
          "output_type": "stream",
          "name": "stdout",
          "text": [
            "Epoch 155 | train_loss=0.0526 | val_acc=76.41%\n"
          ]
        },
        {
          "output_type": "stream",
          "name": "stderr",
          "text": []
        },
        {
          "output_type": "stream",
          "name": "stdout",
          "text": [
            "Epoch 156 | train_loss=0.0575 | val_acc=76.34%\n"
          ]
        },
        {
          "output_type": "stream",
          "name": "stderr",
          "text": []
        },
        {
          "output_type": "stream",
          "name": "stdout",
          "text": [
            "Epoch 157 | train_loss=0.0533 | val_acc=76.41%\n"
          ]
        },
        {
          "output_type": "stream",
          "name": "stderr",
          "text": []
        },
        {
          "output_type": "stream",
          "name": "stdout",
          "text": [
            "Epoch 158 | train_loss=0.0516 | val_acc=76.40%\n"
          ]
        },
        {
          "output_type": "stream",
          "name": "stderr",
          "text": []
        },
        {
          "output_type": "stream",
          "name": "stdout",
          "text": [
            "Epoch 159 | train_loss=0.0508 | val_acc=76.37%\n"
          ]
        },
        {
          "output_type": "stream",
          "name": "stderr",
          "text": []
        },
        {
          "output_type": "stream",
          "name": "stdout",
          "text": [
            "Epoch 160 | train_loss=0.0496 | val_acc=76.42%\n"
          ]
        },
        {
          "output_type": "stream",
          "name": "stderr",
          "text": []
        },
        {
          "output_type": "stream",
          "name": "stdout",
          "text": [
            "Epoch 161 | train_loss=0.0478 | val_acc=76.46%\n"
          ]
        },
        {
          "output_type": "stream",
          "name": "stderr",
          "text": []
        },
        {
          "output_type": "stream",
          "name": "stdout",
          "text": [
            "Epoch 162 | train_loss=0.0458 | val_acc=76.65%\n"
          ]
        },
        {
          "output_type": "stream",
          "name": "stderr",
          "text": []
        },
        {
          "output_type": "stream",
          "name": "stdout",
          "text": [
            "Epoch 163 | train_loss=0.0457 | val_acc=76.55%\n"
          ]
        },
        {
          "output_type": "stream",
          "name": "stderr",
          "text": []
        },
        {
          "output_type": "stream",
          "name": "stdout",
          "text": [
            "Epoch 164 | train_loss=0.0484 | val_acc=76.72%\n"
          ]
        },
        {
          "output_type": "stream",
          "name": "stderr",
          "text": []
        },
        {
          "output_type": "stream",
          "name": "stdout",
          "text": [
            "Epoch 165 | train_loss=0.0474 | val_acc=76.38%\n"
          ]
        },
        {
          "output_type": "stream",
          "name": "stderr",
          "text": []
        },
        {
          "output_type": "stream",
          "name": "stdout",
          "text": [
            "Epoch 166 | train_loss=0.0440 | val_acc=76.57%\n"
          ]
        },
        {
          "output_type": "stream",
          "name": "stderr",
          "text": []
        },
        {
          "output_type": "stream",
          "name": "stdout",
          "text": [
            "Epoch 167 | train_loss=0.0420 | val_acc=76.40%\n"
          ]
        },
        {
          "output_type": "stream",
          "name": "stderr",
          "text": []
        },
        {
          "output_type": "stream",
          "name": "stdout",
          "text": [
            "Epoch 168 | train_loss=0.0400 | val_acc=76.59%\n"
          ]
        },
        {
          "output_type": "stream",
          "name": "stderr",
          "text": []
        },
        {
          "output_type": "stream",
          "name": "stdout",
          "text": [
            "Epoch 169 | train_loss=0.0435 | val_acc=76.65%\n"
          ]
        },
        {
          "output_type": "stream",
          "name": "stderr",
          "text": []
        },
        {
          "output_type": "stream",
          "name": "stdout",
          "text": [
            "Epoch 170 | train_loss=0.0414 | val_acc=76.28%\n"
          ]
        },
        {
          "output_type": "stream",
          "name": "stderr",
          "text": []
        },
        {
          "output_type": "stream",
          "name": "stdout",
          "text": [
            "Epoch 171 | train_loss=0.0417 | val_acc=76.51%\n"
          ]
        },
        {
          "output_type": "stream",
          "name": "stderr",
          "text": []
        },
        {
          "output_type": "stream",
          "name": "stdout",
          "text": [
            "Epoch 172 | train_loss=0.0442 | val_acc=76.59%\n"
          ]
        },
        {
          "output_type": "stream",
          "name": "stderr",
          "text": []
        },
        {
          "output_type": "stream",
          "name": "stdout",
          "text": [
            "Epoch 173 | train_loss=0.0383 | val_acc=76.77%\n",
            "  → New best! Saved to teacher_2_resnet34_best.pth\n"
          ]
        },
        {
          "output_type": "stream",
          "name": "stderr",
          "text": []
        },
        {
          "output_type": "stream",
          "name": "stdout",
          "text": [
            "Epoch 174 | train_loss=0.0382 | val_acc=76.43%\n"
          ]
        },
        {
          "output_type": "stream",
          "name": "stderr",
          "text": []
        },
        {
          "output_type": "stream",
          "name": "stdout",
          "text": [
            "Epoch 175 | train_loss=0.0374 | val_acc=76.60%\n"
          ]
        },
        {
          "output_type": "stream",
          "name": "stderr",
          "text": []
        },
        {
          "output_type": "stream",
          "name": "stdout",
          "text": [
            "Epoch 176 | train_loss=0.0368 | val_acc=76.49%\n"
          ]
        },
        {
          "output_type": "stream",
          "name": "stderr",
          "text": []
        },
        {
          "output_type": "stream",
          "name": "stdout",
          "text": [
            "Epoch 177 | train_loss=0.0393 | val_acc=76.50%\n"
          ]
        },
        {
          "output_type": "stream",
          "name": "stderr",
          "text": []
        },
        {
          "output_type": "stream",
          "name": "stdout",
          "text": [
            "Epoch 178 | train_loss=0.0388 | val_acc=76.50%\n"
          ]
        },
        {
          "output_type": "stream",
          "name": "stderr",
          "text": []
        },
        {
          "output_type": "stream",
          "name": "stdout",
          "text": [
            "Epoch 179 | train_loss=0.0356 | val_acc=76.62%\n"
          ]
        },
        {
          "output_type": "stream",
          "name": "stderr",
          "text": []
        },
        {
          "output_type": "stream",
          "name": "stdout",
          "text": [
            "Epoch 180 | train_loss=0.0402 | val_acc=76.57%\n"
          ]
        },
        {
          "output_type": "stream",
          "name": "stderr",
          "text": []
        },
        {
          "output_type": "stream",
          "name": "stdout",
          "text": [
            "Epoch 181 | train_loss=0.0359 | val_acc=76.78%\n",
            "  → New best! Saved to teacher_2_resnet34_best.pth\n"
          ]
        },
        {
          "output_type": "stream",
          "name": "stderr",
          "text": []
        },
        {
          "output_type": "stream",
          "name": "stdout",
          "text": [
            "Epoch 182 | train_loss=0.0330 | val_acc=76.65%\n"
          ]
        },
        {
          "output_type": "stream",
          "name": "stderr",
          "text": []
        },
        {
          "output_type": "stream",
          "name": "stdout",
          "text": [
            "Epoch 183 | train_loss=0.0357 | val_acc=76.64%\n"
          ]
        },
        {
          "output_type": "stream",
          "name": "stderr",
          "text": []
        },
        {
          "output_type": "stream",
          "name": "stdout",
          "text": [
            "Epoch 184 | train_loss=0.0329 | val_acc=76.68%\n"
          ]
        },
        {
          "output_type": "stream",
          "name": "stderr",
          "text": []
        },
        {
          "output_type": "stream",
          "name": "stdout",
          "text": [
            "Epoch 185 | train_loss=0.0335 | val_acc=76.90%\n",
            "  → New best! Saved to teacher_2_resnet34_best.pth\n"
          ]
        },
        {
          "output_type": "stream",
          "name": "stderr",
          "text": []
        },
        {
          "output_type": "stream",
          "name": "stdout",
          "text": [
            "Epoch 186 | train_loss=0.0329 | val_acc=76.48%\n"
          ]
        },
        {
          "output_type": "stream",
          "name": "stderr",
          "text": []
        },
        {
          "output_type": "stream",
          "name": "stdout",
          "text": [
            "Epoch 187 | train_loss=0.0333 | val_acc=76.64%\n"
          ]
        },
        {
          "output_type": "stream",
          "name": "stderr",
          "text": []
        },
        {
          "output_type": "stream",
          "name": "stdout",
          "text": [
            "Epoch 188 | train_loss=0.0322 | val_acc=76.56%\n"
          ]
        },
        {
          "output_type": "stream",
          "name": "stderr",
          "text": []
        },
        {
          "output_type": "stream",
          "name": "stdout",
          "text": [
            "Epoch 189 | train_loss=0.0318 | val_acc=76.60%\n"
          ]
        },
        {
          "output_type": "stream",
          "name": "stderr",
          "text": []
        },
        {
          "output_type": "stream",
          "name": "stdout",
          "text": [
            "Epoch 190 | train_loss=0.0335 | val_acc=76.64%\n"
          ]
        },
        {
          "output_type": "stream",
          "name": "stderr",
          "text": []
        },
        {
          "output_type": "stream",
          "name": "stdout",
          "text": [
            "Epoch 191 | train_loss=0.0329 | val_acc=76.71%\n"
          ]
        },
        {
          "output_type": "stream",
          "name": "stderr",
          "text": []
        },
        {
          "output_type": "stream",
          "name": "stdout",
          "text": [
            "Epoch 192 | train_loss=0.0329 | val_acc=76.59%\n"
          ]
        },
        {
          "output_type": "stream",
          "name": "stderr",
          "text": []
        },
        {
          "output_type": "stream",
          "name": "stdout",
          "text": [
            "Epoch 193 | train_loss=0.0339 | val_acc=76.40%\n"
          ]
        },
        {
          "output_type": "stream",
          "name": "stderr",
          "text": []
        },
        {
          "output_type": "stream",
          "name": "stdout",
          "text": [
            "Epoch 194 | train_loss=0.0328 | val_acc=76.36%\n"
          ]
        },
        {
          "output_type": "stream",
          "name": "stderr",
          "text": []
        },
        {
          "output_type": "stream",
          "name": "stdout",
          "text": [
            "Epoch 195 | train_loss=0.0299 | val_acc=76.35%\n"
          ]
        },
        {
          "output_type": "stream",
          "name": "stderr",
          "text": []
        },
        {
          "output_type": "stream",
          "name": "stdout",
          "text": [
            "Epoch 196 | train_loss=0.0317 | val_acc=76.41%\n"
          ]
        },
        {
          "output_type": "stream",
          "name": "stderr",
          "text": []
        },
        {
          "output_type": "stream",
          "name": "stdout",
          "text": [
            "Epoch 197 | train_loss=0.0304 | val_acc=76.42%\n"
          ]
        },
        {
          "output_type": "stream",
          "name": "stderr",
          "text": []
        },
        {
          "output_type": "stream",
          "name": "stdout",
          "text": [
            "Epoch 198 | train_loss=0.0300 | val_acc=76.51%\n"
          ]
        },
        {
          "output_type": "stream",
          "name": "stderr",
          "text": []
        },
        {
          "output_type": "stream",
          "name": "stdout",
          "text": [
            "Epoch 199 | train_loss=0.0288 | val_acc=76.36%\n"
          ]
        },
        {
          "output_type": "stream",
          "name": "stderr",
          "text": []
        },
        {
          "output_type": "stream",
          "name": "stdout",
          "text": [
            "Epoch 200 | train_loss=0.0305 | val_acc=76.41%\n",
            "Teacher #2 (resnet34) best validation accuracy: 76.90%\n",
            "\n",
            "=== Training teacher #3 ===\n"
          ]
        },
        {
          "output_type": "stream",
          "name": "stderr",
          "text": []
        },
        {
          "output_type": "stream",
          "name": "stdout",
          "text": [
            "Epoch 001 | train_loss=12.9814 | val_acc=13.14%\n",
            "  → New best! Saved to teacher_3_resnet50_best.pth\n"
          ]
        },
        {
          "output_type": "stream",
          "name": "stderr",
          "text": []
        },
        {
          "output_type": "stream",
          "name": "stdout",
          "text": [
            "Epoch 002 | train_loss=4.1827 | val_acc=10.00%\n"
          ]
        },
        {
          "output_type": "stream",
          "name": "stderr",
          "text": []
        },
        {
          "output_type": "stream",
          "name": "stdout",
          "text": [
            "Epoch 003 | train_loss=3.7260 | val_acc=18.88%\n",
            "  → New best! Saved to teacher_3_resnet50_best.pth\n"
          ]
        },
        {
          "output_type": "stream",
          "name": "stderr",
          "text": []
        },
        {
          "output_type": "stream",
          "name": "stdout",
          "text": [
            "Epoch 004 | train_loss=2.2162 | val_acc=19.36%\n",
            "  → New best! Saved to teacher_3_resnet50_best.pth\n"
          ]
        },
        {
          "output_type": "stream",
          "name": "stderr",
          "text": []
        },
        {
          "output_type": "stream",
          "name": "stdout",
          "text": [
            "Epoch 005 | train_loss=2.2481 | val_acc=16.57%\n"
          ]
        },
        {
          "output_type": "stream",
          "name": "stderr",
          "text": []
        },
        {
          "output_type": "stream",
          "name": "stdout",
          "text": [
            "Epoch 006 | train_loss=2.1873 | val_acc=16.94%\n"
          ]
        },
        {
          "output_type": "stream",
          "name": "stderr",
          "text": []
        },
        {
          "output_type": "stream",
          "name": "stdout",
          "text": [
            "Epoch 007 | train_loss=2.1527 | val_acc=17.34%\n"
          ]
        },
        {
          "output_type": "stream",
          "name": "stderr",
          "text": []
        },
        {
          "output_type": "stream",
          "name": "stdout",
          "text": [
            "Epoch 008 | train_loss=2.1262 | val_acc=20.24%\n",
            "  → New best! Saved to teacher_3_resnet50_best.pth\n"
          ]
        },
        {
          "output_type": "stream",
          "name": "stderr",
          "text": []
        },
        {
          "output_type": "stream",
          "name": "stdout",
          "text": [
            "Epoch 009 | train_loss=2.1089 | val_acc=20.46%\n",
            "  → New best! Saved to teacher_3_resnet50_best.pth\n"
          ]
        },
        {
          "output_type": "stream",
          "name": "stderr",
          "text": []
        },
        {
          "output_type": "stream",
          "name": "stdout",
          "text": [
            "Epoch 010 | train_loss=2.0929 | val_acc=23.07%\n",
            "  → New best! Saved to teacher_3_resnet50_best.pth\n"
          ]
        },
        {
          "output_type": "stream",
          "name": "stderr",
          "text": []
        },
        {
          "output_type": "stream",
          "name": "stdout",
          "text": [
            "Epoch 011 | train_loss=2.0820 | val_acc=22.26%\n"
          ]
        },
        {
          "output_type": "stream",
          "name": "stderr",
          "text": []
        },
        {
          "output_type": "stream",
          "name": "stdout",
          "text": [
            "Epoch 012 | train_loss=2.0693 | val_acc=23.99%\n",
            "  → New best! Saved to teacher_3_resnet50_best.pth\n"
          ]
        },
        {
          "output_type": "stream",
          "name": "stderr",
          "text": []
        },
        {
          "output_type": "stream",
          "name": "stdout",
          "text": [
            "Epoch 013 | train_loss=2.0467 | val_acc=21.82%\n"
          ]
        },
        {
          "output_type": "stream",
          "name": "stderr",
          "text": []
        },
        {
          "output_type": "stream",
          "name": "stdout",
          "text": [
            "Epoch 014 | train_loss=2.0377 | val_acc=19.75%\n"
          ]
        },
        {
          "output_type": "stream",
          "name": "stderr",
          "text": []
        },
        {
          "output_type": "stream",
          "name": "stdout",
          "text": [
            "Epoch 015 | train_loss=2.1576 | val_acc=21.35%\n"
          ]
        },
        {
          "output_type": "stream",
          "name": "stderr",
          "text": []
        },
        {
          "output_type": "stream",
          "name": "stdout",
          "text": [
            "Epoch 016 | train_loss=2.0813 | val_acc=23.96%\n"
          ]
        },
        {
          "output_type": "stream",
          "name": "stderr",
          "text": []
        },
        {
          "output_type": "stream",
          "name": "stdout",
          "text": [
            "Epoch 017 | train_loss=2.0537 | val_acc=24.51%\n",
            "  → New best! Saved to teacher_3_resnet50_best.pth\n"
          ]
        },
        {
          "output_type": "stream",
          "name": "stderr",
          "text": []
        },
        {
          "output_type": "stream",
          "name": "stdout",
          "text": [
            "Epoch 018 | train_loss=2.0308 | val_acc=25.62%\n",
            "  → New best! Saved to teacher_3_resnet50_best.pth\n"
          ]
        },
        {
          "output_type": "stream",
          "name": "stderr",
          "text": []
        },
        {
          "output_type": "stream",
          "name": "stdout",
          "text": [
            "Epoch 019 | train_loss=2.0420 | val_acc=25.93%\n",
            "  → New best! Saved to teacher_3_resnet50_best.pth\n"
          ]
        },
        {
          "output_type": "stream",
          "name": "stderr",
          "text": []
        },
        {
          "output_type": "stream",
          "name": "stdout",
          "text": [
            "Epoch 020 | train_loss=2.0016 | val_acc=26.69%\n",
            "  → New best! Saved to teacher_3_resnet50_best.pth\n"
          ]
        },
        {
          "output_type": "stream",
          "name": "stderr",
          "text": []
        },
        {
          "output_type": "stream",
          "name": "stdout",
          "text": [
            "Epoch 021 | train_loss=1.9852 | val_acc=26.59%\n"
          ]
        },
        {
          "output_type": "stream",
          "name": "stderr",
          "text": []
        },
        {
          "output_type": "stream",
          "name": "stdout",
          "text": [
            "Epoch 022 | train_loss=1.9572 | val_acc=28.00%\n",
            "  → New best! Saved to teacher_3_resnet50_best.pth\n"
          ]
        },
        {
          "output_type": "stream",
          "name": "stderr",
          "text": []
        },
        {
          "output_type": "stream",
          "name": "stdout",
          "text": [
            "Epoch 023 | train_loss=1.9439 | val_acc=28.86%\n",
            "  → New best! Saved to teacher_3_resnet50_best.pth\n"
          ]
        },
        {
          "output_type": "stream",
          "name": "stderr",
          "text": []
        },
        {
          "output_type": "stream",
          "name": "stdout",
          "text": [
            "Epoch 024 | train_loss=1.9194 | val_acc=26.77%\n"
          ]
        },
        {
          "output_type": "stream",
          "name": "stderr",
          "text": []
        },
        {
          "output_type": "stream",
          "name": "stdout",
          "text": [
            "Epoch 025 | train_loss=1.9023 | val_acc=30.43%\n",
            "  → New best! Saved to teacher_3_resnet50_best.pth\n"
          ]
        },
        {
          "output_type": "stream",
          "name": "stderr",
          "text": []
        },
        {
          "output_type": "stream",
          "name": "stdout",
          "text": [
            "Epoch 026 | train_loss=1.8775 | val_acc=31.24%\n",
            "  → New best! Saved to teacher_3_resnet50_best.pth\n"
          ]
        },
        {
          "output_type": "stream",
          "name": "stderr",
          "text": []
        },
        {
          "output_type": "stream",
          "name": "stdout",
          "text": [
            "Epoch 027 | train_loss=1.8638 | val_acc=29.31%\n"
          ]
        },
        {
          "output_type": "stream",
          "name": "stderr",
          "text": []
        },
        {
          "output_type": "stream",
          "name": "stdout",
          "text": [
            "Epoch 028 | train_loss=1.8466 | val_acc=32.16%\n",
            "  → New best! Saved to teacher_3_resnet50_best.pth\n"
          ]
        },
        {
          "output_type": "stream",
          "name": "stderr",
          "text": []
        },
        {
          "output_type": "stream",
          "name": "stdout",
          "text": [
            "Epoch 029 | train_loss=1.8261 | val_acc=31.04%\n"
          ]
        },
        {
          "output_type": "stream",
          "name": "stderr",
          "text": []
        },
        {
          "output_type": "stream",
          "name": "stdout",
          "text": [
            "Epoch 030 | train_loss=1.8037 | val_acc=33.30%\n",
            "  → New best! Saved to teacher_3_resnet50_best.pth\n"
          ]
        },
        {
          "output_type": "stream",
          "name": "stderr",
          "text": []
        },
        {
          "output_type": "stream",
          "name": "stdout",
          "text": [
            "Epoch 031 | train_loss=1.7919 | val_acc=33.15%\n"
          ]
        },
        {
          "output_type": "stream",
          "name": "stderr",
          "text": []
        },
        {
          "output_type": "stream",
          "name": "stdout",
          "text": [
            "Epoch 032 | train_loss=1.7917 | val_acc=34.55%\n",
            "  → New best! Saved to teacher_3_resnet50_best.pth\n"
          ]
        },
        {
          "output_type": "stream",
          "name": "stderr",
          "text": []
        },
        {
          "output_type": "stream",
          "name": "stdout",
          "text": [
            "Epoch 033 | train_loss=1.7455 | val_acc=31.05%\n"
          ]
        },
        {
          "output_type": "stream",
          "name": "stderr",
          "text": []
        },
        {
          "output_type": "stream",
          "name": "stdout",
          "text": [
            "Epoch 034 | train_loss=1.7413 | val_acc=34.45%\n"
          ]
        },
        {
          "output_type": "stream",
          "name": "stderr",
          "text": []
        },
        {
          "output_type": "stream",
          "name": "stdout",
          "text": [
            "Epoch 035 | train_loss=1.7374 | val_acc=25.64%\n"
          ]
        },
        {
          "output_type": "stream",
          "name": "stderr",
          "text": []
        },
        {
          "output_type": "stream",
          "name": "stdout",
          "text": [
            "Epoch 036 | train_loss=1.8837 | val_acc=27.44%\n"
          ]
        },
        {
          "output_type": "stream",
          "name": "stderr",
          "text": []
        },
        {
          "output_type": "stream",
          "name": "stdout",
          "text": [
            "Epoch 037 | train_loss=1.8019 | val_acc=33.71%\n"
          ]
        },
        {
          "output_type": "stream",
          "name": "stderr",
          "text": []
        },
        {
          "output_type": "stream",
          "name": "stdout",
          "text": [
            "Epoch 038 | train_loss=1.7441 | val_acc=29.12%\n"
          ]
        },
        {
          "output_type": "stream",
          "name": "stderr",
          "text": []
        },
        {
          "output_type": "stream",
          "name": "stdout",
          "text": [
            "Epoch 039 | train_loss=1.7334 | val_acc=33.91%\n"
          ]
        },
        {
          "output_type": "stream",
          "name": "stderr",
          "text": []
        },
        {
          "output_type": "stream",
          "name": "stdout",
          "text": [
            "Epoch 040 | train_loss=1.6946 | val_acc=36.90%\n",
            "  → New best! Saved to teacher_3_resnet50_best.pth\n"
          ]
        },
        {
          "output_type": "stream",
          "name": "stderr",
          "text": []
        },
        {
          "output_type": "stream",
          "name": "stdout",
          "text": [
            "Epoch 041 | train_loss=1.6644 | val_acc=36.71%\n"
          ]
        },
        {
          "output_type": "stream",
          "name": "stderr",
          "text": []
        },
        {
          "output_type": "stream",
          "name": "stdout",
          "text": [
            "Epoch 042 | train_loss=1.6488 | val_acc=40.54%\n",
            "  → New best! Saved to teacher_3_resnet50_best.pth\n"
          ]
        },
        {
          "output_type": "stream",
          "name": "stderr",
          "text": []
        },
        {
          "output_type": "stream",
          "name": "stdout",
          "text": [
            "Epoch 043 | train_loss=1.6348 | val_acc=39.09%\n"
          ]
        },
        {
          "output_type": "stream",
          "name": "stderr",
          "text": []
        },
        {
          "output_type": "stream",
          "name": "stdout",
          "text": [
            "Epoch 044 | train_loss=1.6007 | val_acc=32.62%\n"
          ]
        },
        {
          "output_type": "stream",
          "name": "stderr",
          "text": []
        },
        {
          "output_type": "stream",
          "name": "stdout",
          "text": [
            "Epoch 045 | train_loss=1.5948 | val_acc=43.90%\n",
            "  → New best! Saved to teacher_3_resnet50_best.pth\n"
          ]
        },
        {
          "output_type": "stream",
          "name": "stderr",
          "text": []
        },
        {
          "output_type": "stream",
          "name": "stdout",
          "text": [
            "Epoch 046 | train_loss=1.5812 | val_acc=35.73%\n"
          ]
        },
        {
          "output_type": "stream",
          "name": "stderr",
          "text": []
        },
        {
          "output_type": "stream",
          "name": "stdout",
          "text": [
            "Epoch 047 | train_loss=1.5590 | val_acc=42.33%\n"
          ]
        },
        {
          "output_type": "stream",
          "name": "stderr",
          "text": []
        },
        {
          "output_type": "stream",
          "name": "stdout",
          "text": [
            "Epoch 048 | train_loss=1.5652 | val_acc=43.55%\n"
          ]
        },
        {
          "output_type": "stream",
          "name": "stderr",
          "text": []
        },
        {
          "output_type": "stream",
          "name": "stdout",
          "text": [
            "Epoch 049 | train_loss=1.5366 | val_acc=42.46%\n"
          ]
        },
        {
          "output_type": "stream",
          "name": "stderr",
          "text": []
        },
        {
          "output_type": "stream",
          "name": "stdout",
          "text": [
            "Epoch 050 | train_loss=1.5254 | val_acc=45.45%\n",
            "  → New best! Saved to teacher_3_resnet50_best.pth\n"
          ]
        },
        {
          "output_type": "stream",
          "name": "stderr",
          "text": []
        },
        {
          "output_type": "stream",
          "name": "stdout",
          "text": [
            "Epoch 051 | train_loss=1.5296 | val_acc=36.77%\n"
          ]
        },
        {
          "output_type": "stream",
          "name": "stderr",
          "text": []
        },
        {
          "output_type": "stream",
          "name": "stdout",
          "text": [
            "Epoch 052 | train_loss=1.5071 | val_acc=41.54%\n"
          ]
        },
        {
          "output_type": "stream",
          "name": "stderr",
          "text": []
        },
        {
          "output_type": "stream",
          "name": "stdout",
          "text": [
            "Epoch 053 | train_loss=1.4982 | val_acc=44.46%\n"
          ]
        },
        {
          "output_type": "stream",
          "name": "stderr",
          "text": []
        },
        {
          "output_type": "stream",
          "name": "stdout",
          "text": [
            "Epoch 054 | train_loss=1.4762 | val_acc=45.46%\n",
            "  → New best! Saved to teacher_3_resnet50_best.pth\n"
          ]
        },
        {
          "output_type": "stream",
          "name": "stderr",
          "text": []
        },
        {
          "output_type": "stream",
          "name": "stdout",
          "text": [
            "Epoch 055 | train_loss=1.4753 | val_acc=42.68%\n"
          ]
        },
        {
          "output_type": "stream",
          "name": "stderr",
          "text": []
        },
        {
          "output_type": "stream",
          "name": "stdout",
          "text": [
            "Epoch 056 | train_loss=1.4729 | val_acc=44.06%\n"
          ]
        },
        {
          "output_type": "stream",
          "name": "stderr",
          "text": []
        },
        {
          "output_type": "stream",
          "name": "stdout",
          "text": [
            "Epoch 057 | train_loss=1.4550 | val_acc=45.11%\n"
          ]
        },
        {
          "output_type": "stream",
          "name": "stderr",
          "text": []
        },
        {
          "output_type": "stream",
          "name": "stdout",
          "text": [
            "Epoch 058 | train_loss=1.4627 | val_acc=41.93%\n"
          ]
        },
        {
          "output_type": "stream",
          "name": "stderr",
          "text": []
        },
        {
          "output_type": "stream",
          "name": "stdout",
          "text": [
            "Epoch 059 | train_loss=1.4425 | val_acc=46.72%\n",
            "  → New best! Saved to teacher_3_resnet50_best.pth\n"
          ]
        },
        {
          "output_type": "stream",
          "name": "stderr",
          "text": []
        },
        {
          "output_type": "stream",
          "name": "stdout",
          "text": [
            "Epoch 060 | train_loss=1.4454 | val_acc=41.57%\n"
          ]
        },
        {
          "output_type": "stream",
          "name": "stderr",
          "text": []
        },
        {
          "output_type": "stream",
          "name": "stdout",
          "text": [
            "Epoch 061 | train_loss=1.4247 | val_acc=47.04%\n",
            "  → New best! Saved to teacher_3_resnet50_best.pth\n"
          ]
        },
        {
          "output_type": "stream",
          "name": "stderr",
          "text": []
        },
        {
          "output_type": "stream",
          "name": "stdout",
          "text": [
            "Epoch 062 | train_loss=1.4140 | val_acc=47.61%\n",
            "  → New best! Saved to teacher_3_resnet50_best.pth\n"
          ]
        },
        {
          "output_type": "stream",
          "name": "stderr",
          "text": []
        },
        {
          "output_type": "stream",
          "name": "stdout",
          "text": [
            "Epoch 063 | train_loss=1.4200 | val_acc=46.30%\n"
          ]
        },
        {
          "output_type": "stream",
          "name": "stderr",
          "text": []
        },
        {
          "output_type": "stream",
          "name": "stdout",
          "text": [
            "Epoch 064 | train_loss=1.3970 | val_acc=47.16%\n"
          ]
        },
        {
          "output_type": "stream",
          "name": "stderr",
          "text": []
        },
        {
          "output_type": "stream",
          "name": "stdout",
          "text": [
            "Epoch 065 | train_loss=1.3699 | val_acc=49.00%\n",
            "  → New best! Saved to teacher_3_resnet50_best.pth\n"
          ]
        },
        {
          "output_type": "stream",
          "name": "stderr",
          "text": []
        },
        {
          "output_type": "stream",
          "name": "stdout",
          "text": [
            "Epoch 066 | train_loss=1.3684 | val_acc=48.15%\n"
          ]
        },
        {
          "output_type": "stream",
          "name": "stderr",
          "text": []
        },
        {
          "output_type": "stream",
          "name": "stdout",
          "text": [
            "Epoch 067 | train_loss=1.3660 | val_acc=49.92%\n",
            "  → New best! Saved to teacher_3_resnet50_best.pth\n"
          ]
        },
        {
          "output_type": "stream",
          "name": "stderr",
          "text": []
        },
        {
          "output_type": "stream",
          "name": "stdout",
          "text": [
            "Epoch 068 | train_loss=1.3558 | val_acc=48.79%\n"
          ]
        },
        {
          "output_type": "stream",
          "name": "stderr",
          "text": []
        },
        {
          "output_type": "stream",
          "name": "stdout",
          "text": [
            "Epoch 069 | train_loss=1.3482 | val_acc=46.02%\n"
          ]
        },
        {
          "output_type": "stream",
          "name": "stderr",
          "text": []
        },
        {
          "output_type": "stream",
          "name": "stdout",
          "text": [
            "Epoch 070 | train_loss=1.3386 | val_acc=49.03%\n"
          ]
        },
        {
          "output_type": "stream",
          "name": "stderr",
          "text": []
        },
        {
          "output_type": "stream",
          "name": "stdout",
          "text": [
            "Epoch 071 | train_loss=1.3345 | val_acc=48.66%\n"
          ]
        },
        {
          "output_type": "stream",
          "name": "stderr",
          "text": []
        },
        {
          "output_type": "stream",
          "name": "stdout",
          "text": [
            "Epoch 072 | train_loss=1.3002 | val_acc=50.12%\n",
            "  → New best! Saved to teacher_3_resnet50_best.pth\n"
          ]
        },
        {
          "output_type": "stream",
          "name": "stderr",
          "text": []
        },
        {
          "output_type": "stream",
          "name": "stdout",
          "text": [
            "Epoch 073 | train_loss=1.3053 | val_acc=51.99%\n",
            "  → New best! Saved to teacher_3_resnet50_best.pth\n"
          ]
        },
        {
          "output_type": "stream",
          "name": "stderr",
          "text": []
        },
        {
          "output_type": "stream",
          "name": "stdout",
          "text": [
            "Epoch 074 | train_loss=1.3178 | val_acc=49.31%\n"
          ]
        },
        {
          "output_type": "stream",
          "name": "stderr",
          "text": []
        },
        {
          "output_type": "stream",
          "name": "stdout",
          "text": [
            "Epoch 075 | train_loss=1.2886 | val_acc=48.99%\n"
          ]
        },
        {
          "output_type": "stream",
          "name": "stderr",
          "text": []
        },
        {
          "output_type": "stream",
          "name": "stdout",
          "text": [
            "Epoch 076 | train_loss=1.2843 | val_acc=53.98%\n",
            "  → New best! Saved to teacher_3_resnet50_best.pth\n"
          ]
        },
        {
          "output_type": "stream",
          "name": "stderr",
          "text": []
        },
        {
          "output_type": "stream",
          "name": "stdout",
          "text": [
            "Epoch 077 | train_loss=1.2791 | val_acc=51.16%\n"
          ]
        },
        {
          "output_type": "stream",
          "name": "stderr",
          "text": []
        },
        {
          "output_type": "stream",
          "name": "stdout",
          "text": [
            "Epoch 078 | train_loss=1.2491 | val_acc=54.00%\n",
            "  → New best! Saved to teacher_3_resnet50_best.pth\n"
          ]
        },
        {
          "output_type": "stream",
          "name": "stderr",
          "text": []
        },
        {
          "output_type": "stream",
          "name": "stdout",
          "text": [
            "Epoch 079 | train_loss=1.2349 | val_acc=48.65%\n"
          ]
        },
        {
          "output_type": "stream",
          "name": "stderr",
          "text": []
        },
        {
          "output_type": "stream",
          "name": "stdout",
          "text": [
            "Epoch 080 | train_loss=1.2183 | val_acc=53.44%\n"
          ]
        },
        {
          "output_type": "stream",
          "name": "stderr",
          "text": []
        },
        {
          "output_type": "stream",
          "name": "stdout",
          "text": [
            "Epoch 081 | train_loss=1.2340 | val_acc=53.59%\n"
          ]
        },
        {
          "output_type": "stream",
          "name": "stderr",
          "text": []
        },
        {
          "output_type": "stream",
          "name": "stdout",
          "text": [
            "Epoch 082 | train_loss=1.2176 | val_acc=52.34%\n"
          ]
        },
        {
          "output_type": "stream",
          "name": "stderr",
          "text": []
        },
        {
          "output_type": "stream",
          "name": "stdout",
          "text": [
            "Epoch 083 | train_loss=1.1958 | val_acc=56.50%\n",
            "  → New best! Saved to teacher_3_resnet50_best.pth\n"
          ]
        },
        {
          "output_type": "stream",
          "name": "stderr",
          "text": []
        },
        {
          "output_type": "stream",
          "name": "stdout",
          "text": [
            "Epoch 084 | train_loss=1.1805 | val_acc=52.00%\n"
          ]
        },
        {
          "output_type": "stream",
          "name": "stderr",
          "text": []
        },
        {
          "output_type": "stream",
          "name": "stdout",
          "text": [
            "Epoch 085 | train_loss=1.1903 | val_acc=53.43%\n"
          ]
        },
        {
          "output_type": "stream",
          "name": "stderr",
          "text": []
        },
        {
          "output_type": "stream",
          "name": "stdout",
          "text": [
            "Epoch 086 | train_loss=1.1720 | val_acc=56.08%\n"
          ]
        },
        {
          "output_type": "stream",
          "name": "stderr",
          "text": []
        },
        {
          "output_type": "stream",
          "name": "stdout",
          "text": [
            "Epoch 087 | train_loss=1.1598 | val_acc=56.40%\n"
          ]
        },
        {
          "output_type": "stream",
          "name": "stderr",
          "text": []
        },
        {
          "output_type": "stream",
          "name": "stdout",
          "text": [
            "Epoch 088 | train_loss=1.1323 | val_acc=54.70%\n"
          ]
        },
        {
          "output_type": "stream",
          "name": "stderr",
          "text": []
        },
        {
          "output_type": "stream",
          "name": "stdout",
          "text": [
            "Epoch 089 | train_loss=1.1406 | val_acc=49.62%\n"
          ]
        },
        {
          "output_type": "stream",
          "name": "stderr",
          "text": []
        },
        {
          "output_type": "stream",
          "name": "stdout",
          "text": [
            "Epoch 090 | train_loss=1.1291 | val_acc=55.69%\n"
          ]
        },
        {
          "output_type": "stream",
          "name": "stderr",
          "text": []
        },
        {
          "output_type": "stream",
          "name": "stdout",
          "text": [
            "Epoch 091 | train_loss=1.1301 | val_acc=52.63%\n"
          ]
        },
        {
          "output_type": "stream",
          "name": "stderr",
          "text": []
        },
        {
          "output_type": "stream",
          "name": "stdout",
          "text": [
            "Epoch 092 | train_loss=1.1082 | val_acc=58.72%\n",
            "  → New best! Saved to teacher_3_resnet50_best.pth\n"
          ]
        },
        {
          "output_type": "stream",
          "name": "stderr",
          "text": []
        },
        {
          "output_type": "stream",
          "name": "stdout",
          "text": [
            "Epoch 093 | train_loss=1.0931 | val_acc=59.08%\n",
            "  → New best! Saved to teacher_3_resnet50_best.pth\n"
          ]
        },
        {
          "output_type": "stream",
          "name": "stderr",
          "text": []
        },
        {
          "output_type": "stream",
          "name": "stdout",
          "text": [
            "Epoch 094 | train_loss=1.0601 | val_acc=58.80%\n"
          ]
        },
        {
          "output_type": "stream",
          "name": "stderr",
          "text": []
        },
        {
          "output_type": "stream",
          "name": "stdout",
          "text": [
            "Epoch 095 | train_loss=1.0714 | val_acc=61.62%\n",
            "  → New best! Saved to teacher_3_resnet50_best.pth\n"
          ]
        },
        {
          "output_type": "stream",
          "name": "stderr",
          "text": []
        },
        {
          "output_type": "stream",
          "name": "stdout",
          "text": [
            "Epoch 096 | train_loss=1.0683 | val_acc=52.98%\n"
          ]
        },
        {
          "output_type": "stream",
          "name": "stderr",
          "text": []
        },
        {
          "output_type": "stream",
          "name": "stdout",
          "text": [
            "Epoch 097 | train_loss=1.0272 | val_acc=58.19%\n"
          ]
        },
        {
          "output_type": "stream",
          "name": "stderr",
          "text": []
        },
        {
          "output_type": "stream",
          "name": "stdout",
          "text": [
            "Epoch 098 | train_loss=1.0289 | val_acc=61.44%\n"
          ]
        },
        {
          "output_type": "stream",
          "name": "stderr",
          "text": []
        },
        {
          "output_type": "stream",
          "name": "stdout",
          "text": [
            "Epoch 099 | train_loss=1.0153 | val_acc=59.97%\n"
          ]
        },
        {
          "output_type": "stream",
          "name": "stderr",
          "text": []
        },
        {
          "output_type": "stream",
          "name": "stdout",
          "text": [
            "Epoch 100 | train_loss=1.0354 | val_acc=61.32%\n"
          ]
        },
        {
          "output_type": "stream",
          "name": "stderr",
          "text": []
        },
        {
          "output_type": "stream",
          "name": "stdout",
          "text": [
            "Epoch 101 | train_loss=0.8601 | val_acc=68.91%\n",
            "  → New best! Saved to teacher_3_resnet50_best.pth\n"
          ]
        },
        {
          "output_type": "stream",
          "name": "stderr",
          "text": []
        },
        {
          "output_type": "stream",
          "name": "stdout",
          "text": [
            "Epoch 102 | train_loss=0.7926 | val_acc=69.50%\n",
            "  → New best! Saved to teacher_3_resnet50_best.pth\n"
          ]
        },
        {
          "output_type": "stream",
          "name": "stderr",
          "text": []
        },
        {
          "output_type": "stream",
          "name": "stdout",
          "text": [
            "Epoch 103 | train_loss=0.7633 | val_acc=70.14%\n",
            "  → New best! Saved to teacher_3_resnet50_best.pth\n"
          ]
        },
        {
          "output_type": "stream",
          "name": "stderr",
          "text": []
        },
        {
          "output_type": "stream",
          "name": "stdout",
          "text": [
            "Epoch 104 | train_loss=0.7448 | val_acc=69.36%\n"
          ]
        },
        {
          "output_type": "stream",
          "name": "stderr",
          "text": []
        },
        {
          "output_type": "stream",
          "name": "stdout",
          "text": [
            "Epoch 105 | train_loss=0.7444 | val_acc=70.38%\n",
            "  → New best! Saved to teacher_3_resnet50_best.pth\n"
          ]
        },
        {
          "output_type": "stream",
          "name": "stderr",
          "text": []
        },
        {
          "output_type": "stream",
          "name": "stdout",
          "text": [
            "Epoch 106 | train_loss=0.7168 | val_acc=70.29%\n"
          ]
        },
        {
          "output_type": "stream",
          "name": "stderr",
          "text": []
        },
        {
          "output_type": "stream",
          "name": "stdout",
          "text": [
            "Epoch 107 | train_loss=0.7112 | val_acc=70.65%\n",
            "  → New best! Saved to teacher_3_resnet50_best.pth\n"
          ]
        },
        {
          "output_type": "stream",
          "name": "stderr",
          "text": []
        },
        {
          "output_type": "stream",
          "name": "stdout",
          "text": [
            "Epoch 108 | train_loss=0.6977 | val_acc=70.01%\n"
          ]
        },
        {
          "output_type": "stream",
          "name": "stderr",
          "text": []
        },
        {
          "output_type": "stream",
          "name": "stdout",
          "text": [
            "Epoch 109 | train_loss=0.6847 | val_acc=70.33%\n"
          ]
        },
        {
          "output_type": "stream",
          "name": "stderr",
          "text": []
        },
        {
          "output_type": "stream",
          "name": "stdout",
          "text": [
            "Epoch 110 | train_loss=0.6842 | val_acc=70.39%\n"
          ]
        },
        {
          "output_type": "stream",
          "name": "stderr",
          "text": []
        },
        {
          "output_type": "stream",
          "name": "stdout",
          "text": [
            "Epoch 111 | train_loss=0.6751 | val_acc=70.50%\n"
          ]
        },
        {
          "output_type": "stream",
          "name": "stderr",
          "text": []
        },
        {
          "output_type": "stream",
          "name": "stdout",
          "text": [
            "Epoch 112 | train_loss=0.6764 | val_acc=71.01%\n",
            "  → New best! Saved to teacher_3_resnet50_best.pth\n"
          ]
        },
        {
          "output_type": "stream",
          "name": "stderr",
          "text": []
        },
        {
          "output_type": "stream",
          "name": "stdout",
          "text": [
            "Epoch 113 | train_loss=0.6581 | val_acc=70.62%\n"
          ]
        },
        {
          "output_type": "stream",
          "name": "stderr",
          "text": []
        },
        {
          "output_type": "stream",
          "name": "stdout",
          "text": [
            "Epoch 114 | train_loss=0.6491 | val_acc=71.40%\n",
            "  → New best! Saved to teacher_3_resnet50_best.pth\n"
          ]
        },
        {
          "output_type": "stream",
          "name": "stderr",
          "text": []
        },
        {
          "output_type": "stream",
          "name": "stdout",
          "text": [
            "Epoch 115 | train_loss=0.6368 | val_acc=70.70%\n"
          ]
        },
        {
          "output_type": "stream",
          "name": "stderr",
          "text": []
        },
        {
          "output_type": "stream",
          "name": "stdout",
          "text": [
            "Epoch 116 | train_loss=0.6440 | val_acc=70.94%\n"
          ]
        },
        {
          "output_type": "stream",
          "name": "stderr",
          "text": []
        },
        {
          "output_type": "stream",
          "name": "stdout",
          "text": [
            "Epoch 117 | train_loss=0.6398 | val_acc=71.20%\n"
          ]
        },
        {
          "output_type": "stream",
          "name": "stderr",
          "text": []
        },
        {
          "output_type": "stream",
          "name": "stdout",
          "text": [
            "Epoch 118 | train_loss=0.6212 | val_acc=71.09%\n"
          ]
        },
        {
          "output_type": "stream",
          "name": "stderr",
          "text": []
        },
        {
          "output_type": "stream",
          "name": "stdout",
          "text": [
            "Epoch 119 | train_loss=0.6248 | val_acc=71.51%\n",
            "  → New best! Saved to teacher_3_resnet50_best.pth\n"
          ]
        },
        {
          "output_type": "stream",
          "name": "stderr",
          "text": []
        },
        {
          "output_type": "stream",
          "name": "stdout",
          "text": [
            "Epoch 120 | train_loss=0.6148 | val_acc=71.07%\n"
          ]
        },
        {
          "output_type": "stream",
          "name": "stderr",
          "text": []
        },
        {
          "output_type": "stream",
          "name": "stdout",
          "text": [
            "Epoch 121 | train_loss=0.6114 | val_acc=71.17%\n"
          ]
        },
        {
          "output_type": "stream",
          "name": "stderr",
          "text": []
        },
        {
          "output_type": "stream",
          "name": "stdout",
          "text": [
            "Epoch 122 | train_loss=0.5944 | val_acc=71.21%\n"
          ]
        },
        {
          "output_type": "stream",
          "name": "stderr",
          "text": []
        },
        {
          "output_type": "stream",
          "name": "stdout",
          "text": [
            "Epoch 123 | train_loss=0.5985 | val_acc=71.23%\n"
          ]
        },
        {
          "output_type": "stream",
          "name": "stderr",
          "text": []
        },
        {
          "output_type": "stream",
          "name": "stdout",
          "text": [
            "Epoch 124 | train_loss=0.5943 | val_acc=71.50%\n"
          ]
        },
        {
          "output_type": "stream",
          "name": "stderr",
          "text": []
        },
        {
          "output_type": "stream",
          "name": "stdout",
          "text": [
            "Epoch 125 | train_loss=0.5834 | val_acc=70.65%\n"
          ]
        },
        {
          "output_type": "stream",
          "name": "stderr",
          "text": []
        },
        {
          "output_type": "stream",
          "name": "stdout",
          "text": [
            "Epoch 126 | train_loss=0.5784 | val_acc=71.37%\n"
          ]
        },
        {
          "output_type": "stream",
          "name": "stderr",
          "text": []
        },
        {
          "output_type": "stream",
          "name": "stdout",
          "text": [
            "Epoch 127 | train_loss=0.5755 | val_acc=71.88%\n",
            "  → New best! Saved to teacher_3_resnet50_best.pth\n"
          ]
        },
        {
          "output_type": "stream",
          "name": "stderr",
          "text": []
        },
        {
          "output_type": "stream",
          "name": "stdout",
          "text": [
            "Epoch 128 | train_loss=0.5846 | val_acc=71.24%\n"
          ]
        },
        {
          "output_type": "stream",
          "name": "stderr",
          "text": []
        },
        {
          "output_type": "stream",
          "name": "stdout",
          "text": [
            "Epoch 129 | train_loss=0.5556 | val_acc=71.92%\n",
            "  → New best! Saved to teacher_3_resnet50_best.pth\n"
          ]
        },
        {
          "output_type": "stream",
          "name": "stderr",
          "text": []
        },
        {
          "output_type": "stream",
          "name": "stdout",
          "text": [
            "Epoch 130 | train_loss=0.5745 | val_acc=71.46%\n"
          ]
        },
        {
          "output_type": "stream",
          "name": "stderr",
          "text": []
        },
        {
          "output_type": "stream",
          "name": "stdout",
          "text": [
            "Epoch 131 | train_loss=0.5468 | val_acc=71.98%\n",
            "  → New best! Saved to teacher_3_resnet50_best.pth\n"
          ]
        },
        {
          "output_type": "stream",
          "name": "stderr",
          "text": []
        },
        {
          "output_type": "stream",
          "name": "stdout",
          "text": [
            "Epoch 132 | train_loss=0.5365 | val_acc=71.70%\n"
          ]
        },
        {
          "output_type": "stream",
          "name": "stderr",
          "text": []
        },
        {
          "output_type": "stream",
          "name": "stdout",
          "text": [
            "Epoch 133 | train_loss=0.5350 | val_acc=71.55%\n"
          ]
        },
        {
          "output_type": "stream",
          "name": "stderr",
          "text": []
        },
        {
          "output_type": "stream",
          "name": "stdout",
          "text": [
            "Epoch 134 | train_loss=0.5599 | val_acc=71.88%\n"
          ]
        },
        {
          "output_type": "stream",
          "name": "stderr",
          "text": []
        },
        {
          "output_type": "stream",
          "name": "stdout",
          "text": [
            "Epoch 135 | train_loss=0.5484 | val_acc=71.50%\n"
          ]
        },
        {
          "output_type": "stream",
          "name": "stderr",
          "text": []
        },
        {
          "output_type": "stream",
          "name": "stdout",
          "text": [
            "Epoch 136 | train_loss=0.5485 | val_acc=71.48%\n"
          ]
        },
        {
          "output_type": "stream",
          "name": "stderr",
          "text": []
        },
        {
          "output_type": "stream",
          "name": "stdout",
          "text": [
            "Epoch 137 | train_loss=0.5350 | val_acc=71.31%\n"
          ]
        },
        {
          "output_type": "stream",
          "name": "stderr",
          "text": []
        },
        {
          "output_type": "stream",
          "name": "stdout",
          "text": [
            "Epoch 138 | train_loss=0.5314 | val_acc=70.81%\n"
          ]
        },
        {
          "output_type": "stream",
          "name": "stderr",
          "text": []
        },
        {
          "output_type": "stream",
          "name": "stdout",
          "text": [
            "Epoch 139 | train_loss=0.5034 | val_acc=71.20%\n"
          ]
        },
        {
          "output_type": "stream",
          "name": "stderr",
          "text": []
        },
        {
          "output_type": "stream",
          "name": "stdout",
          "text": [
            "Epoch 140 | train_loss=0.5032 | val_acc=71.85%\n"
          ]
        },
        {
          "output_type": "stream",
          "name": "stderr",
          "text": []
        },
        {
          "output_type": "stream",
          "name": "stdout",
          "text": [
            "Epoch 141 | train_loss=0.4955 | val_acc=71.24%\n"
          ]
        },
        {
          "output_type": "stream",
          "name": "stderr",
          "text": []
        },
        {
          "output_type": "stream",
          "name": "stdout",
          "text": [
            "Epoch 142 | train_loss=0.4956 | val_acc=71.57%\n"
          ]
        },
        {
          "output_type": "stream",
          "name": "stderr",
          "text": []
        },
        {
          "output_type": "stream",
          "name": "stdout",
          "text": [
            "Epoch 143 | train_loss=0.4938 | val_acc=70.64%\n"
          ]
        },
        {
          "output_type": "stream",
          "name": "stderr",
          "text": []
        },
        {
          "output_type": "stream",
          "name": "stdout",
          "text": [
            "Epoch 144 | train_loss=0.4913 | val_acc=70.74%\n"
          ]
        },
        {
          "output_type": "stream",
          "name": "stderr",
          "text": []
        },
        {
          "output_type": "stream",
          "name": "stdout",
          "text": [
            "Epoch 145 | train_loss=0.4987 | val_acc=71.31%\n"
          ]
        },
        {
          "output_type": "stream",
          "name": "stderr",
          "text": []
        },
        {
          "output_type": "stream",
          "name": "stdout",
          "text": [
            "Epoch 146 | train_loss=0.4825 | val_acc=71.46%\n"
          ]
        },
        {
          "output_type": "stream",
          "name": "stderr",
          "text": []
        },
        {
          "output_type": "stream",
          "name": "stdout",
          "text": [
            "Epoch 147 | train_loss=0.4896 | val_acc=70.90%\n"
          ]
        },
        {
          "output_type": "stream",
          "name": "stderr",
          "text": []
        },
        {
          "output_type": "stream",
          "name": "stdout",
          "text": [
            "Epoch 148 | train_loss=0.4802 | val_acc=71.47%\n"
          ]
        },
        {
          "output_type": "stream",
          "name": "stderr",
          "text": []
        },
        {
          "output_type": "stream",
          "name": "stdout",
          "text": [
            "Epoch 149 | train_loss=0.4704 | val_acc=70.67%\n"
          ]
        },
        {
          "output_type": "stream",
          "name": "stderr",
          "text": []
        },
        {
          "output_type": "stream",
          "name": "stdout",
          "text": [
            "Epoch 150 | train_loss=0.4844 | val_acc=71.76%\n"
          ]
        },
        {
          "output_type": "stream",
          "name": "stderr",
          "text": []
        },
        {
          "output_type": "stream",
          "name": "stdout",
          "text": [
            "Epoch 151 | train_loss=0.4072 | val_acc=72.88%\n",
            "  → New best! Saved to teacher_3_resnet50_best.pth\n"
          ]
        },
        {
          "output_type": "stream",
          "name": "stderr",
          "text": []
        },
        {
          "output_type": "stream",
          "name": "stdout",
          "text": [
            "Epoch 152 | train_loss=0.3821 | val_acc=72.71%\n"
          ]
        },
        {
          "output_type": "stream",
          "name": "stderr",
          "text": []
        },
        {
          "output_type": "stream",
          "name": "stdout",
          "text": [
            "Epoch 153 | train_loss=0.3706 | val_acc=73.02%\n",
            "  → New best! Saved to teacher_3_resnet50_best.pth\n"
          ]
        },
        {
          "output_type": "stream",
          "name": "stderr",
          "text": []
        },
        {
          "output_type": "stream",
          "name": "stdout",
          "text": [
            "Epoch 154 | train_loss=0.3698 | val_acc=73.22%\n",
            "  → New best! Saved to teacher_3_resnet50_best.pth\n"
          ]
        },
        {
          "output_type": "stream",
          "name": "stderr",
          "text": []
        },
        {
          "output_type": "stream",
          "name": "stdout",
          "text": [
            "Epoch 155 | train_loss=0.3635 | val_acc=73.27%\n",
            "  → New best! Saved to teacher_3_resnet50_best.pth\n"
          ]
        },
        {
          "output_type": "stream",
          "name": "stderr",
          "text": []
        },
        {
          "output_type": "stream",
          "name": "stdout",
          "text": [
            "Epoch 156 | train_loss=0.3560 | val_acc=72.97%\n"
          ]
        },
        {
          "output_type": "stream",
          "name": "stderr",
          "text": []
        },
        {
          "output_type": "stream",
          "name": "stdout",
          "text": [
            "Epoch 157 | train_loss=0.3508 | val_acc=73.24%\n"
          ]
        },
        {
          "output_type": "stream",
          "name": "stderr",
          "text": []
        },
        {
          "output_type": "stream",
          "name": "stdout",
          "text": [
            "Epoch 158 | train_loss=0.3441 | val_acc=73.25%\n"
          ]
        },
        {
          "output_type": "stream",
          "name": "stderr",
          "text": []
        },
        {
          "output_type": "stream",
          "name": "stdout",
          "text": [
            "Epoch 159 | train_loss=0.3462 | val_acc=73.17%\n"
          ]
        },
        {
          "output_type": "stream",
          "name": "stderr",
          "text": []
        },
        {
          "output_type": "stream",
          "name": "stdout",
          "text": [
            "Epoch 160 | train_loss=0.3395 | val_acc=72.96%\n"
          ]
        },
        {
          "output_type": "stream",
          "name": "stderr",
          "text": []
        },
        {
          "output_type": "stream",
          "name": "stdout",
          "text": [
            "Epoch 161 | train_loss=0.3426 | val_acc=73.29%\n",
            "  → New best! Saved to teacher_3_resnet50_best.pth\n"
          ]
        },
        {
          "output_type": "stream",
          "name": "stderr",
          "text": []
        },
        {
          "output_type": "stream",
          "name": "stdout",
          "text": [
            "Epoch 162 | train_loss=0.3311 | val_acc=73.07%\n"
          ]
        },
        {
          "output_type": "stream",
          "name": "stderr",
          "text": []
        },
        {
          "output_type": "stream",
          "name": "stdout",
          "text": [
            "Epoch 163 | train_loss=0.3280 | val_acc=73.16%\n"
          ]
        },
        {
          "output_type": "stream",
          "name": "stderr",
          "text": []
        },
        {
          "output_type": "stream",
          "name": "stdout",
          "text": [
            "Epoch 164 | train_loss=0.3290 | val_acc=73.19%\n"
          ]
        },
        {
          "output_type": "stream",
          "name": "stderr",
          "text": []
        },
        {
          "output_type": "stream",
          "name": "stdout",
          "text": [
            "Epoch 165 | train_loss=0.3288 | val_acc=73.26%\n"
          ]
        },
        {
          "output_type": "stream",
          "name": "stderr",
          "text": []
        },
        {
          "output_type": "stream",
          "name": "stdout",
          "text": [
            "Epoch 166 | train_loss=0.3140 | val_acc=73.29%\n"
          ]
        },
        {
          "output_type": "stream",
          "name": "stderr",
          "text": []
        },
        {
          "output_type": "stream",
          "name": "stdout",
          "text": [
            "Epoch 167 | train_loss=0.3128 | val_acc=73.14%\n"
          ]
        },
        {
          "output_type": "stream",
          "name": "stderr",
          "text": []
        },
        {
          "output_type": "stream",
          "name": "stdout",
          "text": [
            "Epoch 168 | train_loss=0.3195 | val_acc=73.17%\n"
          ]
        },
        {
          "output_type": "stream",
          "name": "stderr",
          "text": []
        },
        {
          "output_type": "stream",
          "name": "stdout",
          "text": [
            "Epoch 169 | train_loss=0.3094 | val_acc=73.19%\n"
          ]
        },
        {
          "output_type": "stream",
          "name": "stderr",
          "text": []
        },
        {
          "output_type": "stream",
          "name": "stdout",
          "text": [
            "Epoch 170 | train_loss=0.3211 | val_acc=73.23%\n"
          ]
        },
        {
          "output_type": "stream",
          "name": "stderr",
          "text": []
        },
        {
          "output_type": "stream",
          "name": "stdout",
          "text": [
            "Epoch 171 | train_loss=0.3129 | val_acc=73.09%\n"
          ]
        },
        {
          "output_type": "stream",
          "name": "stderr",
          "text": []
        },
        {
          "output_type": "stream",
          "name": "stdout",
          "text": [
            "Epoch 172 | train_loss=0.3170 | val_acc=73.05%\n"
          ]
        },
        {
          "output_type": "stream",
          "name": "stderr",
          "text": []
        },
        {
          "output_type": "stream",
          "name": "stdout",
          "text": [
            "Epoch 173 | train_loss=0.3062 | val_acc=73.04%\n"
          ]
        },
        {
          "output_type": "stream",
          "name": "stderr",
          "text": []
        },
        {
          "output_type": "stream",
          "name": "stdout",
          "text": [
            "Epoch 174 | train_loss=0.3007 | val_acc=72.98%\n"
          ]
        },
        {
          "output_type": "stream",
          "name": "stderr",
          "text": []
        },
        {
          "output_type": "stream",
          "name": "stdout",
          "text": [
            "Epoch 175 | train_loss=0.3058 | val_acc=72.97%\n"
          ]
        },
        {
          "output_type": "stream",
          "name": "stderr",
          "text": []
        },
        {
          "output_type": "stream",
          "name": "stdout",
          "text": [
            "Epoch 176 | train_loss=0.3028 | val_acc=73.00%\n"
          ]
        },
        {
          "output_type": "stream",
          "name": "stderr",
          "text": []
        },
        {
          "output_type": "stream",
          "name": "stdout",
          "text": [
            "Epoch 177 | train_loss=0.2985 | val_acc=72.58%\n"
          ]
        },
        {
          "output_type": "stream",
          "name": "stderr",
          "text": []
        },
        {
          "output_type": "stream",
          "name": "stdout",
          "text": [
            "Epoch 178 | train_loss=0.2995 | val_acc=73.12%\n"
          ]
        },
        {
          "output_type": "stream",
          "name": "stderr",
          "text": []
        },
        {
          "output_type": "stream",
          "name": "stdout",
          "text": [
            "Epoch 179 | train_loss=0.2890 | val_acc=72.84%\n"
          ]
        },
        {
          "output_type": "stream",
          "name": "stderr",
          "text": []
        },
        {
          "output_type": "stream",
          "name": "stdout",
          "text": [
            "Epoch 180 | train_loss=0.2909 | val_acc=72.84%\n"
          ]
        },
        {
          "output_type": "stream",
          "name": "stderr",
          "text": []
        },
        {
          "output_type": "stream",
          "name": "stdout",
          "text": [
            "Epoch 181 | train_loss=0.2901 | val_acc=72.70%\n"
          ]
        },
        {
          "output_type": "stream",
          "name": "stderr",
          "text": []
        },
        {
          "output_type": "stream",
          "name": "stdout",
          "text": [
            "Epoch 182 | train_loss=0.2863 | val_acc=72.95%\n"
          ]
        },
        {
          "output_type": "stream",
          "name": "stderr",
          "text": []
        },
        {
          "output_type": "stream",
          "name": "stdout",
          "text": [
            "Epoch 183 | train_loss=0.2881 | val_acc=73.07%\n"
          ]
        },
        {
          "output_type": "stream",
          "name": "stderr",
          "text": []
        },
        {
          "output_type": "stream",
          "name": "stdout",
          "text": [
            "Epoch 184 | train_loss=0.2845 | val_acc=72.99%\n"
          ]
        },
        {
          "output_type": "stream",
          "name": "stderr",
          "text": []
        },
        {
          "output_type": "stream",
          "name": "stdout",
          "text": [
            "Epoch 185 | train_loss=0.2841 | val_acc=73.04%\n"
          ]
        },
        {
          "output_type": "stream",
          "name": "stderr",
          "text": []
        },
        {
          "output_type": "stream",
          "name": "stdout",
          "text": [
            "Epoch 186 | train_loss=0.2869 | val_acc=73.32%\n",
            "  → New best! Saved to teacher_3_resnet50_best.pth\n"
          ]
        },
        {
          "output_type": "stream",
          "name": "stderr",
          "text": []
        },
        {
          "output_type": "stream",
          "name": "stdout",
          "text": [
            "Epoch 187 | train_loss=0.2723 | val_acc=73.02%\n"
          ]
        },
        {
          "output_type": "stream",
          "name": "stderr",
          "text": []
        },
        {
          "output_type": "stream",
          "name": "stdout",
          "text": [
            "Epoch 188 | train_loss=0.2711 | val_acc=72.82%\n"
          ]
        },
        {
          "output_type": "stream",
          "name": "stderr",
          "text": []
        },
        {
          "output_type": "stream",
          "name": "stdout",
          "text": [
            "Epoch 189 | train_loss=0.2682 | val_acc=72.78%\n"
          ]
        },
        {
          "output_type": "stream",
          "name": "stderr",
          "text": []
        },
        {
          "output_type": "stream",
          "name": "stdout",
          "text": [
            "Epoch 190 | train_loss=0.2758 | val_acc=73.04%\n"
          ]
        },
        {
          "output_type": "stream",
          "name": "stderr",
          "text": []
        },
        {
          "output_type": "stream",
          "name": "stdout",
          "text": [
            "Epoch 191 | train_loss=0.2670 | val_acc=73.11%\n"
          ]
        },
        {
          "output_type": "stream",
          "name": "stderr",
          "text": []
        },
        {
          "output_type": "stream",
          "name": "stdout",
          "text": [
            "Epoch 192 | train_loss=0.2593 | val_acc=73.03%\n"
          ]
        },
        {
          "output_type": "stream",
          "name": "stderr",
          "text": []
        },
        {
          "output_type": "stream",
          "name": "stdout",
          "text": [
            "Epoch 193 | train_loss=0.2680 | val_acc=72.69%\n"
          ]
        },
        {
          "output_type": "stream",
          "name": "stderr",
          "text": []
        },
        {
          "output_type": "stream",
          "name": "stdout",
          "text": [
            "Epoch 194 | train_loss=0.2684 | val_acc=73.20%\n"
          ]
        },
        {
          "output_type": "stream",
          "name": "stderr",
          "text": []
        },
        {
          "output_type": "stream",
          "name": "stdout",
          "text": [
            "Epoch 195 | train_loss=0.2606 | val_acc=72.91%\n"
          ]
        },
        {
          "output_type": "stream",
          "name": "stderr",
          "text": []
        },
        {
          "output_type": "stream",
          "name": "stdout",
          "text": [
            "Epoch 196 | train_loss=0.2677 | val_acc=72.73%\n"
          ]
        },
        {
          "output_type": "stream",
          "name": "stderr",
          "text": []
        },
        {
          "output_type": "stream",
          "name": "stdout",
          "text": [
            "Epoch 197 | train_loss=0.2577 | val_acc=72.84%\n"
          ]
        },
        {
          "output_type": "stream",
          "name": "stderr",
          "text": []
        },
        {
          "output_type": "stream",
          "name": "stdout",
          "text": [
            "Epoch 198 | train_loss=0.2563 | val_acc=72.99%\n"
          ]
        },
        {
          "output_type": "stream",
          "name": "stderr",
          "text": []
        },
        {
          "output_type": "stream",
          "name": "stdout",
          "text": [
            "Epoch 199 | train_loss=0.2601 | val_acc=73.25%\n"
          ]
        },
        {
          "output_type": "stream",
          "name": "stderr",
          "text": []
        },
        {
          "output_type": "stream",
          "name": "stdout",
          "text": [
            "Epoch 200 | train_loss=0.2515 | val_acc=72.95%\n",
            "Teacher #3 (resnet50) best validation accuracy: 73.32%\n",
            "\n",
            "=== Training teacher #4 ===\n"
          ]
        },
        {
          "output_type": "stream",
          "name": "stderr",
          "text": []
        },
        {
          "output_type": "stream",
          "name": "stdout",
          "text": [
            "Epoch 001 | train_loss=4.1889 | val_acc=10.75%\n",
            "  → New best! Saved to teacher_4_resnet34_best.pth\n"
          ]
        },
        {
          "output_type": "stream",
          "name": "stderr",
          "text": []
        },
        {
          "output_type": "stream",
          "name": "stdout",
          "text": [
            "Epoch 002 | train_loss=2.4121 | val_acc=13.92%\n",
            "  → New best! Saved to teacher_4_resnet34_best.pth\n"
          ]
        },
        {
          "output_type": "stream",
          "name": "stderr",
          "text": []
        },
        {
          "output_type": "stream",
          "name": "stdout",
          "text": [
            "Epoch 003 | train_loss=2.2292 | val_acc=20.84%\n",
            "  → New best! Saved to teacher_4_resnet34_best.pth\n"
          ]
        },
        {
          "output_type": "stream",
          "name": "stderr",
          "text": []
        },
        {
          "output_type": "stream",
          "name": "stdout",
          "text": [
            "Epoch 004 | train_loss=2.0737 | val_acc=22.96%\n",
            "  → New best! Saved to teacher_4_resnet34_best.pth\n"
          ]
        },
        {
          "output_type": "stream",
          "name": "stderr",
          "text": []
        },
        {
          "output_type": "stream",
          "name": "stdout",
          "text": [
            "Epoch 005 | train_loss=1.9388 | val_acc=27.79%\n",
            "  → New best! Saved to teacher_4_resnet34_best.pth\n"
          ]
        },
        {
          "output_type": "stream",
          "name": "stderr",
          "text": []
        },
        {
          "output_type": "stream",
          "name": "stdout",
          "text": [
            "Epoch 006 | train_loss=1.8981 | val_acc=32.22%\n",
            "  → New best! Saved to teacher_4_resnet34_best.pth\n"
          ]
        },
        {
          "output_type": "stream",
          "name": "stderr",
          "text": []
        },
        {
          "output_type": "stream",
          "name": "stdout",
          "text": [
            "Epoch 007 | train_loss=1.8200 | val_acc=32.85%\n",
            "  → New best! Saved to teacher_4_resnet34_best.pth\n"
          ]
        },
        {
          "output_type": "stream",
          "name": "stderr",
          "text": []
        },
        {
          "output_type": "stream",
          "name": "stdout",
          "text": [
            "Epoch 008 | train_loss=1.7703 | val_acc=35.01%\n",
            "  → New best! Saved to teacher_4_resnet34_best.pth\n"
          ]
        },
        {
          "output_type": "stream",
          "name": "stderr",
          "text": []
        },
        {
          "output_type": "stream",
          "name": "stdout",
          "text": [
            "Epoch 009 | train_loss=1.7266 | val_acc=38.84%\n",
            "  → New best! Saved to teacher_4_resnet34_best.pth\n"
          ]
        },
        {
          "output_type": "stream",
          "name": "stderr",
          "text": []
        },
        {
          "output_type": "stream",
          "name": "stdout",
          "text": [
            "Epoch 010 | train_loss=1.6781 | val_acc=39.80%\n",
            "  → New best! Saved to teacher_4_resnet34_best.pth\n"
          ]
        },
        {
          "output_type": "stream",
          "name": "stderr",
          "text": []
        },
        {
          "output_type": "stream",
          "name": "stdout",
          "text": [
            "Epoch 011 | train_loss=1.6356 | val_acc=38.57%\n"
          ]
        },
        {
          "output_type": "stream",
          "name": "stderr",
          "text": []
        },
        {
          "output_type": "stream",
          "name": "stdout",
          "text": [
            "Epoch 012 | train_loss=1.6173 | val_acc=42.38%\n",
            "  → New best! Saved to teacher_4_resnet34_best.pth\n"
          ]
        },
        {
          "output_type": "stream",
          "name": "stderr",
          "text": []
        },
        {
          "output_type": "stream",
          "name": "stdout",
          "text": [
            "Epoch 013 | train_loss=1.5686 | val_acc=40.09%\n"
          ]
        },
        {
          "output_type": "stream",
          "name": "stderr",
          "text": []
        },
        {
          "output_type": "stream",
          "name": "stdout",
          "text": [
            "Epoch 014 | train_loss=1.5424 | val_acc=33.85%\n"
          ]
        },
        {
          "output_type": "stream",
          "name": "stderr",
          "text": []
        },
        {
          "output_type": "stream",
          "name": "stdout",
          "text": [
            "Epoch 015 | train_loss=1.7330 | val_acc=37.51%\n"
          ]
        },
        {
          "output_type": "stream",
          "name": "stderr",
          "text": []
        },
        {
          "output_type": "stream",
          "name": "stdout",
          "text": [
            "Epoch 016 | train_loss=1.5854 | val_acc=43.06%\n",
            "  → New best! Saved to teacher_4_resnet34_best.pth\n"
          ]
        },
        {
          "output_type": "stream",
          "name": "stderr",
          "text": []
        },
        {
          "output_type": "stream",
          "name": "stdout",
          "text": [
            "Epoch 017 | train_loss=1.5375 | val_acc=44.60%\n",
            "  → New best! Saved to teacher_4_resnet34_best.pth\n"
          ]
        },
        {
          "output_type": "stream",
          "name": "stderr",
          "text": []
        },
        {
          "output_type": "stream",
          "name": "stdout",
          "text": [
            "Epoch 018 | train_loss=1.4955 | val_acc=45.88%\n",
            "  → New best! Saved to teacher_4_resnet34_best.pth\n"
          ]
        },
        {
          "output_type": "stream",
          "name": "stderr",
          "text": []
        },
        {
          "output_type": "stream",
          "name": "stdout",
          "text": [
            "Epoch 019 | train_loss=1.4453 | val_acc=48.00%\n",
            "  → New best! Saved to teacher_4_resnet34_best.pth\n"
          ]
        },
        {
          "output_type": "stream",
          "name": "stderr",
          "text": []
        },
        {
          "output_type": "stream",
          "name": "stdout",
          "text": [
            "Epoch 020 | train_loss=1.4030 | val_acc=46.93%\n"
          ]
        },
        {
          "output_type": "stream",
          "name": "stderr",
          "text": []
        },
        {
          "output_type": "stream",
          "name": "stdout",
          "text": [
            "Epoch 021 | train_loss=1.3862 | val_acc=50.23%\n",
            "  → New best! Saved to teacher_4_resnet34_best.pth\n"
          ]
        },
        {
          "output_type": "stream",
          "name": "stderr",
          "text": []
        },
        {
          "output_type": "stream",
          "name": "stdout",
          "text": [
            "Epoch 022 | train_loss=1.3709 | val_acc=48.40%\n"
          ]
        },
        {
          "output_type": "stream",
          "name": "stderr",
          "text": []
        },
        {
          "output_type": "stream",
          "name": "stdout",
          "text": [
            "Epoch 023 | train_loss=1.3221 | val_acc=50.33%\n",
            "  → New best! Saved to teacher_4_resnet34_best.pth\n"
          ]
        },
        {
          "output_type": "stream",
          "name": "stderr",
          "text": []
        },
        {
          "output_type": "stream",
          "name": "stdout",
          "text": [
            "Epoch 024 | train_loss=1.2714 | val_acc=54.75%\n",
            "  → New best! Saved to teacher_4_resnet34_best.pth\n"
          ]
        },
        {
          "output_type": "stream",
          "name": "stderr",
          "text": []
        },
        {
          "output_type": "stream",
          "name": "stdout",
          "text": [
            "Epoch 025 | train_loss=1.2610 | val_acc=55.90%\n",
            "  → New best! Saved to teacher_4_resnet34_best.pth\n"
          ]
        },
        {
          "output_type": "stream",
          "name": "stderr",
          "text": []
        },
        {
          "output_type": "stream",
          "name": "stdout",
          "text": [
            "Epoch 026 | train_loss=1.2351 | val_acc=53.74%\n"
          ]
        },
        {
          "output_type": "stream",
          "name": "stderr",
          "text": []
        },
        {
          "output_type": "stream",
          "name": "stdout",
          "text": [
            "Epoch 027 | train_loss=1.2135 | val_acc=53.47%\n"
          ]
        },
        {
          "output_type": "stream",
          "name": "stderr",
          "text": []
        },
        {
          "output_type": "stream",
          "name": "stdout",
          "text": [
            "Epoch 028 | train_loss=1.1885 | val_acc=55.74%\n"
          ]
        },
        {
          "output_type": "stream",
          "name": "stderr",
          "text": []
        },
        {
          "output_type": "stream",
          "name": "stdout",
          "text": [
            "Epoch 029 | train_loss=1.1481 | val_acc=57.06%\n",
            "  → New best! Saved to teacher_4_resnet34_best.pth\n"
          ]
        },
        {
          "output_type": "stream",
          "name": "stderr",
          "text": []
        },
        {
          "output_type": "stream",
          "name": "stdout",
          "text": [
            "Epoch 030 | train_loss=1.1189 | val_acc=56.84%\n"
          ]
        },
        {
          "output_type": "stream",
          "name": "stderr",
          "text": []
        },
        {
          "output_type": "stream",
          "name": "stdout",
          "text": [
            "Epoch 031 | train_loss=1.1198 | val_acc=55.79%\n"
          ]
        },
        {
          "output_type": "stream",
          "name": "stderr",
          "text": []
        },
        {
          "output_type": "stream",
          "name": "stdout",
          "text": [
            "Epoch 032 | train_loss=1.1187 | val_acc=55.97%\n"
          ]
        },
        {
          "output_type": "stream",
          "name": "stderr",
          "text": []
        },
        {
          "output_type": "stream",
          "name": "stdout",
          "text": [
            "Epoch 033 | train_loss=1.0821 | val_acc=56.79%\n"
          ]
        },
        {
          "output_type": "stream",
          "name": "stderr",
          "text": []
        },
        {
          "output_type": "stream",
          "name": "stdout",
          "text": [
            "Epoch 034 | train_loss=1.0695 | val_acc=57.37%\n",
            "  → New best! Saved to teacher_4_resnet34_best.pth\n"
          ]
        },
        {
          "output_type": "stream",
          "name": "stderr",
          "text": []
        },
        {
          "output_type": "stream",
          "name": "stdout",
          "text": [
            "Epoch 035 | train_loss=1.0872 | val_acc=55.89%\n"
          ]
        },
        {
          "output_type": "stream",
          "name": "stderr",
          "text": []
        },
        {
          "output_type": "stream",
          "name": "stdout",
          "text": [
            "Epoch 036 | train_loss=1.1799 | val_acc=56.36%\n"
          ]
        },
        {
          "output_type": "stream",
          "name": "stderr",
          "text": []
        },
        {
          "output_type": "stream",
          "name": "stdout",
          "text": [
            "Epoch 037 | train_loss=1.0712 | val_acc=58.74%\n",
            "  → New best! Saved to teacher_4_resnet34_best.pth\n"
          ]
        },
        {
          "output_type": "stream",
          "name": "stderr",
          "text": []
        },
        {
          "output_type": "stream",
          "name": "stdout",
          "text": [
            "Epoch 038 | train_loss=1.0585 | val_acc=61.76%\n",
            "  → New best! Saved to teacher_4_resnet34_best.pth\n"
          ]
        },
        {
          "output_type": "stream",
          "name": "stderr",
          "text": []
        },
        {
          "output_type": "stream",
          "name": "stdout",
          "text": [
            "Epoch 039 | train_loss=1.0223 | val_acc=62.27%\n",
            "  → New best! Saved to teacher_4_resnet34_best.pth\n"
          ]
        },
        {
          "output_type": "stream",
          "name": "stderr",
          "text": []
        },
        {
          "output_type": "stream",
          "name": "stdout",
          "text": [
            "Epoch 040 | train_loss=0.9847 | val_acc=62.49%\n",
            "  → New best! Saved to teacher_4_resnet34_best.pth\n"
          ]
        },
        {
          "output_type": "stream",
          "name": "stderr",
          "text": []
        },
        {
          "output_type": "stream",
          "name": "stdout",
          "text": [
            "Epoch 041 | train_loss=0.9766 | val_acc=62.63%\n",
            "  → New best! Saved to teacher_4_resnet34_best.pth\n"
          ]
        },
        {
          "output_type": "stream",
          "name": "stderr",
          "text": []
        },
        {
          "output_type": "stream",
          "name": "stdout",
          "text": [
            "Epoch 042 | train_loss=0.9404 | val_acc=63.98%\n",
            "  → New best! Saved to teacher_4_resnet34_best.pth\n"
          ]
        },
        {
          "output_type": "stream",
          "name": "stderr",
          "text": []
        },
        {
          "output_type": "stream",
          "name": "stdout",
          "text": [
            "Epoch 043 | train_loss=0.9558 | val_acc=62.92%\n"
          ]
        },
        {
          "output_type": "stream",
          "name": "stderr",
          "text": []
        },
        {
          "output_type": "stream",
          "name": "stdout",
          "text": [
            "Epoch 044 | train_loss=0.9483 | val_acc=61.16%\n"
          ]
        },
        {
          "output_type": "stream",
          "name": "stderr",
          "text": []
        },
        {
          "output_type": "stream",
          "name": "stdout",
          "text": [
            "Epoch 045 | train_loss=0.9067 | val_acc=64.17%\n",
            "  → New best! Saved to teacher_4_resnet34_best.pth\n"
          ]
        },
        {
          "output_type": "stream",
          "name": "stderr",
          "text": []
        },
        {
          "output_type": "stream",
          "name": "stdout",
          "text": [
            "Epoch 046 | train_loss=0.9710 | val_acc=62.60%\n"
          ]
        },
        {
          "output_type": "stream",
          "name": "stderr",
          "text": []
        },
        {
          "output_type": "stream",
          "name": "stdout",
          "text": [
            "Epoch 047 | train_loss=0.8766 | val_acc=65.63%\n",
            "  → New best! Saved to teacher_4_resnet34_best.pth\n"
          ]
        },
        {
          "output_type": "stream",
          "name": "stderr",
          "text": []
        },
        {
          "output_type": "stream",
          "name": "stdout",
          "text": [
            "Epoch 048 | train_loss=0.8595 | val_acc=63.42%\n"
          ]
        },
        {
          "output_type": "stream",
          "name": "stderr",
          "text": []
        },
        {
          "output_type": "stream",
          "name": "stdout",
          "text": [
            "Epoch 049 | train_loss=0.8486 | val_acc=62.30%\n"
          ]
        },
        {
          "output_type": "stream",
          "name": "stderr",
          "text": []
        },
        {
          "output_type": "stream",
          "name": "stdout",
          "text": [
            "Epoch 050 | train_loss=0.8630 | val_acc=63.41%\n"
          ]
        },
        {
          "output_type": "stream",
          "name": "stderr",
          "text": []
        },
        {
          "output_type": "stream",
          "name": "stdout",
          "text": [
            "Epoch 051 | train_loss=0.8449 | val_acc=61.07%\n"
          ]
        },
        {
          "output_type": "stream",
          "name": "stderr",
          "text": []
        },
        {
          "output_type": "stream",
          "name": "stdout",
          "text": [
            "Epoch 052 | train_loss=0.8245 | val_acc=66.08%\n",
            "  → New best! Saved to teacher_4_resnet34_best.pth\n"
          ]
        },
        {
          "output_type": "stream",
          "name": "stderr",
          "text": []
        },
        {
          "output_type": "stream",
          "name": "stdout",
          "text": [
            "Epoch 053 | train_loss=0.7981 | val_acc=63.27%\n"
          ]
        },
        {
          "output_type": "stream",
          "name": "stderr",
          "text": []
        },
        {
          "output_type": "stream",
          "name": "stdout",
          "text": [
            "Epoch 054 | train_loss=0.8502 | val_acc=63.38%\n"
          ]
        },
        {
          "output_type": "stream",
          "name": "stderr",
          "text": []
        },
        {
          "output_type": "stream",
          "name": "stdout",
          "text": [
            "Epoch 055 | train_loss=0.8066 | val_acc=67.29%\n",
            "  → New best! Saved to teacher_4_resnet34_best.pth\n"
          ]
        },
        {
          "output_type": "stream",
          "name": "stderr",
          "text": []
        },
        {
          "output_type": "stream",
          "name": "stdout",
          "text": [
            "Epoch 056 | train_loss=0.8523 | val_acc=64.09%\n"
          ]
        },
        {
          "output_type": "stream",
          "name": "stderr",
          "text": []
        },
        {
          "output_type": "stream",
          "name": "stdout",
          "text": [
            "Epoch 057 | train_loss=0.7856 | val_acc=62.09%\n"
          ]
        },
        {
          "output_type": "stream",
          "name": "stderr",
          "text": []
        },
        {
          "output_type": "stream",
          "name": "stdout",
          "text": [
            "Epoch 058 | train_loss=0.8259 | val_acc=62.81%\n"
          ]
        },
        {
          "output_type": "stream",
          "name": "stderr",
          "text": []
        },
        {
          "output_type": "stream",
          "name": "stdout",
          "text": [
            "Epoch 059 | train_loss=0.7846 | val_acc=59.54%\n"
          ]
        },
        {
          "output_type": "stream",
          "name": "stderr",
          "text": []
        },
        {
          "output_type": "stream",
          "name": "stdout",
          "text": [
            "Epoch 060 | train_loss=0.7320 | val_acc=67.60%\n",
            "  → New best! Saved to teacher_4_resnet34_best.pth\n"
          ]
        },
        {
          "output_type": "stream",
          "name": "stderr",
          "text": []
        },
        {
          "output_type": "stream",
          "name": "stdout",
          "text": [
            "Epoch 061 | train_loss=0.7596 | val_acc=68.90%\n",
            "  → New best! Saved to teacher_4_resnet34_best.pth\n"
          ]
        },
        {
          "output_type": "stream",
          "name": "stderr",
          "text": []
        },
        {
          "output_type": "stream",
          "name": "stdout",
          "text": [
            "Epoch 062 | train_loss=0.7376 | val_acc=67.23%\n"
          ]
        },
        {
          "output_type": "stream",
          "name": "stderr",
          "text": []
        },
        {
          "output_type": "stream",
          "name": "stdout",
          "text": [
            "Epoch 063 | train_loss=0.7522 | val_acc=64.68%\n"
          ]
        },
        {
          "output_type": "stream",
          "name": "stderr",
          "text": []
        },
        {
          "output_type": "stream",
          "name": "stdout",
          "text": [
            "Epoch 064 | train_loss=0.7443 | val_acc=65.88%\n"
          ]
        },
        {
          "output_type": "stream",
          "name": "stderr",
          "text": []
        },
        {
          "output_type": "stream",
          "name": "stdout",
          "text": [
            "Epoch 065 | train_loss=0.7036 | val_acc=69.60%\n",
            "  → New best! Saved to teacher_4_resnet34_best.pth\n"
          ]
        },
        {
          "output_type": "stream",
          "name": "stderr",
          "text": []
        },
        {
          "output_type": "stream",
          "name": "stdout",
          "text": [
            "Epoch 066 | train_loss=0.6829 | val_acc=69.18%\n"
          ]
        },
        {
          "output_type": "stream",
          "name": "stderr",
          "text": []
        },
        {
          "output_type": "stream",
          "name": "stdout",
          "text": [
            "Epoch 067 | train_loss=0.7002 | val_acc=67.64%\n"
          ]
        },
        {
          "output_type": "stream",
          "name": "stderr",
          "text": []
        },
        {
          "output_type": "stream",
          "name": "stdout",
          "text": [
            "Epoch 068 | train_loss=0.7229 | val_acc=65.61%\n"
          ]
        },
        {
          "output_type": "stream",
          "name": "stderr",
          "text": []
        },
        {
          "output_type": "stream",
          "name": "stdout",
          "text": [
            "Epoch 069 | train_loss=0.7117 | val_acc=67.22%\n"
          ]
        },
        {
          "output_type": "stream",
          "name": "stderr",
          "text": []
        },
        {
          "output_type": "stream",
          "name": "stdout",
          "text": [
            "Epoch 070 | train_loss=0.7076 | val_acc=67.02%\n"
          ]
        },
        {
          "output_type": "stream",
          "name": "stderr",
          "text": []
        },
        {
          "output_type": "stream",
          "name": "stdout",
          "text": [
            "Epoch 071 | train_loss=0.7155 | val_acc=69.31%\n"
          ]
        },
        {
          "output_type": "stream",
          "name": "stderr",
          "text": []
        },
        {
          "output_type": "stream",
          "name": "stdout",
          "text": [
            "Epoch 072 | train_loss=0.6753 | val_acc=68.53%\n"
          ]
        },
        {
          "output_type": "stream",
          "name": "stderr",
          "text": []
        },
        {
          "output_type": "stream",
          "name": "stdout",
          "text": [
            "Epoch 073 | train_loss=0.6895 | val_acc=67.54%\n"
          ]
        },
        {
          "output_type": "stream",
          "name": "stderr",
          "text": []
        },
        {
          "output_type": "stream",
          "name": "stdout",
          "text": [
            "Epoch 074 | train_loss=0.6707 | val_acc=69.33%\n"
          ]
        },
        {
          "output_type": "stream",
          "name": "stderr",
          "text": []
        },
        {
          "output_type": "stream",
          "name": "stdout",
          "text": [
            "Epoch 075 | train_loss=0.6927 | val_acc=68.02%\n"
          ]
        },
        {
          "output_type": "stream",
          "name": "stderr",
          "text": []
        },
        {
          "output_type": "stream",
          "name": "stdout",
          "text": [
            "Epoch 076 | train_loss=0.6719 | val_acc=69.84%\n",
            "  → New best! Saved to teacher_4_resnet34_best.pth\n"
          ]
        },
        {
          "output_type": "stream",
          "name": "stderr",
          "text": []
        },
        {
          "output_type": "stream",
          "name": "stdout",
          "text": [
            "Epoch 077 | train_loss=0.6834 | val_acc=68.51%\n"
          ]
        },
        {
          "output_type": "stream",
          "name": "stderr",
          "text": []
        },
        {
          "output_type": "stream",
          "name": "stdout",
          "text": [
            "Epoch 078 | train_loss=0.6912 | val_acc=70.14%\n",
            "  → New best! Saved to teacher_4_resnet34_best.pth\n"
          ]
        },
        {
          "output_type": "stream",
          "name": "stderr",
          "text": []
        },
        {
          "output_type": "stream",
          "name": "stdout",
          "text": [
            "Epoch 079 | train_loss=0.6548 | val_acc=68.73%\n"
          ]
        },
        {
          "output_type": "stream",
          "name": "stderr",
          "text": []
        },
        {
          "output_type": "stream",
          "name": "stdout",
          "text": [
            "Epoch 080 | train_loss=0.6484 | val_acc=68.08%\n"
          ]
        },
        {
          "output_type": "stream",
          "name": "stderr",
          "text": []
        },
        {
          "output_type": "stream",
          "name": "stdout",
          "text": [
            "Epoch 081 | train_loss=0.6539 | val_acc=70.76%\n",
            "  → New best! Saved to teacher_4_resnet34_best.pth\n"
          ]
        },
        {
          "output_type": "stream",
          "name": "stderr",
          "text": []
        },
        {
          "output_type": "stream",
          "name": "stdout",
          "text": [
            "Epoch 082 | train_loss=0.6486 | val_acc=69.89%\n"
          ]
        },
        {
          "output_type": "stream",
          "name": "stderr",
          "text": []
        },
        {
          "output_type": "stream",
          "name": "stdout",
          "text": [
            "Epoch 083 | train_loss=0.6190 | val_acc=67.74%\n"
          ]
        },
        {
          "output_type": "stream",
          "name": "stderr",
          "text": []
        },
        {
          "output_type": "stream",
          "name": "stdout",
          "text": [
            "Epoch 084 | train_loss=0.6228 | val_acc=69.14%\n"
          ]
        },
        {
          "output_type": "stream",
          "name": "stderr",
          "text": []
        },
        {
          "output_type": "stream",
          "name": "stdout",
          "text": [
            "Epoch 085 | train_loss=0.6121 | val_acc=65.65%\n"
          ]
        },
        {
          "output_type": "stream",
          "name": "stderr",
          "text": []
        },
        {
          "output_type": "stream",
          "name": "stdout",
          "text": [
            "Epoch 086 | train_loss=0.6153 | val_acc=69.89%\n"
          ]
        },
        {
          "output_type": "stream",
          "name": "stderr",
          "text": []
        },
        {
          "output_type": "stream",
          "name": "stdout",
          "text": [
            "Epoch 087 | train_loss=0.6268 | val_acc=65.29%\n"
          ]
        },
        {
          "output_type": "stream",
          "name": "stderr",
          "text": []
        },
        {
          "output_type": "stream",
          "name": "stdout",
          "text": [
            "Epoch 088 | train_loss=0.6313 | val_acc=64.01%\n"
          ]
        },
        {
          "output_type": "stream",
          "name": "stderr",
          "text": []
        },
        {
          "output_type": "stream",
          "name": "stdout",
          "text": [
            "Epoch 089 | train_loss=0.6104 | val_acc=69.23%\n"
          ]
        },
        {
          "output_type": "stream",
          "name": "stderr",
          "text": []
        },
        {
          "output_type": "stream",
          "name": "stdout",
          "text": [
            "Epoch 090 | train_loss=0.6292 | val_acc=68.85%\n"
          ]
        },
        {
          "output_type": "stream",
          "name": "stderr",
          "text": []
        },
        {
          "output_type": "stream",
          "name": "stdout",
          "text": [
            "Epoch 091 | train_loss=0.6264 | val_acc=66.42%\n"
          ]
        },
        {
          "output_type": "stream",
          "name": "stderr",
          "text": []
        },
        {
          "output_type": "stream",
          "name": "stdout",
          "text": [
            "Epoch 092 | train_loss=0.6307 | val_acc=65.38%\n"
          ]
        },
        {
          "output_type": "stream",
          "name": "stderr",
          "text": []
        },
        {
          "output_type": "stream",
          "name": "stdout",
          "text": [
            "Epoch 093 | train_loss=0.6204 | val_acc=68.05%\n"
          ]
        },
        {
          "output_type": "stream",
          "name": "stderr",
          "text": []
        },
        {
          "output_type": "stream",
          "name": "stdout",
          "text": [
            "Epoch 094 | train_loss=0.6022 | val_acc=69.30%\n"
          ]
        },
        {
          "output_type": "stream",
          "name": "stderr",
          "text": []
        },
        {
          "output_type": "stream",
          "name": "stdout",
          "text": [
            "Epoch 095 | train_loss=0.6120 | val_acc=69.04%\n"
          ]
        },
        {
          "output_type": "stream",
          "name": "stderr",
          "text": []
        },
        {
          "output_type": "stream",
          "name": "stdout",
          "text": [
            "Epoch 096 | train_loss=0.6210 | val_acc=69.78%\n"
          ]
        },
        {
          "output_type": "stream",
          "name": "stderr",
          "text": []
        },
        {
          "output_type": "stream",
          "name": "stdout",
          "text": [
            "Epoch 097 | train_loss=0.5689 | val_acc=71.26%\n",
            "  → New best! Saved to teacher_4_resnet34_best.pth\n"
          ]
        },
        {
          "output_type": "stream",
          "name": "stderr",
          "text": []
        },
        {
          "output_type": "stream",
          "name": "stdout",
          "text": [
            "Epoch 098 | train_loss=0.5670 | val_acc=66.12%\n"
          ]
        },
        {
          "output_type": "stream",
          "name": "stderr",
          "text": []
        },
        {
          "output_type": "stream",
          "name": "stdout",
          "text": [
            "Epoch 099 | train_loss=0.6031 | val_acc=71.36%\n",
            "  → New best! Saved to teacher_4_resnet34_best.pth\n"
          ]
        },
        {
          "output_type": "stream",
          "name": "stderr",
          "text": []
        },
        {
          "output_type": "stream",
          "name": "stdout",
          "text": [
            "Epoch 100 | train_loss=0.5785 | val_acc=68.97%\n"
          ]
        },
        {
          "output_type": "stream",
          "name": "stderr",
          "text": []
        },
        {
          "output_type": "stream",
          "name": "stdout",
          "text": [
            "Epoch 101 | train_loss=0.4102 | val_acc=75.90%\n",
            "  → New best! Saved to teacher_4_resnet34_best.pth\n"
          ]
        },
        {
          "output_type": "stream",
          "name": "stderr",
          "text": []
        },
        {
          "output_type": "stream",
          "name": "stdout",
          "text": [
            "Epoch 102 | train_loss=0.3265 | val_acc=76.36%\n",
            "  → New best! Saved to teacher_4_resnet34_best.pth\n"
          ]
        },
        {
          "output_type": "stream",
          "name": "stderr",
          "text": []
        },
        {
          "output_type": "stream",
          "name": "stdout",
          "text": [
            "Epoch 103 | train_loss=0.2937 | val_acc=77.43%\n",
            "  → New best! Saved to teacher_4_resnet34_best.pth\n"
          ]
        },
        {
          "output_type": "stream",
          "name": "stderr",
          "text": []
        },
        {
          "output_type": "stream",
          "name": "stdout",
          "text": [
            "Epoch 104 | train_loss=0.2747 | val_acc=76.80%\n"
          ]
        },
        {
          "output_type": "stream",
          "name": "stderr",
          "text": []
        },
        {
          "output_type": "stream",
          "name": "stdout",
          "text": [
            "Epoch 105 | train_loss=0.2619 | val_acc=76.54%\n"
          ]
        },
        {
          "output_type": "stream",
          "name": "stderr",
          "text": []
        },
        {
          "output_type": "stream",
          "name": "stdout",
          "text": [
            "Epoch 106 | train_loss=0.2468 | val_acc=77.15%\n"
          ]
        },
        {
          "output_type": "stream",
          "name": "stderr",
          "text": []
        },
        {
          "output_type": "stream",
          "name": "stdout",
          "text": [
            "Epoch 107 | train_loss=0.2272 | val_acc=76.75%\n"
          ]
        },
        {
          "output_type": "stream",
          "name": "stderr",
          "text": []
        },
        {
          "output_type": "stream",
          "name": "stdout",
          "text": [
            "Epoch 108 | train_loss=0.2178 | val_acc=77.24%\n"
          ]
        },
        {
          "output_type": "stream",
          "name": "stderr",
          "text": []
        },
        {
          "output_type": "stream",
          "name": "stdout",
          "text": [
            "Epoch 109 | train_loss=0.2148 | val_acc=77.02%\n"
          ]
        },
        {
          "output_type": "stream",
          "name": "stderr",
          "text": []
        },
        {
          "output_type": "stream",
          "name": "stdout",
          "text": [
            "Epoch 110 | train_loss=0.2088 | val_acc=76.72%\n"
          ]
        },
        {
          "output_type": "stream",
          "name": "stderr",
          "text": []
        },
        {
          "output_type": "stream",
          "name": "stdout",
          "text": [
            "Epoch 111 | train_loss=0.2070 | val_acc=77.50%\n",
            "  → New best! Saved to teacher_4_resnet34_best.pth\n"
          ]
        },
        {
          "output_type": "stream",
          "name": "stderr",
          "text": []
        },
        {
          "output_type": "stream",
          "name": "stdout",
          "text": [
            "Epoch 112 | train_loss=0.1858 | val_acc=77.00%\n"
          ]
        },
        {
          "output_type": "stream",
          "name": "stderr",
          "text": []
        },
        {
          "output_type": "stream",
          "name": "stdout",
          "text": [
            "Epoch 113 | train_loss=0.1801 | val_acc=77.12%\n"
          ]
        },
        {
          "output_type": "stream",
          "name": "stderr",
          "text": []
        },
        {
          "output_type": "stream",
          "name": "stdout",
          "text": [
            "Epoch 114 | train_loss=0.1708 | val_acc=76.67%\n"
          ]
        },
        {
          "output_type": "stream",
          "name": "stderr",
          "text": []
        },
        {
          "output_type": "stream",
          "name": "stdout",
          "text": [
            "Epoch 115 | train_loss=0.1662 | val_acc=77.31%\n"
          ]
        },
        {
          "output_type": "stream",
          "name": "stderr",
          "text": []
        },
        {
          "output_type": "stream",
          "name": "stdout",
          "text": [
            "Epoch 116 | train_loss=0.1605 | val_acc=76.81%\n"
          ]
        },
        {
          "output_type": "stream",
          "name": "stderr",
          "text": []
        },
        {
          "output_type": "stream",
          "name": "stdout",
          "text": [
            "Epoch 117 | train_loss=0.1573 | val_acc=76.89%\n"
          ]
        },
        {
          "output_type": "stream",
          "name": "stderr",
          "text": []
        },
        {
          "output_type": "stream",
          "name": "stdout",
          "text": [
            "Epoch 118 | train_loss=0.1525 | val_acc=76.63%\n"
          ]
        },
        {
          "output_type": "stream",
          "name": "stderr",
          "text": []
        },
        {
          "output_type": "stream",
          "name": "stdout",
          "text": [
            "Epoch 119 | train_loss=0.1411 | val_acc=76.84%\n"
          ]
        },
        {
          "output_type": "stream",
          "name": "stderr",
          "text": []
        },
        {
          "output_type": "stream",
          "name": "stdout",
          "text": [
            "Epoch 120 | train_loss=0.1460 | val_acc=76.90%\n"
          ]
        },
        {
          "output_type": "stream",
          "name": "stderr",
          "text": []
        },
        {
          "output_type": "stream",
          "name": "stdout",
          "text": [
            "Epoch 121 | train_loss=0.1322 | val_acc=76.43%\n"
          ]
        },
        {
          "output_type": "stream",
          "name": "stderr",
          "text": []
        },
        {
          "output_type": "stream",
          "name": "stdout",
          "text": [
            "Epoch 122 | train_loss=0.1513 | val_acc=76.60%\n"
          ]
        },
        {
          "output_type": "stream",
          "name": "stderr",
          "text": []
        },
        {
          "output_type": "stream",
          "name": "stdout",
          "text": [
            "Epoch 123 | train_loss=0.1265 | val_acc=76.79%\n"
          ]
        },
        {
          "output_type": "stream",
          "name": "stderr",
          "text": []
        },
        {
          "output_type": "stream",
          "name": "stdout",
          "text": [
            "Epoch 124 | train_loss=0.1255 | val_acc=76.67%\n"
          ]
        },
        {
          "output_type": "stream",
          "name": "stderr",
          "text": []
        },
        {
          "output_type": "stream",
          "name": "stdout",
          "text": [
            "Epoch 125 | train_loss=0.1208 | val_acc=76.38%\n"
          ]
        },
        {
          "output_type": "stream",
          "name": "stderr",
          "text": []
        },
        {
          "output_type": "stream",
          "name": "stdout",
          "text": [
            "Epoch 126 | train_loss=0.1140 | val_acc=76.82%\n"
          ]
        },
        {
          "output_type": "stream",
          "name": "stderr",
          "text": []
        },
        {
          "output_type": "stream",
          "name": "stdout",
          "text": [
            "Epoch 127 | train_loss=0.1289 | val_acc=76.48%\n"
          ]
        },
        {
          "output_type": "stream",
          "name": "stderr",
          "text": []
        },
        {
          "output_type": "stream",
          "name": "stdout",
          "text": [
            "Epoch 128 | train_loss=0.1186 | val_acc=76.89%\n"
          ]
        },
        {
          "output_type": "stream",
          "name": "stderr",
          "text": []
        },
        {
          "output_type": "stream",
          "name": "stdout",
          "text": [
            "Epoch 129 | train_loss=0.1091 | val_acc=76.37%\n"
          ]
        },
        {
          "output_type": "stream",
          "name": "stderr",
          "text": []
        },
        {
          "output_type": "stream",
          "name": "stdout",
          "text": [
            "Epoch 130 | train_loss=0.1111 | val_acc=76.36%\n"
          ]
        },
        {
          "output_type": "stream",
          "name": "stderr",
          "text": []
        },
        {
          "output_type": "stream",
          "name": "stdout",
          "text": [
            "Epoch 131 | train_loss=0.1156 | val_acc=75.93%\n"
          ]
        },
        {
          "output_type": "stream",
          "name": "stderr",
          "text": []
        },
        {
          "output_type": "stream",
          "name": "stdout",
          "text": [
            "Epoch 132 | train_loss=0.0972 | val_acc=76.40%\n"
          ]
        },
        {
          "output_type": "stream",
          "name": "stderr",
          "text": []
        },
        {
          "output_type": "stream",
          "name": "stdout",
          "text": [
            "Epoch 133 | train_loss=0.1022 | val_acc=76.36%\n"
          ]
        },
        {
          "output_type": "stream",
          "name": "stderr",
          "text": []
        },
        {
          "output_type": "stream",
          "name": "stdout",
          "text": [
            "Epoch 134 | train_loss=0.1017 | val_acc=76.85%\n"
          ]
        },
        {
          "output_type": "stream",
          "name": "stderr",
          "text": []
        },
        {
          "output_type": "stream",
          "name": "stdout",
          "text": [
            "Epoch 135 | train_loss=0.1008 | val_acc=76.68%\n"
          ]
        },
        {
          "output_type": "stream",
          "name": "stderr",
          "text": []
        },
        {
          "output_type": "stream",
          "name": "stdout",
          "text": [
            "Epoch 136 | train_loss=0.0897 | val_acc=76.09%\n"
          ]
        },
        {
          "output_type": "stream",
          "name": "stderr",
          "text": []
        },
        {
          "output_type": "stream",
          "name": "stdout",
          "text": [
            "Epoch 137 | train_loss=0.0958 | val_acc=76.92%\n"
          ]
        },
        {
          "output_type": "stream",
          "name": "stderr",
          "text": []
        },
        {
          "output_type": "stream",
          "name": "stdout",
          "text": [
            "Epoch 138 | train_loss=0.1069 | val_acc=76.12%\n"
          ]
        },
        {
          "output_type": "stream",
          "name": "stderr",
          "text": []
        },
        {
          "output_type": "stream",
          "name": "stdout",
          "text": [
            "Epoch 139 | train_loss=0.0940 | val_acc=76.55%\n"
          ]
        },
        {
          "output_type": "stream",
          "name": "stderr",
          "text": []
        },
        {
          "output_type": "stream",
          "name": "stdout",
          "text": [
            "Epoch 140 | train_loss=0.0863 | val_acc=76.25%\n"
          ]
        },
        {
          "output_type": "stream",
          "name": "stderr",
          "text": []
        },
        {
          "output_type": "stream",
          "name": "stdout",
          "text": [
            "Epoch 141 | train_loss=0.0885 | val_acc=76.83%\n"
          ]
        },
        {
          "output_type": "stream",
          "name": "stderr",
          "text": []
        },
        {
          "output_type": "stream",
          "name": "stdout",
          "text": [
            "Epoch 142 | train_loss=0.0830 | val_acc=76.26%\n"
          ]
        },
        {
          "output_type": "stream",
          "name": "stderr",
          "text": []
        },
        {
          "output_type": "stream",
          "name": "stdout",
          "text": [
            "Epoch 143 | train_loss=0.0869 | val_acc=76.82%\n"
          ]
        },
        {
          "output_type": "stream",
          "name": "stderr",
          "text": []
        },
        {
          "output_type": "stream",
          "name": "stdout",
          "text": [
            "Epoch 144 | train_loss=0.0768 | val_acc=76.51%\n"
          ]
        },
        {
          "output_type": "stream",
          "name": "stderr",
          "text": []
        },
        {
          "output_type": "stream",
          "name": "stdout",
          "text": [
            "Epoch 145 | train_loss=0.0820 | val_acc=76.66%\n"
          ]
        },
        {
          "output_type": "stream",
          "name": "stderr",
          "text": []
        },
        {
          "output_type": "stream",
          "name": "stdout",
          "text": [
            "Epoch 146 | train_loss=0.0807 | val_acc=76.60%\n"
          ]
        },
        {
          "output_type": "stream",
          "name": "stderr",
          "text": []
        },
        {
          "output_type": "stream",
          "name": "stdout",
          "text": [
            "Epoch 147 | train_loss=0.0965 | val_acc=76.54%\n"
          ]
        },
        {
          "output_type": "stream",
          "name": "stderr",
          "text": []
        },
        {
          "output_type": "stream",
          "name": "stdout",
          "text": [
            "Epoch 148 | train_loss=0.0906 | val_acc=75.71%\n"
          ]
        },
        {
          "output_type": "stream",
          "name": "stderr",
          "text": []
        },
        {
          "output_type": "stream",
          "name": "stdout",
          "text": [
            "Epoch 149 | train_loss=0.0867 | val_acc=76.38%\n"
          ]
        },
        {
          "output_type": "stream",
          "name": "stderr",
          "text": []
        },
        {
          "output_type": "stream",
          "name": "stdout",
          "text": [
            "Epoch 150 | train_loss=0.1052 | val_acc=76.64%\n"
          ]
        },
        {
          "output_type": "stream",
          "name": "stderr",
          "text": []
        },
        {
          "output_type": "stream",
          "name": "stdout",
          "text": [
            "Epoch 151 | train_loss=0.0700 | val_acc=76.90%\n"
          ]
        },
        {
          "output_type": "stream",
          "name": "stderr",
          "text": []
        },
        {
          "output_type": "stream",
          "name": "stdout",
          "text": [
            "Epoch 152 | train_loss=0.0600 | val_acc=76.98%\n"
          ]
        },
        {
          "output_type": "stream",
          "name": "stderr",
          "text": []
        },
        {
          "output_type": "stream",
          "name": "stdout",
          "text": [
            "Epoch 153 | train_loss=0.0573 | val_acc=77.32%\n"
          ]
        },
        {
          "output_type": "stream",
          "name": "stderr",
          "text": []
        },
        {
          "output_type": "stream",
          "name": "stdout",
          "text": [
            "Epoch 154 | train_loss=0.0493 | val_acc=77.46%\n"
          ]
        },
        {
          "output_type": "stream",
          "name": "stderr",
          "text": []
        },
        {
          "output_type": "stream",
          "name": "stdout",
          "text": [
            "Epoch 155 | train_loss=0.0520 | val_acc=77.24%\n"
          ]
        },
        {
          "output_type": "stream",
          "name": "stderr",
          "text": []
        },
        {
          "output_type": "stream",
          "name": "stdout",
          "text": [
            "Epoch 156 | train_loss=0.0463 | val_acc=77.45%\n"
          ]
        },
        {
          "output_type": "stream",
          "name": "stderr",
          "text": []
        },
        {
          "output_type": "stream",
          "name": "stdout",
          "text": [
            "Epoch 157 | train_loss=0.0478 | val_acc=77.67%\n",
            "  → New best! Saved to teacher_4_resnet34_best.pth\n"
          ]
        },
        {
          "output_type": "stream",
          "name": "stderr",
          "text": []
        },
        {
          "output_type": "stream",
          "name": "stdout",
          "text": [
            "Epoch 158 | train_loss=0.0452 | val_acc=77.58%\n"
          ]
        },
        {
          "output_type": "stream",
          "name": "stderr",
          "text": []
        },
        {
          "output_type": "stream",
          "name": "stdout",
          "text": [
            "Epoch 159 | train_loss=0.0404 | val_acc=77.44%\n"
          ]
        },
        {
          "output_type": "stream",
          "name": "stderr",
          "text": []
        },
        {
          "output_type": "stream",
          "name": "stdout",
          "text": [
            "Epoch 160 | train_loss=0.0435 | val_acc=77.63%\n"
          ]
        },
        {
          "output_type": "stream",
          "name": "stderr",
          "text": []
        },
        {
          "output_type": "stream",
          "name": "stdout",
          "text": [
            "Epoch 161 | train_loss=0.0420 | val_acc=77.65%\n"
          ]
        },
        {
          "output_type": "stream",
          "name": "stderr",
          "text": []
        },
        {
          "output_type": "stream",
          "name": "stdout",
          "text": [
            "Epoch 162 | train_loss=0.0401 | val_acc=77.57%\n"
          ]
        },
        {
          "output_type": "stream",
          "name": "stderr",
          "text": []
        },
        {
          "output_type": "stream",
          "name": "stdout",
          "text": [
            "Epoch 163 | train_loss=0.0412 | val_acc=77.62%\n"
          ]
        },
        {
          "output_type": "stream",
          "name": "stderr",
          "text": []
        },
        {
          "output_type": "stream",
          "name": "stdout",
          "text": [
            "Epoch 164 | train_loss=0.0443 | val_acc=77.52%\n"
          ]
        },
        {
          "output_type": "stream",
          "name": "stderr",
          "text": []
        },
        {
          "output_type": "stream",
          "name": "stdout",
          "text": [
            "Epoch 165 | train_loss=0.0380 | val_acc=77.39%\n"
          ]
        },
        {
          "output_type": "stream",
          "name": "stderr",
          "text": []
        },
        {
          "output_type": "stream",
          "name": "stdout",
          "text": [
            "Epoch 166 | train_loss=0.0402 | val_acc=77.33%\n"
          ]
        },
        {
          "output_type": "stream",
          "name": "stderr",
          "text": []
        },
        {
          "output_type": "stream",
          "name": "stdout",
          "text": [
            "Epoch 167 | train_loss=0.0354 | val_acc=77.36%\n"
          ]
        },
        {
          "output_type": "stream",
          "name": "stderr",
          "text": []
        },
        {
          "output_type": "stream",
          "name": "stdout",
          "text": [
            "Epoch 168 | train_loss=0.0371 | val_acc=77.73%\n",
            "  → New best! Saved to teacher_4_resnet34_best.pth\n"
          ]
        },
        {
          "output_type": "stream",
          "name": "stderr",
          "text": []
        },
        {
          "output_type": "stream",
          "name": "stdout",
          "text": [
            "Epoch 169 | train_loss=0.0411 | val_acc=77.30%\n"
          ]
        },
        {
          "output_type": "stream",
          "name": "stderr",
          "text": []
        },
        {
          "output_type": "stream",
          "name": "stdout",
          "text": [
            "Epoch 170 | train_loss=0.0295 | val_acc=77.59%\n"
          ]
        },
        {
          "output_type": "stream",
          "name": "stderr",
          "text": []
        },
        {
          "output_type": "stream",
          "name": "stdout",
          "text": [
            "Epoch 171 | train_loss=0.0339 | val_acc=77.48%\n"
          ]
        },
        {
          "output_type": "stream",
          "name": "stderr",
          "text": []
        },
        {
          "output_type": "stream",
          "name": "stdout",
          "text": [
            "Epoch 172 | train_loss=0.0357 | val_acc=77.38%\n"
          ]
        },
        {
          "output_type": "stream",
          "name": "stderr",
          "text": []
        },
        {
          "output_type": "stream",
          "name": "stdout",
          "text": [
            "Epoch 173 | train_loss=0.0330 | val_acc=77.60%\n"
          ]
        },
        {
          "output_type": "stream",
          "name": "stderr",
          "text": []
        },
        {
          "output_type": "stream",
          "name": "stdout",
          "text": [
            "Epoch 174 | train_loss=0.0349 | val_acc=77.60%\n"
          ]
        },
        {
          "output_type": "stream",
          "name": "stderr",
          "text": []
        },
        {
          "output_type": "stream",
          "name": "stdout",
          "text": [
            "Epoch 175 | train_loss=0.0284 | val_acc=77.64%\n"
          ]
        },
        {
          "output_type": "stream",
          "name": "stderr",
          "text": []
        },
        {
          "output_type": "stream",
          "name": "stdout",
          "text": [
            "Epoch 176 | train_loss=0.0344 | val_acc=77.60%\n"
          ]
        },
        {
          "output_type": "stream",
          "name": "stderr",
          "text": []
        },
        {
          "output_type": "stream",
          "name": "stdout",
          "text": [
            "Epoch 177 | train_loss=0.0319 | val_acc=77.82%\n",
            "  → New best! Saved to teacher_4_resnet34_best.pth\n"
          ]
        },
        {
          "output_type": "stream",
          "name": "stderr",
          "text": []
        },
        {
          "output_type": "stream",
          "name": "stdout",
          "text": [
            "Epoch 178 | train_loss=0.0338 | val_acc=77.74%\n"
          ]
        },
        {
          "output_type": "stream",
          "name": "stderr",
          "text": []
        },
        {
          "output_type": "stream",
          "name": "stdout",
          "text": [
            "Epoch 179 | train_loss=0.0353 | val_acc=77.65%\n"
          ]
        },
        {
          "output_type": "stream",
          "name": "stderr",
          "text": []
        },
        {
          "output_type": "stream",
          "name": "stdout",
          "text": [
            "Epoch 180 | train_loss=0.0318 | val_acc=77.75%\n"
          ]
        },
        {
          "output_type": "stream",
          "name": "stderr",
          "text": []
        },
        {
          "output_type": "stream",
          "name": "stdout",
          "text": [
            "Epoch 181 | train_loss=0.0313 | val_acc=77.77%\n"
          ]
        },
        {
          "output_type": "stream",
          "name": "stderr",
          "text": []
        },
        {
          "output_type": "stream",
          "name": "stdout",
          "text": [
            "Epoch 182 | train_loss=0.0312 | val_acc=77.57%\n"
          ]
        },
        {
          "output_type": "stream",
          "name": "stderr",
          "text": []
        },
        {
          "output_type": "stream",
          "name": "stdout",
          "text": [
            "Epoch 183 | train_loss=0.0309 | val_acc=77.76%\n"
          ]
        },
        {
          "output_type": "stream",
          "name": "stderr",
          "text": []
        },
        {
          "output_type": "stream",
          "name": "stdout",
          "text": [
            "Epoch 184 | train_loss=0.0293 | val_acc=77.84%\n",
            "  → New best! Saved to teacher_4_resnet34_best.pth\n"
          ]
        },
        {
          "output_type": "stream",
          "name": "stderr",
          "text": []
        },
        {
          "output_type": "stream",
          "name": "stdout",
          "text": [
            "Epoch 185 | train_loss=0.0305 | val_acc=77.82%\n"
          ]
        },
        {
          "output_type": "stream",
          "name": "stderr",
          "text": []
        },
        {
          "output_type": "stream",
          "name": "stdout",
          "text": [
            "Epoch 186 | train_loss=0.0298 | val_acc=77.74%\n"
          ]
        },
        {
          "output_type": "stream",
          "name": "stderr",
          "text": []
        },
        {
          "output_type": "stream",
          "name": "stdout",
          "text": [
            "Epoch 187 | train_loss=0.0311 | val_acc=77.59%\n"
          ]
        },
        {
          "output_type": "stream",
          "name": "stderr",
          "text": []
        },
        {
          "output_type": "stream",
          "name": "stdout",
          "text": [
            "Epoch 188 | train_loss=0.0265 | val_acc=77.46%\n"
          ]
        },
        {
          "output_type": "stream",
          "name": "stderr",
          "text": []
        },
        {
          "output_type": "stream",
          "name": "stdout",
          "text": [
            "Epoch 189 | train_loss=0.0276 | val_acc=77.58%\n"
          ]
        },
        {
          "output_type": "stream",
          "name": "stderr",
          "text": []
        },
        {
          "output_type": "stream",
          "name": "stdout",
          "text": [
            "Epoch 190 | train_loss=0.0251 | val_acc=77.51%\n"
          ]
        },
        {
          "output_type": "stream",
          "name": "stderr",
          "text": []
        },
        {
          "output_type": "stream",
          "name": "stdout",
          "text": [
            "Epoch 191 | train_loss=0.0282 | val_acc=77.63%\n"
          ]
        },
        {
          "output_type": "stream",
          "name": "stderr",
          "text": []
        },
        {
          "output_type": "stream",
          "name": "stdout",
          "text": [
            "Epoch 192 | train_loss=0.0278 | val_acc=77.75%\n"
          ]
        },
        {
          "output_type": "stream",
          "name": "stderr",
          "text": []
        },
        {
          "output_type": "stream",
          "name": "stdout",
          "text": [
            "Epoch 193 | train_loss=0.0265 | val_acc=77.56%\n"
          ]
        },
        {
          "output_type": "stream",
          "name": "stderr",
          "text": []
        },
        {
          "output_type": "stream",
          "name": "stdout",
          "text": [
            "Epoch 194 | train_loss=0.0255 | val_acc=77.67%\n"
          ]
        },
        {
          "output_type": "stream",
          "name": "stderr",
          "text": []
        },
        {
          "output_type": "stream",
          "name": "stdout",
          "text": [
            "Epoch 195 | train_loss=0.0247 | val_acc=77.76%\n"
          ]
        },
        {
          "output_type": "stream",
          "name": "stderr",
          "text": []
        },
        {
          "output_type": "stream",
          "name": "stdout",
          "text": [
            "Epoch 196 | train_loss=0.0251 | val_acc=77.38%\n"
          ]
        },
        {
          "output_type": "stream",
          "name": "stderr",
          "text": []
        },
        {
          "output_type": "stream",
          "name": "stdout",
          "text": [
            "Epoch 197 | train_loss=0.0243 | val_acc=77.70%\n"
          ]
        },
        {
          "output_type": "stream",
          "name": "stderr",
          "text": []
        },
        {
          "output_type": "stream",
          "name": "stdout",
          "text": [
            "Epoch 198 | train_loss=0.0257 | val_acc=77.56%\n"
          ]
        },
        {
          "output_type": "stream",
          "name": "stderr",
          "text": []
        },
        {
          "output_type": "stream",
          "name": "stdout",
          "text": [
            "Epoch 199 | train_loss=0.0237 | val_acc=77.67%\n"
          ]
        },
        {
          "output_type": "stream",
          "name": "stderr",
          "text": []
        },
        {
          "output_type": "stream",
          "name": "stdout",
          "text": [
            "Epoch 200 | train_loss=0.0249 | val_acc=77.72%\n",
            "Teacher #4 (resnet34) best validation accuracy: 77.84%\n"
          ]
        }
      ]
    },
    {
      "cell_type": "markdown",
      "source": [
        "# 改进版Part3\n",
        "下面的代码是一份 改进版的 Teacher 训练脚本，把 每个 teacher 都改成在 全量 CIFAR‑10 上训练，同时加入更强的数据增强（随机裁剪 + 翻转 + Cutout）、Label Smoothing、Mixup，以及更合理的学习率调度，通常可以让单个 ResNet‑50 在 CIFAR‑10 上达到 90% 以上的准确率。\n",
        "\n",
        "要点总结\n",
        "\n",
        "全量数据：不再把数据切分成多个 teacher_loader，而是都用同一个完整的 train_loader。\n",
        "\n",
        "强增强：RandomCrop(32,4) / RandomHorizontalFlip / Cutout。\n",
        "\n",
        "Mixup：在 batch 级别做 Mixup，增加泛化。\n",
        "\n",
        "Label Smoothing：CrossEntropy 损失里做平滑，抑制过度自信。\n",
        "\n",
        "CosineAnnealingLR：比 MultiStepLR 更平滑地衰减 lr。\n",
        "\n",
        "更长 schedule：200 → 300 epochs，常在 0–1 之间 Cosine 衰减。\n",
        "\n",
        "为什么会有效？\n",
        "全量数据 + 强增强：随机裁剪、翻转、Cutout（自行接入）让模型见到更多变形。\n",
        "\n",
        "Mixup：在样本层面插值，能显著提升模型泛化。\n",
        "\n",
        "Label Smoothing：抑制模型过度自信，提升 test accuracy。\n",
        "\n",
        "Cosine LR：平滑衰减学习率，比阶梯式更好地利用后期微调。\n",
        "\n",
        "足够多的 Epochs (300)：给 ResNet‑50 充分的训练时间。\n",
        "\n",
        "在 CIFAR‑10 上，这套配置下 ResNet‑50 通常能稳稳突破 90%，甚至接近 93% ~ 95%。如果你还有更强的硬件，也可以把 Mixup 改成 CutMix、再加上 AutoAugment 做更激进的增强，accuracy 会更高。\n",
        "\n",
        "\n",
        "\n",
        "\n",
        "\n",
        "\n",
        "\n"
      ],
      "metadata": {
        "id": "scu_-MHQHTId"
      }
    },
    {
      "cell_type": "code",
      "source": [
        "import os, glob\n",
        "import torch\n",
        "import torch.nn as nn\n",
        "import torch.optim as optim\n",
        "from tqdm import tqdm\n",
        "from torchvision import datasets, transforms\n",
        "from torchvision.models import resnet50  # 统一用 ResNet‑50\n",
        "from torch.utils.data import DataLoader\n",
        "import numpy as np\n",
        "\n",
        "# ───── 0️⃣ CIFAR-10 全量训练/测试 DataLoader ─────\n",
        "mean = (0.4914, 0.4822, 0.4465)\n",
        "std  = (0.2470, 0.2435, 0.2616)\n",
        "\n",
        "# 强化数据增强\n",
        "train_transform = transforms.Compose([\n",
        "    transforms.RandomCrop(32, padding=4),\n",
        "    transforms.RandomHorizontalFlip(),\n",
        "    transforms.ToTensor(),\n",
        "    transforms.Normalize(mean, std),\n",
        "])\n",
        "\n",
        "test_transform = transforms.Compose([\n",
        "    transforms.ToTensor(),\n",
        "    transforms.Normalize(mean, std),\n",
        "])\n",
        "\n",
        "batch_size = 128\n",
        "train_loader = DataLoader(\n",
        "    datasets.CIFAR10(root='data/', train=True,  download=True, transform=train_transform),\n",
        "    batch_size=batch_size, shuffle=True,  num_workers=4, pin_memory=True\n",
        ")\n",
        "test_loader = DataLoader(\n",
        "    datasets.CIFAR10(root='data/', train=False, download=True, transform=test_transform),\n",
        "    batch_size=batch_size, shuffle=False, num_workers=4, pin_memory=True\n",
        ")\n",
        "\n",
        "device = torch.device('cuda' if torch.cuda.is_available() else 'cpu')\n",
        "\n",
        "# ───── 1️⃣ Mixup 辅助函数 ─────\n",
        "def mixup_data(x, y, alpha=1.0):\n",
        "    if alpha > 0:\n",
        "        lam = np.random.beta(alpha, alpha)\n",
        "    else:\n",
        "        lam = 1.0\n",
        "    batch_size = x.size()[0]\n",
        "    index = torch.randperm(batch_size).to(x.device)\n",
        "    mixed_x = lam * x + (1 - lam) * x[index, :]\n",
        "    y_a, y_b = y, y[index]\n",
        "    return mixed_x, y_a, y_b, lam\n",
        "\n",
        "# ───── 2️⃣ Label Smoothing CrossEntropy ─────\n",
        "class LabelSmoothingCrossEntropy(nn.Module):\n",
        "    def __init__(self, eps:float=0.1, reduction='mean'):\n",
        "        super().__init__()\n",
        "        self.eps = eps\n",
        "        self.reduction = reduction\n",
        "    def forward(self, outputs, targets):\n",
        "        n = outputs.size(-1)\n",
        "        log_preds = torch.log_softmax(outputs, dim=-1)\n",
        "        # one-hot\n",
        "        with torch.no_grad():\n",
        "            true_dist = torch.zeros_like(log_preds)\n",
        "            true_dist.fill_(self.eps / (n-1))\n",
        "            true_dist.scatter_(1, targets.data.unsqueeze(1), 1-self.eps)\n",
        "        loss = torch.sum(- true_dist * log_preds, dim=1)\n",
        "        if self.reduction=='mean':\n",
        "            return loss.mean()\n",
        "        else:\n",
        "            return loss.sum()\n",
        "\n",
        "# ───── 3️⃣ 训练单个 teacher ─────\n",
        "num_epochs = 300\n",
        "criterion = LabelSmoothingCrossEntropy(eps=0.1)\n",
        "mixup_alpha = 0.2\n",
        "\n",
        "teacher_model = resnet50(num_classes=10).to(device)\n",
        "optimizer = optim.SGD(\n",
        "    teacher_model.parameters(),\n",
        "    lr=0.1, momentum=0.9, weight_decay=1e-4\n",
        ")\n",
        "# Cosine 衰减到 0\n",
        "scheduler = optim.lr_scheduler.CosineAnnealingLR(optimizer, T_max=num_epochs)\n",
        "\n",
        "best_acc = 0.0\n",
        "best_ckpt = \"teacher_resnet50_best.pth\"\n",
        "\n",
        "for epoch in range(1, num_epochs+1):\n",
        "    teacher_model.train()\n",
        "    running_loss = 0.0\n",
        "\n",
        "    for xb, yb in tqdm(train_loader, desc=f\"Epoch {epoch}/{num_epochs}\", leave=False):\n",
        "        xb, yb = xb.to(device), yb.to(device)\n",
        "        optimizer.zero_grad()\n",
        "\n",
        "        # 1) Mixup\n",
        "        xb_mix, y_a, y_b, lam = mixup_data(xb, yb, alpha=mixup_alpha)\n",
        "\n",
        "        # 2) forward + Label Smoothing\n",
        "        outputs = teacher_model(xb_mix)\n",
        "        loss = lam * criterion(outputs, y_a) + (1-lam) * criterion(outputs, y_b)\n",
        "\n",
        "        loss.backward()\n",
        "        optimizer.step()\n",
        "        running_loss += loss.item() * xb.size(0)\n",
        "\n",
        "    scheduler.step()\n",
        "    avg_loss = running_loss / len(train_loader.dataset)\n",
        "\n",
        "    # Validation\n",
        "    teacher_model.eval()\n",
        "    correct = total = 0\n",
        "    with torch.no_grad():\n",
        "        for xb, yb in test_loader:\n",
        "            xb, yb = xb.to(device), yb.to(device)\n",
        "            preds = teacher_model(xb).argmax(dim=1)\n",
        "            correct += (preds==yb).sum().item()\n",
        "            total   += yb.size(0)\n",
        "    val_acc = 100. * correct / total\n",
        "\n",
        "    print(f\"Epoch {epoch:03d} | train_loss={avg_loss:.4f} | val_acc={val_acc:.2f}%\")\n",
        "\n",
        "    if val_acc > best_acc:\n",
        "        best_acc = val_acc\n",
        "        torch.save({\n",
        "            'epoch': epoch,\n",
        "            'arch':  'resnet50',\n",
        "            'model_state': teacher_model.state_dict(),\n",
        "            'optimizer_state': optimizer.state_dict(),\n",
        "            'val_acc': best_acc,\n",
        "        }, best_ckpt)\n",
        "        print(f\"  → New best! Saved to {best_ckpt}\")\n",
        "\n",
        "print(f\"\\n✅ Training complete. Best teacher val_acc = {best_acc:.2f}%\")\n"
      ],
      "metadata": {
        "colab": {
          "base_uri": "https://localhost:8080/"
        },
        "id": "MQqdIt22HWfD",
        "outputId": "7e6dbb62-2c63-43a1-c7af-80c1fdcff760"
      },
      "execution_count": 20,
      "outputs": [
        {
          "output_type": "stream",
          "name": "stderr",
          "text": []
        },
        {
          "output_type": "stream",
          "name": "stdout",
          "text": [
            "Epoch 001 | train_loss=5.1129 | val_acc=15.98%\n",
            "  → New best! Saved to teacher_resnet50_best.pth\n"
          ]
        },
        {
          "output_type": "stream",
          "name": "stderr",
          "text": []
        },
        {
          "output_type": "stream",
          "name": "stdout",
          "text": [
            "Epoch 002 | train_loss=2.2776 | val_acc=21.40%\n",
            "  → New best! Saved to teacher_resnet50_best.pth\n"
          ]
        },
        {
          "output_type": "stream",
          "name": "stderr",
          "text": []
        },
        {
          "output_type": "stream",
          "name": "stdout",
          "text": [
            "Epoch 003 | train_loss=2.1576 | val_acc=25.41%\n",
            "  → New best! Saved to teacher_resnet50_best.pth\n"
          ]
        },
        {
          "output_type": "stream",
          "name": "stderr",
          "text": []
        },
        {
          "output_type": "stream",
          "name": "stdout",
          "text": [
            "Epoch 004 | train_loss=2.0767 | val_acc=31.08%\n",
            "  → New best! Saved to teacher_resnet50_best.pth\n"
          ]
        },
        {
          "output_type": "stream",
          "name": "stderr",
          "text": []
        },
        {
          "output_type": "stream",
          "name": "stdout",
          "text": [
            "Epoch 005 | train_loss=2.0175 | val_acc=35.10%\n",
            "  → New best! Saved to teacher_resnet50_best.pth\n"
          ]
        },
        {
          "output_type": "stream",
          "name": "stderr",
          "text": []
        },
        {
          "output_type": "stream",
          "name": "stdout",
          "text": [
            "Epoch 006 | train_loss=1.9649 | val_acc=37.04%\n",
            "  → New best! Saved to teacher_resnet50_best.pth\n"
          ]
        },
        {
          "output_type": "stream",
          "name": "stderr",
          "text": []
        },
        {
          "output_type": "stream",
          "name": "stdout",
          "text": [
            "Epoch 007 | train_loss=1.9508 | val_acc=38.88%\n",
            "  → New best! Saved to teacher_resnet50_best.pth\n"
          ]
        },
        {
          "output_type": "stream",
          "name": "stderr",
          "text": []
        },
        {
          "output_type": "stream",
          "name": "stdout",
          "text": [
            "Epoch 008 | train_loss=1.9222 | val_acc=40.86%\n",
            "  → New best! Saved to teacher_resnet50_best.pth\n"
          ]
        },
        {
          "output_type": "stream",
          "name": "stderr",
          "text": []
        },
        {
          "output_type": "stream",
          "name": "stdout",
          "text": [
            "Epoch 009 | train_loss=1.8901 | val_acc=42.69%\n",
            "  → New best! Saved to teacher_resnet50_best.pth\n"
          ]
        },
        {
          "output_type": "stream",
          "name": "stderr",
          "text": []
        },
        {
          "output_type": "stream",
          "name": "stdout",
          "text": [
            "Epoch 010 | train_loss=1.8634 | val_acc=44.10%\n",
            "  → New best! Saved to teacher_resnet50_best.pth\n"
          ]
        },
        {
          "output_type": "stream",
          "name": "stderr",
          "text": []
        },
        {
          "output_type": "stream",
          "name": "stdout",
          "text": [
            "Epoch 011 | train_loss=1.8412 | val_acc=45.20%\n",
            "  → New best! Saved to teacher_resnet50_best.pth\n"
          ]
        },
        {
          "output_type": "stream",
          "name": "stderr",
          "text": []
        },
        {
          "output_type": "stream",
          "name": "stdout",
          "text": [
            "Epoch 012 | train_loss=1.8184 | val_acc=47.32%\n",
            "  → New best! Saved to teacher_resnet50_best.pth\n"
          ]
        },
        {
          "output_type": "stream",
          "name": "stderr",
          "text": []
        },
        {
          "output_type": "stream",
          "name": "stdout",
          "text": [
            "Epoch 013 | train_loss=1.7891 | val_acc=49.04%\n",
            "  → New best! Saved to teacher_resnet50_best.pth\n"
          ]
        },
        {
          "output_type": "stream",
          "name": "stderr",
          "text": []
        },
        {
          "output_type": "stream",
          "name": "stdout",
          "text": [
            "Epoch 014 | train_loss=1.7654 | val_acc=49.81%\n",
            "  → New best! Saved to teacher_resnet50_best.pth\n"
          ]
        },
        {
          "output_type": "stream",
          "name": "stderr",
          "text": []
        },
        {
          "output_type": "stream",
          "name": "stdout",
          "text": [
            "Epoch 015 | train_loss=1.7477 | val_acc=48.71%\n"
          ]
        },
        {
          "output_type": "stream",
          "name": "stderr",
          "text": []
        },
        {
          "output_type": "stream",
          "name": "stdout",
          "text": [
            "Epoch 016 | train_loss=1.7266 | val_acc=50.52%\n",
            "  → New best! Saved to teacher_resnet50_best.pth\n"
          ]
        },
        {
          "output_type": "stream",
          "name": "stderr",
          "text": []
        },
        {
          "output_type": "stream",
          "name": "stdout",
          "text": [
            "Epoch 017 | train_loss=1.7103 | val_acc=53.89%\n",
            "  → New best! Saved to teacher_resnet50_best.pth\n"
          ]
        },
        {
          "output_type": "stream",
          "name": "stderr",
          "text": []
        },
        {
          "output_type": "stream",
          "name": "stdout",
          "text": [
            "Epoch 018 | train_loss=1.6827 | val_acc=55.21%\n",
            "  → New best! Saved to teacher_resnet50_best.pth\n"
          ]
        },
        {
          "output_type": "stream",
          "name": "stderr",
          "text": []
        },
        {
          "output_type": "stream",
          "name": "stdout",
          "text": [
            "Epoch 019 | train_loss=1.6676 | val_acc=55.43%\n",
            "  → New best! Saved to teacher_resnet50_best.pth\n"
          ]
        },
        {
          "output_type": "stream",
          "name": "stderr",
          "text": []
        },
        {
          "output_type": "stream",
          "name": "stdout",
          "text": [
            "Epoch 020 | train_loss=1.6460 | val_acc=58.12%\n",
            "  → New best! Saved to teacher_resnet50_best.pth\n"
          ]
        },
        {
          "output_type": "stream",
          "name": "stderr",
          "text": []
        },
        {
          "output_type": "stream",
          "name": "stdout",
          "text": [
            "Epoch 021 | train_loss=1.6063 | val_acc=58.94%\n",
            "  → New best! Saved to teacher_resnet50_best.pth\n"
          ]
        },
        {
          "output_type": "stream",
          "name": "stderr",
          "text": []
        },
        {
          "output_type": "stream",
          "name": "stdout",
          "text": [
            "Epoch 022 | train_loss=1.5990 | val_acc=60.67%\n",
            "  → New best! Saved to teacher_resnet50_best.pth\n"
          ]
        },
        {
          "output_type": "stream",
          "name": "stderr",
          "text": []
        },
        {
          "output_type": "stream",
          "name": "stdout",
          "text": [
            "Epoch 023 | train_loss=1.5746 | val_acc=62.60%\n",
            "  → New best! Saved to teacher_resnet50_best.pth\n"
          ]
        },
        {
          "output_type": "stream",
          "name": "stderr",
          "text": []
        },
        {
          "output_type": "stream",
          "name": "stdout",
          "text": [
            "Epoch 024 | train_loss=1.5559 | val_acc=63.24%\n",
            "  → New best! Saved to teacher_resnet50_best.pth\n"
          ]
        },
        {
          "output_type": "stream",
          "name": "stderr",
          "text": []
        },
        {
          "output_type": "stream",
          "name": "stdout",
          "text": [
            "Epoch 025 | train_loss=1.5134 | val_acc=64.80%\n",
            "  → New best! Saved to teacher_resnet50_best.pth\n"
          ]
        },
        {
          "output_type": "stream",
          "name": "stderr",
          "text": []
        },
        {
          "output_type": "stream",
          "name": "stdout",
          "text": [
            "Epoch 026 | train_loss=1.5064 | val_acc=64.16%\n"
          ]
        },
        {
          "output_type": "stream",
          "name": "stderr",
          "text": []
        },
        {
          "output_type": "stream",
          "name": "stdout",
          "text": [
            "Epoch 027 | train_loss=1.5060 | val_acc=64.26%\n"
          ]
        },
        {
          "output_type": "stream",
          "name": "stderr",
          "text": []
        },
        {
          "output_type": "stream",
          "name": "stdout",
          "text": [
            "Epoch 028 | train_loss=1.5089 | val_acc=67.15%\n",
            "  → New best! Saved to teacher_resnet50_best.pth\n"
          ]
        },
        {
          "output_type": "stream",
          "name": "stderr",
          "text": []
        },
        {
          "output_type": "stream",
          "name": "stdout",
          "text": [
            "Epoch 029 | train_loss=1.4937 | val_acc=62.84%\n"
          ]
        },
        {
          "output_type": "stream",
          "name": "stderr",
          "text": []
        },
        {
          "output_type": "stream",
          "name": "stdout",
          "text": [
            "Epoch 030 | train_loss=1.5079 | val_acc=64.89%\n"
          ]
        },
        {
          "output_type": "stream",
          "name": "stderr",
          "text": []
        },
        {
          "output_type": "stream",
          "name": "stdout",
          "text": [
            "Epoch 031 | train_loss=1.4676 | val_acc=67.47%\n",
            "  → New best! Saved to teacher_resnet50_best.pth\n"
          ]
        },
        {
          "output_type": "stream",
          "name": "stderr",
          "text": []
        },
        {
          "output_type": "stream",
          "name": "stdout",
          "text": [
            "Epoch 032 | train_loss=1.4847 | val_acc=62.97%\n"
          ]
        },
        {
          "output_type": "stream",
          "name": "stderr",
          "text": []
        },
        {
          "output_type": "stream",
          "name": "stdout",
          "text": [
            "Epoch 033 | train_loss=1.4590 | val_acc=70.45%\n",
            "  → New best! Saved to teacher_resnet50_best.pth\n"
          ]
        },
        {
          "output_type": "stream",
          "name": "stderr",
          "text": []
        },
        {
          "output_type": "stream",
          "name": "stdout",
          "text": [
            "Epoch 034 | train_loss=1.4051 | val_acc=69.90%\n"
          ]
        },
        {
          "output_type": "stream",
          "name": "stderr",
          "text": []
        },
        {
          "output_type": "stream",
          "name": "stdout",
          "text": [
            "Epoch 035 | train_loss=1.4070 | val_acc=71.40%\n",
            "  → New best! Saved to teacher_resnet50_best.pth\n"
          ]
        },
        {
          "output_type": "stream",
          "name": "stderr",
          "text": []
        },
        {
          "output_type": "stream",
          "name": "stdout",
          "text": [
            "Epoch 036 | train_loss=1.3915 | val_acc=72.37%\n",
            "  → New best! Saved to teacher_resnet50_best.pth\n"
          ]
        },
        {
          "output_type": "stream",
          "name": "stderr",
          "text": []
        },
        {
          "output_type": "stream",
          "name": "stdout",
          "text": [
            "Epoch 037 | train_loss=1.3621 | val_acc=73.65%\n",
            "  → New best! Saved to teacher_resnet50_best.pth\n"
          ]
        },
        {
          "output_type": "stream",
          "name": "stderr",
          "text": []
        },
        {
          "output_type": "stream",
          "name": "stdout",
          "text": [
            "Epoch 038 | train_loss=1.3442 | val_acc=71.60%\n"
          ]
        },
        {
          "output_type": "stream",
          "name": "stderr",
          "text": []
        },
        {
          "output_type": "stream",
          "name": "stdout",
          "text": [
            "Epoch 039 | train_loss=1.3815 | val_acc=72.61%\n"
          ]
        },
        {
          "output_type": "stream",
          "name": "stderr",
          "text": []
        },
        {
          "output_type": "stream",
          "name": "stdout",
          "text": [
            "Epoch 040 | train_loss=1.3257 | val_acc=73.42%\n"
          ]
        },
        {
          "output_type": "stream",
          "name": "stderr",
          "text": []
        },
        {
          "output_type": "stream",
          "name": "stdout",
          "text": [
            "Epoch 041 | train_loss=1.3153 | val_acc=72.60%\n"
          ]
        },
        {
          "output_type": "stream",
          "name": "stderr",
          "text": []
        },
        {
          "output_type": "stream",
          "name": "stdout",
          "text": [
            "Epoch 042 | train_loss=1.2985 | val_acc=75.65%\n",
            "  → New best! Saved to teacher_resnet50_best.pth\n"
          ]
        },
        {
          "output_type": "stream",
          "name": "stderr",
          "text": []
        },
        {
          "output_type": "stream",
          "name": "stdout",
          "text": [
            "Epoch 043 | train_loss=1.3482 | val_acc=73.86%\n"
          ]
        },
        {
          "output_type": "stream",
          "name": "stderr",
          "text": []
        },
        {
          "output_type": "stream",
          "name": "stdout",
          "text": [
            "Epoch 044 | train_loss=1.3162 | val_acc=74.90%\n"
          ]
        },
        {
          "output_type": "stream",
          "name": "stderr",
          "text": []
        },
        {
          "output_type": "stream",
          "name": "stdout",
          "text": [
            "Epoch 045 | train_loss=1.3077 | val_acc=74.54%\n"
          ]
        },
        {
          "output_type": "stream",
          "name": "stderr",
          "text": []
        },
        {
          "output_type": "stream",
          "name": "stdout",
          "text": [
            "Epoch 046 | train_loss=1.2971 | val_acc=76.08%\n",
            "  → New best! Saved to teacher_resnet50_best.pth\n"
          ]
        },
        {
          "output_type": "stream",
          "name": "stderr",
          "text": []
        },
        {
          "output_type": "stream",
          "name": "stdout",
          "text": [
            "Epoch 047 | train_loss=1.2836 | val_acc=75.13%\n"
          ]
        },
        {
          "output_type": "stream",
          "name": "stderr",
          "text": []
        },
        {
          "output_type": "stream",
          "name": "stdout",
          "text": [
            "Epoch 048 | train_loss=1.2941 | val_acc=75.40%\n"
          ]
        },
        {
          "output_type": "stream",
          "name": "stderr",
          "text": []
        },
        {
          "output_type": "stream",
          "name": "stdout",
          "text": [
            "Epoch 049 | train_loss=1.2600 | val_acc=75.54%\n"
          ]
        },
        {
          "output_type": "stream",
          "name": "stderr",
          "text": []
        },
        {
          "output_type": "stream",
          "name": "stdout",
          "text": [
            "Epoch 050 | train_loss=1.2647 | val_acc=76.86%\n",
            "  → New best! Saved to teacher_resnet50_best.pth\n"
          ]
        },
        {
          "output_type": "stream",
          "name": "stderr",
          "text": []
        },
        {
          "output_type": "stream",
          "name": "stdout",
          "text": [
            "Epoch 051 | train_loss=1.2571 | val_acc=76.85%\n"
          ]
        },
        {
          "output_type": "stream",
          "name": "stderr",
          "text": []
        },
        {
          "output_type": "stream",
          "name": "stdout",
          "text": [
            "Epoch 052 | train_loss=1.2547 | val_acc=76.46%\n"
          ]
        },
        {
          "output_type": "stream",
          "name": "stderr",
          "text": []
        },
        {
          "output_type": "stream",
          "name": "stdout",
          "text": [
            "Epoch 053 | train_loss=1.2478 | val_acc=78.23%\n",
            "  → New best! Saved to teacher_resnet50_best.pth\n"
          ]
        },
        {
          "output_type": "stream",
          "name": "stderr",
          "text": []
        },
        {
          "output_type": "stream",
          "name": "stdout",
          "text": [
            "Epoch 054 | train_loss=1.2406 | val_acc=77.28%\n"
          ]
        },
        {
          "output_type": "stream",
          "name": "stderr",
          "text": []
        },
        {
          "output_type": "stream",
          "name": "stdout",
          "text": [
            "Epoch 055 | train_loss=1.2603 | val_acc=76.49%\n"
          ]
        },
        {
          "output_type": "stream",
          "name": "stderr",
          "text": []
        },
        {
          "output_type": "stream",
          "name": "stdout",
          "text": [
            "Epoch 056 | train_loss=1.2401 | val_acc=77.91%\n"
          ]
        },
        {
          "output_type": "stream",
          "name": "stderr",
          "text": []
        },
        {
          "output_type": "stream",
          "name": "stdout",
          "text": [
            "Epoch 057 | train_loss=1.2244 | val_acc=79.06%\n",
            "  → New best! Saved to teacher_resnet50_best.pth\n"
          ]
        },
        {
          "output_type": "stream",
          "name": "stderr",
          "text": []
        },
        {
          "output_type": "stream",
          "name": "stdout",
          "text": [
            "Epoch 058 | train_loss=1.2228 | val_acc=76.90%\n"
          ]
        },
        {
          "output_type": "stream",
          "name": "stderr",
          "text": []
        },
        {
          "output_type": "stream",
          "name": "stdout",
          "text": [
            "Epoch 059 | train_loss=1.2048 | val_acc=78.23%\n"
          ]
        },
        {
          "output_type": "stream",
          "name": "stderr",
          "text": []
        },
        {
          "output_type": "stream",
          "name": "stdout",
          "text": [
            "Epoch 060 | train_loss=1.1999 | val_acc=76.40%\n"
          ]
        },
        {
          "output_type": "stream",
          "name": "stderr",
          "text": []
        },
        {
          "output_type": "stream",
          "name": "stdout",
          "text": [
            "Epoch 061 | train_loss=1.2211 | val_acc=77.10%\n"
          ]
        },
        {
          "output_type": "stream",
          "name": "stderr",
          "text": []
        },
        {
          "output_type": "stream",
          "name": "stdout",
          "text": [
            "Epoch 062 | train_loss=1.2098 | val_acc=78.31%\n"
          ]
        },
        {
          "output_type": "stream",
          "name": "stderr",
          "text": []
        },
        {
          "output_type": "stream",
          "name": "stdout",
          "text": [
            "Epoch 063 | train_loss=1.1915 | val_acc=79.67%\n",
            "  → New best! Saved to teacher_resnet50_best.pth\n"
          ]
        },
        {
          "output_type": "stream",
          "name": "stderr",
          "text": []
        },
        {
          "output_type": "stream",
          "name": "stdout",
          "text": [
            "Epoch 064 | train_loss=1.2298 | val_acc=78.88%\n"
          ]
        },
        {
          "output_type": "stream",
          "name": "stderr",
          "text": []
        },
        {
          "output_type": "stream",
          "name": "stdout",
          "text": [
            "Epoch 065 | train_loss=1.1770 | val_acc=78.48%\n"
          ]
        },
        {
          "output_type": "stream",
          "name": "stderr",
          "text": []
        },
        {
          "output_type": "stream",
          "name": "stdout",
          "text": [
            "Epoch 066 | train_loss=1.1672 | val_acc=78.22%\n"
          ]
        },
        {
          "output_type": "stream",
          "name": "stderr",
          "text": []
        },
        {
          "output_type": "stream",
          "name": "stdout",
          "text": [
            "Epoch 067 | train_loss=1.1893 | val_acc=78.37%\n"
          ]
        },
        {
          "output_type": "stream",
          "name": "stderr",
          "text": []
        },
        {
          "output_type": "stream",
          "name": "stdout",
          "text": [
            "Epoch 068 | train_loss=1.2044 | val_acc=79.99%\n",
            "  → New best! Saved to teacher_resnet50_best.pth\n"
          ]
        },
        {
          "output_type": "stream",
          "name": "stderr",
          "text": []
        },
        {
          "output_type": "stream",
          "name": "stdout",
          "text": [
            "Epoch 069 | train_loss=1.1936 | val_acc=76.21%\n"
          ]
        },
        {
          "output_type": "stream",
          "name": "stderr",
          "text": []
        },
        {
          "output_type": "stream",
          "name": "stdout",
          "text": [
            "Epoch 070 | train_loss=1.1894 | val_acc=80.20%\n",
            "  → New best! Saved to teacher_resnet50_best.pth\n"
          ]
        },
        {
          "output_type": "stream",
          "name": "stderr",
          "text": []
        },
        {
          "output_type": "stream",
          "name": "stdout",
          "text": [
            "Epoch 071 | train_loss=1.1800 | val_acc=79.57%\n"
          ]
        },
        {
          "output_type": "stream",
          "name": "stderr",
          "text": []
        },
        {
          "output_type": "stream",
          "name": "stdout",
          "text": [
            "Epoch 072 | train_loss=1.1956 | val_acc=79.39%\n"
          ]
        },
        {
          "output_type": "stream",
          "name": "stderr",
          "text": []
        },
        {
          "output_type": "stream",
          "name": "stdout",
          "text": [
            "Epoch 073 | train_loss=1.1528 | val_acc=81.92%\n",
            "  → New best! Saved to teacher_resnet50_best.pth\n"
          ]
        },
        {
          "output_type": "stream",
          "name": "stderr",
          "text": []
        },
        {
          "output_type": "stream",
          "name": "stdout",
          "text": [
            "Epoch 074 | train_loss=1.1679 | val_acc=79.15%\n"
          ]
        },
        {
          "output_type": "stream",
          "name": "stderr",
          "text": []
        },
        {
          "output_type": "stream",
          "name": "stdout",
          "text": [
            "Epoch 075 | train_loss=1.1615 | val_acc=79.63%\n"
          ]
        },
        {
          "output_type": "stream",
          "name": "stderr",
          "text": []
        },
        {
          "output_type": "stream",
          "name": "stdout",
          "text": [
            "Epoch 076 | train_loss=1.1631 | val_acc=80.41%\n"
          ]
        },
        {
          "output_type": "stream",
          "name": "stderr",
          "text": []
        },
        {
          "output_type": "stream",
          "name": "stdout",
          "text": [
            "Epoch 077 | train_loss=1.1655 | val_acc=81.57%\n"
          ]
        },
        {
          "output_type": "stream",
          "name": "stderr",
          "text": []
        },
        {
          "output_type": "stream",
          "name": "stdout",
          "text": [
            "Epoch 078 | train_loss=1.1584 | val_acc=80.58%\n"
          ]
        },
        {
          "output_type": "stream",
          "name": "stderr",
          "text": []
        },
        {
          "output_type": "stream",
          "name": "stdout",
          "text": [
            "Epoch 079 | train_loss=1.1531 | val_acc=80.27%\n"
          ]
        },
        {
          "output_type": "stream",
          "name": "stderr",
          "text": []
        },
        {
          "output_type": "stream",
          "name": "stdout",
          "text": [
            "Epoch 080 | train_loss=1.1412 | val_acc=80.50%\n"
          ]
        },
        {
          "output_type": "stream",
          "name": "stderr",
          "text": []
        },
        {
          "output_type": "stream",
          "name": "stdout",
          "text": [
            "Epoch 081 | train_loss=1.1739 | val_acc=80.70%\n"
          ]
        },
        {
          "output_type": "stream",
          "name": "stderr",
          "text": []
        },
        {
          "output_type": "stream",
          "name": "stdout",
          "text": [
            "Epoch 082 | train_loss=1.1472 | val_acc=80.61%\n"
          ]
        },
        {
          "output_type": "stream",
          "name": "stderr",
          "text": []
        },
        {
          "output_type": "stream",
          "name": "stdout",
          "text": [
            "Epoch 083 | train_loss=1.1375 | val_acc=81.12%\n"
          ]
        },
        {
          "output_type": "stream",
          "name": "stderr",
          "text": []
        },
        {
          "output_type": "stream",
          "name": "stdout",
          "text": [
            "Epoch 084 | train_loss=1.1321 | val_acc=79.05%\n"
          ]
        },
        {
          "output_type": "stream",
          "name": "stderr",
          "text": []
        },
        {
          "output_type": "stream",
          "name": "stdout",
          "text": [
            "Epoch 085 | train_loss=1.1304 | val_acc=82.25%\n",
            "  → New best! Saved to teacher_resnet50_best.pth\n"
          ]
        },
        {
          "output_type": "stream",
          "name": "stderr",
          "text": []
        },
        {
          "output_type": "stream",
          "name": "stdout",
          "text": [
            "Epoch 086 | train_loss=1.1275 | val_acc=78.85%\n"
          ]
        },
        {
          "output_type": "stream",
          "name": "stderr",
          "text": []
        },
        {
          "output_type": "stream",
          "name": "stdout",
          "text": [
            "Epoch 087 | train_loss=1.1248 | val_acc=80.21%\n"
          ]
        },
        {
          "output_type": "stream",
          "name": "stderr",
          "text": []
        },
        {
          "output_type": "stream",
          "name": "stdout",
          "text": [
            "Epoch 088 | train_loss=1.1215 | val_acc=82.01%\n"
          ]
        },
        {
          "output_type": "stream",
          "name": "stderr",
          "text": []
        },
        {
          "output_type": "stream",
          "name": "stdout",
          "text": [
            "Epoch 089 | train_loss=1.1120 | val_acc=82.02%\n"
          ]
        },
        {
          "output_type": "stream",
          "name": "stderr",
          "text": []
        },
        {
          "output_type": "stream",
          "name": "stdout",
          "text": [
            "Epoch 090 | train_loss=1.1403 | val_acc=81.52%\n"
          ]
        },
        {
          "output_type": "stream",
          "name": "stderr",
          "text": []
        },
        {
          "output_type": "stream",
          "name": "stdout",
          "text": [
            "Epoch 091 | train_loss=1.1538 | val_acc=82.86%\n",
            "  → New best! Saved to teacher_resnet50_best.pth\n"
          ]
        },
        {
          "output_type": "stream",
          "name": "stderr",
          "text": []
        },
        {
          "output_type": "stream",
          "name": "stdout",
          "text": [
            "Epoch 092 | train_loss=1.1133 | val_acc=81.89%\n"
          ]
        },
        {
          "output_type": "stream",
          "name": "stderr",
          "text": []
        },
        {
          "output_type": "stream",
          "name": "stdout",
          "text": [
            "Epoch 093 | train_loss=1.0959 | val_acc=82.08%\n"
          ]
        },
        {
          "output_type": "stream",
          "name": "stderr",
          "text": []
        },
        {
          "output_type": "stream",
          "name": "stdout",
          "text": [
            "Epoch 094 | train_loss=1.1089 | val_acc=82.77%\n"
          ]
        },
        {
          "output_type": "stream",
          "name": "stderr",
          "text": []
        },
        {
          "output_type": "stream",
          "name": "stdout",
          "text": [
            "Epoch 095 | train_loss=1.1233 | val_acc=81.06%\n"
          ]
        },
        {
          "output_type": "stream",
          "name": "stderr",
          "text": []
        },
        {
          "output_type": "stream",
          "name": "stdout",
          "text": [
            "Epoch 096 | train_loss=1.0921 | val_acc=82.12%\n"
          ]
        },
        {
          "output_type": "stream",
          "name": "stderr",
          "text": []
        },
        {
          "output_type": "stream",
          "name": "stdout",
          "text": [
            "Epoch 097 | train_loss=1.1102 | val_acc=82.83%\n"
          ]
        },
        {
          "output_type": "stream",
          "name": "stderr",
          "text": []
        },
        {
          "output_type": "stream",
          "name": "stdout",
          "text": [
            "Epoch 098 | train_loss=1.1096 | val_acc=81.15%\n"
          ]
        },
        {
          "output_type": "stream",
          "name": "stderr",
          "text": []
        },
        {
          "output_type": "stream",
          "name": "stdout",
          "text": [
            "Epoch 099 | train_loss=1.1143 | val_acc=82.77%\n"
          ]
        },
        {
          "output_type": "stream",
          "name": "stderr",
          "text": []
        },
        {
          "output_type": "stream",
          "name": "stdout",
          "text": [
            "Epoch 100 | train_loss=1.0723 | val_acc=83.34%\n",
            "  → New best! Saved to teacher_resnet50_best.pth\n"
          ]
        },
        {
          "output_type": "stream",
          "name": "stderr",
          "text": []
        },
        {
          "output_type": "stream",
          "name": "stdout",
          "text": [
            "Epoch 101 | train_loss=1.0844 | val_acc=81.18%\n"
          ]
        },
        {
          "output_type": "stream",
          "name": "stderr",
          "text": []
        },
        {
          "output_type": "stream",
          "name": "stdout",
          "text": [
            "Epoch 102 | train_loss=1.0916 | val_acc=82.84%\n"
          ]
        },
        {
          "output_type": "stream",
          "name": "stderr",
          "text": []
        },
        {
          "output_type": "stream",
          "name": "stdout",
          "text": [
            "Epoch 103 | train_loss=1.0978 | val_acc=82.19%\n"
          ]
        },
        {
          "output_type": "stream",
          "name": "stderr",
          "text": []
        },
        {
          "output_type": "stream",
          "name": "stdout",
          "text": [
            "Epoch 104 | train_loss=1.0750 | val_acc=83.38%\n",
            "  → New best! Saved to teacher_resnet50_best.pth\n"
          ]
        },
        {
          "output_type": "stream",
          "name": "stderr",
          "text": []
        },
        {
          "output_type": "stream",
          "name": "stdout",
          "text": [
            "Epoch 105 | train_loss=1.0729 | val_acc=81.77%\n"
          ]
        },
        {
          "output_type": "stream",
          "name": "stderr",
          "text": []
        },
        {
          "output_type": "stream",
          "name": "stdout",
          "text": [
            "Epoch 106 | train_loss=1.0973 | val_acc=82.12%\n"
          ]
        },
        {
          "output_type": "stream",
          "name": "stderr",
          "text": []
        },
        {
          "output_type": "stream",
          "name": "stdout",
          "text": [
            "Epoch 107 | train_loss=1.0749 | val_acc=82.58%\n"
          ]
        },
        {
          "output_type": "stream",
          "name": "stderr",
          "text": []
        },
        {
          "output_type": "stream",
          "name": "stdout",
          "text": [
            "Epoch 108 | train_loss=1.0730 | val_acc=82.51%\n"
          ]
        },
        {
          "output_type": "stream",
          "name": "stderr",
          "text": []
        },
        {
          "output_type": "stream",
          "name": "stdout",
          "text": [
            "Epoch 109 | train_loss=1.1064 | val_acc=83.70%\n",
            "  → New best! Saved to teacher_resnet50_best.pth\n"
          ]
        },
        {
          "output_type": "stream",
          "name": "stderr",
          "text": []
        },
        {
          "output_type": "stream",
          "name": "stdout",
          "text": [
            "Epoch 110 | train_loss=1.0951 | val_acc=81.84%\n"
          ]
        },
        {
          "output_type": "stream",
          "name": "stderr",
          "text": []
        },
        {
          "output_type": "stream",
          "name": "stdout",
          "text": [
            "Epoch 111 | train_loss=1.0881 | val_acc=82.70%\n"
          ]
        },
        {
          "output_type": "stream",
          "name": "stderr",
          "text": []
        },
        {
          "output_type": "stream",
          "name": "stdout",
          "text": [
            "Epoch 112 | train_loss=1.1093 | val_acc=83.16%\n"
          ]
        },
        {
          "output_type": "stream",
          "name": "stderr",
          "text": []
        },
        {
          "output_type": "stream",
          "name": "stdout",
          "text": [
            "Epoch 113 | train_loss=1.0519 | val_acc=83.49%\n"
          ]
        },
        {
          "output_type": "stream",
          "name": "stderr",
          "text": []
        },
        {
          "output_type": "stream",
          "name": "stdout",
          "text": [
            "Epoch 114 | train_loss=1.0535 | val_acc=82.63%\n"
          ]
        },
        {
          "output_type": "stream",
          "name": "stderr",
          "text": []
        },
        {
          "output_type": "stream",
          "name": "stdout",
          "text": [
            "Epoch 115 | train_loss=1.0739 | val_acc=82.75%\n"
          ]
        },
        {
          "output_type": "stream",
          "name": "stderr",
          "text": []
        },
        {
          "output_type": "stream",
          "name": "stdout",
          "text": [
            "Epoch 116 | train_loss=1.0701 | val_acc=82.77%\n"
          ]
        },
        {
          "output_type": "stream",
          "name": "stderr",
          "text": []
        },
        {
          "output_type": "stream",
          "name": "stdout",
          "text": [
            "Epoch 117 | train_loss=1.0753 | val_acc=83.44%\n"
          ]
        },
        {
          "output_type": "stream",
          "name": "stderr",
          "text": []
        },
        {
          "output_type": "stream",
          "name": "stdout",
          "text": [
            "Epoch 118 | train_loss=1.0606 | val_acc=84.02%\n",
            "  → New best! Saved to teacher_resnet50_best.pth\n"
          ]
        },
        {
          "output_type": "stream",
          "name": "stderr",
          "text": []
        },
        {
          "output_type": "stream",
          "name": "stdout",
          "text": [
            "Epoch 119 | train_loss=1.0640 | val_acc=83.24%\n"
          ]
        },
        {
          "output_type": "stream",
          "name": "stderr",
          "text": []
        },
        {
          "output_type": "stream",
          "name": "stdout",
          "text": [
            "Epoch 120 | train_loss=1.0983 | val_acc=83.32%\n"
          ]
        },
        {
          "output_type": "stream",
          "name": "stderr",
          "text": []
        },
        {
          "output_type": "stream",
          "name": "stdout",
          "text": [
            "Epoch 121 | train_loss=1.0665 | val_acc=83.82%\n"
          ]
        },
        {
          "output_type": "stream",
          "name": "stderr",
          "text": []
        },
        {
          "output_type": "stream",
          "name": "stdout",
          "text": [
            "Epoch 122 | train_loss=1.0559 | val_acc=82.58%\n"
          ]
        },
        {
          "output_type": "stream",
          "name": "stderr",
          "text": []
        },
        {
          "output_type": "stream",
          "name": "stdout",
          "text": [
            "Epoch 123 | train_loss=1.0443 | val_acc=82.11%\n"
          ]
        },
        {
          "output_type": "stream",
          "name": "stderr",
          "text": []
        },
        {
          "output_type": "stream",
          "name": "stdout",
          "text": [
            "Epoch 124 | train_loss=1.0634 | val_acc=83.27%\n"
          ]
        },
        {
          "output_type": "stream",
          "name": "stderr",
          "text": []
        },
        {
          "output_type": "stream",
          "name": "stdout",
          "text": [
            "Epoch 125 | train_loss=1.0606 | val_acc=83.37%\n"
          ]
        },
        {
          "output_type": "stream",
          "name": "stderr",
          "text": []
        },
        {
          "output_type": "stream",
          "name": "stdout",
          "text": [
            "Epoch 126 | train_loss=1.0588 | val_acc=84.39%\n",
            "  → New best! Saved to teacher_resnet50_best.pth\n"
          ]
        },
        {
          "output_type": "stream",
          "name": "stderr",
          "text": []
        },
        {
          "output_type": "stream",
          "name": "stdout",
          "text": [
            "Epoch 127 | train_loss=1.0561 | val_acc=84.04%\n"
          ]
        },
        {
          "output_type": "stream",
          "name": "stderr",
          "text": []
        },
        {
          "output_type": "stream",
          "name": "stdout",
          "text": [
            "Epoch 128 | train_loss=1.0835 | val_acc=82.89%\n"
          ]
        },
        {
          "output_type": "stream",
          "name": "stderr",
          "text": []
        },
        {
          "output_type": "stream",
          "name": "stdout",
          "text": [
            "Epoch 129 | train_loss=1.0771 | val_acc=83.66%\n"
          ]
        },
        {
          "output_type": "stream",
          "name": "stderr",
          "text": []
        },
        {
          "output_type": "stream",
          "name": "stdout",
          "text": [
            "Epoch 130 | train_loss=1.0715 | val_acc=83.72%\n"
          ]
        },
        {
          "output_type": "stream",
          "name": "stderr",
          "text": []
        },
        {
          "output_type": "stream",
          "name": "stdout",
          "text": [
            "Epoch 131 | train_loss=1.0144 | val_acc=81.65%\n"
          ]
        },
        {
          "output_type": "stream",
          "name": "stderr",
          "text": []
        },
        {
          "output_type": "stream",
          "name": "stdout",
          "text": [
            "Epoch 132 | train_loss=1.0415 | val_acc=83.51%\n"
          ]
        },
        {
          "output_type": "stream",
          "name": "stderr",
          "text": []
        },
        {
          "output_type": "stream",
          "name": "stdout",
          "text": [
            "Epoch 133 | train_loss=1.0359 | val_acc=84.55%\n",
            "  → New best! Saved to teacher_resnet50_best.pth\n"
          ]
        },
        {
          "output_type": "stream",
          "name": "stderr",
          "text": []
        },
        {
          "output_type": "stream",
          "name": "stdout",
          "text": [
            "Epoch 134 | train_loss=1.0311 | val_acc=84.23%\n"
          ]
        },
        {
          "output_type": "stream",
          "name": "stderr",
          "text": []
        },
        {
          "output_type": "stream",
          "name": "stdout",
          "text": [
            "Epoch 135 | train_loss=1.0445 | val_acc=83.77%\n"
          ]
        },
        {
          "output_type": "stream",
          "name": "stderr",
          "text": []
        },
        {
          "output_type": "stream",
          "name": "stdout",
          "text": [
            "Epoch 136 | train_loss=1.0268 | val_acc=84.17%\n"
          ]
        },
        {
          "output_type": "stream",
          "name": "stderr",
          "text": []
        },
        {
          "output_type": "stream",
          "name": "stdout",
          "text": [
            "Epoch 137 | train_loss=1.0305 | val_acc=84.06%\n"
          ]
        },
        {
          "output_type": "stream",
          "name": "stderr",
          "text": []
        },
        {
          "output_type": "stream",
          "name": "stdout",
          "text": [
            "Epoch 138 | train_loss=1.0426 | val_acc=83.95%\n"
          ]
        },
        {
          "output_type": "stream",
          "name": "stderr",
          "text": []
        },
        {
          "output_type": "stream",
          "name": "stdout",
          "text": [
            "Epoch 139 | train_loss=1.0369 | val_acc=83.67%\n"
          ]
        },
        {
          "output_type": "stream",
          "name": "stderr",
          "text": []
        },
        {
          "output_type": "stream",
          "name": "stdout",
          "text": [
            "Epoch 140 | train_loss=1.0352 | val_acc=83.81%\n"
          ]
        },
        {
          "output_type": "stream",
          "name": "stderr",
          "text": []
        },
        {
          "output_type": "stream",
          "name": "stdout",
          "text": [
            "Epoch 141 | train_loss=1.0069 | val_acc=84.48%\n"
          ]
        },
        {
          "output_type": "stream",
          "name": "stderr",
          "text": []
        },
        {
          "output_type": "stream",
          "name": "stdout",
          "text": [
            "Epoch 142 | train_loss=1.0119 | val_acc=84.78%\n",
            "  → New best! Saved to teacher_resnet50_best.pth\n"
          ]
        },
        {
          "output_type": "stream",
          "name": "stderr",
          "text": []
        },
        {
          "output_type": "stream",
          "name": "stdout",
          "text": [
            "Epoch 143 | train_loss=1.0315 | val_acc=84.47%\n"
          ]
        },
        {
          "output_type": "stream",
          "name": "stderr",
          "text": []
        },
        {
          "output_type": "stream",
          "name": "stdout",
          "text": [
            "Epoch 144 | train_loss=1.0370 | val_acc=84.20%\n"
          ]
        },
        {
          "output_type": "stream",
          "name": "stderr",
          "text": []
        },
        {
          "output_type": "stream",
          "name": "stdout",
          "text": [
            "Epoch 145 | train_loss=1.0149 | val_acc=85.12%\n",
            "  → New best! Saved to teacher_resnet50_best.pth\n"
          ]
        },
        {
          "output_type": "stream",
          "name": "stderr",
          "text": []
        },
        {
          "output_type": "stream",
          "name": "stdout",
          "text": [
            "Epoch 146 | train_loss=1.0142 | val_acc=83.97%\n"
          ]
        },
        {
          "output_type": "stream",
          "name": "stderr",
          "text": []
        },
        {
          "output_type": "stream",
          "name": "stdout",
          "text": [
            "Epoch 147 | train_loss=1.0119 | val_acc=84.27%\n"
          ]
        },
        {
          "output_type": "stream",
          "name": "stderr",
          "text": []
        },
        {
          "output_type": "stream",
          "name": "stdout",
          "text": [
            "Epoch 148 | train_loss=0.9927 | val_acc=85.17%\n",
            "  → New best! Saved to teacher_resnet50_best.pth\n"
          ]
        },
        {
          "output_type": "stream",
          "name": "stderr",
          "text": []
        },
        {
          "output_type": "stream",
          "name": "stdout",
          "text": [
            "Epoch 149 | train_loss=0.9864 | val_acc=84.35%\n"
          ]
        },
        {
          "output_type": "stream",
          "name": "stderr",
          "text": []
        },
        {
          "output_type": "stream",
          "name": "stdout",
          "text": [
            "Epoch 150 | train_loss=0.9830 | val_acc=84.25%\n"
          ]
        },
        {
          "output_type": "stream",
          "name": "stderr",
          "text": []
        },
        {
          "output_type": "stream",
          "name": "stdout",
          "text": [
            "Epoch 151 | train_loss=1.0184 | val_acc=85.26%\n",
            "  → New best! Saved to teacher_resnet50_best.pth\n"
          ]
        },
        {
          "output_type": "stream",
          "name": "stderr",
          "text": []
        },
        {
          "output_type": "stream",
          "name": "stdout",
          "text": [
            "Epoch 152 | train_loss=1.0110 | val_acc=82.80%\n"
          ]
        },
        {
          "output_type": "stream",
          "name": "stderr",
          "text": []
        },
        {
          "output_type": "stream",
          "name": "stdout",
          "text": [
            "Epoch 153 | train_loss=0.9951 | val_acc=84.04%\n"
          ]
        },
        {
          "output_type": "stream",
          "name": "stderr",
          "text": []
        },
        {
          "output_type": "stream",
          "name": "stdout",
          "text": [
            "Epoch 154 | train_loss=1.0067 | val_acc=83.36%\n"
          ]
        },
        {
          "output_type": "stream",
          "name": "stderr",
          "text": []
        },
        {
          "output_type": "stream",
          "name": "stdout",
          "text": [
            "Epoch 155 | train_loss=1.0076 | val_acc=84.86%\n"
          ]
        },
        {
          "output_type": "stream",
          "name": "stderr",
          "text": []
        },
        {
          "output_type": "stream",
          "name": "stdout",
          "text": [
            "Epoch 156 | train_loss=1.0397 | val_acc=85.27%\n",
            "  → New best! Saved to teacher_resnet50_best.pth\n"
          ]
        },
        {
          "output_type": "stream",
          "name": "stderr",
          "text": []
        },
        {
          "output_type": "stream",
          "name": "stdout",
          "text": [
            "Epoch 157 | train_loss=1.0086 | val_acc=84.07%\n"
          ]
        },
        {
          "output_type": "stream",
          "name": "stderr",
          "text": []
        },
        {
          "output_type": "stream",
          "name": "stdout",
          "text": [
            "Epoch 158 | train_loss=1.0073 | val_acc=84.45%\n"
          ]
        },
        {
          "output_type": "stream",
          "name": "stderr",
          "text": []
        },
        {
          "output_type": "stream",
          "name": "stdout",
          "text": [
            "Epoch 159 | train_loss=0.9890 | val_acc=85.14%\n"
          ]
        },
        {
          "output_type": "stream",
          "name": "stderr",
          "text": []
        },
        {
          "output_type": "stream",
          "name": "stdout",
          "text": [
            "Epoch 160 | train_loss=0.9720 | val_acc=84.44%\n"
          ]
        },
        {
          "output_type": "stream",
          "name": "stderr",
          "text": []
        },
        {
          "output_type": "stream",
          "name": "stdout",
          "text": [
            "Epoch 161 | train_loss=0.9794 | val_acc=85.24%\n"
          ]
        },
        {
          "output_type": "stream",
          "name": "stderr",
          "text": []
        },
        {
          "output_type": "stream",
          "name": "stdout",
          "text": [
            "Epoch 162 | train_loss=0.9752 | val_acc=84.33%\n"
          ]
        },
        {
          "output_type": "stream",
          "name": "stderr",
          "text": []
        },
        {
          "output_type": "stream",
          "name": "stdout",
          "text": [
            "Epoch 163 | train_loss=0.9828 | val_acc=85.09%\n"
          ]
        },
        {
          "output_type": "stream",
          "name": "stderr",
          "text": []
        },
        {
          "output_type": "stream",
          "name": "stdout",
          "text": [
            "Epoch 164 | train_loss=0.9711 | val_acc=84.80%\n"
          ]
        },
        {
          "output_type": "stream",
          "name": "stderr",
          "text": []
        },
        {
          "output_type": "stream",
          "name": "stdout",
          "text": [
            "Epoch 165 | train_loss=0.9616 | val_acc=85.20%\n"
          ]
        },
        {
          "output_type": "stream",
          "name": "stderr",
          "text": []
        },
        {
          "output_type": "stream",
          "name": "stdout",
          "text": [
            "Epoch 166 | train_loss=0.9978 | val_acc=84.93%\n"
          ]
        },
        {
          "output_type": "stream",
          "name": "stderr",
          "text": []
        },
        {
          "output_type": "stream",
          "name": "stdout",
          "text": [
            "Epoch 167 | train_loss=1.0028 | val_acc=84.70%\n"
          ]
        },
        {
          "output_type": "stream",
          "name": "stderr",
          "text": []
        },
        {
          "output_type": "stream",
          "name": "stdout",
          "text": [
            "Epoch 168 | train_loss=0.9627 | val_acc=84.39%\n"
          ]
        },
        {
          "output_type": "stream",
          "name": "stderr",
          "text": []
        },
        {
          "output_type": "stream",
          "name": "stdout",
          "text": [
            "Epoch 169 | train_loss=0.9629 | val_acc=85.54%\n",
            "  → New best! Saved to teacher_resnet50_best.pth\n"
          ]
        },
        {
          "output_type": "stream",
          "name": "stderr",
          "text": []
        },
        {
          "output_type": "stream",
          "name": "stdout",
          "text": [
            "Epoch 170 | train_loss=0.9857 | val_acc=85.57%\n",
            "  → New best! Saved to teacher_resnet50_best.pth\n"
          ]
        },
        {
          "output_type": "stream",
          "name": "stderr",
          "text": []
        },
        {
          "output_type": "stream",
          "name": "stdout",
          "text": [
            "Epoch 171 | train_loss=0.9931 | val_acc=85.10%\n"
          ]
        },
        {
          "output_type": "stream",
          "name": "stderr",
          "text": []
        },
        {
          "output_type": "stream",
          "name": "stdout",
          "text": [
            "Epoch 172 | train_loss=0.9812 | val_acc=85.01%\n"
          ]
        },
        {
          "output_type": "stream",
          "name": "stderr",
          "text": []
        },
        {
          "output_type": "stream",
          "name": "stdout",
          "text": [
            "Epoch 173 | train_loss=1.0022 | val_acc=85.71%\n",
            "  → New best! Saved to teacher_resnet50_best.pth\n"
          ]
        },
        {
          "output_type": "stream",
          "name": "stderr",
          "text": []
        },
        {
          "output_type": "stream",
          "name": "stdout",
          "text": [
            "Epoch 174 | train_loss=0.9326 | val_acc=84.61%\n"
          ]
        },
        {
          "output_type": "stream",
          "name": "stderr",
          "text": []
        },
        {
          "output_type": "stream",
          "name": "stdout",
          "text": [
            "Epoch 175 | train_loss=0.9606 | val_acc=85.25%\n"
          ]
        },
        {
          "output_type": "stream",
          "name": "stderr",
          "text": []
        },
        {
          "output_type": "stream",
          "name": "stdout",
          "text": [
            "Epoch 176 | train_loss=0.9497 | val_acc=85.30%\n"
          ]
        },
        {
          "output_type": "stream",
          "name": "stderr",
          "text": []
        },
        {
          "output_type": "stream",
          "name": "stdout",
          "text": [
            "Epoch 177 | train_loss=0.9785 | val_acc=85.26%\n"
          ]
        },
        {
          "output_type": "stream",
          "name": "stderr",
          "text": []
        },
        {
          "output_type": "stream",
          "name": "stdout",
          "text": [
            "Epoch 178 | train_loss=0.9525 | val_acc=85.57%\n"
          ]
        },
        {
          "output_type": "stream",
          "name": "stderr",
          "text": []
        },
        {
          "output_type": "stream",
          "name": "stdout",
          "text": [
            "Epoch 179 | train_loss=0.9527 | val_acc=86.44%\n",
            "  → New best! Saved to teacher_resnet50_best.pth\n"
          ]
        },
        {
          "output_type": "stream",
          "name": "stderr",
          "text": []
        },
        {
          "output_type": "stream",
          "name": "stdout",
          "text": [
            "Epoch 180 | train_loss=0.9725 | val_acc=85.45%\n"
          ]
        },
        {
          "output_type": "stream",
          "name": "stderr",
          "text": []
        },
        {
          "output_type": "stream",
          "name": "stdout",
          "text": [
            "Epoch 181 | train_loss=0.9428 | val_acc=86.24%\n"
          ]
        },
        {
          "output_type": "stream",
          "name": "stderr",
          "text": []
        },
        {
          "output_type": "stream",
          "name": "stdout",
          "text": [
            "Epoch 182 | train_loss=0.9516 | val_acc=85.86%\n"
          ]
        },
        {
          "output_type": "stream",
          "name": "stderr",
          "text": []
        },
        {
          "output_type": "stream",
          "name": "stdout",
          "text": [
            "Epoch 183 | train_loss=0.9652 | val_acc=86.15%\n"
          ]
        },
        {
          "output_type": "stream",
          "name": "stderr",
          "text": []
        },
        {
          "output_type": "stream",
          "name": "stdout",
          "text": [
            "Epoch 184 | train_loss=0.9560 | val_acc=86.11%\n"
          ]
        },
        {
          "output_type": "stream",
          "name": "stderr",
          "text": []
        },
        {
          "output_type": "stream",
          "name": "stdout",
          "text": [
            "Epoch 185 | train_loss=0.9533 | val_acc=85.47%\n"
          ]
        },
        {
          "output_type": "stream",
          "name": "stderr",
          "text": []
        },
        {
          "output_type": "stream",
          "name": "stdout",
          "text": [
            "Epoch 186 | train_loss=0.9449 | val_acc=85.19%\n"
          ]
        },
        {
          "output_type": "stream",
          "name": "stderr",
          "text": []
        },
        {
          "output_type": "stream",
          "name": "stdout",
          "text": [
            "Epoch 187 | train_loss=0.9608 | val_acc=85.26%\n"
          ]
        },
        {
          "output_type": "stream",
          "name": "stderr",
          "text": []
        },
        {
          "output_type": "stream",
          "name": "stdout",
          "text": [
            "Epoch 188 | train_loss=0.9583 | val_acc=86.32%\n"
          ]
        },
        {
          "output_type": "stream",
          "name": "stderr",
          "text": []
        },
        {
          "output_type": "stream",
          "name": "stdout",
          "text": [
            "Epoch 189 | train_loss=0.9757 | val_acc=86.25%\n"
          ]
        },
        {
          "output_type": "stream",
          "name": "stderr",
          "text": []
        },
        {
          "output_type": "stream",
          "name": "stdout",
          "text": [
            "Epoch 190 | train_loss=0.9761 | val_acc=85.98%\n"
          ]
        },
        {
          "output_type": "stream",
          "name": "stderr",
          "text": []
        },
        {
          "output_type": "stream",
          "name": "stdout",
          "text": [
            "Epoch 191 | train_loss=0.9402 | val_acc=85.94%\n"
          ]
        },
        {
          "output_type": "stream",
          "name": "stderr",
          "text": []
        },
        {
          "output_type": "stream",
          "name": "stdout",
          "text": [
            "Epoch 192 | train_loss=0.9226 | val_acc=85.92%\n"
          ]
        },
        {
          "output_type": "stream",
          "name": "stderr",
          "text": []
        },
        {
          "output_type": "stream",
          "name": "stdout",
          "text": [
            "Epoch 193 | train_loss=0.9670 | val_acc=85.72%\n"
          ]
        },
        {
          "output_type": "stream",
          "name": "stderr",
          "text": []
        },
        {
          "output_type": "stream",
          "name": "stdout",
          "text": [
            "Epoch 194 | train_loss=0.9736 | val_acc=85.73%\n"
          ]
        },
        {
          "output_type": "stream",
          "name": "stderr",
          "text": []
        },
        {
          "output_type": "stream",
          "name": "stdout",
          "text": [
            "Epoch 195 | train_loss=0.9119 | val_acc=85.75%\n"
          ]
        },
        {
          "output_type": "stream",
          "name": "stderr",
          "text": []
        },
        {
          "output_type": "stream",
          "name": "stdout",
          "text": [
            "Epoch 196 | train_loss=0.9575 | val_acc=86.05%\n"
          ]
        },
        {
          "output_type": "stream",
          "name": "stderr",
          "text": []
        },
        {
          "output_type": "stream",
          "name": "stdout",
          "text": [
            "Epoch 197 | train_loss=0.9322 | val_acc=86.21%\n"
          ]
        },
        {
          "output_type": "stream",
          "name": "stderr",
          "text": []
        },
        {
          "output_type": "stream",
          "name": "stdout",
          "text": [
            "Epoch 198 | train_loss=0.9118 | val_acc=85.60%\n"
          ]
        },
        {
          "output_type": "stream",
          "name": "stderr",
          "text": []
        },
        {
          "output_type": "stream",
          "name": "stdout",
          "text": [
            "Epoch 199 | train_loss=0.9578 | val_acc=86.14%\n"
          ]
        },
        {
          "output_type": "stream",
          "name": "stderr",
          "text": []
        },
        {
          "output_type": "stream",
          "name": "stdout",
          "text": [
            "Epoch 200 | train_loss=0.9536 | val_acc=86.98%\n",
            "  → New best! Saved to teacher_resnet50_best.pth\n"
          ]
        },
        {
          "output_type": "stream",
          "name": "stderr",
          "text": []
        },
        {
          "output_type": "stream",
          "name": "stdout",
          "text": [
            "Epoch 201 | train_loss=0.9389 | val_acc=86.75%\n"
          ]
        },
        {
          "output_type": "stream",
          "name": "stderr",
          "text": []
        },
        {
          "output_type": "stream",
          "name": "stdout",
          "text": [
            "Epoch 202 | train_loss=0.9172 | val_acc=87.05%\n",
            "  → New best! Saved to teacher_resnet50_best.pth\n"
          ]
        },
        {
          "output_type": "stream",
          "name": "stderr",
          "text": []
        },
        {
          "output_type": "stream",
          "name": "stdout",
          "text": [
            "Epoch 203 | train_loss=0.9370 | val_acc=86.38%\n"
          ]
        },
        {
          "output_type": "stream",
          "name": "stderr",
          "text": []
        },
        {
          "output_type": "stream",
          "name": "stdout",
          "text": [
            "Epoch 204 | train_loss=0.8980 | val_acc=86.96%\n"
          ]
        },
        {
          "output_type": "stream",
          "name": "stderr",
          "text": []
        },
        {
          "output_type": "stream",
          "name": "stdout",
          "text": [
            "Epoch 205 | train_loss=0.9042 | val_acc=86.34%\n"
          ]
        },
        {
          "output_type": "stream",
          "name": "stderr",
          "text": []
        },
        {
          "output_type": "stream",
          "name": "stdout",
          "text": [
            "Epoch 206 | train_loss=0.9195 | val_acc=86.26%\n"
          ]
        },
        {
          "output_type": "stream",
          "name": "stderr",
          "text": []
        },
        {
          "output_type": "stream",
          "name": "stdout",
          "text": [
            "Epoch 207 | train_loss=0.9290 | val_acc=86.33%\n"
          ]
        },
        {
          "output_type": "stream",
          "name": "stderr",
          "text": []
        },
        {
          "output_type": "stream",
          "name": "stdout",
          "text": [
            "Epoch 208 | train_loss=0.9345 | val_acc=86.54%\n"
          ]
        },
        {
          "output_type": "stream",
          "name": "stderr",
          "text": []
        },
        {
          "output_type": "stream",
          "name": "stdout",
          "text": [
            "Epoch 209 | train_loss=0.8774 | val_acc=86.54%\n"
          ]
        },
        {
          "output_type": "stream",
          "name": "stderr",
          "text": []
        },
        {
          "output_type": "stream",
          "name": "stdout",
          "text": [
            "Epoch 210 | train_loss=0.9221 | val_acc=86.43%\n"
          ]
        },
        {
          "output_type": "stream",
          "name": "stderr",
          "text": []
        },
        {
          "output_type": "stream",
          "name": "stdout",
          "text": [
            "Epoch 211 | train_loss=0.9097 | val_acc=85.92%\n"
          ]
        },
        {
          "output_type": "stream",
          "name": "stderr",
          "text": []
        },
        {
          "output_type": "stream",
          "name": "stdout",
          "text": [
            "Epoch 212 | train_loss=0.9072 | val_acc=87.27%\n",
            "  → New best! Saved to teacher_resnet50_best.pth\n"
          ]
        },
        {
          "output_type": "stream",
          "name": "stderr",
          "text": []
        },
        {
          "output_type": "stream",
          "name": "stdout",
          "text": [
            "Epoch 213 | train_loss=0.8947 | val_acc=87.04%\n"
          ]
        },
        {
          "output_type": "stream",
          "name": "stderr",
          "text": []
        },
        {
          "output_type": "stream",
          "name": "stdout",
          "text": [
            "Epoch 214 | train_loss=0.9056 | val_acc=86.73%\n"
          ]
        },
        {
          "output_type": "stream",
          "name": "stderr",
          "text": []
        },
        {
          "output_type": "stream",
          "name": "stdout",
          "text": [
            "Epoch 215 | train_loss=0.8921 | val_acc=87.31%\n",
            "  → New best! Saved to teacher_resnet50_best.pth\n"
          ]
        },
        {
          "output_type": "stream",
          "name": "stderr",
          "text": []
        },
        {
          "output_type": "stream",
          "name": "stdout",
          "text": [
            "Epoch 216 | train_loss=0.9066 | val_acc=87.41%\n",
            "  → New best! Saved to teacher_resnet50_best.pth\n"
          ]
        },
        {
          "output_type": "stream",
          "name": "stderr",
          "text": []
        },
        {
          "output_type": "stream",
          "name": "stdout",
          "text": [
            "Epoch 217 | train_loss=0.8792 | val_acc=87.10%\n"
          ]
        },
        {
          "output_type": "stream",
          "name": "stderr",
          "text": []
        },
        {
          "output_type": "stream",
          "name": "stdout",
          "text": [
            "Epoch 218 | train_loss=0.8736 | val_acc=86.54%\n"
          ]
        },
        {
          "output_type": "stream",
          "name": "stderr",
          "text": []
        },
        {
          "output_type": "stream",
          "name": "stdout",
          "text": [
            "Epoch 219 | train_loss=0.8963 | val_acc=87.20%\n"
          ]
        },
        {
          "output_type": "stream",
          "name": "stderr",
          "text": []
        },
        {
          "output_type": "stream",
          "name": "stdout",
          "text": [
            "Epoch 220 | train_loss=0.8573 | val_acc=86.25%\n"
          ]
        },
        {
          "output_type": "stream",
          "name": "stderr",
          "text": []
        },
        {
          "output_type": "stream",
          "name": "stdout",
          "text": [
            "Epoch 221 | train_loss=0.8680 | val_acc=87.26%\n"
          ]
        },
        {
          "output_type": "stream",
          "name": "stderr",
          "text": []
        },
        {
          "output_type": "stream",
          "name": "stdout",
          "text": [
            "Epoch 222 | train_loss=0.8823 | val_acc=86.86%\n"
          ]
        },
        {
          "output_type": "stream",
          "name": "stderr",
          "text": []
        },
        {
          "output_type": "stream",
          "name": "stdout",
          "text": [
            "Epoch 223 | train_loss=0.8891 | val_acc=86.81%\n"
          ]
        },
        {
          "output_type": "stream",
          "name": "stderr",
          "text": []
        },
        {
          "output_type": "stream",
          "name": "stdout",
          "text": [
            "Epoch 224 | train_loss=0.8646 | val_acc=86.85%\n"
          ]
        },
        {
          "output_type": "stream",
          "name": "stderr",
          "text": []
        },
        {
          "output_type": "stream",
          "name": "stdout",
          "text": [
            "Epoch 225 | train_loss=0.8819 | val_acc=87.13%\n"
          ]
        },
        {
          "output_type": "stream",
          "name": "stderr",
          "text": []
        },
        {
          "output_type": "stream",
          "name": "stdout",
          "text": [
            "Epoch 226 | train_loss=0.9055 | val_acc=87.11%\n"
          ]
        },
        {
          "output_type": "stream",
          "name": "stderr",
          "text": []
        },
        {
          "output_type": "stream",
          "name": "stdout",
          "text": [
            "Epoch 227 | train_loss=0.9110 | val_acc=87.51%\n",
            "  → New best! Saved to teacher_resnet50_best.pth\n"
          ]
        },
        {
          "output_type": "stream",
          "name": "stderr",
          "text": []
        },
        {
          "output_type": "stream",
          "name": "stdout",
          "text": [
            "Epoch 228 | train_loss=0.8599 | val_acc=87.38%\n"
          ]
        },
        {
          "output_type": "stream",
          "name": "stderr",
          "text": []
        },
        {
          "output_type": "stream",
          "name": "stdout",
          "text": [
            "Epoch 229 | train_loss=0.8889 | val_acc=87.60%\n",
            "  → New best! Saved to teacher_resnet50_best.pth\n"
          ]
        },
        {
          "output_type": "stream",
          "name": "stderr",
          "text": []
        },
        {
          "output_type": "stream",
          "name": "stdout",
          "text": [
            "Epoch 230 | train_loss=0.9021 | val_acc=88.09%\n",
            "  → New best! Saved to teacher_resnet50_best.pth\n"
          ]
        },
        {
          "output_type": "stream",
          "name": "stderr",
          "text": []
        },
        {
          "output_type": "stream",
          "name": "stdout",
          "text": [
            "Epoch 231 | train_loss=0.8592 | val_acc=87.22%\n"
          ]
        },
        {
          "output_type": "stream",
          "name": "stderr",
          "text": []
        },
        {
          "output_type": "stream",
          "name": "stdout",
          "text": [
            "Epoch 232 | train_loss=0.9372 | val_acc=87.48%\n"
          ]
        },
        {
          "output_type": "stream",
          "name": "stderr",
          "text": []
        },
        {
          "output_type": "stream",
          "name": "stdout",
          "text": [
            "Epoch 233 | train_loss=0.8952 | val_acc=87.95%\n"
          ]
        },
        {
          "output_type": "stream",
          "name": "stderr",
          "text": []
        },
        {
          "output_type": "stream",
          "name": "stdout",
          "text": [
            "Epoch 234 | train_loss=0.8646 | val_acc=88.10%\n",
            "  → New best! Saved to teacher_resnet50_best.pth\n"
          ]
        },
        {
          "output_type": "stream",
          "name": "stderr",
          "text": []
        },
        {
          "output_type": "stream",
          "name": "stdout",
          "text": [
            "Epoch 235 | train_loss=0.8038 | val_acc=87.86%\n"
          ]
        },
        {
          "output_type": "stream",
          "name": "stderr",
          "text": []
        },
        {
          "output_type": "stream",
          "name": "stdout",
          "text": [
            "Epoch 236 | train_loss=0.8544 | val_acc=87.61%\n"
          ]
        },
        {
          "output_type": "stream",
          "name": "stderr",
          "text": []
        },
        {
          "output_type": "stream",
          "name": "stdout",
          "text": [
            "Epoch 237 | train_loss=0.8748 | val_acc=87.53%\n"
          ]
        },
        {
          "output_type": "stream",
          "name": "stderr",
          "text": []
        },
        {
          "output_type": "stream",
          "name": "stdout",
          "text": [
            "Epoch 238 | train_loss=0.8663 | val_acc=87.62%\n"
          ]
        },
        {
          "output_type": "stream",
          "name": "stderr",
          "text": []
        },
        {
          "output_type": "stream",
          "name": "stdout",
          "text": [
            "Epoch 239 | train_loss=0.8587 | val_acc=88.09%\n"
          ]
        },
        {
          "output_type": "stream",
          "name": "stderr",
          "text": []
        },
        {
          "output_type": "stream",
          "name": "stdout",
          "text": [
            "Epoch 240 | train_loss=0.8738 | val_acc=87.69%\n"
          ]
        },
        {
          "output_type": "stream",
          "name": "stderr",
          "text": []
        },
        {
          "output_type": "stream",
          "name": "stdout",
          "text": [
            "Epoch 241 | train_loss=0.8268 | val_acc=87.38%\n"
          ]
        },
        {
          "output_type": "stream",
          "name": "stderr",
          "text": []
        },
        {
          "output_type": "stream",
          "name": "stdout",
          "text": [
            "Epoch 242 | train_loss=0.8742 | val_acc=88.04%\n"
          ]
        },
        {
          "output_type": "stream",
          "name": "stderr",
          "text": []
        },
        {
          "output_type": "stream",
          "name": "stdout",
          "text": [
            "Epoch 243 | train_loss=0.8499 | val_acc=87.98%\n"
          ]
        },
        {
          "output_type": "stream",
          "name": "stderr",
          "text": []
        },
        {
          "output_type": "stream",
          "name": "stdout",
          "text": [
            "Epoch 244 | train_loss=0.8652 | val_acc=87.65%\n"
          ]
        },
        {
          "output_type": "stream",
          "name": "stderr",
          "text": []
        },
        {
          "output_type": "stream",
          "name": "stdout",
          "text": [
            "Epoch 245 | train_loss=0.8517 | val_acc=88.27%\n",
            "  → New best! Saved to teacher_resnet50_best.pth\n"
          ]
        },
        {
          "output_type": "stream",
          "name": "stderr",
          "text": []
        },
        {
          "output_type": "stream",
          "name": "stdout",
          "text": [
            "Epoch 246 | train_loss=0.8558 | val_acc=87.80%\n"
          ]
        },
        {
          "output_type": "stream",
          "name": "stderr",
          "text": []
        },
        {
          "output_type": "stream",
          "name": "stdout",
          "text": [
            "Epoch 247 | train_loss=0.8930 | val_acc=88.07%\n"
          ]
        },
        {
          "output_type": "stream",
          "name": "stderr",
          "text": []
        },
        {
          "output_type": "stream",
          "name": "stdout",
          "text": [
            "Epoch 248 | train_loss=0.8704 | val_acc=88.36%\n",
            "  → New best! Saved to teacher_resnet50_best.pth\n"
          ]
        },
        {
          "output_type": "stream",
          "name": "stderr",
          "text": []
        },
        {
          "output_type": "stream",
          "name": "stdout",
          "text": [
            "Epoch 249 | train_loss=0.8160 | val_acc=88.20%\n"
          ]
        },
        {
          "output_type": "stream",
          "name": "stderr",
          "text": []
        },
        {
          "output_type": "stream",
          "name": "stdout",
          "text": [
            "Epoch 250 | train_loss=0.8469 | val_acc=87.82%\n"
          ]
        },
        {
          "output_type": "stream",
          "name": "stderr",
          "text": []
        },
        {
          "output_type": "stream",
          "name": "stdout",
          "text": [
            "Epoch 251 | train_loss=0.8445 | val_acc=87.99%\n"
          ]
        },
        {
          "output_type": "stream",
          "name": "stderr",
          "text": []
        },
        {
          "output_type": "stream",
          "name": "stdout",
          "text": [
            "Epoch 252 | train_loss=0.8466 | val_acc=88.46%\n",
            "  → New best! Saved to teacher_resnet50_best.pth\n"
          ]
        },
        {
          "output_type": "stream",
          "name": "stderr",
          "text": []
        },
        {
          "output_type": "stream",
          "name": "stdout",
          "text": [
            "Epoch 253 | train_loss=0.8634 | val_acc=88.58%\n",
            "  → New best! Saved to teacher_resnet50_best.pth\n"
          ]
        },
        {
          "output_type": "stream",
          "name": "stderr",
          "text": []
        },
        {
          "output_type": "stream",
          "name": "stdout",
          "text": [
            "Epoch 254 | train_loss=0.8495 | val_acc=88.57%\n"
          ]
        },
        {
          "output_type": "stream",
          "name": "stderr",
          "text": []
        },
        {
          "output_type": "stream",
          "name": "stdout",
          "text": [
            "Epoch 255 | train_loss=0.8323 | val_acc=88.40%\n"
          ]
        },
        {
          "output_type": "stream",
          "name": "stderr",
          "text": []
        },
        {
          "output_type": "stream",
          "name": "stdout",
          "text": [
            "Epoch 256 | train_loss=0.8765 | val_acc=88.46%\n"
          ]
        },
        {
          "output_type": "stream",
          "name": "stderr",
          "text": []
        },
        {
          "output_type": "stream",
          "name": "stdout",
          "text": [
            "Epoch 257 | train_loss=0.8273 | val_acc=88.37%\n"
          ]
        },
        {
          "output_type": "stream",
          "name": "stderr",
          "text": []
        },
        {
          "output_type": "stream",
          "name": "stdout",
          "text": [
            "Epoch 258 | train_loss=0.8071 | val_acc=88.14%\n"
          ]
        },
        {
          "output_type": "stream",
          "name": "stderr",
          "text": []
        },
        {
          "output_type": "stream",
          "name": "stdout",
          "text": [
            "Epoch 259 | train_loss=0.8028 | val_acc=88.47%\n"
          ]
        },
        {
          "output_type": "stream",
          "name": "stderr",
          "text": []
        },
        {
          "output_type": "stream",
          "name": "stdout",
          "text": [
            "Epoch 260 | train_loss=0.8486 | val_acc=88.32%\n"
          ]
        },
        {
          "output_type": "stream",
          "name": "stderr",
          "text": []
        },
        {
          "output_type": "stream",
          "name": "stdout",
          "text": [
            "Epoch 261 | train_loss=0.8709 | val_acc=88.31%\n"
          ]
        },
        {
          "output_type": "stream",
          "name": "stderr",
          "text": []
        },
        {
          "output_type": "stream",
          "name": "stdout",
          "text": [
            "Epoch 262 | train_loss=0.8499 | val_acc=88.29%\n"
          ]
        },
        {
          "output_type": "stream",
          "name": "stderr",
          "text": []
        },
        {
          "output_type": "stream",
          "name": "stdout",
          "text": [
            "Epoch 263 | train_loss=0.8210 | val_acc=88.54%\n"
          ]
        },
        {
          "output_type": "stream",
          "name": "stderr",
          "text": []
        },
        {
          "output_type": "stream",
          "name": "stdout",
          "text": [
            "Epoch 264 | train_loss=0.8374 | val_acc=88.21%\n"
          ]
        },
        {
          "output_type": "stream",
          "name": "stderr",
          "text": []
        },
        {
          "output_type": "stream",
          "name": "stdout",
          "text": [
            "Epoch 265 | train_loss=0.8301 | val_acc=88.73%\n",
            "  → New best! Saved to teacher_resnet50_best.pth\n"
          ]
        },
        {
          "output_type": "stream",
          "name": "stderr",
          "text": []
        },
        {
          "output_type": "stream",
          "name": "stdout",
          "text": [
            "Epoch 266 | train_loss=0.8936 | val_acc=88.59%\n"
          ]
        },
        {
          "output_type": "stream",
          "name": "stderr",
          "text": []
        },
        {
          "output_type": "stream",
          "name": "stdout",
          "text": [
            "Epoch 267 | train_loss=0.8164 | val_acc=88.72%\n"
          ]
        },
        {
          "output_type": "stream",
          "name": "stderr",
          "text": []
        },
        {
          "output_type": "stream",
          "name": "stdout",
          "text": [
            "Epoch 268 | train_loss=0.8313 | val_acc=88.94%\n",
            "  → New best! Saved to teacher_resnet50_best.pth\n"
          ]
        },
        {
          "output_type": "stream",
          "name": "stderr",
          "text": []
        },
        {
          "output_type": "stream",
          "name": "stdout",
          "text": [
            "Epoch 269 | train_loss=0.8628 | val_acc=89.01%\n",
            "  → New best! Saved to teacher_resnet50_best.pth\n"
          ]
        },
        {
          "output_type": "stream",
          "name": "stderr",
          "text": []
        },
        {
          "output_type": "stream",
          "name": "stdout",
          "text": [
            "Epoch 270 | train_loss=0.8424 | val_acc=89.18%\n",
            "  → New best! Saved to teacher_resnet50_best.pth\n"
          ]
        },
        {
          "output_type": "stream",
          "name": "stderr",
          "text": []
        },
        {
          "output_type": "stream",
          "name": "stdout",
          "text": [
            "Epoch 271 | train_loss=0.8225 | val_acc=89.03%\n"
          ]
        },
        {
          "output_type": "stream",
          "name": "stderr",
          "text": []
        },
        {
          "output_type": "stream",
          "name": "stdout",
          "text": [
            "Epoch 272 | train_loss=0.8570 | val_acc=88.81%\n"
          ]
        },
        {
          "output_type": "stream",
          "name": "stderr",
          "text": []
        },
        {
          "output_type": "stream",
          "name": "stdout",
          "text": [
            "Epoch 273 | train_loss=0.8707 | val_acc=89.10%\n"
          ]
        },
        {
          "output_type": "stream",
          "name": "stderr",
          "text": []
        },
        {
          "output_type": "stream",
          "name": "stdout",
          "text": [
            "Epoch 274 | train_loss=0.8086 | val_acc=88.98%\n"
          ]
        },
        {
          "output_type": "stream",
          "name": "stderr",
          "text": []
        },
        {
          "output_type": "stream",
          "name": "stdout",
          "text": [
            "Epoch 275 | train_loss=0.8409 | val_acc=88.81%\n"
          ]
        },
        {
          "output_type": "stream",
          "name": "stderr",
          "text": []
        },
        {
          "output_type": "stream",
          "name": "stdout",
          "text": [
            "Epoch 276 | train_loss=0.8077 | val_acc=88.94%\n"
          ]
        },
        {
          "output_type": "stream",
          "name": "stderr",
          "text": []
        },
        {
          "output_type": "stream",
          "name": "stdout",
          "text": [
            "Epoch 277 | train_loss=0.8128 | val_acc=88.92%\n"
          ]
        },
        {
          "output_type": "stream",
          "name": "stderr",
          "text": []
        },
        {
          "output_type": "stream",
          "name": "stdout",
          "text": [
            "Epoch 278 | train_loss=0.8529 | val_acc=88.91%\n"
          ]
        },
        {
          "output_type": "stream",
          "name": "stderr",
          "text": []
        },
        {
          "output_type": "stream",
          "name": "stdout",
          "text": [
            "Epoch 279 | train_loss=0.8441 | val_acc=88.94%\n"
          ]
        },
        {
          "output_type": "stream",
          "name": "stderr",
          "text": []
        },
        {
          "output_type": "stream",
          "name": "stdout",
          "text": [
            "Epoch 280 | train_loss=0.8535 | val_acc=88.87%\n"
          ]
        },
        {
          "output_type": "stream",
          "name": "stderr",
          "text": []
        },
        {
          "output_type": "stream",
          "name": "stdout",
          "text": [
            "Epoch 281 | train_loss=0.8340 | val_acc=88.92%\n"
          ]
        },
        {
          "output_type": "stream",
          "name": "stderr",
          "text": []
        },
        {
          "output_type": "stream",
          "name": "stdout",
          "text": [
            "Epoch 282 | train_loss=0.8333 | val_acc=88.75%\n"
          ]
        },
        {
          "output_type": "stream",
          "name": "stderr",
          "text": []
        },
        {
          "output_type": "stream",
          "name": "stdout",
          "text": [
            "Epoch 283 | train_loss=0.8519 | val_acc=88.81%\n"
          ]
        },
        {
          "output_type": "stream",
          "name": "stderr",
          "text": []
        },
        {
          "output_type": "stream",
          "name": "stdout",
          "text": [
            "Epoch 284 | train_loss=0.8298 | val_acc=89.01%\n"
          ]
        },
        {
          "output_type": "stream",
          "name": "stderr",
          "text": []
        },
        {
          "output_type": "stream",
          "name": "stdout",
          "text": [
            "Epoch 285 | train_loss=0.8038 | val_acc=89.15%\n"
          ]
        },
        {
          "output_type": "stream",
          "name": "stderr",
          "text": []
        },
        {
          "output_type": "stream",
          "name": "stdout",
          "text": [
            "Epoch 286 | train_loss=0.8537 | val_acc=88.95%\n"
          ]
        },
        {
          "output_type": "stream",
          "name": "stderr",
          "text": []
        },
        {
          "output_type": "stream",
          "name": "stdout",
          "text": [
            "Epoch 287 | train_loss=0.8314 | val_acc=88.89%\n"
          ]
        },
        {
          "output_type": "stream",
          "name": "stderr",
          "text": []
        },
        {
          "output_type": "stream",
          "name": "stdout",
          "text": [
            "Epoch 288 | train_loss=0.8552 | val_acc=88.93%\n"
          ]
        },
        {
          "output_type": "stream",
          "name": "stderr",
          "text": []
        },
        {
          "output_type": "stream",
          "name": "stdout",
          "text": [
            "Epoch 289 | train_loss=0.8372 | val_acc=88.80%\n"
          ]
        },
        {
          "output_type": "stream",
          "name": "stderr",
          "text": []
        },
        {
          "output_type": "stream",
          "name": "stdout",
          "text": [
            "Epoch 290 | train_loss=0.8442 | val_acc=88.88%\n"
          ]
        },
        {
          "output_type": "stream",
          "name": "stderr",
          "text": []
        },
        {
          "output_type": "stream",
          "name": "stdout",
          "text": [
            "Epoch 291 | train_loss=0.8310 | val_acc=89.04%\n"
          ]
        },
        {
          "output_type": "stream",
          "name": "stderr",
          "text": []
        },
        {
          "output_type": "stream",
          "name": "stdout",
          "text": [
            "Epoch 292 | train_loss=0.8446 | val_acc=89.13%\n"
          ]
        },
        {
          "output_type": "stream",
          "name": "stderr",
          "text": []
        },
        {
          "output_type": "stream",
          "name": "stdout",
          "text": [
            "Epoch 293 | train_loss=0.8289 | val_acc=88.90%\n"
          ]
        },
        {
          "output_type": "stream",
          "name": "stderr",
          "text": []
        },
        {
          "output_type": "stream",
          "name": "stdout",
          "text": [
            "Epoch 294 | train_loss=0.8367 | val_acc=89.10%\n"
          ]
        },
        {
          "output_type": "stream",
          "name": "stderr",
          "text": []
        },
        {
          "output_type": "stream",
          "name": "stdout",
          "text": [
            "Epoch 295 | train_loss=0.8369 | val_acc=88.92%\n"
          ]
        },
        {
          "output_type": "stream",
          "name": "stderr",
          "text": []
        },
        {
          "output_type": "stream",
          "name": "stdout",
          "text": [
            "Epoch 296 | train_loss=0.8154 | val_acc=88.98%\n"
          ]
        },
        {
          "output_type": "stream",
          "name": "stderr",
          "text": []
        },
        {
          "output_type": "stream",
          "name": "stdout",
          "text": [
            "Epoch 297 | train_loss=0.8547 | val_acc=89.21%\n",
            "  → New best! Saved to teacher_resnet50_best.pth\n"
          ]
        },
        {
          "output_type": "stream",
          "name": "stderr",
          "text": []
        },
        {
          "output_type": "stream",
          "name": "stdout",
          "text": [
            "Epoch 298 | train_loss=0.8349 | val_acc=89.10%\n"
          ]
        },
        {
          "output_type": "stream",
          "name": "stderr",
          "text": []
        },
        {
          "output_type": "stream",
          "name": "stdout",
          "text": [
            "Epoch 299 | train_loss=0.8583 | val_acc=89.03%\n"
          ]
        },
        {
          "output_type": "stream",
          "name": "stderr",
          "text": []
        },
        {
          "output_type": "stream",
          "name": "stdout",
          "text": [
            "Epoch 300 | train_loss=0.8451 | val_acc=89.09%\n",
            "\n",
            "✅ Training complete. Best teacher val_acc = 89.21%\n"
          ]
        }
      ]
    },
    {
      "cell_type": "markdown",
      "source": [
        "#Part4"
      ],
      "metadata": {
        "id": "Mc2jDDdf5DSx"
      }
    },
    {
      "cell_type": "markdown",
      "source": [
        "Loaded your single teacher.\n",
        "\n",
        "Defined the student, optimizer & KD loss.\n",
        "\n",
        "Trained the student for 100 epochs with KL+CE.\n",
        "\n",
        "Evaluated and saved its best test accuracy."
      ],
      "metadata": {
        "id": "Ofp5KfexCSwL"
      }
    },
    {
      "cell_type": "code",
      "source": [
        "import torch\n",
        "import torch.nn as nn\n",
        "import torch.optim as optim\n",
        "import torch.nn.functional as F\n",
        "from torchvision import datasets, transforms\n",
        "from torchvision.models import resnet50, resnet34\n",
        "from torch.utils.data import DataLoader\n",
        "from tqdm import tqdm\n",
        "\n",
        "# 1. Hyperparameters and device\n",
        "device     = torch.device('cuda' if torch.cuda.is_available() else 'cpu')\n",
        "batch_size = 128\n",
        "num_epochs = 200\n",
        "tau        = 5      # distillation temperature\n",
        "alpha      = 0.7    # weight on KL term\n",
        "milestones = [60, 120, 160]\n",
        "lr         = 0.1\n",
        "\n",
        "# 2. Data preparation (same as in code 1)\n",
        "mean = (0.4914, 0.4822, 0.4465)\n",
        "std  = (0.2470, 0.2435, 0.2616)\n",
        "\n",
        "train_transform = transforms.Compose([\n",
        "    transforms.RandomCrop(32, padding=4),\n",
        "    transforms.RandomHorizontalFlip(),\n",
        "    transforms.ToTensor(),\n",
        "    transforms.Normalize(mean, std),\n",
        "])\n",
        "\n",
        "test_transform = transforms.Compose([\n",
        "    transforms.ToTensor(),\n",
        "    transforms.Normalize(mean, std),\n",
        "])\n",
        "\n",
        "train_set = datasets.CIFAR10(root='data/', train=True,  download=True, transform=train_transform)\n",
        "test_set  = datasets.CIFAR10(root='data/', train=False, download=True, transform=test_transform)\n",
        "\n",
        "train_loader = DataLoader(train_set,  batch_size=batch_size, shuffle=True,  num_workers=4, pin_memory=True)\n",
        "test_loader  = DataLoader(test_set,   batch_size=batch_size, shuffle=False, num_workers=4, pin_memory=True)\n",
        "\n",
        "# 3. Load pretrained teacher (ResNet-50) and freeze it\n",
        "teacher = resnet50(num_classes=10).to(device)\n",
        "# ← here we load the ResNet-50 checkpoint (teacher_1), not the ResNet-34 one\n",
        "ckpt    = torch.load(\"teacher_1_resnet50_best.pth\", map_location=device)\n",
        "teacher.load_state_dict(ckpt['model_state'])\n",
        "teacher.eval()\n",
        "for p in teacher.parameters():\n",
        "    p.requires_grad = False\n",
        "\n",
        "# 4. Instantiate student (ResNet-34)\n",
        "student = resnet34(num_classes=10).to(device)\n",
        "\n",
        "# 5. Optimizer & scheduler\n",
        "optimizer = optim.SGD(\n",
        "    student.parameters(),\n",
        "    lr=lr,\n",
        "    momentum=0.9,\n",
        "    weight_decay=5e-4\n",
        ")\n",
        "scheduler = optim.lr_scheduler.MultiStepLR(\n",
        "    optimizer,\n",
        "    milestones=milestones,\n",
        "    gamma=0.2\n",
        ")\n",
        "\n",
        "# 6. Distillation loss\n",
        "def kd_loss(student_logits, teacher_logits, targets):\n",
        "    s = F.log_softmax(student_logits / tau, dim=1)\n",
        "    t = F.softmax(teacher_logits / tau,   dim=1)\n",
        "    loss_kl = F.kl_div(s, t, reduction='batchmean') * (tau * tau)\n",
        "    loss_ce = F.cross_entropy(student_logits, targets)\n",
        "    return alpha * loss_kl + (1 - alpha) * loss_ce\n",
        "\n",
        "# 7. Training loop\n",
        "best_acc = 0.0\n",
        "\n",
        "for epoch in range(1, num_epochs + 1):\n",
        "    student.train()\n",
        "    running_loss = 0.0\n",
        "\n",
        "    for inputs, targets in tqdm(train_loader, desc=f\"Epoch {epoch}\", leave=False):\n",
        "        inputs, targets = inputs.to(device), targets.to(device)\n",
        "        optimizer.zero_grad()\n",
        "\n",
        "        with torch.no_grad():\n",
        "            teacher_logits = teacher(inputs)\n",
        "\n",
        "        student_logits = student(inputs)\n",
        "        loss = kd_loss(student_logits, teacher_logits, targets)\n",
        "        loss.backward()\n",
        "        optimizer.step()\n",
        "\n",
        "        running_loss += loss.item() * inputs.size(0)\n",
        "\n",
        "    scheduler.step()\n",
        "    avg_loss = running_loss / len(train_loader.dataset)\n",
        "    print(f\"Epoch {epoch:03d} | train_loss={avg_loss:.4f}\")\n",
        "\n",
        "    # 8. Evaluation\n",
        "    student.eval()\n",
        "    correct = total = 0\n",
        "    with torch.no_grad():\n",
        "        for inputs, targets in test_loader:\n",
        "            inputs, targets = inputs.to(device), targets.to(device)\n",
        "            outputs = student(inputs)\n",
        "            preds   = outputs.argmax(dim=1)\n",
        "            correct += (preds == targets).sum().item()\n",
        "            total   += targets.size(0)\n",
        "\n",
        "    test_acc = 100. * correct / total\n",
        "    print(f\"          test_acc={test_acc:.2f}%\")\n",
        "\n",
        "    # 9. Save best\n",
        "    if test_acc > best_acc:\n",
        "        best_acc = test_acc\n",
        "        torch.save({\n",
        "            'epoch':           epoch,\n",
        "            'model_state':     student.state_dict(),\n",
        "            'optimizer_state': optimizer.state_dict(),\n",
        "            'test_acc':        test_acc,\n",
        "        }, \"student_distilled_best.pth\")\n",
        "        print(\"  → New best saved.\")\n",
        "\n",
        "print(f\"Finished. Best distilled student accuracy: {best_acc:.2f}%\")\n"
      ],
      "metadata": {
        "colab": {
          "base_uri": "https://localhost:8080/"
        },
        "id": "6wyc3CTdJLka",
        "outputId": "d26ca28d-c0a7-4d92-90ef-ce65e80a0ca4"
      },
      "execution_count": 19,
      "outputs": [
        {
          "output_type": "stream",
          "name": "stderr",
          "text": [
            "                                                          "
          ]
        },
        {
          "output_type": "stream",
          "name": "stdout",
          "text": [
            "Epoch 001 | train_loss=6.1549\n"
          ]
        },
        {
          "output_type": "stream",
          "name": "stderr",
          "text": [
            "\r"
          ]
        },
        {
          "output_type": "stream",
          "name": "stdout",
          "text": [
            "          test_acc=26.44%\n",
            "  → New best saved.\n"
          ]
        },
        {
          "output_type": "stream",
          "name": "stderr",
          "text": [
            "                                                          "
          ]
        },
        {
          "output_type": "stream",
          "name": "stdout",
          "text": [
            "Epoch 002 | train_loss=4.4776\n"
          ]
        },
        {
          "output_type": "stream",
          "name": "stderr",
          "text": [
            "\r"
          ]
        },
        {
          "output_type": "stream",
          "name": "stdout",
          "text": [
            "          test_acc=34.61%\n",
            "  → New best saved.\n"
          ]
        },
        {
          "output_type": "stream",
          "name": "stderr",
          "text": [
            "                                                          "
          ]
        },
        {
          "output_type": "stream",
          "name": "stdout",
          "text": [
            "Epoch 003 | train_loss=3.8858\n"
          ]
        },
        {
          "output_type": "stream",
          "name": "stderr",
          "text": [
            "\r"
          ]
        },
        {
          "output_type": "stream",
          "name": "stdout",
          "text": [
            "          test_acc=40.24%\n",
            "  → New best saved.\n"
          ]
        },
        {
          "output_type": "stream",
          "name": "stderr",
          "text": [
            "                                                          "
          ]
        },
        {
          "output_type": "stream",
          "name": "stdout",
          "text": [
            "Epoch 004 | train_loss=3.2646\n"
          ]
        },
        {
          "output_type": "stream",
          "name": "stderr",
          "text": [
            "\r"
          ]
        },
        {
          "output_type": "stream",
          "name": "stdout",
          "text": [
            "          test_acc=49.80%\n",
            "  → New best saved.\n"
          ]
        },
        {
          "output_type": "stream",
          "name": "stderr",
          "text": [
            "                                                          "
          ]
        },
        {
          "output_type": "stream",
          "name": "stdout",
          "text": [
            "Epoch 005 | train_loss=2.6387\n"
          ]
        },
        {
          "output_type": "stream",
          "name": "stderr",
          "text": [
            "\r"
          ]
        },
        {
          "output_type": "stream",
          "name": "stdout",
          "text": [
            "          test_acc=55.17%\n",
            "  → New best saved.\n"
          ]
        },
        {
          "output_type": "stream",
          "name": "stderr",
          "text": [
            "                                                          "
          ]
        },
        {
          "output_type": "stream",
          "name": "stdout",
          "text": [
            "Epoch 006 | train_loss=2.2478\n"
          ]
        },
        {
          "output_type": "stream",
          "name": "stderr",
          "text": [
            "\r"
          ]
        },
        {
          "output_type": "stream",
          "name": "stdout",
          "text": [
            "          test_acc=60.07%\n",
            "  → New best saved.\n"
          ]
        },
        {
          "output_type": "stream",
          "name": "stderr",
          "text": [
            "                                                          "
          ]
        },
        {
          "output_type": "stream",
          "name": "stdout",
          "text": [
            "Epoch 007 | train_loss=1.9292\n"
          ]
        },
        {
          "output_type": "stream",
          "name": "stderr",
          "text": [
            "\r"
          ]
        },
        {
          "output_type": "stream",
          "name": "stdout",
          "text": [
            "          test_acc=56.21%\n"
          ]
        },
        {
          "output_type": "stream",
          "name": "stderr",
          "text": [
            "                                                          "
          ]
        },
        {
          "output_type": "stream",
          "name": "stdout",
          "text": [
            "Epoch 008 | train_loss=1.7324\n"
          ]
        },
        {
          "output_type": "stream",
          "name": "stderr",
          "text": [
            "\r"
          ]
        },
        {
          "output_type": "stream",
          "name": "stdout",
          "text": [
            "          test_acc=64.70%\n",
            "  → New best saved.\n"
          ]
        },
        {
          "output_type": "stream",
          "name": "stderr",
          "text": [
            "                                                          "
          ]
        },
        {
          "output_type": "stream",
          "name": "stdout",
          "text": [
            "Epoch 009 | train_loss=1.5815\n"
          ]
        },
        {
          "output_type": "stream",
          "name": "stderr",
          "text": [
            "\r"
          ]
        },
        {
          "output_type": "stream",
          "name": "stdout",
          "text": [
            "          test_acc=68.23%\n",
            "  → New best saved.\n"
          ]
        },
        {
          "output_type": "stream",
          "name": "stderr",
          "text": []
        },
        {
          "output_type": "stream",
          "name": "stdout",
          "text": [
            "Epoch 010 | train_loss=1.4600\n",
            "          test_acc=69.88%\n",
            "  → New best saved.\n"
          ]
        },
        {
          "output_type": "stream",
          "name": "stderr",
          "text": [
            "                                                           "
          ]
        },
        {
          "output_type": "stream",
          "name": "stdout",
          "text": [
            "Epoch 011 | train_loss=1.4174\n"
          ]
        },
        {
          "output_type": "stream",
          "name": "stderr",
          "text": [
            "\r"
          ]
        },
        {
          "output_type": "stream",
          "name": "stdout",
          "text": [
            "          test_acc=65.35%\n"
          ]
        },
        {
          "output_type": "stream",
          "name": "stderr",
          "text": [
            "                                                           "
          ]
        },
        {
          "output_type": "stream",
          "name": "stdout",
          "text": [
            "Epoch 012 | train_loss=1.3674\n"
          ]
        },
        {
          "output_type": "stream",
          "name": "stderr",
          "text": [
            "\r"
          ]
        },
        {
          "output_type": "stream",
          "name": "stdout",
          "text": [
            "          test_acc=68.58%\n"
          ]
        },
        {
          "output_type": "stream",
          "name": "stderr",
          "text": [
            "                                                           "
          ]
        },
        {
          "output_type": "stream",
          "name": "stdout",
          "text": [
            "Epoch 013 | train_loss=1.3133\n"
          ]
        },
        {
          "output_type": "stream",
          "name": "stderr",
          "text": [
            "\r"
          ]
        },
        {
          "output_type": "stream",
          "name": "stdout",
          "text": [
            "          test_acc=69.35%\n"
          ]
        },
        {
          "output_type": "stream",
          "name": "stderr",
          "text": [
            "                                                           "
          ]
        },
        {
          "output_type": "stream",
          "name": "stdout",
          "text": [
            "Epoch 014 | train_loss=1.2746\n"
          ]
        },
        {
          "output_type": "stream",
          "name": "stderr",
          "text": [
            "\r"
          ]
        },
        {
          "output_type": "stream",
          "name": "stdout",
          "text": [
            "          test_acc=68.88%\n"
          ]
        },
        {
          "output_type": "stream",
          "name": "stderr",
          "text": [
            "                                                           "
          ]
        },
        {
          "output_type": "stream",
          "name": "stdout",
          "text": [
            "Epoch 015 | train_loss=1.2346\n"
          ]
        },
        {
          "output_type": "stream",
          "name": "stderr",
          "text": [
            "\r"
          ]
        },
        {
          "output_type": "stream",
          "name": "stdout",
          "text": [
            "          test_acc=71.04%\n",
            "  → New best saved.\n"
          ]
        },
        {
          "output_type": "stream",
          "name": "stderr",
          "text": [
            "                                                           "
          ]
        },
        {
          "output_type": "stream",
          "name": "stdout",
          "text": [
            "Epoch 016 | train_loss=1.2485\n"
          ]
        },
        {
          "output_type": "stream",
          "name": "stderr",
          "text": [
            "\r"
          ]
        },
        {
          "output_type": "stream",
          "name": "stdout",
          "text": [
            "          test_acc=73.21%\n",
            "  → New best saved.\n"
          ]
        },
        {
          "output_type": "stream",
          "name": "stderr",
          "text": [
            "                                                           "
          ]
        },
        {
          "output_type": "stream",
          "name": "stdout",
          "text": [
            "Epoch 017 | train_loss=1.1926\n"
          ]
        },
        {
          "output_type": "stream",
          "name": "stderr",
          "text": [
            "\r"
          ]
        },
        {
          "output_type": "stream",
          "name": "stdout",
          "text": [
            "          test_acc=73.63%\n",
            "  → New best saved.\n"
          ]
        },
        {
          "output_type": "stream",
          "name": "stderr",
          "text": [
            "                                                           "
          ]
        },
        {
          "output_type": "stream",
          "name": "stdout",
          "text": [
            "Epoch 018 | train_loss=1.1820\n"
          ]
        },
        {
          "output_type": "stream",
          "name": "stderr",
          "text": [
            "\r"
          ]
        },
        {
          "output_type": "stream",
          "name": "stdout",
          "text": [
            "          test_acc=68.26%\n"
          ]
        },
        {
          "output_type": "stream",
          "name": "stderr",
          "text": [
            "                                                           "
          ]
        },
        {
          "output_type": "stream",
          "name": "stdout",
          "text": [
            "Epoch 019 | train_loss=1.1685\n"
          ]
        },
        {
          "output_type": "stream",
          "name": "stderr",
          "text": [
            "\r"
          ]
        },
        {
          "output_type": "stream",
          "name": "stdout",
          "text": [
            "          test_acc=71.20%\n"
          ]
        },
        {
          "output_type": "stream",
          "name": "stderr",
          "text": [
            "                                                           "
          ]
        },
        {
          "output_type": "stream",
          "name": "stdout",
          "text": [
            "Epoch 020 | train_loss=1.1411\n"
          ]
        },
        {
          "output_type": "stream",
          "name": "stderr",
          "text": [
            "\r"
          ]
        },
        {
          "output_type": "stream",
          "name": "stdout",
          "text": [
            "          test_acc=70.66%\n"
          ]
        },
        {
          "output_type": "stream",
          "name": "stderr",
          "text": [
            "                                                           "
          ]
        },
        {
          "output_type": "stream",
          "name": "stdout",
          "text": [
            "Epoch 021 | train_loss=1.1394\n"
          ]
        },
        {
          "output_type": "stream",
          "name": "stderr",
          "text": [
            "\r"
          ]
        },
        {
          "output_type": "stream",
          "name": "stdout",
          "text": [
            "          test_acc=72.60%\n"
          ]
        },
        {
          "output_type": "stream",
          "name": "stderr",
          "text": [
            "                                                           "
          ]
        },
        {
          "output_type": "stream",
          "name": "stdout",
          "text": [
            "Epoch 022 | train_loss=1.1314\n"
          ]
        },
        {
          "output_type": "stream",
          "name": "stderr",
          "text": [
            "\r"
          ]
        },
        {
          "output_type": "stream",
          "name": "stdout",
          "text": [
            "          test_acc=71.44%\n"
          ]
        },
        {
          "output_type": "stream",
          "name": "stderr",
          "text": [
            "                                                           "
          ]
        },
        {
          "output_type": "stream",
          "name": "stdout",
          "text": [
            "Epoch 023 | train_loss=1.1218\n"
          ]
        },
        {
          "output_type": "stream",
          "name": "stderr",
          "text": [
            "\r"
          ]
        },
        {
          "output_type": "stream",
          "name": "stdout",
          "text": [
            "          test_acc=71.75%\n"
          ]
        },
        {
          "output_type": "stream",
          "name": "stderr",
          "text": [
            "                                                           "
          ]
        },
        {
          "output_type": "stream",
          "name": "stdout",
          "text": [
            "Epoch 024 | train_loss=1.1122\n"
          ]
        },
        {
          "output_type": "stream",
          "name": "stderr",
          "text": [
            "\r"
          ]
        },
        {
          "output_type": "stream",
          "name": "stdout",
          "text": [
            "          test_acc=70.50%\n"
          ]
        },
        {
          "output_type": "stream",
          "name": "stderr",
          "text": [
            "                                                           "
          ]
        },
        {
          "output_type": "stream",
          "name": "stdout",
          "text": [
            "Epoch 025 | train_loss=1.0998\n"
          ]
        },
        {
          "output_type": "stream",
          "name": "stderr",
          "text": [
            "\r"
          ]
        },
        {
          "output_type": "stream",
          "name": "stdout",
          "text": [
            "          test_acc=73.32%\n"
          ]
        },
        {
          "output_type": "stream",
          "name": "stderr",
          "text": [
            "                                                           "
          ]
        },
        {
          "output_type": "stream",
          "name": "stdout",
          "text": [
            "Epoch 026 | train_loss=1.0960\n"
          ]
        },
        {
          "output_type": "stream",
          "name": "stderr",
          "text": [
            "\r"
          ]
        },
        {
          "output_type": "stream",
          "name": "stdout",
          "text": [
            "          test_acc=72.22%\n"
          ]
        },
        {
          "output_type": "stream",
          "name": "stderr",
          "text": [
            "                                                           "
          ]
        },
        {
          "output_type": "stream",
          "name": "stdout",
          "text": [
            "Epoch 027 | train_loss=1.0901\n"
          ]
        },
        {
          "output_type": "stream",
          "name": "stderr",
          "text": [
            "\r"
          ]
        },
        {
          "output_type": "stream",
          "name": "stdout",
          "text": [
            "          test_acc=71.63%\n"
          ]
        },
        {
          "output_type": "stream",
          "name": "stderr",
          "text": [
            "                                                           "
          ]
        },
        {
          "output_type": "stream",
          "name": "stdout",
          "text": [
            "Epoch 028 | train_loss=1.0703\n"
          ]
        },
        {
          "output_type": "stream",
          "name": "stderr",
          "text": [
            "\r"
          ]
        },
        {
          "output_type": "stream",
          "name": "stdout",
          "text": [
            "          test_acc=74.30%\n",
            "  → New best saved.\n"
          ]
        },
        {
          "output_type": "stream",
          "name": "stderr",
          "text": [
            "                                                           "
          ]
        },
        {
          "output_type": "stream",
          "name": "stdout",
          "text": [
            "Epoch 029 | train_loss=1.0699\n"
          ]
        },
        {
          "output_type": "stream",
          "name": "stderr",
          "text": [
            "\r"
          ]
        },
        {
          "output_type": "stream",
          "name": "stdout",
          "text": [
            "          test_acc=72.24%\n"
          ]
        },
        {
          "output_type": "stream",
          "name": "stderr",
          "text": [
            "                                                           "
          ]
        },
        {
          "output_type": "stream",
          "name": "stdout",
          "text": [
            "Epoch 030 | train_loss=1.0871\n"
          ]
        },
        {
          "output_type": "stream",
          "name": "stderr",
          "text": [
            "\r"
          ]
        },
        {
          "output_type": "stream",
          "name": "stdout",
          "text": [
            "          test_acc=71.95%\n"
          ]
        },
        {
          "output_type": "stream",
          "name": "stderr",
          "text": [
            "                                                           "
          ]
        },
        {
          "output_type": "stream",
          "name": "stdout",
          "text": [
            "Epoch 031 | train_loss=1.0383\n"
          ]
        },
        {
          "output_type": "stream",
          "name": "stderr",
          "text": [
            "\r"
          ]
        },
        {
          "output_type": "stream",
          "name": "stdout",
          "text": [
            "          test_acc=74.11%\n"
          ]
        },
        {
          "output_type": "stream",
          "name": "stderr",
          "text": [
            "                                                           "
          ]
        },
        {
          "output_type": "stream",
          "name": "stdout",
          "text": [
            "Epoch 032 | train_loss=1.0494\n"
          ]
        },
        {
          "output_type": "stream",
          "name": "stderr",
          "text": [
            "\r"
          ]
        },
        {
          "output_type": "stream",
          "name": "stdout",
          "text": [
            "          test_acc=74.31%\n",
            "  → New best saved.\n"
          ]
        },
        {
          "output_type": "stream",
          "name": "stderr",
          "text": [
            "                                                           "
          ]
        },
        {
          "output_type": "stream",
          "name": "stdout",
          "text": [
            "Epoch 033 | train_loss=1.0401\n"
          ]
        },
        {
          "output_type": "stream",
          "name": "stderr",
          "text": [
            "\r"
          ]
        },
        {
          "output_type": "stream",
          "name": "stdout",
          "text": [
            "          test_acc=71.02%\n"
          ]
        },
        {
          "output_type": "stream",
          "name": "stderr",
          "text": [
            "                                                           "
          ]
        },
        {
          "output_type": "stream",
          "name": "stdout",
          "text": [
            "Epoch 034 | train_loss=1.0600\n"
          ]
        },
        {
          "output_type": "stream",
          "name": "stderr",
          "text": [
            "\r"
          ]
        },
        {
          "output_type": "stream",
          "name": "stdout",
          "text": [
            "          test_acc=75.05%\n",
            "  → New best saved.\n"
          ]
        },
        {
          "output_type": "stream",
          "name": "stderr",
          "text": [
            "                                                           "
          ]
        },
        {
          "output_type": "stream",
          "name": "stdout",
          "text": [
            "Epoch 035 | train_loss=1.0404\n"
          ]
        },
        {
          "output_type": "stream",
          "name": "stderr",
          "text": [
            "\r"
          ]
        },
        {
          "output_type": "stream",
          "name": "stdout",
          "text": [
            "          test_acc=72.74%\n"
          ]
        },
        {
          "output_type": "stream",
          "name": "stderr",
          "text": [
            "                                                           "
          ]
        },
        {
          "output_type": "stream",
          "name": "stdout",
          "text": [
            "Epoch 036 | train_loss=1.0625\n"
          ]
        },
        {
          "output_type": "stream",
          "name": "stderr",
          "text": [
            "\r"
          ]
        },
        {
          "output_type": "stream",
          "name": "stdout",
          "text": [
            "          test_acc=73.97%\n"
          ]
        },
        {
          "output_type": "stream",
          "name": "stderr",
          "text": [
            "                                                           "
          ]
        },
        {
          "output_type": "stream",
          "name": "stdout",
          "text": [
            "Epoch 037 | train_loss=1.0260\n"
          ]
        },
        {
          "output_type": "stream",
          "name": "stderr",
          "text": [
            "\r"
          ]
        },
        {
          "output_type": "stream",
          "name": "stdout",
          "text": [
            "          test_acc=74.12%\n"
          ]
        },
        {
          "output_type": "stream",
          "name": "stderr",
          "text": [
            "                                                           "
          ]
        },
        {
          "output_type": "stream",
          "name": "stdout",
          "text": [
            "Epoch 038 | train_loss=1.0367\n"
          ]
        },
        {
          "output_type": "stream",
          "name": "stderr",
          "text": [
            "\r"
          ]
        },
        {
          "output_type": "stream",
          "name": "stdout",
          "text": [
            "          test_acc=73.11%\n"
          ]
        },
        {
          "output_type": "stream",
          "name": "stderr",
          "text": [
            "                                                           "
          ]
        },
        {
          "output_type": "stream",
          "name": "stdout",
          "text": [
            "Epoch 039 | train_loss=1.0311\n"
          ]
        },
        {
          "output_type": "stream",
          "name": "stderr",
          "text": [
            "\r"
          ]
        },
        {
          "output_type": "stream",
          "name": "stdout",
          "text": [
            "          test_acc=73.62%\n"
          ]
        },
        {
          "output_type": "stream",
          "name": "stderr",
          "text": [
            "                                                           "
          ]
        },
        {
          "output_type": "stream",
          "name": "stdout",
          "text": [
            "Epoch 040 | train_loss=1.0455\n"
          ]
        },
        {
          "output_type": "stream",
          "name": "stderr",
          "text": [
            "\r"
          ]
        },
        {
          "output_type": "stream",
          "name": "stdout",
          "text": [
            "          test_acc=73.30%\n"
          ]
        },
        {
          "output_type": "stream",
          "name": "stderr",
          "text": [
            "                                                           "
          ]
        },
        {
          "output_type": "stream",
          "name": "stdout",
          "text": [
            "Epoch 041 | train_loss=1.0304\n"
          ]
        },
        {
          "output_type": "stream",
          "name": "stderr",
          "text": [
            "\r"
          ]
        },
        {
          "output_type": "stream",
          "name": "stdout",
          "text": [
            "          test_acc=70.89%\n"
          ]
        },
        {
          "output_type": "stream",
          "name": "stderr",
          "text": [
            "                                                           "
          ]
        },
        {
          "output_type": "stream",
          "name": "stdout",
          "text": [
            "Epoch 042 | train_loss=1.0084\n"
          ]
        },
        {
          "output_type": "stream",
          "name": "stderr",
          "text": [
            "\r"
          ]
        },
        {
          "output_type": "stream",
          "name": "stdout",
          "text": [
            "          test_acc=74.93%\n"
          ]
        },
        {
          "output_type": "stream",
          "name": "stderr",
          "text": [
            "                                                           "
          ]
        },
        {
          "output_type": "stream",
          "name": "stdout",
          "text": [
            "Epoch 043 | train_loss=1.0214\n"
          ]
        },
        {
          "output_type": "stream",
          "name": "stderr",
          "text": [
            "\r"
          ]
        },
        {
          "output_type": "stream",
          "name": "stdout",
          "text": [
            "          test_acc=70.47%\n"
          ]
        },
        {
          "output_type": "stream",
          "name": "stderr",
          "text": [
            "                                                           "
          ]
        },
        {
          "output_type": "stream",
          "name": "stdout",
          "text": [
            "Epoch 044 | train_loss=1.0195\n"
          ]
        },
        {
          "output_type": "stream",
          "name": "stderr",
          "text": [
            "\r"
          ]
        },
        {
          "output_type": "stream",
          "name": "stdout",
          "text": [
            "          test_acc=71.52%\n"
          ]
        },
        {
          "output_type": "stream",
          "name": "stderr",
          "text": [
            "                                                           "
          ]
        },
        {
          "output_type": "stream",
          "name": "stdout",
          "text": [
            "Epoch 045 | train_loss=1.0188\n"
          ]
        },
        {
          "output_type": "stream",
          "name": "stderr",
          "text": [
            "\r"
          ]
        },
        {
          "output_type": "stream",
          "name": "stdout",
          "text": [
            "          test_acc=74.75%\n"
          ]
        },
        {
          "output_type": "stream",
          "name": "stderr",
          "text": [
            "                                                           "
          ]
        },
        {
          "output_type": "stream",
          "name": "stdout",
          "text": [
            "Epoch 046 | train_loss=1.0162\n"
          ]
        },
        {
          "output_type": "stream",
          "name": "stderr",
          "text": [
            "\r"
          ]
        },
        {
          "output_type": "stream",
          "name": "stdout",
          "text": [
            "          test_acc=72.99%\n"
          ]
        },
        {
          "output_type": "stream",
          "name": "stderr",
          "text": [
            "                                                           "
          ]
        },
        {
          "output_type": "stream",
          "name": "stdout",
          "text": [
            "Epoch 047 | train_loss=1.0220\n"
          ]
        },
        {
          "output_type": "stream",
          "name": "stderr",
          "text": [
            "\r"
          ]
        },
        {
          "output_type": "stream",
          "name": "stdout",
          "text": [
            "          test_acc=74.65%\n"
          ]
        },
        {
          "output_type": "stream",
          "name": "stderr",
          "text": [
            "                                                           "
          ]
        },
        {
          "output_type": "stream",
          "name": "stdout",
          "text": [
            "Epoch 048 | train_loss=1.0072\n"
          ]
        },
        {
          "output_type": "stream",
          "name": "stderr",
          "text": [
            "\r"
          ]
        },
        {
          "output_type": "stream",
          "name": "stdout",
          "text": [
            "          test_acc=72.99%\n"
          ]
        },
        {
          "output_type": "stream",
          "name": "stderr",
          "text": [
            "                                                           "
          ]
        },
        {
          "output_type": "stream",
          "name": "stdout",
          "text": [
            "Epoch 049 | train_loss=1.0094\n"
          ]
        },
        {
          "output_type": "stream",
          "name": "stderr",
          "text": [
            "\r"
          ]
        },
        {
          "output_type": "stream",
          "name": "stdout",
          "text": [
            "          test_acc=71.99%\n"
          ]
        },
        {
          "output_type": "stream",
          "name": "stderr",
          "text": [
            "                                                           "
          ]
        },
        {
          "output_type": "stream",
          "name": "stdout",
          "text": [
            "Epoch 050 | train_loss=0.9934\n"
          ]
        },
        {
          "output_type": "stream",
          "name": "stderr",
          "text": [
            "\r"
          ]
        },
        {
          "output_type": "stream",
          "name": "stdout",
          "text": [
            "          test_acc=73.93%\n"
          ]
        },
        {
          "output_type": "stream",
          "name": "stderr",
          "text": [
            "                                                           "
          ]
        },
        {
          "output_type": "stream",
          "name": "stdout",
          "text": [
            "Epoch 051 | train_loss=1.0125\n"
          ]
        },
        {
          "output_type": "stream",
          "name": "stderr",
          "text": [
            "\r"
          ]
        },
        {
          "output_type": "stream",
          "name": "stdout",
          "text": [
            "          test_acc=72.69%\n"
          ]
        },
        {
          "output_type": "stream",
          "name": "stderr",
          "text": [
            "                                                           "
          ]
        },
        {
          "output_type": "stream",
          "name": "stdout",
          "text": [
            "Epoch 052 | train_loss=1.0071\n"
          ]
        },
        {
          "output_type": "stream",
          "name": "stderr",
          "text": [
            "\r"
          ]
        },
        {
          "output_type": "stream",
          "name": "stdout",
          "text": [
            "          test_acc=74.48%\n"
          ]
        },
        {
          "output_type": "stream",
          "name": "stderr",
          "text": [
            "                                                           "
          ]
        },
        {
          "output_type": "stream",
          "name": "stdout",
          "text": [
            "Epoch 053 | train_loss=1.0032\n"
          ]
        },
        {
          "output_type": "stream",
          "name": "stderr",
          "text": [
            "\r"
          ]
        },
        {
          "output_type": "stream",
          "name": "stdout",
          "text": [
            "          test_acc=74.45%\n"
          ]
        },
        {
          "output_type": "stream",
          "name": "stderr",
          "text": [
            "                                                           "
          ]
        },
        {
          "output_type": "stream",
          "name": "stdout",
          "text": [
            "Epoch 054 | train_loss=0.9955\n"
          ]
        },
        {
          "output_type": "stream",
          "name": "stderr",
          "text": [
            "\r"
          ]
        },
        {
          "output_type": "stream",
          "name": "stdout",
          "text": [
            "          test_acc=74.55%\n"
          ]
        },
        {
          "output_type": "stream",
          "name": "stderr",
          "text": [
            "                                                           "
          ]
        },
        {
          "output_type": "stream",
          "name": "stdout",
          "text": [
            "Epoch 055 | train_loss=1.0154\n"
          ]
        },
        {
          "output_type": "stream",
          "name": "stderr",
          "text": [
            "\r"
          ]
        },
        {
          "output_type": "stream",
          "name": "stdout",
          "text": [
            "          test_acc=73.87%\n"
          ]
        },
        {
          "output_type": "stream",
          "name": "stderr",
          "text": [
            "                                                           "
          ]
        },
        {
          "output_type": "stream",
          "name": "stdout",
          "text": [
            "Epoch 056 | train_loss=0.9942\n"
          ]
        },
        {
          "output_type": "stream",
          "name": "stderr",
          "text": [
            "\r"
          ]
        },
        {
          "output_type": "stream",
          "name": "stdout",
          "text": [
            "          test_acc=73.61%\n"
          ]
        },
        {
          "output_type": "stream",
          "name": "stderr",
          "text": [
            "                                                           "
          ]
        },
        {
          "output_type": "stream",
          "name": "stdout",
          "text": [
            "Epoch 057 | train_loss=1.0079\n"
          ]
        },
        {
          "output_type": "stream",
          "name": "stderr",
          "text": [
            "\r"
          ]
        },
        {
          "output_type": "stream",
          "name": "stdout",
          "text": [
            "          test_acc=73.89%\n"
          ]
        },
        {
          "output_type": "stream",
          "name": "stderr",
          "text": [
            "                                                           "
          ]
        },
        {
          "output_type": "stream",
          "name": "stdout",
          "text": [
            "Epoch 058 | train_loss=0.9920\n"
          ]
        },
        {
          "output_type": "stream",
          "name": "stderr",
          "text": [
            "\r"
          ]
        },
        {
          "output_type": "stream",
          "name": "stdout",
          "text": [
            "          test_acc=71.59%\n"
          ]
        },
        {
          "output_type": "stream",
          "name": "stderr",
          "text": [
            "                                                           "
          ]
        },
        {
          "output_type": "stream",
          "name": "stdout",
          "text": [
            "Epoch 059 | train_loss=0.9859\n"
          ]
        },
        {
          "output_type": "stream",
          "name": "stderr",
          "text": [
            "\r"
          ]
        },
        {
          "output_type": "stream",
          "name": "stdout",
          "text": [
            "          test_acc=71.85%\n"
          ]
        },
        {
          "output_type": "stream",
          "name": "stderr",
          "text": [
            "                                                           "
          ]
        },
        {
          "output_type": "stream",
          "name": "stdout",
          "text": [
            "Epoch 060 | train_loss=0.9972\n"
          ]
        },
        {
          "output_type": "stream",
          "name": "stderr",
          "text": [
            "\r"
          ]
        },
        {
          "output_type": "stream",
          "name": "stdout",
          "text": [
            "          test_acc=73.76%\n"
          ]
        },
        {
          "output_type": "stream",
          "name": "stderr",
          "text": [
            "                                                           "
          ]
        },
        {
          "output_type": "stream",
          "name": "stdout",
          "text": [
            "Epoch 061 | train_loss=0.6946\n"
          ]
        },
        {
          "output_type": "stream",
          "name": "stderr",
          "text": [
            "\r"
          ]
        },
        {
          "output_type": "stream",
          "name": "stdout",
          "text": [
            "          test_acc=79.10%\n",
            "  → New best saved.\n"
          ]
        },
        {
          "output_type": "stream",
          "name": "stderr",
          "text": [
            "                                                           "
          ]
        },
        {
          "output_type": "stream",
          "name": "stdout",
          "text": [
            "Epoch 062 | train_loss=0.6299\n"
          ]
        },
        {
          "output_type": "stream",
          "name": "stderr",
          "text": [
            "\r"
          ]
        },
        {
          "output_type": "stream",
          "name": "stdout",
          "text": [
            "          test_acc=79.48%\n",
            "  → New best saved.\n"
          ]
        },
        {
          "output_type": "stream",
          "name": "stderr",
          "text": [
            "                                                           "
          ]
        },
        {
          "output_type": "stream",
          "name": "stdout",
          "text": [
            "Epoch 063 | train_loss=0.6122\n"
          ]
        },
        {
          "output_type": "stream",
          "name": "stderr",
          "text": [
            "\r"
          ]
        },
        {
          "output_type": "stream",
          "name": "stdout",
          "text": [
            "          test_acc=79.70%\n",
            "  → New best saved.\n"
          ]
        },
        {
          "output_type": "stream",
          "name": "stderr",
          "text": [
            "                                                           "
          ]
        },
        {
          "output_type": "stream",
          "name": "stdout",
          "text": [
            "Epoch 064 | train_loss=0.5950\n"
          ]
        },
        {
          "output_type": "stream",
          "name": "stderr",
          "text": [
            "\r"
          ]
        },
        {
          "output_type": "stream",
          "name": "stdout",
          "text": [
            "          test_acc=79.71%\n",
            "  → New best saved.\n"
          ]
        },
        {
          "output_type": "stream",
          "name": "stderr",
          "text": [
            "                                                           "
          ]
        },
        {
          "output_type": "stream",
          "name": "stdout",
          "text": [
            "Epoch 065 | train_loss=0.5854\n"
          ]
        },
        {
          "output_type": "stream",
          "name": "stderr",
          "text": [
            "\r"
          ]
        },
        {
          "output_type": "stream",
          "name": "stdout",
          "text": [
            "          test_acc=79.76%\n",
            "  → New best saved.\n"
          ]
        },
        {
          "output_type": "stream",
          "name": "stderr",
          "text": []
        },
        {
          "output_type": "stream",
          "name": "stdout",
          "text": [
            "Epoch 066 | train_loss=0.5789\n",
            "          test_acc=79.67%\n"
          ]
        },
        {
          "output_type": "stream",
          "name": "stderr",
          "text": [
            "                                                           "
          ]
        },
        {
          "output_type": "stream",
          "name": "stdout",
          "text": [
            "Epoch 067 | train_loss=0.5722\n"
          ]
        },
        {
          "output_type": "stream",
          "name": "stderr",
          "text": [
            "\r"
          ]
        },
        {
          "output_type": "stream",
          "name": "stdout",
          "text": [
            "          test_acc=79.66%\n"
          ]
        },
        {
          "output_type": "stream",
          "name": "stderr",
          "text": [
            "                                                           "
          ]
        },
        {
          "output_type": "stream",
          "name": "stdout",
          "text": [
            "Epoch 068 | train_loss=0.5669\n"
          ]
        },
        {
          "output_type": "stream",
          "name": "stderr",
          "text": [
            "\r"
          ]
        },
        {
          "output_type": "stream",
          "name": "stdout",
          "text": [
            "          test_acc=79.60%\n"
          ]
        },
        {
          "output_type": "stream",
          "name": "stderr",
          "text": [
            "                                                           "
          ]
        },
        {
          "output_type": "stream",
          "name": "stdout",
          "text": [
            "Epoch 069 | train_loss=0.5691\n"
          ]
        },
        {
          "output_type": "stream",
          "name": "stderr",
          "text": [
            "\r"
          ]
        },
        {
          "output_type": "stream",
          "name": "stdout",
          "text": [
            "          test_acc=79.91%\n",
            "  → New best saved.\n"
          ]
        },
        {
          "output_type": "stream",
          "name": "stderr",
          "text": [
            "                                                           "
          ]
        },
        {
          "output_type": "stream",
          "name": "stdout",
          "text": [
            "Epoch 070 | train_loss=0.5710\n"
          ]
        },
        {
          "output_type": "stream",
          "name": "stderr",
          "text": [
            "\r"
          ]
        },
        {
          "output_type": "stream",
          "name": "stdout",
          "text": [
            "          test_acc=79.83%\n"
          ]
        },
        {
          "output_type": "stream",
          "name": "stderr",
          "text": [
            "                                                           "
          ]
        },
        {
          "output_type": "stream",
          "name": "stdout",
          "text": [
            "Epoch 071 | train_loss=0.5705\n"
          ]
        },
        {
          "output_type": "stream",
          "name": "stderr",
          "text": [
            "\r"
          ]
        },
        {
          "output_type": "stream",
          "name": "stdout",
          "text": [
            "          test_acc=79.33%\n"
          ]
        },
        {
          "output_type": "stream",
          "name": "stderr",
          "text": [
            "                                                           "
          ]
        },
        {
          "output_type": "stream",
          "name": "stdout",
          "text": [
            "Epoch 072 | train_loss=0.5679\n"
          ]
        },
        {
          "output_type": "stream",
          "name": "stderr",
          "text": [
            "\r"
          ]
        },
        {
          "output_type": "stream",
          "name": "stdout",
          "text": [
            "          test_acc=79.25%\n"
          ]
        },
        {
          "output_type": "stream",
          "name": "stderr",
          "text": [
            "                                                           "
          ]
        },
        {
          "output_type": "stream",
          "name": "stdout",
          "text": [
            "Epoch 073 | train_loss=0.5726\n"
          ]
        },
        {
          "output_type": "stream",
          "name": "stderr",
          "text": [
            "\r"
          ]
        },
        {
          "output_type": "stream",
          "name": "stdout",
          "text": [
            "          test_acc=79.28%\n"
          ]
        },
        {
          "output_type": "stream",
          "name": "stderr",
          "text": [
            "                                                           "
          ]
        },
        {
          "output_type": "stream",
          "name": "stdout",
          "text": [
            "Epoch 074 | train_loss=0.5764\n"
          ]
        },
        {
          "output_type": "stream",
          "name": "stderr",
          "text": [
            "\r"
          ]
        },
        {
          "output_type": "stream",
          "name": "stdout",
          "text": [
            "          test_acc=78.82%\n"
          ]
        },
        {
          "output_type": "stream",
          "name": "stderr",
          "text": [
            "                                                           "
          ]
        },
        {
          "output_type": "stream",
          "name": "stdout",
          "text": [
            "Epoch 075 | train_loss=0.5749\n"
          ]
        },
        {
          "output_type": "stream",
          "name": "stderr",
          "text": [
            "\r"
          ]
        },
        {
          "output_type": "stream",
          "name": "stdout",
          "text": [
            "          test_acc=78.85%\n"
          ]
        },
        {
          "output_type": "stream",
          "name": "stderr",
          "text": [
            "                                                           "
          ]
        },
        {
          "output_type": "stream",
          "name": "stdout",
          "text": [
            "Epoch 076 | train_loss=0.5774\n"
          ]
        },
        {
          "output_type": "stream",
          "name": "stderr",
          "text": [
            "\r"
          ]
        },
        {
          "output_type": "stream",
          "name": "stdout",
          "text": [
            "          test_acc=79.60%\n"
          ]
        },
        {
          "output_type": "stream",
          "name": "stderr",
          "text": [
            "                                                           "
          ]
        },
        {
          "output_type": "stream",
          "name": "stdout",
          "text": [
            "Epoch 077 | train_loss=0.5833\n"
          ]
        },
        {
          "output_type": "stream",
          "name": "stderr",
          "text": [
            "\r"
          ]
        },
        {
          "output_type": "stream",
          "name": "stdout",
          "text": [
            "          test_acc=79.46%\n"
          ]
        },
        {
          "output_type": "stream",
          "name": "stderr",
          "text": [
            "                                                           "
          ]
        },
        {
          "output_type": "stream",
          "name": "stdout",
          "text": [
            "Epoch 078 | train_loss=0.5797\n"
          ]
        },
        {
          "output_type": "stream",
          "name": "stderr",
          "text": [
            "\r"
          ]
        },
        {
          "output_type": "stream",
          "name": "stdout",
          "text": [
            "          test_acc=79.63%\n"
          ]
        },
        {
          "output_type": "stream",
          "name": "stderr",
          "text": [
            "                                                           "
          ]
        },
        {
          "output_type": "stream",
          "name": "stdout",
          "text": [
            "Epoch 079 | train_loss=0.5793\n"
          ]
        },
        {
          "output_type": "stream",
          "name": "stderr",
          "text": [
            "\r"
          ]
        },
        {
          "output_type": "stream",
          "name": "stdout",
          "text": [
            "          test_acc=79.04%\n"
          ]
        },
        {
          "output_type": "stream",
          "name": "stderr",
          "text": [
            "                                                           "
          ]
        },
        {
          "output_type": "stream",
          "name": "stdout",
          "text": [
            "Epoch 080 | train_loss=0.5875\n"
          ]
        },
        {
          "output_type": "stream",
          "name": "stderr",
          "text": [
            "\r"
          ]
        },
        {
          "output_type": "stream",
          "name": "stdout",
          "text": [
            "          test_acc=78.97%\n"
          ]
        },
        {
          "output_type": "stream",
          "name": "stderr",
          "text": [
            "                                                           "
          ]
        },
        {
          "output_type": "stream",
          "name": "stdout",
          "text": [
            "Epoch 081 | train_loss=0.5908\n"
          ]
        },
        {
          "output_type": "stream",
          "name": "stderr",
          "text": [
            "\r"
          ]
        },
        {
          "output_type": "stream",
          "name": "stdout",
          "text": [
            "          test_acc=78.55%\n"
          ]
        },
        {
          "output_type": "stream",
          "name": "stderr",
          "text": [
            "                                                           "
          ]
        },
        {
          "output_type": "stream",
          "name": "stdout",
          "text": [
            "Epoch 082 | train_loss=0.5968\n"
          ]
        },
        {
          "output_type": "stream",
          "name": "stderr",
          "text": [
            "\r"
          ]
        },
        {
          "output_type": "stream",
          "name": "stdout",
          "text": [
            "          test_acc=78.94%\n"
          ]
        },
        {
          "output_type": "stream",
          "name": "stderr",
          "text": [
            "                                                           "
          ]
        },
        {
          "output_type": "stream",
          "name": "stdout",
          "text": [
            "Epoch 083 | train_loss=0.5847\n"
          ]
        },
        {
          "output_type": "stream",
          "name": "stderr",
          "text": [
            "\r"
          ]
        },
        {
          "output_type": "stream",
          "name": "stdout",
          "text": [
            "          test_acc=78.75%\n"
          ]
        },
        {
          "output_type": "stream",
          "name": "stderr",
          "text": [
            "                                                           "
          ]
        },
        {
          "output_type": "stream",
          "name": "stdout",
          "text": [
            "Epoch 084 | train_loss=0.5949\n"
          ]
        },
        {
          "output_type": "stream",
          "name": "stderr",
          "text": [
            "\r"
          ]
        },
        {
          "output_type": "stream",
          "name": "stdout",
          "text": [
            "          test_acc=79.11%\n"
          ]
        },
        {
          "output_type": "stream",
          "name": "stderr",
          "text": [
            "                                                           "
          ]
        },
        {
          "output_type": "stream",
          "name": "stdout",
          "text": [
            "Epoch 085 | train_loss=0.5903\n"
          ]
        },
        {
          "output_type": "stream",
          "name": "stderr",
          "text": [
            "\r"
          ]
        },
        {
          "output_type": "stream",
          "name": "stdout",
          "text": [
            "          test_acc=78.50%\n"
          ]
        },
        {
          "output_type": "stream",
          "name": "stderr",
          "text": [
            "                                                           "
          ]
        },
        {
          "output_type": "stream",
          "name": "stdout",
          "text": [
            "Epoch 086 | train_loss=0.5809\n"
          ]
        },
        {
          "output_type": "stream",
          "name": "stderr",
          "text": [
            "\r"
          ]
        },
        {
          "output_type": "stream",
          "name": "stdout",
          "text": [
            "          test_acc=79.62%\n"
          ]
        },
        {
          "output_type": "stream",
          "name": "stderr",
          "text": [
            "                                                           "
          ]
        },
        {
          "output_type": "stream",
          "name": "stdout",
          "text": [
            "Epoch 087 | train_loss=0.5932\n"
          ]
        },
        {
          "output_type": "stream",
          "name": "stderr",
          "text": [
            "\r"
          ]
        },
        {
          "output_type": "stream",
          "name": "stdout",
          "text": [
            "          test_acc=78.99%\n"
          ]
        },
        {
          "output_type": "stream",
          "name": "stderr",
          "text": [
            "                                                           "
          ]
        },
        {
          "output_type": "stream",
          "name": "stdout",
          "text": [
            "Epoch 088 | train_loss=0.5973\n"
          ]
        },
        {
          "output_type": "stream",
          "name": "stderr",
          "text": [
            "\r"
          ]
        },
        {
          "output_type": "stream",
          "name": "stdout",
          "text": [
            "          test_acc=79.05%\n"
          ]
        },
        {
          "output_type": "stream",
          "name": "stderr",
          "text": [
            "                                                           "
          ]
        },
        {
          "output_type": "stream",
          "name": "stdout",
          "text": [
            "Epoch 089 | train_loss=0.5891\n"
          ]
        },
        {
          "output_type": "stream",
          "name": "stderr",
          "text": [
            "\r"
          ]
        },
        {
          "output_type": "stream",
          "name": "stdout",
          "text": [
            "          test_acc=78.30%\n"
          ]
        },
        {
          "output_type": "stream",
          "name": "stderr",
          "text": [
            "                                                           "
          ]
        },
        {
          "output_type": "stream",
          "name": "stdout",
          "text": [
            "Epoch 090 | train_loss=0.5857\n"
          ]
        },
        {
          "output_type": "stream",
          "name": "stderr",
          "text": [
            "\r"
          ]
        },
        {
          "output_type": "stream",
          "name": "stdout",
          "text": [
            "          test_acc=79.09%\n"
          ]
        },
        {
          "output_type": "stream",
          "name": "stderr",
          "text": [
            "                                                           "
          ]
        },
        {
          "output_type": "stream",
          "name": "stdout",
          "text": [
            "Epoch 091 | train_loss=0.5861\n"
          ]
        },
        {
          "output_type": "stream",
          "name": "stderr",
          "text": [
            "\r"
          ]
        },
        {
          "output_type": "stream",
          "name": "stdout",
          "text": [
            "          test_acc=77.87%\n"
          ]
        },
        {
          "output_type": "stream",
          "name": "stderr",
          "text": [
            "                                                           "
          ]
        },
        {
          "output_type": "stream",
          "name": "stdout",
          "text": [
            "Epoch 092 | train_loss=0.5870\n"
          ]
        },
        {
          "output_type": "stream",
          "name": "stderr",
          "text": [
            "\r"
          ]
        },
        {
          "output_type": "stream",
          "name": "stdout",
          "text": [
            "          test_acc=78.64%\n"
          ]
        },
        {
          "output_type": "stream",
          "name": "stderr",
          "text": [
            "                                                           "
          ]
        },
        {
          "output_type": "stream",
          "name": "stdout",
          "text": [
            "Epoch 093 | train_loss=0.5864\n"
          ]
        },
        {
          "output_type": "stream",
          "name": "stderr",
          "text": [
            "\r"
          ]
        },
        {
          "output_type": "stream",
          "name": "stdout",
          "text": [
            "          test_acc=78.75%\n"
          ]
        },
        {
          "output_type": "stream",
          "name": "stderr",
          "text": [
            "                                                           "
          ]
        },
        {
          "output_type": "stream",
          "name": "stdout",
          "text": [
            "Epoch 094 | train_loss=0.5858\n"
          ]
        },
        {
          "output_type": "stream",
          "name": "stderr",
          "text": [
            "\r"
          ]
        },
        {
          "output_type": "stream",
          "name": "stdout",
          "text": [
            "          test_acc=78.25%\n"
          ]
        },
        {
          "output_type": "stream",
          "name": "stderr",
          "text": [
            "                                                           "
          ]
        },
        {
          "output_type": "stream",
          "name": "stdout",
          "text": [
            "Epoch 095 | train_loss=0.5895\n"
          ]
        },
        {
          "output_type": "stream",
          "name": "stderr",
          "text": [
            "\r"
          ]
        },
        {
          "output_type": "stream",
          "name": "stdout",
          "text": [
            "          test_acc=78.61%\n"
          ]
        },
        {
          "output_type": "stream",
          "name": "stderr",
          "text": [
            "                                                           "
          ]
        },
        {
          "output_type": "stream",
          "name": "stdout",
          "text": [
            "Epoch 096 | train_loss=0.5921\n"
          ]
        },
        {
          "output_type": "stream",
          "name": "stderr",
          "text": [
            "\r"
          ]
        },
        {
          "output_type": "stream",
          "name": "stdout",
          "text": [
            "          test_acc=78.17%\n"
          ]
        },
        {
          "output_type": "stream",
          "name": "stderr",
          "text": [
            "                                                           "
          ]
        },
        {
          "output_type": "stream",
          "name": "stdout",
          "text": [
            "Epoch 097 | train_loss=0.5874\n"
          ]
        },
        {
          "output_type": "stream",
          "name": "stderr",
          "text": [
            "\r"
          ]
        },
        {
          "output_type": "stream",
          "name": "stdout",
          "text": [
            "          test_acc=78.74%\n"
          ]
        },
        {
          "output_type": "stream",
          "name": "stderr",
          "text": [
            "                                                           "
          ]
        },
        {
          "output_type": "stream",
          "name": "stdout",
          "text": [
            "Epoch 098 | train_loss=0.5897\n"
          ]
        },
        {
          "output_type": "stream",
          "name": "stderr",
          "text": [
            "\r"
          ]
        },
        {
          "output_type": "stream",
          "name": "stdout",
          "text": [
            "          test_acc=78.50%\n"
          ]
        },
        {
          "output_type": "stream",
          "name": "stderr",
          "text": [
            "                                                           "
          ]
        },
        {
          "output_type": "stream",
          "name": "stdout",
          "text": [
            "Epoch 099 | train_loss=0.5802\n"
          ]
        },
        {
          "output_type": "stream",
          "name": "stderr",
          "text": [
            "\r"
          ]
        },
        {
          "output_type": "stream",
          "name": "stdout",
          "text": [
            "          test_acc=79.24%\n"
          ]
        },
        {
          "output_type": "stream",
          "name": "stderr",
          "text": [
            "                                                            "
          ]
        },
        {
          "output_type": "stream",
          "name": "stdout",
          "text": [
            "Epoch 100 | train_loss=0.5862\n"
          ]
        },
        {
          "output_type": "stream",
          "name": "stderr",
          "text": [
            "\r"
          ]
        },
        {
          "output_type": "stream",
          "name": "stdout",
          "text": [
            "          test_acc=78.88%\n"
          ]
        },
        {
          "output_type": "stream",
          "name": "stderr",
          "text": [
            "                                                            "
          ]
        },
        {
          "output_type": "stream",
          "name": "stdout",
          "text": [
            "Epoch 101 | train_loss=0.5842\n"
          ]
        },
        {
          "output_type": "stream",
          "name": "stderr",
          "text": [
            "\r"
          ]
        },
        {
          "output_type": "stream",
          "name": "stdout",
          "text": [
            "          test_acc=79.58%\n"
          ]
        },
        {
          "output_type": "stream",
          "name": "stderr",
          "text": [
            "                                                            "
          ]
        },
        {
          "output_type": "stream",
          "name": "stdout",
          "text": [
            "Epoch 102 | train_loss=0.5784\n"
          ]
        },
        {
          "output_type": "stream",
          "name": "stderr",
          "text": [
            "\r"
          ]
        },
        {
          "output_type": "stream",
          "name": "stdout",
          "text": [
            "          test_acc=78.67%\n"
          ]
        },
        {
          "output_type": "stream",
          "name": "stderr",
          "text": [
            "                                                            "
          ]
        },
        {
          "output_type": "stream",
          "name": "stdout",
          "text": [
            "Epoch 103 | train_loss=0.5770\n"
          ]
        },
        {
          "output_type": "stream",
          "name": "stderr",
          "text": [
            "\r"
          ]
        },
        {
          "output_type": "stream",
          "name": "stdout",
          "text": [
            "          test_acc=78.43%\n"
          ]
        },
        {
          "output_type": "stream",
          "name": "stderr",
          "text": [
            "                                                            "
          ]
        },
        {
          "output_type": "stream",
          "name": "stdout",
          "text": [
            "Epoch 104 | train_loss=0.5828\n"
          ]
        },
        {
          "output_type": "stream",
          "name": "stderr",
          "text": [
            "\r"
          ]
        },
        {
          "output_type": "stream",
          "name": "stdout",
          "text": [
            "          test_acc=78.42%\n"
          ]
        },
        {
          "output_type": "stream",
          "name": "stderr",
          "text": [
            "                                                            "
          ]
        },
        {
          "output_type": "stream",
          "name": "stdout",
          "text": [
            "Epoch 105 | train_loss=0.5829\n"
          ]
        },
        {
          "output_type": "stream",
          "name": "stderr",
          "text": [
            "\r"
          ]
        },
        {
          "output_type": "stream",
          "name": "stdout",
          "text": [
            "          test_acc=79.08%\n"
          ]
        },
        {
          "output_type": "stream",
          "name": "stderr",
          "text": [
            "                                                            "
          ]
        },
        {
          "output_type": "stream",
          "name": "stdout",
          "text": [
            "Epoch 106 | train_loss=0.5783\n"
          ]
        },
        {
          "output_type": "stream",
          "name": "stderr",
          "text": [
            "\r"
          ]
        },
        {
          "output_type": "stream",
          "name": "stdout",
          "text": [
            "          test_acc=78.05%\n"
          ]
        },
        {
          "output_type": "stream",
          "name": "stderr",
          "text": [
            "                                                            "
          ]
        },
        {
          "output_type": "stream",
          "name": "stdout",
          "text": [
            "Epoch 107 | train_loss=0.5743\n"
          ]
        },
        {
          "output_type": "stream",
          "name": "stderr",
          "text": [
            "\r"
          ]
        },
        {
          "output_type": "stream",
          "name": "stdout",
          "text": [
            "          test_acc=79.13%\n"
          ]
        },
        {
          "output_type": "stream",
          "name": "stderr",
          "text": [
            "                                                            "
          ]
        },
        {
          "output_type": "stream",
          "name": "stdout",
          "text": [
            "Epoch 108 | train_loss=0.5741\n"
          ]
        },
        {
          "output_type": "stream",
          "name": "stderr",
          "text": [
            "\r"
          ]
        },
        {
          "output_type": "stream",
          "name": "stdout",
          "text": [
            "          test_acc=79.45%\n"
          ]
        },
        {
          "output_type": "stream",
          "name": "stderr",
          "text": [
            "                                                            "
          ]
        },
        {
          "output_type": "stream",
          "name": "stdout",
          "text": [
            "Epoch 109 | train_loss=0.5757\n"
          ]
        },
        {
          "output_type": "stream",
          "name": "stderr",
          "text": [
            "\r"
          ]
        },
        {
          "output_type": "stream",
          "name": "stdout",
          "text": [
            "          test_acc=77.92%\n"
          ]
        },
        {
          "output_type": "stream",
          "name": "stderr",
          "text": [
            "                                                            "
          ]
        },
        {
          "output_type": "stream",
          "name": "stdout",
          "text": [
            "Epoch 110 | train_loss=0.5829\n"
          ]
        },
        {
          "output_type": "stream",
          "name": "stderr",
          "text": [
            "\r"
          ]
        },
        {
          "output_type": "stream",
          "name": "stdout",
          "text": [
            "          test_acc=78.85%\n"
          ]
        },
        {
          "output_type": "stream",
          "name": "stderr",
          "text": [
            "                                                            "
          ]
        },
        {
          "output_type": "stream",
          "name": "stdout",
          "text": [
            "Epoch 111 | train_loss=0.5809\n"
          ]
        },
        {
          "output_type": "stream",
          "name": "stderr",
          "text": [
            "\r"
          ]
        },
        {
          "output_type": "stream",
          "name": "stdout",
          "text": [
            "          test_acc=78.45%\n"
          ]
        },
        {
          "output_type": "stream",
          "name": "stderr",
          "text": [
            "                                                            "
          ]
        },
        {
          "output_type": "stream",
          "name": "stdout",
          "text": [
            "Epoch 112 | train_loss=0.5808\n"
          ]
        },
        {
          "output_type": "stream",
          "name": "stderr",
          "text": [
            "\r"
          ]
        },
        {
          "output_type": "stream",
          "name": "stdout",
          "text": [
            "          test_acc=78.91%\n"
          ]
        },
        {
          "output_type": "stream",
          "name": "stderr",
          "text": [
            "                                                            "
          ]
        },
        {
          "output_type": "stream",
          "name": "stdout",
          "text": [
            "Epoch 113 | train_loss=0.5721\n"
          ]
        },
        {
          "output_type": "stream",
          "name": "stderr",
          "text": [
            "\r"
          ]
        },
        {
          "output_type": "stream",
          "name": "stdout",
          "text": [
            "          test_acc=78.17%\n"
          ]
        },
        {
          "output_type": "stream",
          "name": "stderr",
          "text": [
            "                                                            "
          ]
        },
        {
          "output_type": "stream",
          "name": "stdout",
          "text": [
            "Epoch 114 | train_loss=0.5818\n"
          ]
        },
        {
          "output_type": "stream",
          "name": "stderr",
          "text": [
            "\r"
          ]
        },
        {
          "output_type": "stream",
          "name": "stdout",
          "text": [
            "          test_acc=78.03%\n"
          ]
        },
        {
          "output_type": "stream",
          "name": "stderr",
          "text": [
            "                                                            "
          ]
        },
        {
          "output_type": "stream",
          "name": "stdout",
          "text": [
            "Epoch 115 | train_loss=0.5710\n"
          ]
        },
        {
          "output_type": "stream",
          "name": "stderr",
          "text": [
            "\r"
          ]
        },
        {
          "output_type": "stream",
          "name": "stdout",
          "text": [
            "          test_acc=78.56%\n"
          ]
        },
        {
          "output_type": "stream",
          "name": "stderr",
          "text": [
            "                                                            "
          ]
        },
        {
          "output_type": "stream",
          "name": "stdout",
          "text": [
            "Epoch 116 | train_loss=0.5730\n"
          ]
        },
        {
          "output_type": "stream",
          "name": "stderr",
          "text": [
            "\r"
          ]
        },
        {
          "output_type": "stream",
          "name": "stdout",
          "text": [
            "          test_acc=78.42%\n"
          ]
        },
        {
          "output_type": "stream",
          "name": "stderr",
          "text": [
            "                                                            "
          ]
        },
        {
          "output_type": "stream",
          "name": "stdout",
          "text": [
            "Epoch 117 | train_loss=0.5717\n"
          ]
        },
        {
          "output_type": "stream",
          "name": "stderr",
          "text": [
            "\r"
          ]
        },
        {
          "output_type": "stream",
          "name": "stdout",
          "text": [
            "          test_acc=77.96%\n"
          ]
        },
        {
          "output_type": "stream",
          "name": "stderr",
          "text": [
            "                                                            "
          ]
        },
        {
          "output_type": "stream",
          "name": "stdout",
          "text": [
            "Epoch 118 | train_loss=0.5691\n"
          ]
        },
        {
          "output_type": "stream",
          "name": "stderr",
          "text": [
            "\r"
          ]
        },
        {
          "output_type": "stream",
          "name": "stdout",
          "text": [
            "          test_acc=77.47%\n"
          ]
        },
        {
          "output_type": "stream",
          "name": "stderr",
          "text": [
            "                                                            "
          ]
        },
        {
          "output_type": "stream",
          "name": "stdout",
          "text": [
            "Epoch 119 | train_loss=0.5693\n"
          ]
        },
        {
          "output_type": "stream",
          "name": "stderr",
          "text": [
            "\r"
          ]
        },
        {
          "output_type": "stream",
          "name": "stdout",
          "text": [
            "          test_acc=77.93%\n"
          ]
        },
        {
          "output_type": "stream",
          "name": "stderr",
          "text": [
            "                                                            "
          ]
        },
        {
          "output_type": "stream",
          "name": "stdout",
          "text": [
            "Epoch 120 | train_loss=0.5687\n"
          ]
        },
        {
          "output_type": "stream",
          "name": "stderr",
          "text": [
            "\r"
          ]
        },
        {
          "output_type": "stream",
          "name": "stdout",
          "text": [
            "          test_acc=77.91%\n"
          ]
        },
        {
          "output_type": "stream",
          "name": "stderr",
          "text": [
            "                                                            "
          ]
        },
        {
          "output_type": "stream",
          "name": "stdout",
          "text": [
            "Epoch 121 | train_loss=0.4701\n"
          ]
        },
        {
          "output_type": "stream",
          "name": "stderr",
          "text": [
            "\r"
          ]
        },
        {
          "output_type": "stream",
          "name": "stdout",
          "text": [
            "          test_acc=80.43%\n",
            "  → New best saved.\n"
          ]
        },
        {
          "output_type": "stream",
          "name": "stderr",
          "text": [
            "                                                            "
          ]
        },
        {
          "output_type": "stream",
          "name": "stdout",
          "text": [
            "Epoch 122 | train_loss=0.4391\n"
          ]
        },
        {
          "output_type": "stream",
          "name": "stderr",
          "text": [
            "\r"
          ]
        },
        {
          "output_type": "stream",
          "name": "stdout",
          "text": [
            "          test_acc=80.39%\n"
          ]
        },
        {
          "output_type": "stream",
          "name": "stderr",
          "text": [
            "                                                            "
          ]
        },
        {
          "output_type": "stream",
          "name": "stdout",
          "text": [
            "Epoch 123 | train_loss=0.4344\n"
          ]
        },
        {
          "output_type": "stream",
          "name": "stderr",
          "text": [
            "\r"
          ]
        },
        {
          "output_type": "stream",
          "name": "stdout",
          "text": [
            "          test_acc=80.49%\n",
            "  → New best saved.\n"
          ]
        },
        {
          "output_type": "stream",
          "name": "stderr",
          "text": [
            "                                                            "
          ]
        },
        {
          "output_type": "stream",
          "name": "stdout",
          "text": [
            "Epoch 124 | train_loss=0.4244\n"
          ]
        },
        {
          "output_type": "stream",
          "name": "stderr",
          "text": [
            "\r"
          ]
        },
        {
          "output_type": "stream",
          "name": "stdout",
          "text": [
            "          test_acc=80.49%\n"
          ]
        },
        {
          "output_type": "stream",
          "name": "stderr",
          "text": [
            "                                                            "
          ]
        },
        {
          "output_type": "stream",
          "name": "stdout",
          "text": [
            "Epoch 125 | train_loss=0.4210\n"
          ]
        },
        {
          "output_type": "stream",
          "name": "stderr",
          "text": [
            "\r"
          ]
        },
        {
          "output_type": "stream",
          "name": "stdout",
          "text": [
            "          test_acc=80.61%\n",
            "  → New best saved.\n"
          ]
        },
        {
          "output_type": "stream",
          "name": "stderr",
          "text": [
            "                                                            "
          ]
        },
        {
          "output_type": "stream",
          "name": "stdout",
          "text": [
            "Epoch 126 | train_loss=0.4183\n"
          ]
        },
        {
          "output_type": "stream",
          "name": "stderr",
          "text": [
            "\r"
          ]
        },
        {
          "output_type": "stream",
          "name": "stdout",
          "text": [
            "          test_acc=80.43%\n"
          ]
        },
        {
          "output_type": "stream",
          "name": "stderr",
          "text": [
            "                                                            "
          ]
        },
        {
          "output_type": "stream",
          "name": "stdout",
          "text": [
            "Epoch 127 | train_loss=0.4150\n"
          ]
        },
        {
          "output_type": "stream",
          "name": "stderr",
          "text": [
            "\r"
          ]
        },
        {
          "output_type": "stream",
          "name": "stdout",
          "text": [
            "          test_acc=80.75%\n",
            "  → New best saved.\n"
          ]
        },
        {
          "output_type": "stream",
          "name": "stderr",
          "text": [
            "                                                            "
          ]
        },
        {
          "output_type": "stream",
          "name": "stdout",
          "text": [
            "Epoch 128 | train_loss=0.4123\n"
          ]
        },
        {
          "output_type": "stream",
          "name": "stderr",
          "text": [
            "\r"
          ]
        },
        {
          "output_type": "stream",
          "name": "stdout",
          "text": [
            "          test_acc=80.56%\n"
          ]
        },
        {
          "output_type": "stream",
          "name": "stderr",
          "text": [
            "                                                            "
          ]
        },
        {
          "output_type": "stream",
          "name": "stdout",
          "text": [
            "Epoch 129 | train_loss=0.4080\n"
          ]
        },
        {
          "output_type": "stream",
          "name": "stderr",
          "text": [
            "\r"
          ]
        },
        {
          "output_type": "stream",
          "name": "stdout",
          "text": [
            "          test_acc=80.42%\n"
          ]
        },
        {
          "output_type": "stream",
          "name": "stderr",
          "text": [
            "                                                            "
          ]
        },
        {
          "output_type": "stream",
          "name": "stdout",
          "text": [
            "Epoch 130 | train_loss=0.4043\n"
          ]
        },
        {
          "output_type": "stream",
          "name": "stderr",
          "text": [
            "\r"
          ]
        },
        {
          "output_type": "stream",
          "name": "stdout",
          "text": [
            "          test_acc=80.73%\n"
          ]
        },
        {
          "output_type": "stream",
          "name": "stderr",
          "text": [
            "                                                            "
          ]
        },
        {
          "output_type": "stream",
          "name": "stdout",
          "text": [
            "Epoch 131 | train_loss=0.4044\n"
          ]
        },
        {
          "output_type": "stream",
          "name": "stderr",
          "text": [
            "\r"
          ]
        },
        {
          "output_type": "stream",
          "name": "stdout",
          "text": [
            "          test_acc=80.55%\n"
          ]
        },
        {
          "output_type": "stream",
          "name": "stderr",
          "text": [
            "                                                            "
          ]
        },
        {
          "output_type": "stream",
          "name": "stdout",
          "text": [
            "Epoch 132 | train_loss=0.4023\n"
          ]
        },
        {
          "output_type": "stream",
          "name": "stderr",
          "text": [
            "\r"
          ]
        },
        {
          "output_type": "stream",
          "name": "stdout",
          "text": [
            "          test_acc=80.72%\n"
          ]
        },
        {
          "output_type": "stream",
          "name": "stderr",
          "text": [
            "                                                            "
          ]
        },
        {
          "output_type": "stream",
          "name": "stdout",
          "text": [
            "Epoch 133 | train_loss=0.4002\n"
          ]
        },
        {
          "output_type": "stream",
          "name": "stderr",
          "text": [
            "\r"
          ]
        },
        {
          "output_type": "stream",
          "name": "stdout",
          "text": [
            "          test_acc=80.47%\n"
          ]
        },
        {
          "output_type": "stream",
          "name": "stderr",
          "text": [
            "                                                            "
          ]
        },
        {
          "output_type": "stream",
          "name": "stdout",
          "text": [
            "Epoch 134 | train_loss=0.3985\n"
          ]
        },
        {
          "output_type": "stream",
          "name": "stderr",
          "text": [
            "\r"
          ]
        },
        {
          "output_type": "stream",
          "name": "stdout",
          "text": [
            "          test_acc=80.31%\n"
          ]
        },
        {
          "output_type": "stream",
          "name": "stderr",
          "text": [
            "                                                            "
          ]
        },
        {
          "output_type": "stream",
          "name": "stdout",
          "text": [
            "Epoch 135 | train_loss=0.3977\n"
          ]
        },
        {
          "output_type": "stream",
          "name": "stderr",
          "text": [
            "\r"
          ]
        },
        {
          "output_type": "stream",
          "name": "stdout",
          "text": [
            "          test_acc=80.65%\n"
          ]
        },
        {
          "output_type": "stream",
          "name": "stderr",
          "text": [
            "                                                            "
          ]
        },
        {
          "output_type": "stream",
          "name": "stdout",
          "text": [
            "Epoch 136 | train_loss=0.3969\n"
          ]
        },
        {
          "output_type": "stream",
          "name": "stderr",
          "text": [
            "\r"
          ]
        },
        {
          "output_type": "stream",
          "name": "stdout",
          "text": [
            "          test_acc=80.53%\n"
          ]
        },
        {
          "output_type": "stream",
          "name": "stderr",
          "text": [
            "                                                            "
          ]
        },
        {
          "output_type": "stream",
          "name": "stdout",
          "text": [
            "Epoch 137 | train_loss=0.3968\n"
          ]
        },
        {
          "output_type": "stream",
          "name": "stderr",
          "text": [
            "\r"
          ]
        },
        {
          "output_type": "stream",
          "name": "stdout",
          "text": [
            "          test_acc=80.68%\n"
          ]
        },
        {
          "output_type": "stream",
          "name": "stderr",
          "text": [
            "                                                            "
          ]
        },
        {
          "output_type": "stream",
          "name": "stdout",
          "text": [
            "Epoch 138 | train_loss=0.3922\n"
          ]
        },
        {
          "output_type": "stream",
          "name": "stderr",
          "text": [
            "\r"
          ]
        },
        {
          "output_type": "stream",
          "name": "stdout",
          "text": [
            "          test_acc=80.40%\n"
          ]
        },
        {
          "output_type": "stream",
          "name": "stderr",
          "text": [
            "                                                            "
          ]
        },
        {
          "output_type": "stream",
          "name": "stdout",
          "text": [
            "Epoch 139 | train_loss=0.3952\n"
          ]
        },
        {
          "output_type": "stream",
          "name": "stderr",
          "text": [
            "\r"
          ]
        },
        {
          "output_type": "stream",
          "name": "stdout",
          "text": [
            "          test_acc=80.26%\n"
          ]
        },
        {
          "output_type": "stream",
          "name": "stderr",
          "text": [
            "                                                            "
          ]
        },
        {
          "output_type": "stream",
          "name": "stdout",
          "text": [
            "Epoch 140 | train_loss=0.3907\n"
          ]
        },
        {
          "output_type": "stream",
          "name": "stderr",
          "text": [
            "\r"
          ]
        },
        {
          "output_type": "stream",
          "name": "stdout",
          "text": [
            "          test_acc=80.51%\n"
          ]
        },
        {
          "output_type": "stream",
          "name": "stderr",
          "text": [
            "                                                            "
          ]
        },
        {
          "output_type": "stream",
          "name": "stdout",
          "text": [
            "Epoch 141 | train_loss=0.3927\n"
          ]
        },
        {
          "output_type": "stream",
          "name": "stderr",
          "text": [
            "\r"
          ]
        },
        {
          "output_type": "stream",
          "name": "stdout",
          "text": [
            "          test_acc=80.57%\n"
          ]
        },
        {
          "output_type": "stream",
          "name": "stderr",
          "text": [
            "                                                            "
          ]
        },
        {
          "output_type": "stream",
          "name": "stdout",
          "text": [
            "Epoch 142 | train_loss=0.3901\n"
          ]
        },
        {
          "output_type": "stream",
          "name": "stderr",
          "text": [
            "\r"
          ]
        },
        {
          "output_type": "stream",
          "name": "stdout",
          "text": [
            "          test_acc=80.41%\n"
          ]
        },
        {
          "output_type": "stream",
          "name": "stderr",
          "text": [
            "                                                            "
          ]
        },
        {
          "output_type": "stream",
          "name": "stdout",
          "text": [
            "Epoch 143 | train_loss=0.3885\n"
          ]
        },
        {
          "output_type": "stream",
          "name": "stderr",
          "text": [
            "\r"
          ]
        },
        {
          "output_type": "stream",
          "name": "stdout",
          "text": [
            "          test_acc=80.54%\n"
          ]
        },
        {
          "output_type": "stream",
          "name": "stderr",
          "text": [
            "                                                            "
          ]
        },
        {
          "output_type": "stream",
          "name": "stdout",
          "text": [
            "Epoch 144 | train_loss=0.3878\n"
          ]
        },
        {
          "output_type": "stream",
          "name": "stderr",
          "text": [
            "\r"
          ]
        },
        {
          "output_type": "stream",
          "name": "stdout",
          "text": [
            "          test_acc=80.52%\n"
          ]
        },
        {
          "output_type": "stream",
          "name": "stderr",
          "text": [
            "                                                            "
          ]
        },
        {
          "output_type": "stream",
          "name": "stdout",
          "text": [
            "Epoch 145 | train_loss=0.3877\n"
          ]
        },
        {
          "output_type": "stream",
          "name": "stderr",
          "text": [
            "\r"
          ]
        },
        {
          "output_type": "stream",
          "name": "stdout",
          "text": [
            "          test_acc=80.41%\n"
          ]
        },
        {
          "output_type": "stream",
          "name": "stderr",
          "text": [
            "                                                            "
          ]
        },
        {
          "output_type": "stream",
          "name": "stdout",
          "text": [
            "Epoch 146 | train_loss=0.3858\n"
          ]
        },
        {
          "output_type": "stream",
          "name": "stderr",
          "text": [
            "\r"
          ]
        },
        {
          "output_type": "stream",
          "name": "stdout",
          "text": [
            "          test_acc=80.30%\n"
          ]
        },
        {
          "output_type": "stream",
          "name": "stderr",
          "text": [
            "                                                            "
          ]
        },
        {
          "output_type": "stream",
          "name": "stdout",
          "text": [
            "Epoch 147 | train_loss=0.3865\n"
          ]
        },
        {
          "output_type": "stream",
          "name": "stderr",
          "text": [
            "\r"
          ]
        },
        {
          "output_type": "stream",
          "name": "stdout",
          "text": [
            "          test_acc=80.48%\n"
          ]
        },
        {
          "output_type": "stream",
          "name": "stderr",
          "text": [
            "                                                            "
          ]
        },
        {
          "output_type": "stream",
          "name": "stdout",
          "text": [
            "Epoch 148 | train_loss=0.3864\n"
          ]
        },
        {
          "output_type": "stream",
          "name": "stderr",
          "text": [
            "\r"
          ]
        },
        {
          "output_type": "stream",
          "name": "stdout",
          "text": [
            "          test_acc=80.52%\n"
          ]
        },
        {
          "output_type": "stream",
          "name": "stderr",
          "text": [
            "                                                            "
          ]
        },
        {
          "output_type": "stream",
          "name": "stdout",
          "text": [
            "Epoch 149 | train_loss=0.3831\n"
          ]
        },
        {
          "output_type": "stream",
          "name": "stderr",
          "text": [
            "\r"
          ]
        },
        {
          "output_type": "stream",
          "name": "stdout",
          "text": [
            "          test_acc=80.48%\n"
          ]
        },
        {
          "output_type": "stream",
          "name": "stderr",
          "text": [
            "                                                            "
          ]
        },
        {
          "output_type": "stream",
          "name": "stdout",
          "text": [
            "Epoch 150 | train_loss=0.3830\n"
          ]
        },
        {
          "output_type": "stream",
          "name": "stderr",
          "text": [
            "\r"
          ]
        },
        {
          "output_type": "stream",
          "name": "stdout",
          "text": [
            "          test_acc=80.34%\n"
          ]
        },
        {
          "output_type": "stream",
          "name": "stderr",
          "text": [
            "                                                            "
          ]
        },
        {
          "output_type": "stream",
          "name": "stdout",
          "text": [
            "Epoch 151 | train_loss=0.3841\n"
          ]
        },
        {
          "output_type": "stream",
          "name": "stderr",
          "text": [
            "\r"
          ]
        },
        {
          "output_type": "stream",
          "name": "stdout",
          "text": [
            "          test_acc=80.35%\n"
          ]
        },
        {
          "output_type": "stream",
          "name": "stderr",
          "text": [
            "                                                            "
          ]
        },
        {
          "output_type": "stream",
          "name": "stdout",
          "text": [
            "Epoch 152 | train_loss=0.3820\n"
          ]
        },
        {
          "output_type": "stream",
          "name": "stderr",
          "text": [
            "\r"
          ]
        },
        {
          "output_type": "stream",
          "name": "stdout",
          "text": [
            "          test_acc=80.30%\n"
          ]
        },
        {
          "output_type": "stream",
          "name": "stderr",
          "text": [
            "                                                            "
          ]
        },
        {
          "output_type": "stream",
          "name": "stdout",
          "text": [
            "Epoch 153 | train_loss=0.3825\n"
          ]
        },
        {
          "output_type": "stream",
          "name": "stderr",
          "text": [
            "\r"
          ]
        },
        {
          "output_type": "stream",
          "name": "stdout",
          "text": [
            "          test_acc=80.28%\n"
          ]
        },
        {
          "output_type": "stream",
          "name": "stderr",
          "text": [
            "                                                            "
          ]
        },
        {
          "output_type": "stream",
          "name": "stdout",
          "text": [
            "Epoch 154 | train_loss=0.3849\n"
          ]
        },
        {
          "output_type": "stream",
          "name": "stderr",
          "text": [
            "\r"
          ]
        },
        {
          "output_type": "stream",
          "name": "stdout",
          "text": [
            "          test_acc=80.47%\n"
          ]
        },
        {
          "output_type": "stream",
          "name": "stderr",
          "text": [
            "                                                            "
          ]
        },
        {
          "output_type": "stream",
          "name": "stdout",
          "text": [
            "Epoch 155 | train_loss=0.3794\n"
          ]
        },
        {
          "output_type": "stream",
          "name": "stderr",
          "text": [
            "\r"
          ]
        },
        {
          "output_type": "stream",
          "name": "stdout",
          "text": [
            "          test_acc=80.83%\n",
            "  → New best saved.\n"
          ]
        },
        {
          "output_type": "stream",
          "name": "stderr",
          "text": [
            "                                                            "
          ]
        },
        {
          "output_type": "stream",
          "name": "stdout",
          "text": [
            "Epoch 156 | train_loss=0.3818\n"
          ]
        },
        {
          "output_type": "stream",
          "name": "stderr",
          "text": [
            "\r"
          ]
        },
        {
          "output_type": "stream",
          "name": "stdout",
          "text": [
            "          test_acc=80.55%\n"
          ]
        },
        {
          "output_type": "stream",
          "name": "stderr",
          "text": [
            "                                                            "
          ]
        },
        {
          "output_type": "stream",
          "name": "stdout",
          "text": [
            "Epoch 157 | train_loss=0.3811\n"
          ]
        },
        {
          "output_type": "stream",
          "name": "stderr",
          "text": [
            "\r"
          ]
        },
        {
          "output_type": "stream",
          "name": "stdout",
          "text": [
            "          test_acc=80.47%\n"
          ]
        },
        {
          "output_type": "stream",
          "name": "stderr",
          "text": [
            "                                                            "
          ]
        },
        {
          "output_type": "stream",
          "name": "stdout",
          "text": [
            "Epoch 158 | train_loss=0.3816\n"
          ]
        },
        {
          "output_type": "stream",
          "name": "stderr",
          "text": [
            "\r"
          ]
        },
        {
          "output_type": "stream",
          "name": "stdout",
          "text": [
            "          test_acc=80.34%\n"
          ]
        },
        {
          "output_type": "stream",
          "name": "stderr",
          "text": [
            "                                                            "
          ]
        },
        {
          "output_type": "stream",
          "name": "stdout",
          "text": [
            "Epoch 159 | train_loss=0.3802\n"
          ]
        },
        {
          "output_type": "stream",
          "name": "stderr",
          "text": [
            "\r"
          ]
        },
        {
          "output_type": "stream",
          "name": "stdout",
          "text": [
            "          test_acc=80.06%\n"
          ]
        },
        {
          "output_type": "stream",
          "name": "stderr",
          "text": [
            "                                                            "
          ]
        },
        {
          "output_type": "stream",
          "name": "stdout",
          "text": [
            "Epoch 160 | train_loss=0.3797\n"
          ]
        },
        {
          "output_type": "stream",
          "name": "stderr",
          "text": [
            "\r"
          ]
        },
        {
          "output_type": "stream",
          "name": "stdout",
          "text": [
            "          test_acc=80.31%\n"
          ]
        },
        {
          "output_type": "stream",
          "name": "stderr",
          "text": [
            "                                                            "
          ]
        },
        {
          "output_type": "stream",
          "name": "stdout",
          "text": [
            "Epoch 161 | train_loss=0.3588\n"
          ]
        },
        {
          "output_type": "stream",
          "name": "stderr",
          "text": [
            "\r"
          ]
        },
        {
          "output_type": "stream",
          "name": "stdout",
          "text": [
            "          test_acc=80.58%\n"
          ]
        },
        {
          "output_type": "stream",
          "name": "stderr",
          "text": [
            "                                                            "
          ]
        },
        {
          "output_type": "stream",
          "name": "stdout",
          "text": [
            "Epoch 162 | train_loss=0.3545\n"
          ]
        },
        {
          "output_type": "stream",
          "name": "stderr",
          "text": [
            "\r"
          ]
        },
        {
          "output_type": "stream",
          "name": "stdout",
          "text": [
            "          test_acc=80.35%\n"
          ]
        },
        {
          "output_type": "stream",
          "name": "stderr",
          "text": [
            "                                                            "
          ]
        },
        {
          "output_type": "stream",
          "name": "stdout",
          "text": [
            "Epoch 163 | train_loss=0.3523\n"
          ]
        },
        {
          "output_type": "stream",
          "name": "stderr",
          "text": [
            "\r"
          ]
        },
        {
          "output_type": "stream",
          "name": "stdout",
          "text": [
            "          test_acc=80.57%\n"
          ]
        },
        {
          "output_type": "stream",
          "name": "stderr",
          "text": [
            "                                                            "
          ]
        },
        {
          "output_type": "stream",
          "name": "stdout",
          "text": [
            "Epoch 164 | train_loss=0.3530\n"
          ]
        },
        {
          "output_type": "stream",
          "name": "stderr",
          "text": [
            "\r"
          ]
        },
        {
          "output_type": "stream",
          "name": "stdout",
          "text": [
            "          test_acc=80.75%\n"
          ]
        },
        {
          "output_type": "stream",
          "name": "stderr",
          "text": [
            "                                                            "
          ]
        },
        {
          "output_type": "stream",
          "name": "stdout",
          "text": [
            "Epoch 165 | train_loss=0.3502\n"
          ]
        },
        {
          "output_type": "stream",
          "name": "stderr",
          "text": [
            "\r"
          ]
        },
        {
          "output_type": "stream",
          "name": "stdout",
          "text": [
            "          test_acc=80.49%\n"
          ]
        },
        {
          "output_type": "stream",
          "name": "stderr",
          "text": [
            "                                                            "
          ]
        },
        {
          "output_type": "stream",
          "name": "stdout",
          "text": [
            "Epoch 166 | train_loss=0.3475\n"
          ]
        },
        {
          "output_type": "stream",
          "name": "stderr",
          "text": [
            "\r"
          ]
        },
        {
          "output_type": "stream",
          "name": "stdout",
          "text": [
            "          test_acc=80.64%\n"
          ]
        },
        {
          "output_type": "stream",
          "name": "stderr",
          "text": [
            "                                                            "
          ]
        },
        {
          "output_type": "stream",
          "name": "stdout",
          "text": [
            "Epoch 167 | train_loss=0.3508\n"
          ]
        },
        {
          "output_type": "stream",
          "name": "stderr",
          "text": [
            "\r"
          ]
        },
        {
          "output_type": "stream",
          "name": "stdout",
          "text": [
            "          test_acc=80.56%\n"
          ]
        },
        {
          "output_type": "stream",
          "name": "stderr",
          "text": [
            "                                                            "
          ]
        },
        {
          "output_type": "stream",
          "name": "stdout",
          "text": [
            "Epoch 168 | train_loss=0.3449\n"
          ]
        },
        {
          "output_type": "stream",
          "name": "stderr",
          "text": [
            "\r"
          ]
        },
        {
          "output_type": "stream",
          "name": "stdout",
          "text": [
            "          test_acc=80.78%\n"
          ]
        },
        {
          "output_type": "stream",
          "name": "stderr",
          "text": [
            "                                                            "
          ]
        },
        {
          "output_type": "stream",
          "name": "stdout",
          "text": [
            "Epoch 169 | train_loss=0.3448\n"
          ]
        },
        {
          "output_type": "stream",
          "name": "stderr",
          "text": [
            "\r"
          ]
        },
        {
          "output_type": "stream",
          "name": "stdout",
          "text": [
            "          test_acc=80.65%\n"
          ]
        },
        {
          "output_type": "stream",
          "name": "stderr",
          "text": [
            "                                                            "
          ]
        },
        {
          "output_type": "stream",
          "name": "stdout",
          "text": [
            "Epoch 170 | train_loss=0.3461\n"
          ]
        },
        {
          "output_type": "stream",
          "name": "stderr",
          "text": [
            "\r"
          ]
        },
        {
          "output_type": "stream",
          "name": "stdout",
          "text": [
            "          test_acc=80.73%\n"
          ]
        },
        {
          "output_type": "stream",
          "name": "stderr",
          "text": [
            "                                                            "
          ]
        },
        {
          "output_type": "stream",
          "name": "stdout",
          "text": [
            "Epoch 171 | train_loss=0.3467\n"
          ]
        },
        {
          "output_type": "stream",
          "name": "stderr",
          "text": [
            "\r"
          ]
        },
        {
          "output_type": "stream",
          "name": "stdout",
          "text": [
            "          test_acc=80.56%\n"
          ]
        },
        {
          "output_type": "stream",
          "name": "stderr",
          "text": [
            "                                                            "
          ]
        },
        {
          "output_type": "stream",
          "name": "stdout",
          "text": [
            "Epoch 172 | train_loss=0.3429\n"
          ]
        },
        {
          "output_type": "stream",
          "name": "stderr",
          "text": [
            "\r"
          ]
        },
        {
          "output_type": "stream",
          "name": "stdout",
          "text": [
            "          test_acc=80.75%\n"
          ]
        },
        {
          "output_type": "stream",
          "name": "stderr",
          "text": [
            "                                                            "
          ]
        },
        {
          "output_type": "stream",
          "name": "stdout",
          "text": [
            "Epoch 173 | train_loss=0.3461\n"
          ]
        },
        {
          "output_type": "stream",
          "name": "stderr",
          "text": [
            "\r"
          ]
        },
        {
          "output_type": "stream",
          "name": "stdout",
          "text": [
            "          test_acc=80.63%\n"
          ]
        },
        {
          "output_type": "stream",
          "name": "stderr",
          "text": [
            "                                                            "
          ]
        },
        {
          "output_type": "stream",
          "name": "stdout",
          "text": [
            "Epoch 174 | train_loss=0.3442\n"
          ]
        },
        {
          "output_type": "stream",
          "name": "stderr",
          "text": [
            "\r"
          ]
        },
        {
          "output_type": "stream",
          "name": "stdout",
          "text": [
            "          test_acc=80.51%\n"
          ]
        },
        {
          "output_type": "stream",
          "name": "stderr",
          "text": [
            "                                                            "
          ]
        },
        {
          "output_type": "stream",
          "name": "stdout",
          "text": [
            "Epoch 175 | train_loss=0.3427\n"
          ]
        },
        {
          "output_type": "stream",
          "name": "stderr",
          "text": [
            "\r"
          ]
        },
        {
          "output_type": "stream",
          "name": "stdout",
          "text": [
            "          test_acc=80.68%\n"
          ]
        },
        {
          "output_type": "stream",
          "name": "stderr",
          "text": [
            "                                                            "
          ]
        },
        {
          "output_type": "stream",
          "name": "stdout",
          "text": [
            "Epoch 176 | train_loss=0.3439\n"
          ]
        },
        {
          "output_type": "stream",
          "name": "stderr",
          "text": [
            "\r"
          ]
        },
        {
          "output_type": "stream",
          "name": "stdout",
          "text": [
            "          test_acc=80.67%\n"
          ]
        },
        {
          "output_type": "stream",
          "name": "stderr",
          "text": [
            "                                                            "
          ]
        },
        {
          "output_type": "stream",
          "name": "stdout",
          "text": [
            "Epoch 177 | train_loss=0.3427\n"
          ]
        },
        {
          "output_type": "stream",
          "name": "stderr",
          "text": [
            "\r"
          ]
        },
        {
          "output_type": "stream",
          "name": "stdout",
          "text": [
            "          test_acc=80.72%\n"
          ]
        },
        {
          "output_type": "stream",
          "name": "stderr",
          "text": [
            "                                                            "
          ]
        },
        {
          "output_type": "stream",
          "name": "stdout",
          "text": [
            "Epoch 178 | train_loss=0.3411\n"
          ]
        },
        {
          "output_type": "stream",
          "name": "stderr",
          "text": [
            "\r"
          ]
        },
        {
          "output_type": "stream",
          "name": "stdout",
          "text": [
            "          test_acc=80.71%\n"
          ]
        },
        {
          "output_type": "stream",
          "name": "stderr",
          "text": [
            "                                                            "
          ]
        },
        {
          "output_type": "stream",
          "name": "stdout",
          "text": [
            "Epoch 179 | train_loss=0.3402\n"
          ]
        },
        {
          "output_type": "stream",
          "name": "stderr",
          "text": [
            "\r"
          ]
        },
        {
          "output_type": "stream",
          "name": "stdout",
          "text": [
            "          test_acc=80.69%\n"
          ]
        },
        {
          "output_type": "stream",
          "name": "stderr",
          "text": [
            "                                                            "
          ]
        },
        {
          "output_type": "stream",
          "name": "stdout",
          "text": [
            "Epoch 180 | train_loss=0.3418\n"
          ]
        },
        {
          "output_type": "stream",
          "name": "stderr",
          "text": [
            "\r"
          ]
        },
        {
          "output_type": "stream",
          "name": "stdout",
          "text": [
            "          test_acc=80.49%\n"
          ]
        },
        {
          "output_type": "stream",
          "name": "stderr",
          "text": [
            "                                                            "
          ]
        },
        {
          "output_type": "stream",
          "name": "stdout",
          "text": [
            "Epoch 181 | train_loss=0.3423\n"
          ]
        },
        {
          "output_type": "stream",
          "name": "stderr",
          "text": [
            "\r"
          ]
        },
        {
          "output_type": "stream",
          "name": "stdout",
          "text": [
            "          test_acc=80.66%\n"
          ]
        },
        {
          "output_type": "stream",
          "name": "stderr",
          "text": [
            "                                                            "
          ]
        },
        {
          "output_type": "stream",
          "name": "stdout",
          "text": [
            "Epoch 182 | train_loss=0.3390\n"
          ]
        },
        {
          "output_type": "stream",
          "name": "stderr",
          "text": [
            "\r"
          ]
        },
        {
          "output_type": "stream",
          "name": "stdout",
          "text": [
            "          test_acc=80.53%\n"
          ]
        },
        {
          "output_type": "stream",
          "name": "stderr",
          "text": [
            "                                                            "
          ]
        },
        {
          "output_type": "stream",
          "name": "stdout",
          "text": [
            "Epoch 183 | train_loss=0.3400\n"
          ]
        },
        {
          "output_type": "stream",
          "name": "stderr",
          "text": [
            "\r"
          ]
        },
        {
          "output_type": "stream",
          "name": "stdout",
          "text": [
            "          test_acc=80.57%\n"
          ]
        },
        {
          "output_type": "stream",
          "name": "stderr",
          "text": [
            "                                                            "
          ]
        },
        {
          "output_type": "stream",
          "name": "stdout",
          "text": [
            "Epoch 184 | train_loss=0.3385\n"
          ]
        },
        {
          "output_type": "stream",
          "name": "stderr",
          "text": [
            "\r"
          ]
        },
        {
          "output_type": "stream",
          "name": "stdout",
          "text": [
            "          test_acc=80.47%\n"
          ]
        },
        {
          "output_type": "stream",
          "name": "stderr",
          "text": [
            "                                                            "
          ]
        },
        {
          "output_type": "stream",
          "name": "stdout",
          "text": [
            "Epoch 185 | train_loss=0.3391\n"
          ]
        },
        {
          "output_type": "stream",
          "name": "stderr",
          "text": [
            "\r"
          ]
        },
        {
          "output_type": "stream",
          "name": "stdout",
          "text": [
            "          test_acc=80.61%\n"
          ]
        },
        {
          "output_type": "stream",
          "name": "stderr",
          "text": [
            "                                                            "
          ]
        },
        {
          "output_type": "stream",
          "name": "stdout",
          "text": [
            "Epoch 186 | train_loss=0.3377\n"
          ]
        },
        {
          "output_type": "stream",
          "name": "stderr",
          "text": [
            "\r"
          ]
        },
        {
          "output_type": "stream",
          "name": "stdout",
          "text": [
            "          test_acc=80.33%\n"
          ]
        },
        {
          "output_type": "stream",
          "name": "stderr",
          "text": [
            "                                                            "
          ]
        },
        {
          "output_type": "stream",
          "name": "stdout",
          "text": [
            "Epoch 187 | train_loss=0.3385\n"
          ]
        },
        {
          "output_type": "stream",
          "name": "stderr",
          "text": [
            "\r"
          ]
        },
        {
          "output_type": "stream",
          "name": "stdout",
          "text": [
            "          test_acc=80.45%\n"
          ]
        },
        {
          "output_type": "stream",
          "name": "stderr",
          "text": [
            "                                                            "
          ]
        },
        {
          "output_type": "stream",
          "name": "stdout",
          "text": [
            "Epoch 188 | train_loss=0.3376\n"
          ]
        },
        {
          "output_type": "stream",
          "name": "stderr",
          "text": [
            "\r"
          ]
        },
        {
          "output_type": "stream",
          "name": "stdout",
          "text": [
            "          test_acc=80.62%\n"
          ]
        },
        {
          "output_type": "stream",
          "name": "stderr",
          "text": [
            "                                                            "
          ]
        },
        {
          "output_type": "stream",
          "name": "stdout",
          "text": [
            "Epoch 189 | train_loss=0.3365\n"
          ]
        },
        {
          "output_type": "stream",
          "name": "stderr",
          "text": [
            "\r"
          ]
        },
        {
          "output_type": "stream",
          "name": "stdout",
          "text": [
            "          test_acc=80.70%\n"
          ]
        },
        {
          "output_type": "stream",
          "name": "stderr",
          "text": [
            "                                                            "
          ]
        },
        {
          "output_type": "stream",
          "name": "stdout",
          "text": [
            "Epoch 190 | train_loss=0.3392\n"
          ]
        },
        {
          "output_type": "stream",
          "name": "stderr",
          "text": [
            "\r"
          ]
        },
        {
          "output_type": "stream",
          "name": "stdout",
          "text": [
            "          test_acc=80.84%\n",
            "  → New best saved.\n"
          ]
        },
        {
          "output_type": "stream",
          "name": "stderr",
          "text": [
            "                                                            "
          ]
        },
        {
          "output_type": "stream",
          "name": "stdout",
          "text": [
            "Epoch 191 | train_loss=0.3371\n"
          ]
        },
        {
          "output_type": "stream",
          "name": "stderr",
          "text": [
            "\r"
          ]
        },
        {
          "output_type": "stream",
          "name": "stdout",
          "text": [
            "          test_acc=80.75%\n"
          ]
        },
        {
          "output_type": "stream",
          "name": "stderr",
          "text": [
            "                                                            "
          ]
        },
        {
          "output_type": "stream",
          "name": "stdout",
          "text": [
            "Epoch 192 | train_loss=0.3375\n"
          ]
        },
        {
          "output_type": "stream",
          "name": "stderr",
          "text": [
            "\r"
          ]
        },
        {
          "output_type": "stream",
          "name": "stdout",
          "text": [
            "          test_acc=80.76%\n"
          ]
        },
        {
          "output_type": "stream",
          "name": "stderr",
          "text": [
            "                                                            "
          ]
        },
        {
          "output_type": "stream",
          "name": "stdout",
          "text": [
            "Epoch 193 | train_loss=0.3351\n"
          ]
        },
        {
          "output_type": "stream",
          "name": "stderr",
          "text": [
            "\r"
          ]
        },
        {
          "output_type": "stream",
          "name": "stdout",
          "text": [
            "          test_acc=80.63%\n"
          ]
        },
        {
          "output_type": "stream",
          "name": "stderr",
          "text": [
            "                                                            "
          ]
        },
        {
          "output_type": "stream",
          "name": "stdout",
          "text": [
            "Epoch 194 | train_loss=0.3352\n"
          ]
        },
        {
          "output_type": "stream",
          "name": "stderr",
          "text": [
            "\r"
          ]
        },
        {
          "output_type": "stream",
          "name": "stdout",
          "text": [
            "          test_acc=80.44%\n"
          ]
        },
        {
          "output_type": "stream",
          "name": "stderr",
          "text": [
            "                                                            "
          ]
        },
        {
          "output_type": "stream",
          "name": "stdout",
          "text": [
            "Epoch 195 | train_loss=0.3357\n"
          ]
        },
        {
          "output_type": "stream",
          "name": "stderr",
          "text": [
            "\r"
          ]
        },
        {
          "output_type": "stream",
          "name": "stdout",
          "text": [
            "          test_acc=80.63%\n"
          ]
        },
        {
          "output_type": "stream",
          "name": "stderr",
          "text": [
            "                                                            "
          ]
        },
        {
          "output_type": "stream",
          "name": "stdout",
          "text": [
            "Epoch 196 | train_loss=0.3345\n"
          ]
        },
        {
          "output_type": "stream",
          "name": "stderr",
          "text": [
            "\r"
          ]
        },
        {
          "output_type": "stream",
          "name": "stdout",
          "text": [
            "          test_acc=80.45%\n"
          ]
        },
        {
          "output_type": "stream",
          "name": "stderr",
          "text": [
            "                                                            "
          ]
        },
        {
          "output_type": "stream",
          "name": "stdout",
          "text": [
            "Epoch 197 | train_loss=0.3362\n"
          ]
        },
        {
          "output_type": "stream",
          "name": "stderr",
          "text": [
            "\r"
          ]
        },
        {
          "output_type": "stream",
          "name": "stdout",
          "text": [
            "          test_acc=80.55%\n"
          ]
        },
        {
          "output_type": "stream",
          "name": "stderr",
          "text": [
            "                                                            "
          ]
        },
        {
          "output_type": "stream",
          "name": "stdout",
          "text": [
            "Epoch 198 | train_loss=0.3342\n"
          ]
        },
        {
          "output_type": "stream",
          "name": "stderr",
          "text": [
            "\r"
          ]
        },
        {
          "output_type": "stream",
          "name": "stdout",
          "text": [
            "          test_acc=80.54%\n"
          ]
        },
        {
          "output_type": "stream",
          "name": "stderr",
          "text": [
            "                                                            "
          ]
        },
        {
          "output_type": "stream",
          "name": "stdout",
          "text": [
            "Epoch 199 | train_loss=0.3336\n"
          ]
        },
        {
          "output_type": "stream",
          "name": "stderr",
          "text": [
            "\r"
          ]
        },
        {
          "output_type": "stream",
          "name": "stdout",
          "text": [
            "          test_acc=80.73%\n"
          ]
        },
        {
          "output_type": "stream",
          "name": "stderr",
          "text": [
            "                                                            "
          ]
        },
        {
          "output_type": "stream",
          "name": "stdout",
          "text": [
            "Epoch 200 | train_loss=0.3339\n"
          ]
        },
        {
          "output_type": "stream",
          "name": "stderr",
          "text": [
            "\r"
          ]
        },
        {
          "output_type": "stream",
          "name": "stdout",
          "text": [
            "          test_acc=80.93%\n",
            "  → New best saved.\n",
            "Finished. Best distilled student accuracy: 80.93%\n"
          ]
        }
      ]
    },
    {
      "cell_type": "markdown",
      "source": [
        "# Part5\n",
        "Explanation of steps:\n",
        "\n",
        "Soft‑label fusion (5.1):\n",
        "\n",
        "We iterate over each of the\n",
        "𝐾\n",
        "K teachers in teacher_models, do a forward pass on the same inputs, take each teacher’s\n",
        "𝜏\n",
        "τ-softmax, and accumulate.\n",
        "\n",
        "Dividing by\n",
        "𝐾\n",
        "K yields the averaged soft‑label\n",
        "𝑝\n",
        "a\n",
        "v\n",
        "g\n",
        "(\n",
        "𝜏\n",
        ")\n",
        "p\n",
        "avg\n",
        "(τ)\n",
        "​\n",
        " .\n",
        "\n",
        "Student training (5.2):\n",
        "\n",
        "Compute the KL divergence between the student’s log-​softmax and\n",
        "𝑝\n",
        "a\n",
        "v\n",
        "g\n",
        "(\n",
        "𝜏\n",
        ")\n",
        "p\n",
        "avg\n",
        "(τ)\n",
        "​\n",
        " , scaled by\n",
        "𝜏\n",
        "2\n",
        "τ\n",
        "2\n",
        " .\n",
        "\n",
        "Add the usual cross‑entropy on the hard labels.\n",
        "\n",
        "Backpropagate and optimizer-​step.\n",
        "\n",
        "Evaluation & checkpointing (5.3):\n",
        "\n",
        "After each epoch, switch student.eval(), measure test accuracy against the full test set, and if it improves, save \"student_multi_teacher_best.pth\"."
      ],
      "metadata": {
        "id": "42fiSTzy5gT1"
      }
    },
    {
      "cell_type": "markdown",
      "source": [
        "Explanation of steps:\n",
        "\n",
        "Soft‑label fusion (5.1):\n",
        "\n",
        "We iterate over each of the\n",
        "𝐾\n",
        "K teachers in teacher_models, do a forward pass on the same inputs, take each teacher’s\n",
        "𝜏\n",
        "τ-softmax, and accumulate.\n",
        "\n",
        "Dividing by\n",
        "𝐾\n",
        "K yields the averaged soft‑label\n",
        "𝑝\n",
        "a\n",
        "v\n",
        "g\n",
        "(\n",
        "𝜏\n",
        ")\n",
        "p\n",
        "avg\n",
        "(τ)\n",
        "​\n",
        " .\n",
        "\n",
        "Student training (5.2):\n",
        "\n",
        "Compute the KL divergence between the student’s log-​softmax and\n",
        "𝑝\n",
        "a\n",
        "v\n",
        "g\n",
        "(\n",
        "𝜏\n",
        ")\n",
        "p\n",
        "avg\n",
        "(τ)\n",
        "​\n",
        " , scaled by\n",
        "𝜏\n",
        "2\n",
        "τ\n",
        "2\n",
        " .\n",
        "\n",
        "Add the usual cross‑entropy on the hard labels.\n",
        "\n",
        "Backpropagate and optimizer-​step.\n",
        "\n",
        "Evaluation & checkpointing (5.3):\n",
        "\n",
        "After each epoch, switch student.eval(), measure test accuracy against the full test set, and if it improves, save \"student_multi_teacher_best.pth\"."
      ],
      "metadata": {
        "id": "Z39DNZtDCbRS"
      }
    },
    {
      "cell_type": "code",
      "source": [
        "import os\n",
        "import glob\n",
        "import torch\n",
        "import torch.nn.functional as F\n",
        "from torchvision.models import resnet18, resnet34, resnet50\n",
        "\n",
        "# ───────────────────────────────────────────────────────────────\n",
        "# 0️⃣ Basic setup (you already have these)\n",
        "device       = torch.device('cuda' if torch.cuda.is_available() else 'cpu')\n",
        "train_loader = train_loader    # your CIFAR‑10 train DataLoader\n",
        "test_loader  = test_loader     # your CIFAR‑10 test  DataLoader\n",
        "student      = student.to(device)                # ResNet‑34 student from code4\n",
        "optimizer    = optimizer                       # your SGD optimizer on `student`\n",
        "scheduler    = scheduler                       # your MultiStepLR on `student`\n",
        "tau, alpha   = 5, 0.7                          # distillation hyperparams\n",
        "best_acc     = 0.0\n",
        "num_epochs   = 200\n",
        "# ───────────────────────────────────────────────────────────────\n",
        "\n",
        "# 1️⃣ Discover the teacher checkpoint files created by code3\n",
        "ckpt_paths = sorted(glob.glob(\"teacher_*_*_best.pth\"))\n",
        "if not ckpt_paths:\n",
        "    raise FileNotFoundError(\"No teacher checkpoints found matching teacher_*_*_best.pth\")\n",
        "\n",
        "# 2️⃣ Load & freeze each teacher\n",
        "teacher_models = []\n",
        "for ckpt_path in ckpt_paths:\n",
        "    fname = os.path.basename(ckpt_path)           # e.g. \"teacher_0_resnet34_best.pth\"\n",
        "    parts = fname.split(\"_\")\n",
        "    arch  = parts[2]                              # \"resnet34\"\n",
        "    # pick the correct constructor\n",
        "    if   arch == \"resnet18\": ctor = resnet18\n",
        "    elif arch == \"resnet34\": ctor = resnet34\n",
        "    elif arch == \"resnet50\": ctor = resnet50\n",
        "    else: raise ValueError(f\"Unexpected arch in {fname}\")\n",
        "\n",
        "    # instantiate, load weights, move to device\n",
        "    model = ctor(num_classes=10).to(device)\n",
        "    data  = torch.load(ckpt_path, map_location=device)\n",
        "    model.load_state_dict(data['model_state'])\n",
        "    model.eval()                                  # inference only\n",
        "    for p in model.parameters():\n",
        "        p.requires_grad = False                   # no grads\n",
        "    teacher_models.append(model)\n",
        "\n",
        "K = len(teacher_models)\n",
        "print(f\"Loaded {K} teacher models from {len(ckpt_paths)} checkpoints\")\n",
        "\n",
        "# 3️⃣ Multi‑teacher distillation loop\n",
        "for epoch in range(1, num_epochs+1):\n",
        "    student.train()\n",
        "    running_loss = 0.0\n",
        "\n",
        "    for inputs, targets in train_loader:\n",
        "        inputs, targets = inputs.to(device), targets.to(device)\n",
        "        optimizer.zero_grad()\n",
        "\n",
        "        # — fuse K teachers’ τ‑softmax outputs —\n",
        "        with torch.no_grad():\n",
        "            # dynamic class count C\n",
        "            C = teacher_models[0](inputs).size(1)\n",
        "            sum_soft = torch.zeros(inputs.size(0), C, device=device)\n",
        "\n",
        "            for t_model in teacher_models:\n",
        "                logits_t = t_model(inputs)\n",
        "                sum_soft += F.softmax(logits_t / tau, dim=1)\n",
        "\n",
        "            p_avg = sum_soft / float(K)\n",
        "\n",
        "        # — student forward + KD + CE loss —\n",
        "        logits_s = student(inputs)\n",
        "        s_soft   = F.log_softmax(logits_s / tau, dim=1)\n",
        "        loss_kl  = F.kl_div(s_soft, p_avg, reduction='batchmean') * (tau * tau)\n",
        "        loss_ce  = F.cross_entropy(logits_s, targets)\n",
        "        loss     = alpha * loss_kl + (1 - alpha) * loss_ce\n",
        "\n",
        "        loss.backward()\n",
        "        optimizer.step()\n",
        "        running_loss += loss.item() * inputs.size(0)\n",
        "\n",
        "    scheduler.step()\n",
        "    train_loss = running_loss / len(train_loader.dataset)\n",
        "    print(f\"[Epoch {epoch:03d}] train_loss={train_loss:.4f}\")\n",
        "\n",
        "    # — evaluation —\n",
        "    student.eval()\n",
        "    correct = total = 0\n",
        "    with torch.no_grad():\n",
        "        for inputs, targets in test_loader:\n",
        "            inputs, targets = inputs.to(device), targets.to(device)\n",
        "            preds = student(inputs).argmax(dim=1)\n",
        "            correct += (preds == targets).sum().item()\n",
        "            total   += targets.size(0)\n",
        "\n",
        "    test_acc = 100. * correct / total\n",
        "    print(f\"           test_acc={test_acc:.2f}%\")\n",
        "\n",
        "    # — save best —\n",
        "    if test_acc > best_acc:\n",
        "        best_acc = test_acc\n",
        "        torch.save({\n",
        "            'epoch':          epoch,\n",
        "            'student_state':  student.state_dict(),\n",
        "            'optimizer':      optimizer.state_dict(),\n",
        "            'test_acc':       test_acc,\n",
        "        }, \"student_multi_teacher_best.pth\")\n",
        "        print(\"  → New best multi‑teacher student saved.\")\n",
        "\n",
        "print(f\"\\n✅ Multi‑teacher distillation complete. Best acc: {best_acc:.2f}%\")\n"
      ],
      "metadata": {
        "colab": {
          "base_uri": "https://localhost:8080/"
        },
        "id": "hrzjL7tHXIv2",
        "outputId": "338e781b-f299-453f-bc3c-50125a1d3bec"
      },
      "execution_count": 25,
      "outputs": [
        {
          "output_type": "stream",
          "name": "stdout",
          "text": [
            "Loaded 5 teacher models from 5 checkpoints\n",
            "[Epoch 001] train_loss=0.4575\n",
            "           test_acc=82.09%\n",
            "  → New best multi‑teacher student saved.\n",
            "[Epoch 002] train_loss=0.3838\n",
            "           test_acc=82.56%\n",
            "  → New best multi‑teacher student saved.\n",
            "[Epoch 003] train_loss=0.3579\n",
            "           test_acc=82.78%\n",
            "  → New best multi‑teacher student saved.\n",
            "[Epoch 004] train_loss=0.3404\n",
            "           test_acc=83.14%\n",
            "  → New best multi‑teacher student saved.\n",
            "[Epoch 005] train_loss=0.3266\n",
            "           test_acc=83.29%\n",
            "  → New best multi‑teacher student saved.\n",
            "[Epoch 006] train_loss=0.3167\n",
            "           test_acc=83.27%\n",
            "[Epoch 007] train_loss=0.3107\n",
            "           test_acc=83.29%\n",
            "[Epoch 008] train_loss=0.3016\n",
            "           test_acc=83.16%\n",
            "[Epoch 009] train_loss=0.2982\n",
            "           test_acc=83.42%\n",
            "  → New best multi‑teacher student saved.\n",
            "[Epoch 010] train_loss=0.2912\n",
            "           test_acc=83.29%\n",
            "[Epoch 011] train_loss=0.2859\n",
            "           test_acc=83.45%\n",
            "  → New best multi‑teacher student saved.\n",
            "[Epoch 012] train_loss=0.2829\n",
            "           test_acc=83.47%\n",
            "  → New best multi‑teacher student saved.\n",
            "[Epoch 013] train_loss=0.2781\n",
            "           test_acc=83.55%\n",
            "  → New best multi‑teacher student saved.\n",
            "[Epoch 014] train_loss=0.2755\n",
            "           test_acc=83.51%\n",
            "[Epoch 015] train_loss=0.2702\n",
            "           test_acc=83.53%\n",
            "[Epoch 016] train_loss=0.2686\n",
            "           test_acc=83.59%\n",
            "  → New best multi‑teacher student saved.\n",
            "[Epoch 017] train_loss=0.2668\n",
            "           test_acc=83.61%\n",
            "  → New best multi‑teacher student saved.\n",
            "[Epoch 018] train_loss=0.2640\n",
            "           test_acc=83.66%\n",
            "  → New best multi‑teacher student saved.\n",
            "[Epoch 019] train_loss=0.2609\n",
            "           test_acc=83.81%\n",
            "  → New best multi‑teacher student saved.\n",
            "[Epoch 020] train_loss=0.2601\n",
            "           test_acc=83.49%\n",
            "[Epoch 021] train_loss=0.2567\n",
            "           test_acc=83.50%\n",
            "[Epoch 022] train_loss=0.2540\n",
            "           test_acc=83.82%\n",
            "  → New best multi‑teacher student saved.\n",
            "[Epoch 023] train_loss=0.2544\n",
            "           test_acc=83.90%\n",
            "  → New best multi‑teacher student saved.\n",
            "[Epoch 024] train_loss=0.2519\n",
            "           test_acc=83.78%\n",
            "[Epoch 025] train_loss=0.2510\n",
            "           test_acc=83.76%\n",
            "[Epoch 026] train_loss=0.2504\n",
            "           test_acc=83.75%\n",
            "[Epoch 027] train_loss=0.2470\n",
            "           test_acc=83.89%\n",
            "[Epoch 028] train_loss=0.2448\n",
            "           test_acc=83.70%\n",
            "[Epoch 029] train_loss=0.2437\n",
            "           test_acc=83.78%\n",
            "[Epoch 030] train_loss=0.2408\n",
            "           test_acc=83.60%\n",
            "[Epoch 031] train_loss=0.2403\n",
            "           test_acc=83.81%\n",
            "[Epoch 032] train_loss=0.2392\n",
            "           test_acc=83.71%\n",
            "[Epoch 033] train_loss=0.2372\n",
            "           test_acc=83.71%\n",
            "[Epoch 034] train_loss=0.2377\n",
            "           test_acc=83.77%\n",
            "[Epoch 035] train_loss=0.2369\n",
            "           test_acc=83.83%\n",
            "[Epoch 036] train_loss=0.2343\n",
            "           test_acc=83.62%\n",
            "[Epoch 037] train_loss=0.2337\n",
            "           test_acc=83.79%\n",
            "[Epoch 038] train_loss=0.2333\n",
            "           test_acc=83.90%\n",
            "[Epoch 039] train_loss=0.2311\n",
            "           test_acc=84.04%\n",
            "  → New best multi‑teacher student saved.\n",
            "[Epoch 040] train_loss=0.2322\n",
            "           test_acc=83.90%\n",
            "[Epoch 041] train_loss=0.2299\n",
            "           test_acc=83.85%\n",
            "[Epoch 042] train_loss=0.2296\n",
            "           test_acc=83.73%\n",
            "[Epoch 043] train_loss=0.2265\n",
            "           test_acc=83.82%\n",
            "[Epoch 044] train_loss=0.2274\n",
            "           test_acc=83.79%\n",
            "[Epoch 045] train_loss=0.2257\n",
            "           test_acc=83.81%\n",
            "[Epoch 046] train_loss=0.2243\n",
            "           test_acc=83.83%\n",
            "[Epoch 047] train_loss=0.2244\n",
            "           test_acc=83.92%\n",
            "[Epoch 048] train_loss=0.2252\n",
            "           test_acc=84.07%\n",
            "  → New best multi‑teacher student saved.\n",
            "[Epoch 049] train_loss=0.2241\n",
            "           test_acc=84.03%\n",
            "[Epoch 050] train_loss=0.2229\n",
            "           test_acc=83.95%\n",
            "[Epoch 051] train_loss=0.2218\n",
            "           test_acc=83.81%\n",
            "[Epoch 052] train_loss=0.2205\n",
            "           test_acc=84.13%\n",
            "  → New best multi‑teacher student saved.\n",
            "[Epoch 053] train_loss=0.2209\n",
            "           test_acc=84.06%\n",
            "[Epoch 054] train_loss=0.2196\n",
            "           test_acc=83.95%\n",
            "[Epoch 055] train_loss=0.2198\n",
            "           test_acc=84.01%\n",
            "[Epoch 056] train_loss=0.2179\n",
            "           test_acc=83.90%\n",
            "[Epoch 057] train_loss=0.2175\n",
            "           test_acc=83.85%\n",
            "[Epoch 058] train_loss=0.2157\n",
            "           test_acc=83.89%\n",
            "[Epoch 059] train_loss=0.2158\n",
            "           test_acc=84.02%\n",
            "[Epoch 060] train_loss=0.2163\n",
            "           test_acc=84.00%\n",
            "[Epoch 061] train_loss=0.2154\n",
            "           test_acc=84.03%\n",
            "[Epoch 062] train_loss=0.2150\n",
            "           test_acc=84.13%\n",
            "[Epoch 063] train_loss=0.2145\n",
            "           test_acc=83.91%\n",
            "[Epoch 064] train_loss=0.2137\n",
            "           test_acc=83.87%\n",
            "[Epoch 065] train_loss=0.2136\n",
            "           test_acc=84.12%\n",
            "[Epoch 066] train_loss=0.2115\n",
            "           test_acc=84.07%\n",
            "[Epoch 067] train_loss=0.2096\n",
            "           test_acc=84.00%\n",
            "[Epoch 068] train_loss=0.2113\n",
            "           test_acc=84.14%\n",
            "  → New best multi‑teacher student saved.\n",
            "[Epoch 069] train_loss=0.2108\n",
            "           test_acc=84.01%\n",
            "[Epoch 070] train_loss=0.2098\n",
            "           test_acc=84.00%\n",
            "[Epoch 071] train_loss=0.2098\n",
            "           test_acc=84.02%\n",
            "[Epoch 072] train_loss=0.2096\n",
            "           test_acc=84.00%\n",
            "[Epoch 073] train_loss=0.2079\n",
            "           test_acc=84.05%\n",
            "[Epoch 074] train_loss=0.2074\n",
            "           test_acc=84.01%\n",
            "[Epoch 075] train_loss=0.2077\n",
            "           test_acc=84.03%\n",
            "[Epoch 076] train_loss=0.2079\n",
            "           test_acc=83.90%\n",
            "[Epoch 077] train_loss=0.2075\n",
            "           test_acc=83.86%\n",
            "[Epoch 078] train_loss=0.2066\n",
            "           test_acc=83.98%\n",
            "[Epoch 079] train_loss=0.2058\n",
            "           test_acc=84.02%\n",
            "[Epoch 080] train_loss=0.2052\n",
            "           test_acc=84.02%\n",
            "[Epoch 081] train_loss=0.2051\n",
            "           test_acc=84.00%\n",
            "[Epoch 082] train_loss=0.2042\n",
            "           test_acc=84.03%\n",
            "[Epoch 083] train_loss=0.2038\n",
            "           test_acc=84.18%\n",
            "  → New best multi‑teacher student saved.\n",
            "[Epoch 084] train_loss=0.2033\n",
            "           test_acc=84.04%\n",
            "[Epoch 085] train_loss=0.2031\n",
            "           test_acc=83.80%\n",
            "[Epoch 086] train_loss=0.2028\n",
            "           test_acc=83.96%\n",
            "[Epoch 087] train_loss=0.2021\n",
            "           test_acc=83.98%\n",
            "[Epoch 088] train_loss=0.2018\n",
            "           test_acc=83.88%\n",
            "[Epoch 089] train_loss=0.2014\n",
            "           test_acc=84.09%\n",
            "[Epoch 090] train_loss=0.2010\n",
            "           test_acc=84.12%\n",
            "[Epoch 091] train_loss=0.2010\n",
            "           test_acc=84.12%\n",
            "[Epoch 092] train_loss=0.1979\n",
            "           test_acc=83.95%\n",
            "[Epoch 093] train_loss=0.1990\n",
            "           test_acc=84.01%\n",
            "[Epoch 094] train_loss=0.1985\n",
            "           test_acc=84.07%\n",
            "[Epoch 095] train_loss=0.1994\n",
            "           test_acc=83.98%\n",
            "[Epoch 096] train_loss=0.1988\n",
            "           test_acc=84.06%\n",
            "[Epoch 097] train_loss=0.1994\n",
            "           test_acc=84.05%\n",
            "[Epoch 098] train_loss=0.1975\n",
            "           test_acc=84.15%\n",
            "[Epoch 099] train_loss=0.1965\n",
            "           test_acc=84.18%\n",
            "[Epoch 100] train_loss=0.1959\n",
            "           test_acc=84.00%\n",
            "[Epoch 101] train_loss=0.1956\n",
            "           test_acc=84.03%\n",
            "[Epoch 102] train_loss=0.1967\n",
            "           test_acc=84.23%\n",
            "  → New best multi‑teacher student saved.\n",
            "[Epoch 103] train_loss=0.1947\n",
            "           test_acc=84.05%\n",
            "[Epoch 104] train_loss=0.1960\n",
            "           test_acc=84.27%\n",
            "  → New best multi‑teacher student saved.\n",
            "[Epoch 105] train_loss=0.1951\n",
            "           test_acc=84.39%\n",
            "  → New best multi‑teacher student saved.\n",
            "[Epoch 106] train_loss=0.1947\n",
            "           test_acc=84.13%\n",
            "[Epoch 107] train_loss=0.1943\n",
            "           test_acc=84.09%\n",
            "[Epoch 108] train_loss=0.1937\n",
            "           test_acc=84.19%\n",
            "[Epoch 109] train_loss=0.1931\n",
            "           test_acc=84.15%\n",
            "[Epoch 110] train_loss=0.1923\n",
            "           test_acc=84.08%\n",
            "[Epoch 111] train_loss=0.1927\n",
            "           test_acc=84.12%\n",
            "[Epoch 112] train_loss=0.1936\n",
            "           test_acc=84.19%\n",
            "[Epoch 113] train_loss=0.1932\n",
            "           test_acc=84.26%\n",
            "[Epoch 114] train_loss=0.1919\n",
            "           test_acc=84.16%\n",
            "[Epoch 115] train_loss=0.1925\n",
            "           test_acc=83.96%\n",
            "[Epoch 116] train_loss=0.1915\n",
            "           test_acc=84.09%\n",
            "[Epoch 117] train_loss=0.1905\n",
            "           test_acc=84.11%\n",
            "[Epoch 118] train_loss=0.1900\n",
            "           test_acc=84.04%\n",
            "[Epoch 119] train_loss=0.1893\n",
            "           test_acc=84.19%\n",
            "[Epoch 120] train_loss=0.1907\n",
            "           test_acc=84.07%\n",
            "[Epoch 121] train_loss=0.1897\n",
            "           test_acc=84.08%\n",
            "[Epoch 122] train_loss=0.1905\n",
            "           test_acc=84.04%\n",
            "[Epoch 123] train_loss=0.1894\n",
            "           test_acc=84.13%\n",
            "[Epoch 124] train_loss=0.1887\n",
            "           test_acc=84.18%\n",
            "[Epoch 125] train_loss=0.1883\n",
            "           test_acc=84.09%\n",
            "[Epoch 126] train_loss=0.1888\n",
            "           test_acc=84.37%\n",
            "[Epoch 127] train_loss=0.1883\n",
            "           test_acc=84.07%\n",
            "[Epoch 128] train_loss=0.1872\n",
            "           test_acc=83.97%\n",
            "[Epoch 129] train_loss=0.1879\n",
            "           test_acc=84.14%\n",
            "[Epoch 130] train_loss=0.1875\n",
            "           test_acc=83.93%\n",
            "[Epoch 131] train_loss=0.1863\n",
            "           test_acc=84.29%\n",
            "[Epoch 132] train_loss=0.1865\n",
            "           test_acc=83.97%\n",
            "[Epoch 133] train_loss=0.1867\n",
            "           test_acc=84.00%\n",
            "[Epoch 134] train_loss=0.1866\n",
            "           test_acc=84.28%\n",
            "[Epoch 135] train_loss=0.1855\n",
            "           test_acc=83.92%\n",
            "[Epoch 136] train_loss=0.1867\n",
            "           test_acc=83.93%\n",
            "[Epoch 137] train_loss=0.1852\n",
            "           test_acc=84.12%\n",
            "[Epoch 138] train_loss=0.1850\n",
            "           test_acc=84.11%\n",
            "[Epoch 139] train_loss=0.1843\n",
            "           test_acc=83.99%\n",
            "[Epoch 140] train_loss=0.1853\n",
            "           test_acc=84.23%\n",
            "[Epoch 141] train_loss=0.1851\n",
            "           test_acc=84.12%\n",
            "[Epoch 142] train_loss=0.1840\n",
            "           test_acc=84.17%\n",
            "[Epoch 143] train_loss=0.1829\n",
            "           test_acc=84.24%\n",
            "[Epoch 144] train_loss=0.1841\n",
            "           test_acc=84.05%\n",
            "[Epoch 145] train_loss=0.1829\n",
            "           test_acc=84.13%\n",
            "[Epoch 146] train_loss=0.1831\n",
            "           test_acc=84.12%\n",
            "[Epoch 147] train_loss=0.1838\n",
            "           test_acc=84.19%\n",
            "[Epoch 148] train_loss=0.1830\n",
            "           test_acc=83.99%\n",
            "[Epoch 149] train_loss=0.1818\n",
            "           test_acc=84.28%\n",
            "[Epoch 150] train_loss=0.1819\n",
            "           test_acc=84.18%\n",
            "[Epoch 151] train_loss=0.1830\n",
            "           test_acc=84.09%\n",
            "[Epoch 152] train_loss=0.1826\n",
            "           test_acc=84.22%\n",
            "[Epoch 153] train_loss=0.1812\n",
            "           test_acc=84.09%\n",
            "[Epoch 154] train_loss=0.1824\n",
            "           test_acc=83.98%\n",
            "[Epoch 155] train_loss=0.1824\n",
            "           test_acc=84.07%\n",
            "[Epoch 156] train_loss=0.1823\n",
            "           test_acc=84.12%\n",
            "[Epoch 157] train_loss=0.1810\n",
            "           test_acc=84.09%\n",
            "[Epoch 158] train_loss=0.1806\n",
            "           test_acc=84.19%\n",
            "[Epoch 159] train_loss=0.1803\n",
            "           test_acc=84.06%\n",
            "[Epoch 160] train_loss=0.1808\n",
            "           test_acc=84.03%\n",
            "[Epoch 161] train_loss=0.1801\n",
            "           test_acc=84.10%\n",
            "[Epoch 162] train_loss=0.1798\n",
            "           test_acc=83.99%\n",
            "[Epoch 163] train_loss=0.1793\n",
            "           test_acc=84.14%\n",
            "[Epoch 164] train_loss=0.1802\n",
            "           test_acc=84.02%\n",
            "[Epoch 165] train_loss=0.1796\n",
            "           test_acc=84.11%\n",
            "[Epoch 166] train_loss=0.1794\n",
            "           test_acc=84.11%\n",
            "[Epoch 167] train_loss=0.1797\n",
            "           test_acc=84.17%\n",
            "[Epoch 168] train_loss=0.1781\n",
            "           test_acc=84.16%\n",
            "[Epoch 169] train_loss=0.1792\n",
            "           test_acc=84.11%\n",
            "[Epoch 170] train_loss=0.1788\n",
            "           test_acc=84.21%\n",
            "[Epoch 171] train_loss=0.1787\n",
            "           test_acc=84.33%\n",
            "[Epoch 172] train_loss=0.1782\n",
            "           test_acc=84.03%\n",
            "[Epoch 173] train_loss=0.1783\n",
            "           test_acc=84.13%\n",
            "[Epoch 174] train_loss=0.1772\n",
            "           test_acc=84.02%\n",
            "[Epoch 175] train_loss=0.1781\n",
            "           test_acc=84.25%\n",
            "[Epoch 176] train_loss=0.1773\n",
            "           test_acc=84.30%\n",
            "[Epoch 177] train_loss=0.1771\n",
            "           test_acc=84.31%\n",
            "[Epoch 178] train_loss=0.1767\n",
            "           test_acc=84.18%\n",
            "[Epoch 179] train_loss=0.1759\n",
            "           test_acc=84.19%\n",
            "[Epoch 180] train_loss=0.1771\n",
            "           test_acc=84.06%\n",
            "[Epoch 181] train_loss=0.1775\n",
            "           test_acc=84.16%\n",
            "[Epoch 182] train_loss=0.1759\n",
            "           test_acc=84.35%\n",
            "[Epoch 183] train_loss=0.1751\n",
            "           test_acc=84.18%\n",
            "[Epoch 184] train_loss=0.1763\n",
            "           test_acc=84.44%\n",
            "  → New best multi‑teacher student saved.\n",
            "[Epoch 185] train_loss=0.1763\n",
            "           test_acc=84.18%\n",
            "[Epoch 186] train_loss=0.1761\n",
            "           test_acc=84.24%\n",
            "[Epoch 187] train_loss=0.1748\n",
            "           test_acc=84.21%\n",
            "[Epoch 188] train_loss=0.1741\n",
            "           test_acc=84.08%\n",
            "[Epoch 189] train_loss=0.1745\n",
            "           test_acc=84.13%\n",
            "[Epoch 190] train_loss=0.1752\n",
            "           test_acc=84.14%\n",
            "[Epoch 191] train_loss=0.1751\n",
            "           test_acc=83.97%\n",
            "[Epoch 192] train_loss=0.1742\n",
            "           test_acc=84.08%\n",
            "[Epoch 193] train_loss=0.1742\n",
            "           test_acc=84.11%\n",
            "[Epoch 194] train_loss=0.1740\n",
            "           test_acc=84.17%\n",
            "[Epoch 195] train_loss=0.1748\n",
            "           test_acc=84.13%\n",
            "[Epoch 196] train_loss=0.1748\n",
            "           test_acc=84.30%\n",
            "[Epoch 197] train_loss=0.1724\n",
            "           test_acc=84.15%\n",
            "[Epoch 198] train_loss=0.1735\n",
            "           test_acc=84.33%\n",
            "[Epoch 199] train_loss=0.1737\n",
            "           test_acc=84.38%\n",
            "[Epoch 200] train_loss=0.1733\n",
            "           test_acc=84.26%\n",
            "\n",
            "✅ Multi‑teacher distillation complete. Best acc: 84.44%\n"
          ]
        }
      ]
    },
    {
      "cell_type": "code",
      "source": [
        "# —— 单教师蒸馏 —— 取 teacher_models[0] 作为唯一教师\n",
        "import torch\n",
        "import torch.nn.functional as F\n",
        "\n",
        "student = student.to(device)\n",
        "teacher = teacher_models[0].to(device)\n",
        "teacher.eval()\n",
        "for p in teacher.parameters(): p.requires_grad = False\n",
        "\n",
        "best_acc = 0.0\n",
        "num_epochs = 200\n",
        "\n",
        "for epoch in range(1, num_epochs+1):\n",
        "    student.train()\n",
        "    running_loss = 0.0\n",
        "\n",
        "    for inputs, targets in train_loader:\n",
        "        inputs, targets = inputs.to(device), targets.to(device)\n",
        "        optimizer.zero_grad()\n",
        "\n",
        "        # 1️⃣ 单教师 forward\n",
        "        with torch.no_grad():\n",
        "            logits_t = teacher(inputs)                   # [B, C]\n",
        "            p_soft   = F.softmax(logits_t / tau, dim=1)  # [B, C]\n",
        "\n",
        "        # 2️⃣ 学生 forward + KD 损失\n",
        "        logits_s = student(inputs)                      # [B, C]\n",
        "        s_soft   = F.log_softmax(logits_s / tau, dim=1)\n",
        "        loss_kl  = F.kl_div(s_soft, p_soft, reduction='batchmean') * (tau*tau)\n",
        "        loss_ce  = F.cross_entropy(logits_s, targets)\n",
        "        loss     = alpha * loss_kl + (1 - alpha) * loss_ce\n",
        "\n",
        "        loss.backward()\n",
        "        optimizer.step()\n",
        "        running_loss += loss.item() * inputs.size(0)\n",
        "\n",
        "    scheduler.step()\n",
        "    train_loss = running_loss / len(train_loader.dataset)\n",
        "    print(f\"[Single] Epoch {epoch:03d}/{num_epochs}   train_loss={train_loss:.4f}\")\n",
        "\n",
        "    # 3️⃣ 验证\n",
        "    student.eval()\n",
        "    correct = total = 0\n",
        "    with torch.no_grad():\n",
        "        for inputs, targets in test_loader:\n",
        "            inputs, targets = inputs.to(device), targets.to(device)\n",
        "            preds = student(inputs).argmax(dim=1)\n",
        "            correct += (preds==targets).sum().item()\n",
        "            total   += targets.size(0)\n",
        "    acc = 100.*correct/total\n",
        "    print(f\"          test_acc={acc:.2f}%\")\n",
        "\n",
        "    if acc > best_acc:\n",
        "        best_acc = acc\n",
        "        torch.save({\n",
        "            'epoch':         epoch,\n",
        "            'student_state': student.state_dict(),\n",
        "            'optimizer':     optimizer.state_dict(),\n",
        "            'test_acc':      acc,\n",
        "        }, \"student_single_teacher_best.pth\")\n",
        "        print(\"  → New best single‑teacher student saved.\")\n"
      ],
      "metadata": {
        "colab": {
          "base_uri": "https://localhost:8080/"
        },
        "id": "BdLGCY55KZhx",
        "outputId": "5a491a6e-5195-47d6-bde8-9175091ef394"
      },
      "execution_count": 26,
      "outputs": [
        {
          "output_type": "stream",
          "name": "stdout",
          "text": [
            "[Single] Epoch 001/200   train_loss=0.5630\n",
            "          test_acc=82.86%\n",
            "  → New best single‑teacher student saved.\n",
            "[Single] Epoch 002/200   train_loss=0.4938\n",
            "          test_acc=82.48%\n",
            "[Single] Epoch 003/200   train_loss=0.4694\n",
            "          test_acc=82.11%\n",
            "[Single] Epoch 004/200   train_loss=0.4551\n",
            "          test_acc=82.09%\n",
            "[Single] Epoch 005/200   train_loss=0.4441\n",
            "          test_acc=81.96%\n",
            "[Single] Epoch 006/200   train_loss=0.4323\n",
            "          test_acc=81.86%\n",
            "[Single] Epoch 007/200   train_loss=0.4279\n",
            "          test_acc=81.93%\n",
            "[Single] Epoch 008/200   train_loss=0.4206\n",
            "          test_acc=82.08%\n",
            "[Single] Epoch 009/200   train_loss=0.4127\n",
            "          test_acc=81.86%\n",
            "[Single] Epoch 010/200   train_loss=0.4095\n",
            "          test_acc=81.77%\n",
            "[Single] Epoch 011/200   train_loss=0.4059\n",
            "          test_acc=81.87%\n",
            "[Single] Epoch 012/200   train_loss=0.4009\n",
            "          test_acc=81.84%\n",
            "[Single] Epoch 013/200   train_loss=0.4003\n",
            "          test_acc=81.59%\n",
            "[Single] Epoch 014/200   train_loss=0.3978\n",
            "          test_acc=81.32%\n",
            "[Single] Epoch 015/200   train_loss=0.3911\n",
            "          test_acc=81.59%\n",
            "[Single] Epoch 016/200   train_loss=0.3894\n",
            "          test_acc=81.52%\n",
            "[Single] Epoch 017/200   train_loss=0.3893\n",
            "          test_acc=81.37%\n",
            "[Single] Epoch 018/200   train_loss=0.3855\n",
            "          test_acc=81.45%\n",
            "[Single] Epoch 019/200   train_loss=0.3813\n",
            "          test_acc=81.62%\n",
            "[Single] Epoch 020/200   train_loss=0.3779\n",
            "          test_acc=81.76%\n",
            "[Single] Epoch 021/200   train_loss=0.3771\n",
            "          test_acc=81.28%\n",
            "[Single] Epoch 022/200   train_loss=0.3771\n",
            "          test_acc=81.26%\n",
            "[Single] Epoch 023/200   train_loss=0.3753\n",
            "          test_acc=81.68%\n",
            "[Single] Epoch 024/200   train_loss=0.3717\n",
            "          test_acc=81.36%\n",
            "[Single] Epoch 025/200   train_loss=0.3709\n",
            "          test_acc=81.40%\n",
            "[Single] Epoch 026/200   train_loss=0.3684\n",
            "          test_acc=81.12%\n",
            "[Single] Epoch 027/200   train_loss=0.3708\n",
            "          test_acc=81.60%\n",
            "[Single] Epoch 028/200   train_loss=0.3634\n",
            "          test_acc=81.45%\n",
            "[Single] Epoch 029/200   train_loss=0.3642\n",
            "          test_acc=81.46%\n",
            "[Single] Epoch 030/200   train_loss=0.3644\n",
            "          test_acc=81.31%\n",
            "[Single] Epoch 031/200   train_loss=0.3623\n",
            "          test_acc=81.38%\n",
            "[Single] Epoch 032/200   train_loss=0.3607\n",
            "          test_acc=81.21%\n",
            "[Single] Epoch 033/200   train_loss=0.3567\n",
            "          test_acc=81.07%\n",
            "[Single] Epoch 034/200   train_loss=0.3573\n",
            "          test_acc=81.44%\n",
            "[Single] Epoch 035/200   train_loss=0.3560\n",
            "          test_acc=81.45%\n",
            "[Single] Epoch 036/200   train_loss=0.3566\n",
            "          test_acc=81.29%\n",
            "[Single] Epoch 037/200   train_loss=0.3524\n",
            "          test_acc=81.46%\n",
            "[Single] Epoch 038/200   train_loss=0.3522\n",
            "          test_acc=81.13%\n",
            "[Single] Epoch 039/200   train_loss=0.3538\n",
            "          test_acc=81.34%\n",
            "[Single] Epoch 040/200   train_loss=0.3514\n",
            "          test_acc=81.28%\n",
            "[Single] Epoch 041/200   train_loss=0.3489\n",
            "          test_acc=81.45%\n",
            "[Single] Epoch 042/200   train_loss=0.3508\n",
            "          test_acc=81.58%\n",
            "[Single] Epoch 043/200   train_loss=0.3451\n",
            "          test_acc=81.37%\n",
            "[Single] Epoch 044/200   train_loss=0.3465\n",
            "          test_acc=81.32%\n",
            "[Single] Epoch 045/200   train_loss=0.3458\n",
            "          test_acc=81.55%\n",
            "[Single] Epoch 046/200   train_loss=0.3435\n",
            "          test_acc=81.25%\n",
            "[Single] Epoch 047/200   train_loss=0.3456\n",
            "          test_acc=81.16%\n",
            "[Single] Epoch 048/200   train_loss=0.3408\n",
            "          test_acc=81.15%\n",
            "[Single] Epoch 049/200   train_loss=0.3411\n",
            "          test_acc=81.22%\n",
            "[Single] Epoch 050/200   train_loss=0.3434\n",
            "          test_acc=81.26%\n",
            "[Single] Epoch 051/200   train_loss=0.3413\n",
            "          test_acc=81.32%\n",
            "[Single] Epoch 052/200   train_loss=0.3417\n",
            "          test_acc=81.09%\n",
            "[Single] Epoch 053/200   train_loss=0.3375\n",
            "          test_acc=81.01%\n",
            "[Single] Epoch 054/200   train_loss=0.3374\n",
            "          test_acc=80.87%\n",
            "[Single] Epoch 055/200   train_loss=0.3372\n",
            "          test_acc=80.96%\n",
            "[Single] Epoch 056/200   train_loss=0.3368\n",
            "          test_acc=80.90%\n",
            "[Single] Epoch 057/200   train_loss=0.3367\n",
            "          test_acc=81.28%\n",
            "[Single] Epoch 058/200   train_loss=0.3364\n",
            "          test_acc=81.45%\n",
            "[Single] Epoch 059/200   train_loss=0.3337\n",
            "          test_acc=81.11%\n",
            "[Single] Epoch 060/200   train_loss=0.3321\n",
            "          test_acc=81.16%\n",
            "[Single] Epoch 061/200   train_loss=0.3317\n",
            "          test_acc=81.04%\n",
            "[Single] Epoch 062/200   train_loss=0.3311\n",
            "          test_acc=81.06%\n",
            "[Single] Epoch 063/200   train_loss=0.3314\n",
            "          test_acc=80.86%\n",
            "[Single] Epoch 064/200   train_loss=0.3295\n",
            "          test_acc=81.02%\n",
            "[Single] Epoch 065/200   train_loss=0.3306\n",
            "          test_acc=80.91%\n",
            "[Single] Epoch 066/200   train_loss=0.3309\n",
            "          test_acc=81.19%\n",
            "[Single] Epoch 067/200   train_loss=0.3304\n",
            "          test_acc=81.06%\n",
            "[Single] Epoch 068/200   train_loss=0.3275\n",
            "          test_acc=80.80%\n",
            "[Single] Epoch 069/200   train_loss=0.3267\n",
            "          test_acc=80.86%\n",
            "[Single] Epoch 070/200   train_loss=0.3273\n",
            "          test_acc=80.87%\n",
            "[Single] Epoch 071/200   train_loss=0.3254\n",
            "          test_acc=80.92%\n",
            "[Single] Epoch 072/200   train_loss=0.3244\n",
            "          test_acc=80.93%\n",
            "[Single] Epoch 073/200   train_loss=0.3254\n",
            "          test_acc=81.11%\n",
            "[Single] Epoch 074/200   train_loss=0.3259\n",
            "          test_acc=80.95%\n",
            "[Single] Epoch 075/200   train_loss=0.3234\n",
            "          test_acc=80.88%\n",
            "[Single] Epoch 076/200   train_loss=0.3224\n",
            "          test_acc=81.17%\n",
            "[Single] Epoch 077/200   train_loss=0.3211\n",
            "          test_acc=81.25%\n",
            "[Single] Epoch 078/200   train_loss=0.3218\n",
            "          test_acc=81.19%\n",
            "[Single] Epoch 079/200   train_loss=0.3230\n",
            "          test_acc=81.38%\n",
            "[Single] Epoch 080/200   train_loss=0.3219\n",
            "          test_acc=81.11%\n",
            "[Single] Epoch 081/200   train_loss=0.3196\n",
            "          test_acc=81.36%\n",
            "[Single] Epoch 082/200   train_loss=0.3193\n",
            "          test_acc=80.96%\n",
            "[Single] Epoch 083/200   train_loss=0.3198\n",
            "          test_acc=81.08%\n",
            "[Single] Epoch 084/200   train_loss=0.3194\n",
            "          test_acc=81.31%\n",
            "[Single] Epoch 085/200   train_loss=0.3202\n",
            "          test_acc=81.43%\n",
            "[Single] Epoch 086/200   train_loss=0.3188\n",
            "          test_acc=81.22%\n",
            "[Single] Epoch 087/200   train_loss=0.3182\n",
            "          test_acc=81.09%\n",
            "[Single] Epoch 088/200   train_loss=0.3172\n",
            "          test_acc=81.20%\n",
            "[Single] Epoch 089/200   train_loss=0.3160\n",
            "          test_acc=81.02%\n",
            "[Single] Epoch 090/200   train_loss=0.3160\n",
            "          test_acc=81.19%\n",
            "[Single] Epoch 091/200   train_loss=0.3156\n",
            "          test_acc=80.93%\n",
            "[Single] Epoch 092/200   train_loss=0.3167\n",
            "          test_acc=81.05%\n",
            "[Single] Epoch 093/200   train_loss=0.3144\n",
            "          test_acc=81.22%\n",
            "[Single] Epoch 094/200   train_loss=0.3131\n",
            "          test_acc=81.04%\n",
            "[Single] Epoch 095/200   train_loss=0.3130\n",
            "          test_acc=81.08%\n",
            "[Single] Epoch 096/200   train_loss=0.3147\n",
            "          test_acc=81.24%\n",
            "[Single] Epoch 097/200   train_loss=0.3123\n",
            "          test_acc=80.90%\n",
            "[Single] Epoch 098/200   train_loss=0.3137\n",
            "          test_acc=80.99%\n",
            "[Single] Epoch 099/200   train_loss=0.3123\n",
            "          test_acc=80.83%\n",
            "[Single] Epoch 100/200   train_loss=0.3132\n",
            "          test_acc=80.90%\n",
            "[Single] Epoch 101/200   train_loss=0.3115\n",
            "          test_acc=80.98%\n",
            "[Single] Epoch 102/200   train_loss=0.3117\n",
            "          test_acc=80.94%\n",
            "[Single] Epoch 103/200   train_loss=0.3104\n",
            "          test_acc=80.77%\n",
            "[Single] Epoch 104/200   train_loss=0.3090\n",
            "          test_acc=80.83%\n",
            "[Single] Epoch 105/200   train_loss=0.3094\n",
            "          test_acc=81.22%\n",
            "[Single] Epoch 106/200   train_loss=0.3092\n",
            "          test_acc=81.17%\n",
            "[Single] Epoch 107/200   train_loss=0.3105\n",
            "          test_acc=81.10%\n",
            "[Single] Epoch 108/200   train_loss=0.3100\n",
            "          test_acc=81.06%\n",
            "[Single] Epoch 109/200   train_loss=0.3071\n",
            "          test_acc=81.02%\n",
            "[Single] Epoch 110/200   train_loss=0.3069\n",
            "          test_acc=80.93%\n",
            "[Single] Epoch 111/200   train_loss=0.3067\n",
            "          test_acc=81.22%\n",
            "[Single] Epoch 112/200   train_loss=0.3076\n",
            "          test_acc=81.01%\n",
            "[Single] Epoch 113/200   train_loss=0.3063\n",
            "          test_acc=80.73%\n",
            "[Single] Epoch 114/200   train_loss=0.3057\n",
            "          test_acc=80.99%\n",
            "[Single] Epoch 115/200   train_loss=0.3056\n",
            "          test_acc=80.88%\n",
            "[Single] Epoch 116/200   train_loss=0.3054\n",
            "          test_acc=80.97%\n",
            "[Single] Epoch 117/200   train_loss=0.3042\n",
            "          test_acc=81.32%\n",
            "[Single] Epoch 118/200   train_loss=0.3045\n",
            "          test_acc=80.89%\n",
            "[Single] Epoch 119/200   train_loss=0.3032\n",
            "          test_acc=80.93%\n",
            "[Single] Epoch 120/200   train_loss=0.3025\n",
            "          test_acc=80.79%\n",
            "[Single] Epoch 121/200   train_loss=0.3043\n",
            "          test_acc=80.63%\n",
            "[Single] Epoch 122/200   train_loss=0.3043\n",
            "          test_acc=80.57%\n",
            "[Single] Epoch 123/200   train_loss=0.3022\n",
            "          test_acc=80.80%\n",
            "[Single] Epoch 124/200   train_loss=0.3018\n",
            "          test_acc=80.93%\n",
            "[Single] Epoch 125/200   train_loss=0.3038\n",
            "          test_acc=81.01%\n",
            "[Single] Epoch 126/200   train_loss=0.3017\n",
            "          test_acc=80.97%\n",
            "[Single] Epoch 127/200   train_loss=0.3024\n",
            "          test_acc=80.89%\n",
            "[Single] Epoch 128/200   train_loss=0.3030\n",
            "          test_acc=80.96%\n",
            "[Single] Epoch 129/200   train_loss=0.3014\n",
            "          test_acc=81.00%\n",
            "[Single] Epoch 130/200   train_loss=0.3005\n",
            "          test_acc=80.72%\n",
            "[Single] Epoch 131/200   train_loss=0.3013\n",
            "          test_acc=80.91%\n",
            "[Single] Epoch 132/200   train_loss=0.2999\n",
            "          test_acc=80.88%\n",
            "[Single] Epoch 133/200   train_loss=0.2983\n",
            "          test_acc=80.95%\n",
            "[Single] Epoch 134/200   train_loss=0.2986\n",
            "          test_acc=80.67%\n",
            "[Single] Epoch 135/200   train_loss=0.3002\n",
            "          test_acc=80.94%\n",
            "[Single] Epoch 136/200   train_loss=0.2994\n",
            "          test_acc=80.64%\n",
            "[Single] Epoch 137/200   train_loss=0.2972\n",
            "          test_acc=80.84%\n",
            "[Single] Epoch 138/200   train_loss=0.2971\n",
            "          test_acc=80.58%\n",
            "[Single] Epoch 139/200   train_loss=0.2981\n",
            "          test_acc=80.72%\n",
            "[Single] Epoch 140/200   train_loss=0.2970\n",
            "          test_acc=80.93%\n",
            "[Single] Epoch 141/200   train_loss=0.2979\n",
            "          test_acc=80.76%\n",
            "[Single] Epoch 142/200   train_loss=0.2962\n",
            "          test_acc=80.85%\n",
            "[Single] Epoch 143/200   train_loss=0.2957\n",
            "          test_acc=81.13%\n",
            "[Single] Epoch 144/200   train_loss=0.2971\n",
            "          test_acc=81.02%\n",
            "[Single] Epoch 145/200   train_loss=0.2964\n",
            "          test_acc=80.29%\n",
            "[Single] Epoch 146/200   train_loss=0.2966\n",
            "          test_acc=80.64%\n",
            "[Single] Epoch 147/200   train_loss=0.2951\n",
            "          test_acc=80.81%\n",
            "[Single] Epoch 148/200   train_loss=0.2941\n",
            "          test_acc=80.81%\n",
            "[Single] Epoch 149/200   train_loss=0.2942\n",
            "          test_acc=80.70%\n",
            "[Single] Epoch 150/200   train_loss=0.2933\n",
            "          test_acc=80.78%\n",
            "[Single] Epoch 151/200   train_loss=0.2938\n",
            "          test_acc=80.63%\n",
            "[Single] Epoch 152/200   train_loss=0.2924\n",
            "          test_acc=80.66%\n",
            "[Single] Epoch 153/200   train_loss=0.2938\n",
            "          test_acc=80.83%\n",
            "[Single] Epoch 154/200   train_loss=0.2927\n",
            "          test_acc=81.14%\n",
            "[Single] Epoch 155/200   train_loss=0.2923\n",
            "          test_acc=81.15%\n",
            "[Single] Epoch 156/200   train_loss=0.2938\n",
            "          test_acc=80.60%\n",
            "[Single] Epoch 157/200   train_loss=0.2923\n",
            "          test_acc=80.81%\n",
            "[Single] Epoch 158/200   train_loss=0.2927\n",
            "          test_acc=80.96%\n",
            "[Single] Epoch 159/200   train_loss=0.2924\n",
            "          test_acc=80.93%\n",
            "[Single] Epoch 160/200   train_loss=0.2921\n",
            "          test_acc=80.82%\n",
            "[Single] Epoch 161/200   train_loss=0.2918\n",
            "          test_acc=80.66%\n",
            "[Single] Epoch 162/200   train_loss=0.2923\n",
            "          test_acc=80.67%\n",
            "[Single] Epoch 163/200   train_loss=0.2921\n",
            "          test_acc=80.93%\n",
            "[Single] Epoch 164/200   train_loss=0.2919\n",
            "          test_acc=80.88%\n",
            "[Single] Epoch 165/200   train_loss=0.2918\n",
            "          test_acc=80.83%\n",
            "[Single] Epoch 166/200   train_loss=0.2897\n",
            "          test_acc=80.92%\n",
            "[Single] Epoch 167/200   train_loss=0.2907\n",
            "          test_acc=80.67%\n",
            "[Single] Epoch 168/200   train_loss=0.2889\n",
            "          test_acc=80.79%\n",
            "[Single] Epoch 169/200   train_loss=0.2908\n",
            "          test_acc=81.08%\n",
            "[Single] Epoch 170/200   train_loss=0.2895\n",
            "          test_acc=80.44%\n",
            "[Single] Epoch 171/200   train_loss=0.2879\n",
            "          test_acc=80.89%\n",
            "[Single] Epoch 172/200   train_loss=0.2894\n",
            "          test_acc=80.87%\n",
            "[Single] Epoch 173/200   train_loss=0.2884\n",
            "          test_acc=81.02%\n",
            "[Single] Epoch 174/200   train_loss=0.2880\n",
            "          test_acc=80.99%\n",
            "[Single] Epoch 175/200   train_loss=0.2864\n",
            "          test_acc=80.81%\n",
            "[Single] Epoch 176/200   train_loss=0.2876\n",
            "          test_acc=80.88%\n",
            "[Single] Epoch 177/200   train_loss=0.2869\n",
            "          test_acc=80.72%\n",
            "[Single] Epoch 178/200   train_loss=0.2861\n",
            "          test_acc=80.69%\n",
            "[Single] Epoch 179/200   train_loss=0.2870\n",
            "          test_acc=80.94%\n",
            "[Single] Epoch 180/200   train_loss=0.2870\n",
            "          test_acc=80.63%\n",
            "[Single] Epoch 181/200   train_loss=0.2844\n",
            "          test_acc=81.02%\n",
            "[Single] Epoch 182/200   train_loss=0.2849\n",
            "          test_acc=80.91%\n",
            "[Single] Epoch 183/200   train_loss=0.2848\n",
            "          test_acc=80.96%\n",
            "[Single] Epoch 184/200   train_loss=0.2832\n",
            "          test_acc=80.47%\n",
            "[Single] Epoch 185/200   train_loss=0.2871\n",
            "          test_acc=80.93%\n",
            "[Single] Epoch 186/200   train_loss=0.2827\n",
            "          test_acc=81.11%\n",
            "[Single] Epoch 187/200   train_loss=0.2835\n",
            "          test_acc=80.97%\n",
            "[Single] Epoch 188/200   train_loss=0.2839\n",
            "          test_acc=80.91%\n",
            "[Single] Epoch 189/200   train_loss=0.2843\n",
            "          test_acc=80.76%\n",
            "[Single] Epoch 190/200   train_loss=0.2823\n",
            "          test_acc=80.92%\n",
            "[Single] Epoch 191/200   train_loss=0.2829\n",
            "          test_acc=80.68%\n",
            "[Single] Epoch 192/200   train_loss=0.2824\n",
            "          test_acc=80.88%\n",
            "[Single] Epoch 193/200   train_loss=0.2831\n",
            "          test_acc=80.84%\n",
            "[Single] Epoch 194/200   train_loss=0.2827\n",
            "          test_acc=80.84%\n",
            "[Single] Epoch 195/200   train_loss=0.2827\n",
            "          test_acc=80.86%\n",
            "[Single] Epoch 196/200   train_loss=0.2820\n",
            "          test_acc=80.64%\n",
            "[Single] Epoch 197/200   train_loss=0.2819\n",
            "          test_acc=80.74%\n",
            "[Single] Epoch 198/200   train_loss=0.2811\n",
            "          test_acc=80.79%\n",
            "[Single] Epoch 199/200   train_loss=0.2799\n",
            "          test_acc=80.78%\n",
            "[Single] Epoch 200/200   train_loss=0.2801\n",
            "          test_acc=80.99%\n"
          ]
        }
      ]
    },
    {
      "cell_type": "markdown",
      "source": [
        "# 下面给出修改后的「单教师蒸馏」那一段，把之前的 teacher_models[0] 全部替换成直接加载 teacher_resnet50_best.pth："
      ],
      "metadata": {
        "id": "Z7GN2H6f9c1W"
      }
    },
    {
      "cell_type": "code",
      "source": [
        "import os, torch\n",
        "import torch.nn.functional as F\n",
        "from torchvision.models import resnet50\n",
        "\n",
        "# ───── 0️⃣ Setup ─────\n",
        "device = torch.device('cuda' if torch.cuda.is_available() else 'cpu')\n",
        "save_dir = \"checkpoints/single_teacher\"\n",
        "os.makedirs(save_dir, exist_ok=True)\n",
        "\n",
        "# 假设 student, train_loader, test_loader, optimizer, scheduler, tau, alpha 已提前定义好\n",
        "student = student.to(device)\n",
        "\n",
        "# ───── 1️⃣ 把 teacher_resnet50_best.pth 当作唯一教师 ─────\n",
        "teacher_ckpt = \"teacher_resnet50_best.pth\"\n",
        "teacher = resnet50(num_classes=10).to(device)\n",
        "ck = torch.load(teacher_ckpt, map_location=device)\n",
        "teacher.load_state_dict(ck['model_state'])\n",
        "teacher.eval()\n",
        "for p in teacher.parameters():\n",
        "    p.requires_grad = False\n",
        "\n",
        "best_acc = 0.0\n",
        "num_epochs = 200\n",
        "\n",
        "# ───── 2️⃣ 蒸馏训练 ─────\n",
        "for epoch in range(1, num_epochs+1):\n",
        "    student.train()\n",
        "    running_loss = 0.0\n",
        "\n",
        "    for inputs, targets in train_loader:\n",
        "        inputs, targets = inputs.to(device), targets.to(device)\n",
        "        optimizer.zero_grad()\n",
        "\n",
        "        # —— 教师 forward 取软标签 ——\n",
        "        with torch.no_grad():\n",
        "            logits_t = teacher(inputs)                    # [B, C]\n",
        "            p_soft   = F.softmax(logits_t / tau, dim=1)   # [B, C]\n",
        "\n",
        "        # —— 学生 forward + KD 损失 ——\n",
        "        logits_s = student(inputs)                       # [B, C]\n",
        "        s_soft   = F.log_softmax(logits_s / tau, dim=1)\n",
        "        loss_kl  = F.kl_div(s_soft, p_soft, reduction='batchmean') * (tau*tau)\n",
        "        loss_ce  = F.cross_entropy(logits_s, targets)\n",
        "        loss     = alpha * loss_kl + (1 - alpha) * loss_ce\n",
        "\n",
        "        loss.backward()\n",
        "        optimizer.step()\n",
        "        running_loss += loss.item() * inputs.size(0)\n",
        "\n",
        "    scheduler.step()\n",
        "    train_loss = running_loss / len(train_loader.dataset)\n",
        "    print(f\"[Single] Epoch {epoch:03d}/{num_epochs}  train_loss={train_loss:.4f}\")\n",
        "\n",
        "    # —— 验证 ——\n",
        "    student.eval()\n",
        "    correct = total = 0\n",
        "    with torch.no_grad():\n",
        "        for inputs, targets in test_loader:\n",
        "            inputs, targets = inputs.to(device), targets.to(device)\n",
        "            preds = student(inputs).argmax(dim=1)\n",
        "            correct += (preds == targets).sum().item()\n",
        "            total   += targets.size(0)\n",
        "    acc = 100. * correct / total\n",
        "    print(f\"          test_acc={acc:.2f}%\")\n",
        "\n",
        "    # —— 保存最优 ——\n",
        "    if acc > best_acc:\n",
        "        best_acc = acc\n",
        "        ckpt_name = f\"student_single_tau{tau}_alpha{alpha}_best.pth\"\n",
        "        ckpt_path = os.path.join(save_dir, ckpt_name)\n",
        "        torch.save({\n",
        "            'epoch':         epoch,\n",
        "            'student_state': student.state_dict(),\n",
        "            'optimizer':     optimizer.state_dict(),\n",
        "            'test_acc':      acc,\n",
        "            'tau':           tau,\n",
        "            'alpha':         alpha,\n",
        "        }, ckpt_path)\n",
        "        print(f\"  → New best single‑teacher student saved to {ckpt_path}\")\n",
        "\n",
        "print(f\"\\n✅ Single‑teacher distillation complete. Best acc = {best_acc:.2f}%\")\n"
      ],
      "metadata": {
        "colab": {
          "base_uri": "https://localhost:8080/"
        },
        "id": "mGHor05z9dj6",
        "outputId": "46d8a8bb-3e1b-4378-d86b-5a51c45ae77a"
      },
      "execution_count": 21,
      "outputs": [
        {
          "output_type": "stream",
          "name": "stdout",
          "text": [
            "[Single] Epoch 001/200  train_loss=3.6901\n",
            "          test_acc=83.78%\n",
            "  → New best single‑teacher student saved to checkpoints/single_teacher/student_single_tau5_alpha0.9_best.pth\n",
            "[Single] Epoch 002/200  train_loss=3.6928\n",
            "          test_acc=83.87%\n",
            "  → New best single‑teacher student saved to checkpoints/single_teacher/student_single_tau5_alpha0.9_best.pth\n",
            "[Single] Epoch 003/200  train_loss=3.6938\n",
            "          test_acc=83.86%\n",
            "[Single] Epoch 004/200  train_loss=3.6896\n",
            "          test_acc=83.84%\n",
            "[Single] Epoch 005/200  train_loss=3.6929\n",
            "          test_acc=83.90%\n",
            "  → New best single‑teacher student saved to checkpoints/single_teacher/student_single_tau5_alpha0.9_best.pth\n",
            "[Single] Epoch 006/200  train_loss=3.6928\n",
            "          test_acc=83.93%\n",
            "  → New best single‑teacher student saved to checkpoints/single_teacher/student_single_tau5_alpha0.9_best.pth\n",
            "[Single] Epoch 007/200  train_loss=3.6913\n",
            "          test_acc=83.85%\n",
            "[Single] Epoch 008/200  train_loss=3.6925\n",
            "          test_acc=83.78%\n",
            "[Single] Epoch 009/200  train_loss=3.6913\n",
            "          test_acc=83.77%\n",
            "[Single] Epoch 010/200  train_loss=3.6925\n",
            "          test_acc=83.93%\n",
            "[Single] Epoch 011/200  train_loss=3.6942\n",
            "          test_acc=83.89%\n",
            "[Single] Epoch 012/200  train_loss=3.6912\n",
            "          test_acc=83.83%\n",
            "[Single] Epoch 013/200  train_loss=3.6926\n",
            "          test_acc=83.82%\n",
            "[Single] Epoch 014/200  train_loss=3.6900\n",
            "          test_acc=83.87%\n",
            "[Single] Epoch 015/200  train_loss=3.6922\n",
            "          test_acc=83.89%\n",
            "[Single] Epoch 016/200  train_loss=3.6927\n",
            "          test_acc=83.87%\n",
            "[Single] Epoch 017/200  train_loss=3.6896\n",
            "          test_acc=83.89%\n",
            "[Single] Epoch 018/200  train_loss=3.6917\n",
            "          test_acc=83.79%\n",
            "[Single] Epoch 019/200  train_loss=3.6905\n",
            "          test_acc=83.92%\n",
            "[Single] Epoch 020/200  train_loss=3.6916\n",
            "          test_acc=83.83%\n",
            "[Single] Epoch 021/200  train_loss=3.6910\n",
            "          test_acc=83.76%\n",
            "[Single] Epoch 022/200  train_loss=3.6921\n",
            "          test_acc=83.88%\n",
            "[Single] Epoch 023/200  train_loss=3.6922\n",
            "          test_acc=83.95%\n",
            "  → New best single‑teacher student saved to checkpoints/single_teacher/student_single_tau5_alpha0.9_best.pth\n",
            "[Single] Epoch 024/200  train_loss=3.6907\n",
            "          test_acc=83.87%\n",
            "[Single] Epoch 025/200  train_loss=3.6907\n",
            "          test_acc=83.80%\n",
            "[Single] Epoch 026/200  train_loss=3.6904\n",
            "          test_acc=83.87%\n",
            "[Single] Epoch 027/200  train_loss=3.6917\n",
            "          test_acc=83.82%\n",
            "[Single] Epoch 028/200  train_loss=3.6923\n",
            "          test_acc=83.75%\n",
            "[Single] Epoch 029/200  train_loss=3.6895\n",
            "          test_acc=83.89%\n",
            "[Single] Epoch 030/200  train_loss=3.6939\n",
            "          test_acc=83.78%\n",
            "[Single] Epoch 031/200  train_loss=3.6911\n",
            "          test_acc=83.85%\n",
            "[Single] Epoch 032/200  train_loss=3.6920\n",
            "          test_acc=83.70%\n",
            "[Single] Epoch 033/200  train_loss=3.6913\n",
            "          test_acc=83.79%\n",
            "[Single] Epoch 034/200  train_loss=3.6921\n",
            "          test_acc=83.86%\n",
            "[Single] Epoch 035/200  train_loss=3.6933\n",
            "          test_acc=83.81%\n",
            "[Single] Epoch 036/200  train_loss=3.6930\n",
            "          test_acc=83.82%\n",
            "[Single] Epoch 037/200  train_loss=3.6926\n",
            "          test_acc=83.81%\n",
            "[Single] Epoch 038/200  train_loss=3.6948\n",
            "          test_acc=83.87%\n",
            "[Single] Epoch 039/200  train_loss=3.6913\n",
            "          test_acc=83.81%\n",
            "[Single] Epoch 040/200  train_loss=3.6920\n",
            "          test_acc=83.91%\n",
            "[Single] Epoch 041/200  train_loss=3.6940\n",
            "          test_acc=83.85%\n",
            "[Single] Epoch 042/200  train_loss=3.6889\n",
            "          test_acc=83.81%\n",
            "[Single] Epoch 043/200  train_loss=3.6903\n",
            "          test_acc=83.81%\n",
            "[Single] Epoch 044/200  train_loss=3.6943\n",
            "          test_acc=83.78%\n",
            "[Single] Epoch 045/200  train_loss=3.6908\n",
            "          test_acc=83.78%\n",
            "[Single] Epoch 046/200  train_loss=3.6925\n",
            "          test_acc=83.78%\n",
            "[Single] Epoch 047/200  train_loss=3.6895\n",
            "          test_acc=83.82%\n",
            "[Single] Epoch 048/200  train_loss=3.6907\n",
            "          test_acc=83.87%\n",
            "[Single] Epoch 049/200  train_loss=3.6900\n",
            "          test_acc=83.86%\n",
            "[Single] Epoch 050/200  train_loss=3.6957\n",
            "          test_acc=83.91%\n",
            "[Single] Epoch 051/200  train_loss=3.6908\n",
            "          test_acc=83.79%\n",
            "[Single] Epoch 052/200  train_loss=3.6916\n",
            "          test_acc=83.81%\n",
            "[Single] Epoch 053/200  train_loss=3.6910\n",
            "          test_acc=83.80%\n",
            "[Single] Epoch 054/200  train_loss=3.6914\n",
            "          test_acc=83.86%\n",
            "[Single] Epoch 055/200  train_loss=3.6909\n",
            "          test_acc=83.83%\n",
            "[Single] Epoch 056/200  train_loss=3.6919\n",
            "          test_acc=83.78%\n",
            "[Single] Epoch 057/200  train_loss=3.6930\n",
            "          test_acc=83.90%\n",
            "[Single] Epoch 058/200  train_loss=3.6914\n",
            "          test_acc=83.88%\n",
            "[Single] Epoch 059/200  train_loss=3.6926\n",
            "          test_acc=83.80%\n",
            "[Single] Epoch 060/200  train_loss=3.6909\n",
            "          test_acc=83.87%\n",
            "[Single] Epoch 061/200  train_loss=3.6925\n",
            "          test_acc=83.86%\n",
            "[Single] Epoch 062/200  train_loss=3.6959\n",
            "          test_acc=83.92%\n",
            "[Single] Epoch 063/200  train_loss=3.6935\n",
            "          test_acc=83.88%\n",
            "[Single] Epoch 064/200  train_loss=3.6903\n",
            "          test_acc=83.82%\n",
            "[Single] Epoch 065/200  train_loss=3.6929\n",
            "          test_acc=83.82%\n",
            "[Single] Epoch 066/200  train_loss=3.6914\n",
            "          test_acc=83.80%\n",
            "[Single] Epoch 067/200  train_loss=3.6928\n",
            "          test_acc=83.77%\n",
            "[Single] Epoch 068/200  train_loss=3.6949\n",
            "          test_acc=83.81%\n",
            "[Single] Epoch 069/200  train_loss=3.6920\n",
            "          test_acc=83.79%\n",
            "[Single] Epoch 070/200  train_loss=3.6901\n",
            "          test_acc=83.86%\n",
            "[Single] Epoch 071/200  train_loss=3.6944\n",
            "          test_acc=83.80%\n",
            "[Single] Epoch 072/200  train_loss=3.6935\n",
            "          test_acc=83.84%\n",
            "[Single] Epoch 073/200  train_loss=3.6924\n",
            "          test_acc=83.80%\n",
            "[Single] Epoch 074/200  train_loss=3.6934\n",
            "          test_acc=83.86%\n",
            "[Single] Epoch 075/200  train_loss=3.6938\n",
            "          test_acc=83.83%\n",
            "[Single] Epoch 076/200  train_loss=3.6910\n",
            "          test_acc=83.88%\n",
            "[Single] Epoch 077/200  train_loss=3.6926\n",
            "          test_acc=83.79%\n",
            "[Single] Epoch 078/200  train_loss=3.6924\n",
            "          test_acc=83.77%\n",
            "[Single] Epoch 079/200  train_loss=3.6908\n",
            "          test_acc=83.87%\n",
            "[Single] Epoch 080/200  train_loss=3.6943\n",
            "          test_acc=83.83%\n",
            "[Single] Epoch 081/200  train_loss=3.6947\n",
            "          test_acc=83.87%\n",
            "[Single] Epoch 082/200  train_loss=3.6920\n",
            "          test_acc=83.88%\n",
            "[Single] Epoch 083/200  train_loss=3.6964\n",
            "          test_acc=83.90%\n",
            "[Single] Epoch 084/200  train_loss=3.6913\n",
            "          test_acc=83.89%\n",
            "[Single] Epoch 085/200  train_loss=3.6903\n",
            "          test_acc=83.86%\n",
            "[Single] Epoch 086/200  train_loss=3.6916\n",
            "          test_acc=83.91%\n",
            "[Single] Epoch 087/200  train_loss=3.6912\n",
            "          test_acc=83.77%\n",
            "[Single] Epoch 088/200  train_loss=3.6938\n",
            "          test_acc=83.92%\n",
            "[Single] Epoch 089/200  train_loss=3.6921\n",
            "          test_acc=83.78%\n",
            "[Single] Epoch 090/200  train_loss=3.6906\n",
            "          test_acc=83.77%\n",
            "[Single] Epoch 091/200  train_loss=3.6920\n",
            "          test_acc=83.87%\n",
            "[Single] Epoch 092/200  train_loss=3.6885\n",
            "          test_acc=83.81%\n",
            "[Single] Epoch 093/200  train_loss=3.6905\n",
            "          test_acc=83.77%\n",
            "[Single] Epoch 094/200  train_loss=3.6920\n",
            "          test_acc=83.93%\n",
            "[Single] Epoch 095/200  train_loss=3.6928\n",
            "          test_acc=83.83%\n",
            "[Single] Epoch 096/200  train_loss=3.6946\n",
            "          test_acc=83.78%\n",
            "[Single] Epoch 097/200  train_loss=3.6960\n",
            "          test_acc=83.87%\n",
            "[Single] Epoch 098/200  train_loss=3.6924\n",
            "          test_acc=83.85%\n",
            "[Single] Epoch 099/200  train_loss=3.6922\n",
            "          test_acc=83.83%\n",
            "[Single] Epoch 100/200  train_loss=3.6878\n",
            "          test_acc=83.86%\n",
            "[Single] Epoch 101/200  train_loss=3.6900\n",
            "          test_acc=83.84%\n",
            "[Single] Epoch 102/200  train_loss=3.6906\n",
            "          test_acc=83.83%\n",
            "[Single] Epoch 103/200  train_loss=3.6930\n",
            "          test_acc=83.79%\n",
            "[Single] Epoch 104/200  train_loss=3.6927\n",
            "          test_acc=83.89%\n",
            "[Single] Epoch 105/200  train_loss=3.6915\n",
            "          test_acc=83.79%\n",
            "[Single] Epoch 106/200  train_loss=3.6906\n",
            "          test_acc=83.84%\n",
            "[Single] Epoch 107/200  train_loss=3.6900\n",
            "          test_acc=83.78%\n",
            "[Single] Epoch 108/200  train_loss=3.6919\n",
            "          test_acc=83.89%\n",
            "[Single] Epoch 109/200  train_loss=3.6938\n",
            "          test_acc=83.93%\n",
            "[Single] Epoch 110/200  train_loss=3.6916\n",
            "          test_acc=83.82%\n",
            "[Single] Epoch 111/200  train_loss=3.6912\n",
            "          test_acc=83.83%\n",
            "[Single] Epoch 112/200  train_loss=3.6906\n",
            "          test_acc=83.85%\n",
            "[Single] Epoch 113/200  train_loss=3.6910\n",
            "          test_acc=83.87%\n",
            "[Single] Epoch 114/200  train_loss=3.6940\n",
            "          test_acc=83.79%\n",
            "[Single] Epoch 115/200  train_loss=3.6932\n",
            "          test_acc=83.83%\n",
            "[Single] Epoch 116/200  train_loss=3.6932\n",
            "          test_acc=83.76%\n",
            "[Single] Epoch 117/200  train_loss=3.6904\n",
            "          test_acc=83.83%\n",
            "[Single] Epoch 118/200  train_loss=3.6917\n",
            "          test_acc=83.85%\n",
            "[Single] Epoch 119/200  train_loss=3.6890\n",
            "          test_acc=83.78%\n",
            "[Single] Epoch 120/200  train_loss=3.6912\n",
            "          test_acc=83.79%\n",
            "[Single] Epoch 121/200  train_loss=3.6879\n",
            "          test_acc=83.90%\n",
            "[Single] Epoch 122/200  train_loss=3.6932\n",
            "          test_acc=83.85%\n",
            "[Single] Epoch 123/200  train_loss=3.6889\n",
            "          test_acc=83.89%\n",
            "[Single] Epoch 124/200  train_loss=3.6932\n",
            "          test_acc=83.82%\n",
            "[Single] Epoch 125/200  train_loss=3.6909\n",
            "          test_acc=83.87%\n",
            "[Single] Epoch 126/200  train_loss=3.6917\n",
            "          test_acc=83.90%\n",
            "[Single] Epoch 127/200  train_loss=3.6916\n",
            "          test_acc=83.75%\n",
            "[Single] Epoch 128/200  train_loss=3.6904\n",
            "          test_acc=83.80%\n",
            "[Single] Epoch 129/200  train_loss=3.6918\n",
            "          test_acc=83.87%\n",
            "[Single] Epoch 130/200  train_loss=3.6931\n",
            "          test_acc=83.88%\n",
            "[Single] Epoch 131/200  train_loss=3.6926\n",
            "          test_acc=83.86%\n",
            "[Single] Epoch 132/200  train_loss=3.6957\n",
            "          test_acc=83.90%\n",
            "[Single] Epoch 133/200  train_loss=3.6930\n",
            "          test_acc=83.88%\n",
            "[Single] Epoch 134/200  train_loss=3.6926\n",
            "          test_acc=83.83%\n",
            "[Single] Epoch 135/200  train_loss=3.6918\n",
            "          test_acc=83.92%\n",
            "[Single] Epoch 136/200  train_loss=3.6929\n",
            "          test_acc=83.83%\n",
            "[Single] Epoch 137/200  train_loss=3.6894\n",
            "          test_acc=83.88%\n",
            "[Single] Epoch 138/200  train_loss=3.6922\n",
            "          test_acc=83.88%\n",
            "[Single] Epoch 139/200  train_loss=3.6942\n",
            "          test_acc=83.91%\n",
            "[Single] Epoch 140/200  train_loss=3.6901\n",
            "          test_acc=83.85%\n",
            "[Single] Epoch 141/200  train_loss=3.6884\n",
            "          test_acc=83.89%\n",
            "[Single] Epoch 142/200  train_loss=3.6921\n",
            "          test_acc=83.85%\n",
            "[Single] Epoch 143/200  train_loss=3.6913\n",
            "          test_acc=83.87%\n",
            "[Single] Epoch 144/200  train_loss=3.6902\n",
            "          test_acc=83.81%\n",
            "[Single] Epoch 145/200  train_loss=3.6937\n",
            "          test_acc=83.85%\n",
            "[Single] Epoch 146/200  train_loss=3.6905\n",
            "          test_acc=83.74%\n",
            "[Single] Epoch 147/200  train_loss=3.6952\n",
            "          test_acc=83.78%\n",
            "[Single] Epoch 148/200  train_loss=3.6933\n",
            "          test_acc=83.87%\n",
            "[Single] Epoch 149/200  train_loss=3.6921\n",
            "          test_acc=83.84%\n",
            "[Single] Epoch 150/200  train_loss=3.6901\n",
            "          test_acc=83.91%\n",
            "[Single] Epoch 151/200  train_loss=3.6894\n",
            "          test_acc=83.87%\n",
            "[Single] Epoch 152/200  train_loss=3.6893\n",
            "          test_acc=83.85%\n",
            "[Single] Epoch 153/200  train_loss=3.6934\n",
            "          test_acc=83.76%\n",
            "[Single] Epoch 154/200  train_loss=3.6930\n",
            "          test_acc=83.80%\n",
            "[Single] Epoch 155/200  train_loss=3.6916\n",
            "          test_acc=83.86%\n",
            "[Single] Epoch 156/200  train_loss=3.6904\n",
            "          test_acc=83.85%\n",
            "[Single] Epoch 157/200  train_loss=3.6898\n",
            "          test_acc=83.85%\n",
            "[Single] Epoch 158/200  train_loss=3.6921\n",
            "          test_acc=83.71%\n",
            "[Single] Epoch 159/200  train_loss=3.6888\n",
            "          test_acc=83.81%\n",
            "[Single] Epoch 160/200  train_loss=3.6911\n",
            "          test_acc=83.82%\n",
            "[Single] Epoch 161/200  train_loss=3.6934\n",
            "          test_acc=83.89%\n",
            "[Single] Epoch 162/200  train_loss=3.6915\n",
            "          test_acc=83.82%\n",
            "[Single] Epoch 163/200  train_loss=3.6915\n",
            "          test_acc=83.81%\n",
            "[Single] Epoch 164/200  train_loss=3.6896\n",
            "          test_acc=83.69%\n",
            "[Single] Epoch 165/200  train_loss=3.6933\n",
            "          test_acc=83.89%\n",
            "[Single] Epoch 166/200  train_loss=3.6929\n",
            "          test_acc=83.84%\n",
            "[Single] Epoch 167/200  train_loss=3.6933\n",
            "          test_acc=83.80%\n",
            "[Single] Epoch 168/200  train_loss=3.6923\n",
            "          test_acc=83.78%\n",
            "[Single] Epoch 169/200  train_loss=3.6943\n",
            "          test_acc=83.86%\n",
            "[Single] Epoch 170/200  train_loss=3.6929\n",
            "          test_acc=83.86%\n",
            "[Single] Epoch 171/200  train_loss=3.6943\n",
            "          test_acc=83.80%\n",
            "[Single] Epoch 172/200  train_loss=3.6945\n",
            "          test_acc=83.78%\n",
            "[Single] Epoch 173/200  train_loss=3.6909\n",
            "          test_acc=83.86%\n",
            "[Single] Epoch 174/200  train_loss=3.6926\n",
            "          test_acc=83.78%\n",
            "[Single] Epoch 175/200  train_loss=3.6919\n",
            "          test_acc=83.83%\n",
            "[Single] Epoch 176/200  train_loss=3.6934\n",
            "          test_acc=83.82%\n",
            "[Single] Epoch 177/200  train_loss=3.6907\n",
            "          test_acc=83.91%\n",
            "[Single] Epoch 178/200  train_loss=3.6903\n",
            "          test_acc=83.77%\n",
            "[Single] Epoch 179/200  train_loss=3.6941\n",
            "          test_acc=83.86%\n",
            "[Single] Epoch 180/200  train_loss=3.6940\n",
            "          test_acc=83.77%\n",
            "[Single] Epoch 181/200  train_loss=3.6925\n",
            "          test_acc=83.86%\n",
            "[Single] Epoch 182/200  train_loss=3.6927\n",
            "          test_acc=83.75%\n",
            "[Single] Epoch 183/200  train_loss=3.6885\n",
            "          test_acc=83.92%\n",
            "[Single] Epoch 184/200  train_loss=3.6912\n",
            "          test_acc=83.80%\n",
            "[Single] Epoch 185/200  train_loss=3.6927\n",
            "          test_acc=83.75%\n",
            "[Single] Epoch 186/200  train_loss=3.6916\n",
            "          test_acc=83.78%\n",
            "[Single] Epoch 187/200  train_loss=3.6954\n",
            "          test_acc=83.86%\n",
            "[Single] Epoch 188/200  train_loss=3.6904\n",
            "          test_acc=83.81%\n",
            "[Single] Epoch 189/200  train_loss=3.6928\n",
            "          test_acc=83.85%\n",
            "[Single] Epoch 190/200  train_loss=3.6912\n",
            "          test_acc=83.78%\n",
            "[Single] Epoch 191/200  train_loss=3.6926\n",
            "          test_acc=83.73%\n",
            "[Single] Epoch 192/200  train_loss=3.6925\n",
            "          test_acc=83.91%\n",
            "[Single] Epoch 193/200  train_loss=3.6889\n",
            "          test_acc=83.89%\n",
            "[Single] Epoch 194/200  train_loss=3.6913\n",
            "          test_acc=83.76%\n",
            "[Single] Epoch 195/200  train_loss=3.6918\n",
            "          test_acc=83.86%\n",
            "[Single] Epoch 196/200  train_loss=3.6925\n",
            "          test_acc=83.79%\n",
            "[Single] Epoch 197/200  train_loss=3.6925\n",
            "          test_acc=83.79%\n",
            "[Single] Epoch 198/200  train_loss=3.6888\n",
            "          test_acc=83.81%\n",
            "[Single] Epoch 199/200  train_loss=3.6907\n",
            "          test_acc=83.90%\n",
            "[Single] Epoch 200/200  train_loss=3.6943\n",
            "          test_acc=83.88%\n",
            "\n",
            "✅ Single‑teacher distillation complete. Best acc = 83.95%\n"
          ]
        }
      ]
    },
    {
      "cell_type": "code",
      "source": [
        "# —— 硬标签基线 —— 只用 CrossEntropy\n",
        "import torch\n",
        "\n",
        "student = student.to(device)\n",
        "best_acc = 0.0\n",
        "num_epochs = 200\n",
        "\n",
        "for epoch in range(1, num_epochs+1):\n",
        "    student.train()\n",
        "    running_loss = 0.0\n",
        "\n",
        "    for inputs, targets in train_loader:\n",
        "        inputs, targets = inputs.to(device), targets.to(device)\n",
        "        optimizer.zero_grad()\n",
        "\n",
        "        # 1️⃣ 仅学生前向\n",
        "        logits_s = student(inputs)                   # [B, C]\n",
        "        loss     = torch.nn.functional.cross_entropy(logits_s, targets)\n",
        "\n",
        "        loss.backward()\n",
        "        optimizer.step()\n",
        "        running_loss += loss.item() * inputs.size(0)\n",
        "\n",
        "    scheduler.step()\n",
        "    train_loss = running_loss / len(train_loader.dataset)\n",
        "    print(f\"[Hard ] Epoch {epoch:03d}/{num_epochs}   train_loss={train_loss:.4f}\")\n",
        "\n",
        "    # 2️⃣ 验证\n",
        "    student.eval()\n",
        "    correct = total = 0\n",
        "    with torch.no_grad():\n",
        "        for inputs, targets in test_loader:\n",
        "            inputs, targets = inputs.to(device), targets.to(device)\n",
        "            preds = student(inputs).argmax(dim=1)\n",
        "            correct += (preds==targets).sum().item()\n",
        "            total   += targets.size(0)\n",
        "    acc = 100.*correct/total\n",
        "    print(f\"          test_acc={acc:.2f}%\")\n",
        "\n",
        "    if acc > best_acc:\n",
        "        best_acc = acc\n",
        "        torch.save({\n",
        "            'epoch':         epoch,\n",
        "            'student_state': student.state_dict(),\n",
        "            'optimizer':     optimizer.state_dict(),\n",
        "            'test_acc':      acc,\n",
        "        }, \"student_hard_label_best.pth\")\n",
        "        print(\"  → New best hard‑label student saved.\")\n"
      ],
      "metadata": {
        "colab": {
          "base_uri": "https://localhost:8080/"
        },
        "id": "5CH-7PzEKat-",
        "outputId": "5368da73-7aff-4dd5-90d5-f37d4f8d7d21"
      },
      "execution_count": 27,
      "outputs": [
        {
          "output_type": "stream",
          "name": "stdout",
          "text": [
            "[Hard ] Epoch 001/200   train_loss=0.3215\n",
            "          test_acc=81.20%\n",
            "  → New best hard‑label student saved.\n",
            "[Hard ] Epoch 002/200   train_loss=0.2625\n",
            "          test_acc=82.40%\n",
            "  → New best hard‑label student saved.\n",
            "[Hard ] Epoch 003/200   train_loss=0.2328\n",
            "          test_acc=82.57%\n",
            "  → New best hard‑label student saved.\n",
            "[Hard ] Epoch 004/200   train_loss=0.2144\n",
            "          test_acc=82.46%\n",
            "[Hard ] Epoch 005/200   train_loss=0.1957\n",
            "          test_acc=82.57%\n",
            "[Hard ] Epoch 006/200   train_loss=0.1895\n",
            "          test_acc=83.24%\n",
            "  → New best hard‑label student saved.\n",
            "[Hard ] Epoch 007/200   train_loss=0.1810\n",
            "          test_acc=83.00%\n",
            "[Hard ] Epoch 008/200   train_loss=0.1696\n",
            "          test_acc=83.18%\n",
            "[Hard ] Epoch 009/200   train_loss=0.1654\n",
            "          test_acc=83.07%\n",
            "[Hard ] Epoch 010/200   train_loss=0.1545\n",
            "          test_acc=83.73%\n",
            "  → New best hard‑label student saved.\n",
            "[Hard ] Epoch 011/200   train_loss=0.1456\n",
            "          test_acc=83.44%\n",
            "[Hard ] Epoch 012/200   train_loss=0.1472\n",
            "          test_acc=83.50%\n",
            "[Hard ] Epoch 013/200   train_loss=0.1365\n",
            "          test_acc=82.50%\n",
            "[Hard ] Epoch 014/200   train_loss=0.1351\n",
            "          test_acc=83.72%\n",
            "[Hard ] Epoch 015/200   train_loss=0.1340\n",
            "          test_acc=83.38%\n",
            "[Hard ] Epoch 016/200   train_loss=0.1243\n",
            "          test_acc=83.96%\n",
            "  → New best hard‑label student saved.\n",
            "[Hard ] Epoch 017/200   train_loss=0.1200\n",
            "          test_acc=83.92%\n",
            "[Hard ] Epoch 018/200   train_loss=0.1195\n",
            "          test_acc=83.95%\n",
            "[Hard ] Epoch 019/200   train_loss=0.1142\n",
            "          test_acc=83.34%\n",
            "[Hard ] Epoch 020/200   train_loss=0.1130\n",
            "          test_acc=83.34%\n",
            "[Hard ] Epoch 021/200   train_loss=0.1066\n",
            "          test_acc=83.69%\n",
            "[Hard ] Epoch 022/200   train_loss=0.1021\n",
            "          test_acc=83.23%\n",
            "[Hard ] Epoch 023/200   train_loss=0.1012\n",
            "          test_acc=83.44%\n",
            "[Hard ] Epoch 024/200   train_loss=0.0998\n",
            "          test_acc=83.82%\n",
            "[Hard ] Epoch 025/200   train_loss=0.0948\n",
            "          test_acc=83.86%\n",
            "[Hard ] Epoch 026/200   train_loss=0.0870\n",
            "          test_acc=84.56%\n",
            "  → New best hard‑label student saved.\n",
            "[Hard ] Epoch 027/200   train_loss=0.0921\n",
            "          test_acc=83.81%\n",
            "[Hard ] Epoch 028/200   train_loss=0.0956\n",
            "          test_acc=83.78%\n",
            "[Hard ] Epoch 029/200   train_loss=0.0888\n",
            "          test_acc=84.14%\n",
            "[Hard ] Epoch 030/200   train_loss=0.0845\n",
            "          test_acc=83.62%\n",
            "[Hard ] Epoch 031/200   train_loss=0.0888\n",
            "          test_acc=84.05%\n",
            "[Hard ] Epoch 032/200   train_loss=0.0823\n",
            "          test_acc=83.72%\n",
            "[Hard ] Epoch 033/200   train_loss=0.0824\n",
            "          test_acc=83.79%\n",
            "[Hard ] Epoch 034/200   train_loss=0.0816\n",
            "          test_acc=83.56%\n",
            "[Hard ] Epoch 035/200   train_loss=0.0771\n",
            "          test_acc=84.12%\n",
            "[Hard ] Epoch 036/200   train_loss=0.0742\n",
            "          test_acc=83.71%\n",
            "[Hard ] Epoch 037/200   train_loss=0.0761\n",
            "          test_acc=84.32%\n",
            "[Hard ] Epoch 038/200   train_loss=0.0756\n",
            "          test_acc=83.76%\n",
            "[Hard ] Epoch 039/200   train_loss=0.0728\n",
            "          test_acc=83.88%\n",
            "[Hard ] Epoch 040/200   train_loss=0.0729\n",
            "          test_acc=84.14%\n",
            "[Hard ] Epoch 041/200   train_loss=0.0721\n",
            "          test_acc=84.05%\n",
            "[Hard ] Epoch 042/200   train_loss=0.0703\n",
            "          test_acc=83.80%\n",
            "[Hard ] Epoch 043/200   train_loss=0.0651\n",
            "          test_acc=84.03%\n",
            "[Hard ] Epoch 044/200   train_loss=0.0672\n",
            "          test_acc=84.03%\n",
            "[Hard ] Epoch 045/200   train_loss=0.0688\n",
            "          test_acc=83.93%\n",
            "[Hard ] Epoch 046/200   train_loss=0.0641\n",
            "          test_acc=83.98%\n",
            "[Hard ] Epoch 047/200   train_loss=0.0635\n",
            "          test_acc=84.53%\n",
            "[Hard ] Epoch 048/200   train_loss=0.0629\n",
            "          test_acc=84.14%\n",
            "[Hard ] Epoch 049/200   train_loss=0.0584\n",
            "          test_acc=84.49%\n",
            "[Hard ] Epoch 050/200   train_loss=0.0604\n",
            "          test_acc=84.39%\n",
            "[Hard ] Epoch 051/200   train_loss=0.0641\n",
            "          test_acc=84.34%\n",
            "[Hard ] Epoch 052/200   train_loss=0.0591\n",
            "          test_acc=84.27%\n",
            "[Hard ] Epoch 053/200   train_loss=0.0578\n",
            "          test_acc=84.11%\n",
            "[Hard ] Epoch 054/200   train_loss=0.0569\n",
            "          test_acc=84.53%\n",
            "[Hard ] Epoch 055/200   train_loss=0.0562\n",
            "          test_acc=84.42%\n",
            "[Hard ] Epoch 056/200   train_loss=0.0585\n",
            "          test_acc=84.68%\n",
            "  → New best hard‑label student saved.\n",
            "[Hard ] Epoch 057/200   train_loss=0.0562\n",
            "          test_acc=84.34%\n",
            "[Hard ] Epoch 058/200   train_loss=0.0549\n",
            "          test_acc=84.59%\n",
            "[Hard ] Epoch 059/200   train_loss=0.0553\n",
            "          test_acc=84.51%\n",
            "[Hard ] Epoch 060/200   train_loss=0.0519\n",
            "          test_acc=83.97%\n",
            "[Hard ] Epoch 061/200   train_loss=0.0525\n",
            "          test_acc=83.82%\n",
            "[Hard ] Epoch 062/200   train_loss=0.0515\n",
            "          test_acc=84.56%\n",
            "[Hard ] Epoch 063/200   train_loss=0.0498\n",
            "          test_acc=84.15%\n",
            "[Hard ] Epoch 064/200   train_loss=0.0506\n",
            "          test_acc=84.50%\n",
            "[Hard ] Epoch 065/200   train_loss=0.0506\n",
            "          test_acc=84.28%\n",
            "[Hard ] Epoch 066/200   train_loss=0.0490\n",
            "          test_acc=84.25%\n",
            "[Hard ] Epoch 067/200   train_loss=0.0508\n",
            "          test_acc=84.52%\n",
            "[Hard ] Epoch 068/200   train_loss=0.0459\n",
            "          test_acc=84.03%\n",
            "[Hard ] Epoch 069/200   train_loss=0.0457\n",
            "          test_acc=84.07%\n",
            "[Hard ] Epoch 070/200   train_loss=0.0502\n",
            "          test_acc=83.83%\n",
            "[Hard ] Epoch 071/200   train_loss=0.0461\n",
            "          test_acc=84.30%\n",
            "[Hard ] Epoch 072/200   train_loss=0.0481\n",
            "          test_acc=84.71%\n",
            "  → New best hard‑label student saved.\n",
            "[Hard ] Epoch 073/200   train_loss=0.0467\n",
            "          test_acc=84.97%\n",
            "  → New best hard‑label student saved.\n",
            "[Hard ] Epoch 074/200   train_loss=0.0478\n",
            "          test_acc=84.51%\n",
            "[Hard ] Epoch 075/200   train_loss=0.0437\n",
            "          test_acc=84.41%\n",
            "[Hard ] Epoch 076/200   train_loss=0.0468\n",
            "          test_acc=84.32%\n",
            "[Hard ] Epoch 077/200   train_loss=0.0453\n",
            "          test_acc=84.24%\n",
            "[Hard ] Epoch 078/200   train_loss=0.0433\n",
            "          test_acc=84.56%\n",
            "[Hard ] Epoch 079/200   train_loss=0.0460\n",
            "          test_acc=84.32%\n",
            "[Hard ] Epoch 080/200   train_loss=0.0431\n",
            "          test_acc=84.58%\n",
            "[Hard ] Epoch 081/200   train_loss=0.0423\n",
            "          test_acc=84.17%\n",
            "[Hard ] Epoch 082/200   train_loss=0.0447\n",
            "          test_acc=84.40%\n",
            "[Hard ] Epoch 083/200   train_loss=0.0424\n",
            "          test_acc=84.63%\n",
            "[Hard ] Epoch 084/200   train_loss=0.0418\n",
            "          test_acc=84.55%\n",
            "[Hard ] Epoch 085/200   train_loss=0.0406\n",
            "          test_acc=84.62%\n",
            "[Hard ] Epoch 086/200   train_loss=0.0418\n",
            "          test_acc=84.78%\n",
            "[Hard ] Epoch 087/200   train_loss=0.0438\n",
            "          test_acc=84.49%\n",
            "[Hard ] Epoch 088/200   train_loss=0.0418\n",
            "          test_acc=84.69%\n",
            "[Hard ] Epoch 089/200   train_loss=0.0404\n",
            "          test_acc=84.38%\n",
            "[Hard ] Epoch 090/200   train_loss=0.0404\n",
            "          test_acc=84.52%\n",
            "[Hard ] Epoch 091/200   train_loss=0.0409\n",
            "          test_acc=84.52%\n",
            "[Hard ] Epoch 092/200   train_loss=0.0433\n",
            "          test_acc=84.56%\n",
            "[Hard ] Epoch 093/200   train_loss=0.0369\n",
            "          test_acc=84.59%\n",
            "[Hard ] Epoch 094/200   train_loss=0.0383\n",
            "          test_acc=84.27%\n",
            "[Hard ] Epoch 095/200   train_loss=0.0403\n",
            "          test_acc=84.04%\n",
            "[Hard ] Epoch 096/200   train_loss=0.0371\n",
            "          test_acc=84.09%\n",
            "[Hard ] Epoch 097/200   train_loss=0.0373\n",
            "          test_acc=84.48%\n",
            "[Hard ] Epoch 098/200   train_loss=0.0378\n",
            "          test_acc=84.39%\n",
            "[Hard ] Epoch 099/200   train_loss=0.0352\n",
            "          test_acc=84.25%\n",
            "[Hard ] Epoch 100/200   train_loss=0.0357\n",
            "          test_acc=84.79%\n",
            "[Hard ] Epoch 101/200   train_loss=0.0366\n",
            "          test_acc=84.33%\n",
            "[Hard ] Epoch 102/200   train_loss=0.0360\n",
            "          test_acc=84.71%\n",
            "[Hard ] Epoch 103/200   train_loss=0.0388\n",
            "          test_acc=84.45%\n",
            "[Hard ] Epoch 104/200   train_loss=0.0366\n",
            "          test_acc=84.21%\n",
            "[Hard ] Epoch 105/200   train_loss=0.0335\n",
            "          test_acc=84.52%\n",
            "[Hard ] Epoch 106/200   train_loss=0.0359\n",
            "          test_acc=84.77%\n",
            "[Hard ] Epoch 107/200   train_loss=0.0311\n",
            "          test_acc=84.69%\n",
            "[Hard ] Epoch 108/200   train_loss=0.0345\n",
            "          test_acc=84.66%\n",
            "[Hard ] Epoch 109/200   train_loss=0.0327\n",
            "          test_acc=85.05%\n",
            "  → New best hard‑label student saved.\n",
            "[Hard ] Epoch 110/200   train_loss=0.0350\n",
            "          test_acc=84.83%\n",
            "[Hard ] Epoch 111/200   train_loss=0.0344\n",
            "          test_acc=85.06%\n",
            "  → New best hard‑label student saved.\n",
            "[Hard ] Epoch 112/200   train_loss=0.0339\n",
            "          test_acc=84.87%\n",
            "[Hard ] Epoch 113/200   train_loss=0.0316\n",
            "          test_acc=84.72%\n",
            "[Hard ] Epoch 114/200   train_loss=0.0337\n",
            "          test_acc=84.85%\n",
            "[Hard ] Epoch 115/200   train_loss=0.0339\n",
            "          test_acc=84.45%\n",
            "[Hard ] Epoch 116/200   train_loss=0.0344\n",
            "          test_acc=84.47%\n",
            "[Hard ] Epoch 117/200   train_loss=0.0342\n",
            "          test_acc=84.35%\n",
            "[Hard ] Epoch 118/200   train_loss=0.0347\n",
            "          test_acc=84.34%\n",
            "[Hard ] Epoch 119/200   train_loss=0.0312\n",
            "          test_acc=84.59%\n",
            "[Hard ] Epoch 120/200   train_loss=0.0333\n",
            "          test_acc=84.91%\n",
            "[Hard ] Epoch 121/200   train_loss=0.0304\n",
            "          test_acc=84.83%\n",
            "[Hard ] Epoch 122/200   train_loss=0.0330\n",
            "          test_acc=84.25%\n",
            "[Hard ] Epoch 123/200   train_loss=0.0321\n",
            "          test_acc=85.25%\n",
            "  → New best hard‑label student saved.\n",
            "[Hard ] Epoch 124/200   train_loss=0.0311\n",
            "          test_acc=85.12%\n",
            "[Hard ] Epoch 125/200   train_loss=0.0324\n",
            "          test_acc=84.95%\n",
            "[Hard ] Epoch 126/200   train_loss=0.0316\n",
            "          test_acc=85.20%\n",
            "[Hard ] Epoch 127/200   train_loss=0.0273\n",
            "          test_acc=84.79%\n",
            "[Hard ] Epoch 128/200   train_loss=0.0318\n",
            "          test_acc=84.74%\n",
            "[Hard ] Epoch 129/200   train_loss=0.0327\n",
            "          test_acc=84.16%\n",
            "[Hard ] Epoch 130/200   train_loss=0.0326\n",
            "          test_acc=85.06%\n",
            "[Hard ] Epoch 131/200   train_loss=0.0334\n",
            "          test_acc=84.73%\n",
            "[Hard ] Epoch 132/200   train_loss=0.0323\n",
            "          test_acc=84.85%\n",
            "[Hard ] Epoch 133/200   train_loss=0.0275\n",
            "          test_acc=84.72%\n",
            "[Hard ] Epoch 134/200   train_loss=0.0293\n",
            "          test_acc=84.88%\n",
            "[Hard ] Epoch 135/200   train_loss=0.0303\n",
            "          test_acc=84.32%\n",
            "[Hard ] Epoch 136/200   train_loss=0.0276\n",
            "          test_acc=85.07%\n",
            "[Hard ] Epoch 137/200   train_loss=0.0249\n",
            "          test_acc=84.79%\n",
            "[Hard ] Epoch 138/200   train_loss=0.0292\n",
            "          test_acc=85.29%\n",
            "  → New best hard‑label student saved.\n",
            "[Hard ] Epoch 139/200   train_loss=0.0293\n",
            "          test_acc=85.51%\n",
            "  → New best hard‑label student saved.\n",
            "[Hard ] Epoch 140/200   train_loss=0.0309\n",
            "          test_acc=84.98%\n",
            "[Hard ] Epoch 141/200   train_loss=0.0288\n",
            "          test_acc=84.75%\n",
            "[Hard ] Epoch 142/200   train_loss=0.0310\n",
            "          test_acc=85.04%\n",
            "[Hard ] Epoch 143/200   train_loss=0.0263\n",
            "          test_acc=84.55%\n",
            "[Hard ] Epoch 144/200   train_loss=0.0301\n",
            "          test_acc=84.72%\n",
            "[Hard ] Epoch 145/200   train_loss=0.0323\n",
            "          test_acc=84.56%\n",
            "[Hard ] Epoch 146/200   train_loss=0.0316\n",
            "          test_acc=84.68%\n",
            "[Hard ] Epoch 147/200   train_loss=0.0282\n",
            "          test_acc=84.98%\n",
            "[Hard ] Epoch 148/200   train_loss=0.0270\n",
            "          test_acc=84.79%\n",
            "[Hard ] Epoch 149/200   train_loss=0.0273\n",
            "          test_acc=84.96%\n",
            "[Hard ] Epoch 150/200   train_loss=0.0228\n",
            "          test_acc=84.97%\n",
            "[Hard ] Epoch 151/200   train_loss=0.0297\n",
            "          test_acc=84.86%\n",
            "[Hard ] Epoch 152/200   train_loss=0.0281\n",
            "          test_acc=84.25%\n",
            "[Hard ] Epoch 153/200   train_loss=0.0295\n",
            "          test_acc=84.24%\n",
            "[Hard ] Epoch 154/200   train_loss=0.0306\n",
            "          test_acc=84.35%\n",
            "[Hard ] Epoch 155/200   train_loss=0.0314\n",
            "          test_acc=84.26%\n",
            "[Hard ] Epoch 156/200   train_loss=0.0299\n",
            "          test_acc=84.74%\n",
            "[Hard ] Epoch 157/200   train_loss=0.0286\n",
            "          test_acc=84.04%\n",
            "[Hard ] Epoch 158/200   train_loss=0.0242\n",
            "          test_acc=84.73%\n",
            "[Hard ] Epoch 159/200   train_loss=0.0263\n",
            "          test_acc=84.81%\n",
            "[Hard ] Epoch 160/200   train_loss=0.0253\n",
            "          test_acc=84.74%\n",
            "[Hard ] Epoch 161/200   train_loss=0.0263\n",
            "          test_acc=84.48%\n",
            "[Hard ] Epoch 162/200   train_loss=0.0273\n",
            "          test_acc=85.01%\n",
            "[Hard ] Epoch 163/200   train_loss=0.0284\n",
            "          test_acc=84.79%\n",
            "[Hard ] Epoch 164/200   train_loss=0.0280\n",
            "          test_acc=84.70%\n",
            "[Hard ] Epoch 165/200   train_loss=0.0271\n",
            "          test_acc=84.87%\n",
            "[Hard ] Epoch 166/200   train_loss=0.0265\n",
            "          test_acc=84.33%\n",
            "[Hard ] Epoch 167/200   train_loss=0.0266\n",
            "          test_acc=84.22%\n",
            "[Hard ] Epoch 168/200   train_loss=0.0279\n",
            "          test_acc=85.08%\n",
            "[Hard ] Epoch 169/200   train_loss=0.0283\n",
            "          test_acc=84.48%\n",
            "[Hard ] Epoch 170/200   train_loss=0.0309\n",
            "          test_acc=84.20%\n",
            "[Hard ] Epoch 171/200   train_loss=0.0268\n",
            "          test_acc=84.60%\n",
            "[Hard ] Epoch 172/200   train_loss=0.0295\n",
            "          test_acc=84.96%\n",
            "[Hard ] Epoch 173/200   train_loss=0.0266\n",
            "          test_acc=84.49%\n",
            "[Hard ] Epoch 174/200   train_loss=0.0263\n",
            "          test_acc=84.86%\n",
            "[Hard ] Epoch 175/200   train_loss=0.0260\n",
            "          test_acc=84.90%\n",
            "[Hard ] Epoch 176/200   train_loss=0.0247\n",
            "          test_acc=85.13%\n",
            "[Hard ] Epoch 177/200   train_loss=0.0256\n",
            "          test_acc=85.01%\n",
            "[Hard ] Epoch 178/200   train_loss=0.0256\n",
            "          test_acc=84.79%\n",
            "[Hard ] Epoch 179/200   train_loss=0.0243\n",
            "          test_acc=84.75%\n",
            "[Hard ] Epoch 180/200   train_loss=0.0253\n",
            "          test_acc=85.12%\n",
            "[Hard ] Epoch 181/200   train_loss=0.0266\n",
            "          test_acc=84.72%\n",
            "[Hard ] Epoch 182/200   train_loss=0.0247\n",
            "          test_acc=85.13%\n",
            "[Hard ] Epoch 183/200   train_loss=0.0256\n",
            "          test_acc=85.09%\n",
            "[Hard ] Epoch 184/200   train_loss=0.0253\n",
            "          test_acc=84.84%\n",
            "[Hard ] Epoch 185/200   train_loss=0.0258\n",
            "          test_acc=84.97%\n",
            "[Hard ] Epoch 186/200   train_loss=0.0243\n",
            "          test_acc=84.63%\n",
            "[Hard ] Epoch 187/200   train_loss=0.0254\n",
            "          test_acc=84.78%\n",
            "[Hard ] Epoch 188/200   train_loss=0.0252\n",
            "          test_acc=84.59%\n",
            "[Hard ] Epoch 189/200   train_loss=0.0237\n",
            "          test_acc=84.93%\n",
            "[Hard ] Epoch 190/200   train_loss=0.0258\n",
            "          test_acc=84.66%\n",
            "[Hard ] Epoch 191/200   train_loss=0.0253\n",
            "          test_acc=84.23%\n",
            "[Hard ] Epoch 192/200   train_loss=0.0223\n",
            "          test_acc=84.92%\n",
            "[Hard ] Epoch 193/200   train_loss=0.0244\n",
            "          test_acc=84.64%\n",
            "[Hard ] Epoch 194/200   train_loss=0.0246\n",
            "          test_acc=84.85%\n",
            "[Hard ] Epoch 195/200   train_loss=0.0238\n",
            "          test_acc=84.54%\n",
            "[Hard ] Epoch 196/200   train_loss=0.0218\n",
            "          test_acc=84.40%\n",
            "[Hard ] Epoch 197/200   train_loss=0.0232\n",
            "          test_acc=84.54%\n",
            "[Hard ] Epoch 198/200   train_loss=0.0241\n",
            "          test_acc=84.66%\n",
            "[Hard ] Epoch 199/200   train_loss=0.0256\n",
            "          test_acc=84.67%\n",
            "[Hard ] Epoch 200/200   train_loss=0.0243\n",
            "          test_acc=84.68%\n"
          ]
        }
      ]
    },
    {
      "cell_type": "markdown",
      "source": [
        "summary:\n",
        "Multi‑teacher distillation complete. Best acc: 84.44%\n",
        "—— 单教师蒸馏 —— 取 teacher_models[0] 作为唯一教师 complete. Best acc: 82.86%\n",
        "Hard label ‑teacher distillation complete. Best acc:85.51%\n"
      ],
      "metadata": {
        "id": "HRGUwfqXF7EG"
      }
    },
    {
      "cell_type": "markdown",
      "source": [
        "# Part6"
      ],
      "metadata": {
        "id": "SGQg0vR58yN3"
      }
    },
    {
      "cell_type": "markdown",
      "source": [
        "Explanation:\n",
        "\n",
        "We loop over each desired teacher‑count\n",
        "𝐾\n",
        "K.\n",
        "\n",
        "For each\n",
        "(\n",
        "𝜏\n",
        ",\n",
        "𝛼\n",
        ")\n",
        "(τ,α) pair, we:\n",
        "\n",
        "Instantiate a fresh ResNet34 student.\n",
        "\n",
        "Fuse the first\n",
        "𝐾\n",
        "K teachers’\n",
        "𝜏\n",
        "τ‑softmax outputs each batch.\n",
        "\n",
        "Train 200 epochs with KL+CE loss.\n",
        "\n",
        "Evaluate on the test set and print/store the final accuracy.\n",
        "\n",
        "All results accumulate in the results list for later comparison or tabulation."
      ],
      "metadata": {
        "id": "UonzbYlHClFm"
      }
    },
    {
      "cell_type": "code",
      "source": [
        "# 只跑之前（Part4）跑过最好的{'τ': 5,  'α': 0.9}✖️「2,4,6」共三个组合\n",
        "import os, glob\n",
        "import torch\n",
        "import torch.nn.functional as F\n",
        "from torchvision import datasets, transforms\n",
        "from torchvision.models import resnet34, resnet18, resnet50\n",
        "from torch.utils.data import DataLoader\n",
        "import pandas as pd\n",
        "\n",
        "# ───── 0️⃣ Setup device & data loaders ─────\n",
        "device = torch.device('cuda' if torch.cuda.is_available() else 'cpu')\n",
        "mean = (0.4914, 0.4822, 0.4465)\n",
        "std  = (0.2470, 0.2435, 0.2616)\n",
        "train_transform = transforms.Compose([\n",
        "    transforms.RandomCrop(32, padding=4),\n",
        "    transforms.RandomHorizontalFlip(),\n",
        "    transforms.ToTensor(),\n",
        "    transforms.Normalize(mean, std),\n",
        "])\n",
        "test_transform = transforms.Compose([\n",
        "    transforms.ToTensor(),\n",
        "    transforms.Normalize(mean, std),\n",
        "])\n",
        "train_loader = DataLoader(\n",
        "    datasets.CIFAR10(root='data/', train=True,  download=True, transform=train_transform),\n",
        "    batch_size=128, shuffle=True,  num_workers=4, pin_memory=True\n",
        ")\n",
        "test_loader = DataLoader(\n",
        "    datasets.CIFAR10(root='data/', train=False, download=True, transform=test_transform),\n",
        "    batch_size=128, shuffle=False, num_workers=4, pin_memory=True\n",
        ")\n",
        "\n",
        "# ───── 1️⃣ Load your pretrained teachers ─────\n",
        "ckpt_paths = sorted(glob.glob(\"teacher_*_*_best.pth\"))\n",
        "if not ckpt_paths:\n",
        "    raise FileNotFoundError(\"No teacher checkpoints found\")\n",
        "all_teacher_models = []\n",
        "for path in ckpt_paths:\n",
        "    arch = os.path.basename(path).split(\"_\")[2]\n",
        "    ctor = {\"resnet18\":resnet18,\"resnet34\":resnet34,\"resnet50\":resnet50}[arch]\n",
        "    m = ctor(num_classes=10).to(device)\n",
        "    ck = torch.load(path, map_location=device)\n",
        "    m.load_state_dict(ck['model_state'])\n",
        "    m.eval()\n",
        "    for p in m.parameters(): p.requires_grad=False\n",
        "    all_teacher_models.append(m)\n",
        "print(f\"🔍 Loaded {len(all_teacher_models)} teachers\")\n",
        "\n",
        "# ───── 2️⃣ 拿到你之前跑好的 (τ,α) 组合 ─────\n",
        "rev_results = [\n",
        "     {'τ': 5,  'α': 0.9},\n",
        "\n",
        "]\n",
        "df_rev = pd.DataFrame(rev_results)\n",
        "combos = df_rev[['τ','α']].to_dict('records')  # list of dicts [{'τ':1,'α':0.1}, ...]\n",
        "\n",
        "# ───── 3️⃣ 只对 K=2,4,6 做叠加 ─────\n",
        "Ks = [2,4,6]\n",
        "num_epochs = 200\n",
        "final_results = []\n",
        "\n",
        "for K in Ks:\n",
        "    teachers = all_teacher_models[:K]\n",
        "    for combo in combos:\n",
        "        tau, alpha = combo['τ'], combo['α']\n",
        "\n",
        "        # fresh student & optimizer/scheduler\n",
        "        student   = resnet34(num_classes=10).to(device)\n",
        "        optimizer = torch.optim.SGD(student.parameters(), lr=0.1, momentum=0.9, weight_decay=5e-4)\n",
        "        scheduler = torch.optim.lr_scheduler.MultiStepLR(optimizer, milestones=[100,150], gamma=0.1)\n",
        "\n",
        "        # training\n",
        "        for epoch in range(1, num_epochs+1):\n",
        "            student.train()\n",
        "            run_loss = 0.0\n",
        "            for xb, yb in train_loader:\n",
        "                xb, yb = xb.to(device), yb.to(device)\n",
        "                optimizer.zero_grad()\n",
        "                # fuse K teachers\n",
        "                with torch.no_grad():\n",
        "                    C = teachers[0](xb).size(1)\n",
        "                    sum_soft = torch.zeros(xb.size(0), C, device=device)\n",
        "                    for tm in teachers:\n",
        "                        sum_soft += F.softmax(tm(xb)/tau, dim=1)\n",
        "                    p_avg = sum_soft / K\n",
        "                # distill+CE\n",
        "                s_logits = student(xb)\n",
        "                s_soft   = F.log_softmax(s_logits/tau, dim=1)\n",
        "                l_kl     = F.kl_div(s_soft, p_avg, reduction='batchmean') * (tau*tau)\n",
        "                l_ce     = F.cross_entropy(s_logits, yb)\n",
        "                loss     = alpha*l_kl + (1-alpha)*l_ce\n",
        "                loss.backward()\n",
        "                optimizer.step()\n",
        "                run_loss += loss.item()*xb.size(0)\n",
        "            scheduler.step()\n",
        "            # 每 50 epochs 打印一次\n",
        "            if epoch in (1,50,100,150,num_epochs):\n",
        "                print(f\"[K={K} τ={tau} α={alpha}] Epoch {epoch}/{num_epochs} loss={run_loss/len(train_loader.dataset):.4f}\")\n",
        "\n",
        "        # evaluation\n",
        "        student.eval()\n",
        "        correct=total=0\n",
        "        with torch.no_grad():\n",
        "            for xb,yb in test_loader:\n",
        "                xb,yb = xb.to(device), yb.to(device)\n",
        "                preds = student(xb).argmax(1)\n",
        "                correct += (preds==yb).sum().item()\n",
        "                total   += yb.size(0)\n",
        "        acc = 100.*correct/total\n",
        "\n",
        "        final_results.append({'K':K,'τ':tau,'α':alpha,'test_acc':acc})\n",
        "        print(f\"→ [K={K} τ={tau} α={alpha}] test_acc={acc:.2f}%\\n\")\n",
        "\n",
        "# ───── 4️⃣ 保存结果 ─────\n",
        "df_out = pd.DataFrame(final_results)\n",
        "df_out.to_csv(\"multi_teacher_246_sweep.csv\", index=False)\n",
        "print(\"✅ Done! \")\n",
        "\n"
      ],
      "metadata": {
        "colab": {
          "base_uri": "https://localhost:8080/",
          "height": 512
        },
        "id": "qHVrqsxogIV8",
        "outputId": "cb85e19b-a8f3-492d-e335-a3595df43050"
      },
      "execution_count": 17,
      "outputs": [
        {
          "metadata": {
            "tags": null
          },
          "name": "stdout",
          "output_type": "stream",
          "text": [
            "🔍 Loaded 5 teachers\n",
            "[K=2 τ=5 α=0.9] Epoch 1/200 loss=7.0123\n",
            "[K=2 τ=5 α=0.9] Epoch 50/200 loss=0.7304\n",
            "[K=2 τ=5 α=0.9] Epoch 100/200 loss=0.6725\n",
            "[K=2 τ=5 α=0.9] Epoch 150/200 loss=0.3162\n",
            "[K=2 τ=5 α=0.9] Epoch 200/200 loss=0.2322\n",
            "→ [K=2 τ=5 α=0.9] test_acc=81.18%\n",
            "\n",
            "[K=4 τ=5 α=0.9] Epoch 1/200 loss=6.6786\n"
          ]
        },
        {
          "output_type": "error",
          "ename": "KeyboardInterrupt",
          "evalue": "",
          "traceback": [
            "\u001b[0;31m---------------------------------------------------------------------------\u001b[0m",
            "\u001b[0;31mKeyboardInterrupt\u001b[0m                         Traceback (most recent call last)",
            "\u001b[0;32m<ipython-input-17-e686f52db6b3>\u001b[0m in \u001b[0;36m<cell line: 0>\u001b[0;34m()\u001b[0m\n\u001b[1;32m     81\u001b[0m                     \u001b[0msum_soft\u001b[0m \u001b[0;34m=\u001b[0m \u001b[0mtorch\u001b[0m\u001b[0;34m.\u001b[0m\u001b[0mzeros\u001b[0m\u001b[0;34m(\u001b[0m\u001b[0mxb\u001b[0m\u001b[0;34m.\u001b[0m\u001b[0msize\u001b[0m\u001b[0;34m(\u001b[0m\u001b[0;36m0\u001b[0m\u001b[0;34m)\u001b[0m\u001b[0;34m,\u001b[0m \u001b[0mC\u001b[0m\u001b[0;34m,\u001b[0m \u001b[0mdevice\u001b[0m\u001b[0;34m=\u001b[0m\u001b[0mdevice\u001b[0m\u001b[0;34m)\u001b[0m\u001b[0;34m\u001b[0m\u001b[0;34m\u001b[0m\u001b[0m\n\u001b[1;32m     82\u001b[0m                     \u001b[0;32mfor\u001b[0m \u001b[0mtm\u001b[0m \u001b[0;32min\u001b[0m \u001b[0mteachers\u001b[0m\u001b[0;34m:\u001b[0m\u001b[0;34m\u001b[0m\u001b[0;34m\u001b[0m\u001b[0m\n\u001b[0;32m---> 83\u001b[0;31m                         \u001b[0msum_soft\u001b[0m \u001b[0;34m+=\u001b[0m \u001b[0mF\u001b[0m\u001b[0;34m.\u001b[0m\u001b[0msoftmax\u001b[0m\u001b[0;34m(\u001b[0m\u001b[0mtm\u001b[0m\u001b[0;34m(\u001b[0m\u001b[0mxb\u001b[0m\u001b[0;34m)\u001b[0m\u001b[0;34m/\u001b[0m\u001b[0mtau\u001b[0m\u001b[0;34m,\u001b[0m \u001b[0mdim\u001b[0m\u001b[0;34m=\u001b[0m\u001b[0;36m1\u001b[0m\u001b[0;34m)\u001b[0m\u001b[0;34m\u001b[0m\u001b[0;34m\u001b[0m\u001b[0m\n\u001b[0m\u001b[1;32m     84\u001b[0m                     \u001b[0mp_avg\u001b[0m \u001b[0;34m=\u001b[0m \u001b[0msum_soft\u001b[0m \u001b[0;34m/\u001b[0m \u001b[0mK\u001b[0m\u001b[0;34m\u001b[0m\u001b[0;34m\u001b[0m\u001b[0m\n\u001b[1;32m     85\u001b[0m                 \u001b[0;31m# distill+CE\u001b[0m\u001b[0;34m\u001b[0m\u001b[0;34m\u001b[0m\u001b[0m\n",
            "\u001b[0;32m/usr/local/lib/python3.11/dist-packages/torch/nn/modules/module.py\u001b[0m in \u001b[0;36m_wrapped_call_impl\u001b[0;34m(self, *args, **kwargs)\u001b[0m\n\u001b[1;32m   1737\u001b[0m             \u001b[0;32mreturn\u001b[0m \u001b[0mself\u001b[0m\u001b[0;34m.\u001b[0m\u001b[0m_compiled_call_impl\u001b[0m\u001b[0;34m(\u001b[0m\u001b[0;34m*\u001b[0m\u001b[0margs\u001b[0m\u001b[0;34m,\u001b[0m \u001b[0;34m**\u001b[0m\u001b[0mkwargs\u001b[0m\u001b[0;34m)\u001b[0m  \u001b[0;31m# type: ignore[misc]\u001b[0m\u001b[0;34m\u001b[0m\u001b[0;34m\u001b[0m\u001b[0m\n\u001b[1;32m   1738\u001b[0m         \u001b[0;32melse\u001b[0m\u001b[0;34m:\u001b[0m\u001b[0;34m\u001b[0m\u001b[0;34m\u001b[0m\u001b[0m\n\u001b[0;32m-> 1739\u001b[0;31m             \u001b[0;32mreturn\u001b[0m \u001b[0mself\u001b[0m\u001b[0;34m.\u001b[0m\u001b[0m_call_impl\u001b[0m\u001b[0;34m(\u001b[0m\u001b[0;34m*\u001b[0m\u001b[0margs\u001b[0m\u001b[0;34m,\u001b[0m \u001b[0;34m**\u001b[0m\u001b[0mkwargs\u001b[0m\u001b[0;34m)\u001b[0m\u001b[0;34m\u001b[0m\u001b[0;34m\u001b[0m\u001b[0m\n\u001b[0m\u001b[1;32m   1740\u001b[0m \u001b[0;34m\u001b[0m\u001b[0m\n\u001b[1;32m   1741\u001b[0m     \u001b[0;31m# torchrec tests the code consistency with the following code\u001b[0m\u001b[0;34m\u001b[0m\u001b[0;34m\u001b[0m\u001b[0m\n",
            "\u001b[0;32m/usr/local/lib/python3.11/dist-packages/torch/nn/modules/module.py\u001b[0m in \u001b[0;36m_call_impl\u001b[0;34m(self, *args, **kwargs)\u001b[0m\n\u001b[1;32m   1748\u001b[0m                 \u001b[0;32mor\u001b[0m \u001b[0m_global_backward_pre_hooks\u001b[0m \u001b[0;32mor\u001b[0m \u001b[0m_global_backward_hooks\u001b[0m\u001b[0;34m\u001b[0m\u001b[0;34m\u001b[0m\u001b[0m\n\u001b[1;32m   1749\u001b[0m                 or _global_forward_hooks or _global_forward_pre_hooks):\n\u001b[0;32m-> 1750\u001b[0;31m             \u001b[0;32mreturn\u001b[0m \u001b[0mforward_call\u001b[0m\u001b[0;34m(\u001b[0m\u001b[0;34m*\u001b[0m\u001b[0margs\u001b[0m\u001b[0;34m,\u001b[0m \u001b[0;34m**\u001b[0m\u001b[0mkwargs\u001b[0m\u001b[0;34m)\u001b[0m\u001b[0;34m\u001b[0m\u001b[0;34m\u001b[0m\u001b[0m\n\u001b[0m\u001b[1;32m   1751\u001b[0m \u001b[0;34m\u001b[0m\u001b[0m\n\u001b[1;32m   1752\u001b[0m         \u001b[0mresult\u001b[0m \u001b[0;34m=\u001b[0m \u001b[0;32mNone\u001b[0m\u001b[0;34m\u001b[0m\u001b[0;34m\u001b[0m\u001b[0m\n",
            "\u001b[0;32m/usr/local/lib/python3.11/dist-packages/torchvision/models/resnet.py\u001b[0m in \u001b[0;36mforward\u001b[0;34m(self, x)\u001b[0m\n\u001b[1;32m    283\u001b[0m \u001b[0;34m\u001b[0m\u001b[0m\n\u001b[1;32m    284\u001b[0m     \u001b[0;32mdef\u001b[0m \u001b[0mforward\u001b[0m\u001b[0;34m(\u001b[0m\u001b[0mself\u001b[0m\u001b[0;34m,\u001b[0m \u001b[0mx\u001b[0m\u001b[0;34m:\u001b[0m \u001b[0mTensor\u001b[0m\u001b[0;34m)\u001b[0m \u001b[0;34m->\u001b[0m \u001b[0mTensor\u001b[0m\u001b[0;34m:\u001b[0m\u001b[0;34m\u001b[0m\u001b[0;34m\u001b[0m\u001b[0m\n\u001b[0;32m--> 285\u001b[0;31m         \u001b[0;32mreturn\u001b[0m \u001b[0mself\u001b[0m\u001b[0;34m.\u001b[0m\u001b[0m_forward_impl\u001b[0m\u001b[0;34m(\u001b[0m\u001b[0mx\u001b[0m\u001b[0;34m)\u001b[0m\u001b[0;34m\u001b[0m\u001b[0;34m\u001b[0m\u001b[0m\n\u001b[0m\u001b[1;32m    286\u001b[0m \u001b[0;34m\u001b[0m\u001b[0m\n\u001b[1;32m    287\u001b[0m \u001b[0;34m\u001b[0m\u001b[0m\n",
            "\u001b[0;32m/usr/local/lib/python3.11/dist-packages/torchvision/models/resnet.py\u001b[0m in \u001b[0;36m_forward_impl\u001b[0;34m(self, x)\u001b[0m\n\u001b[1;32m    273\u001b[0m         \u001b[0mx\u001b[0m \u001b[0;34m=\u001b[0m \u001b[0mself\u001b[0m\u001b[0;34m.\u001b[0m\u001b[0mlayer1\u001b[0m\u001b[0;34m(\u001b[0m\u001b[0mx\u001b[0m\u001b[0;34m)\u001b[0m\u001b[0;34m\u001b[0m\u001b[0;34m\u001b[0m\u001b[0m\n\u001b[1;32m    274\u001b[0m         \u001b[0mx\u001b[0m \u001b[0;34m=\u001b[0m \u001b[0mself\u001b[0m\u001b[0;34m.\u001b[0m\u001b[0mlayer2\u001b[0m\u001b[0;34m(\u001b[0m\u001b[0mx\u001b[0m\u001b[0;34m)\u001b[0m\u001b[0;34m\u001b[0m\u001b[0;34m\u001b[0m\u001b[0m\n\u001b[0;32m--> 275\u001b[0;31m         \u001b[0mx\u001b[0m \u001b[0;34m=\u001b[0m \u001b[0mself\u001b[0m\u001b[0;34m.\u001b[0m\u001b[0mlayer3\u001b[0m\u001b[0;34m(\u001b[0m\u001b[0mx\u001b[0m\u001b[0;34m)\u001b[0m\u001b[0;34m\u001b[0m\u001b[0;34m\u001b[0m\u001b[0m\n\u001b[0m\u001b[1;32m    276\u001b[0m         \u001b[0mx\u001b[0m \u001b[0;34m=\u001b[0m \u001b[0mself\u001b[0m\u001b[0;34m.\u001b[0m\u001b[0mlayer4\u001b[0m\u001b[0;34m(\u001b[0m\u001b[0mx\u001b[0m\u001b[0;34m)\u001b[0m\u001b[0;34m\u001b[0m\u001b[0;34m\u001b[0m\u001b[0m\n\u001b[1;32m    277\u001b[0m \u001b[0;34m\u001b[0m\u001b[0m\n",
            "\u001b[0;32m/usr/local/lib/python3.11/dist-packages/torch/nn/modules/module.py\u001b[0m in \u001b[0;36m_wrapped_call_impl\u001b[0;34m(self, *args, **kwargs)\u001b[0m\n\u001b[1;32m   1737\u001b[0m             \u001b[0;32mreturn\u001b[0m \u001b[0mself\u001b[0m\u001b[0;34m.\u001b[0m\u001b[0m_compiled_call_impl\u001b[0m\u001b[0;34m(\u001b[0m\u001b[0;34m*\u001b[0m\u001b[0margs\u001b[0m\u001b[0;34m,\u001b[0m \u001b[0;34m**\u001b[0m\u001b[0mkwargs\u001b[0m\u001b[0;34m)\u001b[0m  \u001b[0;31m# type: ignore[misc]\u001b[0m\u001b[0;34m\u001b[0m\u001b[0;34m\u001b[0m\u001b[0m\n\u001b[1;32m   1738\u001b[0m         \u001b[0;32melse\u001b[0m\u001b[0;34m:\u001b[0m\u001b[0;34m\u001b[0m\u001b[0;34m\u001b[0m\u001b[0m\n\u001b[0;32m-> 1739\u001b[0;31m             \u001b[0;32mreturn\u001b[0m \u001b[0mself\u001b[0m\u001b[0;34m.\u001b[0m\u001b[0m_call_impl\u001b[0m\u001b[0;34m(\u001b[0m\u001b[0;34m*\u001b[0m\u001b[0margs\u001b[0m\u001b[0;34m,\u001b[0m \u001b[0;34m**\u001b[0m\u001b[0mkwargs\u001b[0m\u001b[0;34m)\u001b[0m\u001b[0;34m\u001b[0m\u001b[0;34m\u001b[0m\u001b[0m\n\u001b[0m\u001b[1;32m   1740\u001b[0m \u001b[0;34m\u001b[0m\u001b[0m\n\u001b[1;32m   1741\u001b[0m     \u001b[0;31m# torchrec tests the code consistency with the following code\u001b[0m\u001b[0;34m\u001b[0m\u001b[0;34m\u001b[0m\u001b[0m\n",
            "\u001b[0;32m/usr/local/lib/python3.11/dist-packages/torch/nn/modules/module.py\u001b[0m in \u001b[0;36m_call_impl\u001b[0;34m(self, *args, **kwargs)\u001b[0m\n\u001b[1;32m   1748\u001b[0m                 \u001b[0;32mor\u001b[0m \u001b[0m_global_backward_pre_hooks\u001b[0m \u001b[0;32mor\u001b[0m \u001b[0m_global_backward_hooks\u001b[0m\u001b[0;34m\u001b[0m\u001b[0;34m\u001b[0m\u001b[0m\n\u001b[1;32m   1749\u001b[0m                 or _global_forward_hooks or _global_forward_pre_hooks):\n\u001b[0;32m-> 1750\u001b[0;31m             \u001b[0;32mreturn\u001b[0m \u001b[0mforward_call\u001b[0m\u001b[0;34m(\u001b[0m\u001b[0;34m*\u001b[0m\u001b[0margs\u001b[0m\u001b[0;34m,\u001b[0m \u001b[0;34m**\u001b[0m\u001b[0mkwargs\u001b[0m\u001b[0;34m)\u001b[0m\u001b[0;34m\u001b[0m\u001b[0;34m\u001b[0m\u001b[0m\n\u001b[0m\u001b[1;32m   1751\u001b[0m \u001b[0;34m\u001b[0m\u001b[0m\n\u001b[1;32m   1752\u001b[0m         \u001b[0mresult\u001b[0m \u001b[0;34m=\u001b[0m \u001b[0;32mNone\u001b[0m\u001b[0;34m\u001b[0m\u001b[0;34m\u001b[0m\u001b[0m\n",
            "\u001b[0;32m/usr/local/lib/python3.11/dist-packages/torch/nn/modules/container.py\u001b[0m in \u001b[0;36mforward\u001b[0;34m(self, input)\u001b[0m\n\u001b[1;32m    248\u001b[0m     \u001b[0;32mdef\u001b[0m \u001b[0mforward\u001b[0m\u001b[0;34m(\u001b[0m\u001b[0mself\u001b[0m\u001b[0;34m,\u001b[0m \u001b[0minput\u001b[0m\u001b[0;34m)\u001b[0m\u001b[0;34m:\u001b[0m\u001b[0;34m\u001b[0m\u001b[0;34m\u001b[0m\u001b[0m\n\u001b[1;32m    249\u001b[0m         \u001b[0;32mfor\u001b[0m \u001b[0mmodule\u001b[0m \u001b[0;32min\u001b[0m \u001b[0mself\u001b[0m\u001b[0;34m:\u001b[0m\u001b[0;34m\u001b[0m\u001b[0;34m\u001b[0m\u001b[0m\n\u001b[0;32m--> 250\u001b[0;31m             \u001b[0minput\u001b[0m \u001b[0;34m=\u001b[0m \u001b[0mmodule\u001b[0m\u001b[0;34m(\u001b[0m\u001b[0minput\u001b[0m\u001b[0;34m)\u001b[0m\u001b[0;34m\u001b[0m\u001b[0;34m\u001b[0m\u001b[0m\n\u001b[0m\u001b[1;32m    251\u001b[0m         \u001b[0;32mreturn\u001b[0m \u001b[0minput\u001b[0m\u001b[0;34m\u001b[0m\u001b[0;34m\u001b[0m\u001b[0m\n\u001b[1;32m    252\u001b[0m \u001b[0;34m\u001b[0m\u001b[0m\n",
            "\u001b[0;32m/usr/local/lib/python3.11/dist-packages/torch/nn/modules/module.py\u001b[0m in \u001b[0;36m_wrapped_call_impl\u001b[0;34m(self, *args, **kwargs)\u001b[0m\n\u001b[1;32m   1737\u001b[0m             \u001b[0;32mreturn\u001b[0m \u001b[0mself\u001b[0m\u001b[0;34m.\u001b[0m\u001b[0m_compiled_call_impl\u001b[0m\u001b[0;34m(\u001b[0m\u001b[0;34m*\u001b[0m\u001b[0margs\u001b[0m\u001b[0;34m,\u001b[0m \u001b[0;34m**\u001b[0m\u001b[0mkwargs\u001b[0m\u001b[0;34m)\u001b[0m  \u001b[0;31m# type: ignore[misc]\u001b[0m\u001b[0;34m\u001b[0m\u001b[0;34m\u001b[0m\u001b[0m\n\u001b[1;32m   1738\u001b[0m         \u001b[0;32melse\u001b[0m\u001b[0;34m:\u001b[0m\u001b[0;34m\u001b[0m\u001b[0;34m\u001b[0m\u001b[0m\n\u001b[0;32m-> 1739\u001b[0;31m             \u001b[0;32mreturn\u001b[0m \u001b[0mself\u001b[0m\u001b[0;34m.\u001b[0m\u001b[0m_call_impl\u001b[0m\u001b[0;34m(\u001b[0m\u001b[0;34m*\u001b[0m\u001b[0margs\u001b[0m\u001b[0;34m,\u001b[0m \u001b[0;34m**\u001b[0m\u001b[0mkwargs\u001b[0m\u001b[0;34m)\u001b[0m\u001b[0;34m\u001b[0m\u001b[0;34m\u001b[0m\u001b[0m\n\u001b[0m\u001b[1;32m   1740\u001b[0m \u001b[0;34m\u001b[0m\u001b[0m\n\u001b[1;32m   1741\u001b[0m     \u001b[0;31m# torchrec tests the code consistency with the following code\u001b[0m\u001b[0;34m\u001b[0m\u001b[0;34m\u001b[0m\u001b[0m\n",
            "\u001b[0;32m/usr/local/lib/python3.11/dist-packages/torch/nn/modules/module.py\u001b[0m in \u001b[0;36m_call_impl\u001b[0;34m(self, *args, **kwargs)\u001b[0m\n\u001b[1;32m   1748\u001b[0m                 \u001b[0;32mor\u001b[0m \u001b[0m_global_backward_pre_hooks\u001b[0m \u001b[0;32mor\u001b[0m \u001b[0m_global_backward_hooks\u001b[0m\u001b[0;34m\u001b[0m\u001b[0;34m\u001b[0m\u001b[0m\n\u001b[1;32m   1749\u001b[0m                 or _global_forward_hooks or _global_forward_pre_hooks):\n\u001b[0;32m-> 1750\u001b[0;31m             \u001b[0;32mreturn\u001b[0m \u001b[0mforward_call\u001b[0m\u001b[0;34m(\u001b[0m\u001b[0;34m*\u001b[0m\u001b[0margs\u001b[0m\u001b[0;34m,\u001b[0m \u001b[0;34m**\u001b[0m\u001b[0mkwargs\u001b[0m\u001b[0;34m)\u001b[0m\u001b[0;34m\u001b[0m\u001b[0;34m\u001b[0m\u001b[0m\n\u001b[0m\u001b[1;32m   1751\u001b[0m \u001b[0;34m\u001b[0m\u001b[0m\n\u001b[1;32m   1752\u001b[0m         \u001b[0mresult\u001b[0m \u001b[0;34m=\u001b[0m \u001b[0;32mNone\u001b[0m\u001b[0;34m\u001b[0m\u001b[0;34m\u001b[0m\u001b[0m\n",
            "\u001b[0;32m/usr/local/lib/python3.11/dist-packages/torchvision/models/resnet.py\u001b[0m in \u001b[0;36mforward\u001b[0;34m(self, x)\u001b[0m\n\u001b[1;32m    149\u001b[0m \u001b[0;34m\u001b[0m\u001b[0m\n\u001b[1;32m    150\u001b[0m         \u001b[0mout\u001b[0m \u001b[0;34m=\u001b[0m \u001b[0mself\u001b[0m\u001b[0;34m.\u001b[0m\u001b[0mconv2\u001b[0m\u001b[0;34m(\u001b[0m\u001b[0mout\u001b[0m\u001b[0;34m)\u001b[0m\u001b[0;34m\u001b[0m\u001b[0;34m\u001b[0m\u001b[0m\n\u001b[0;32m--> 151\u001b[0;31m         \u001b[0mout\u001b[0m \u001b[0;34m=\u001b[0m \u001b[0mself\u001b[0m\u001b[0;34m.\u001b[0m\u001b[0mbn2\u001b[0m\u001b[0;34m(\u001b[0m\u001b[0mout\u001b[0m\u001b[0;34m)\u001b[0m\u001b[0;34m\u001b[0m\u001b[0;34m\u001b[0m\u001b[0m\n\u001b[0m\u001b[1;32m    152\u001b[0m         \u001b[0mout\u001b[0m \u001b[0;34m=\u001b[0m \u001b[0mself\u001b[0m\u001b[0;34m.\u001b[0m\u001b[0mrelu\u001b[0m\u001b[0;34m(\u001b[0m\u001b[0mout\u001b[0m\u001b[0;34m)\u001b[0m\u001b[0;34m\u001b[0m\u001b[0;34m\u001b[0m\u001b[0m\n\u001b[1;32m    153\u001b[0m \u001b[0;34m\u001b[0m\u001b[0m\n",
            "\u001b[0;32m/usr/local/lib/python3.11/dist-packages/torch/nn/modules/module.py\u001b[0m in \u001b[0;36m_wrapped_call_impl\u001b[0;34m(self, *args, **kwargs)\u001b[0m\n\u001b[1;32m   1737\u001b[0m             \u001b[0;32mreturn\u001b[0m \u001b[0mself\u001b[0m\u001b[0;34m.\u001b[0m\u001b[0m_compiled_call_impl\u001b[0m\u001b[0;34m(\u001b[0m\u001b[0;34m*\u001b[0m\u001b[0margs\u001b[0m\u001b[0;34m,\u001b[0m \u001b[0;34m**\u001b[0m\u001b[0mkwargs\u001b[0m\u001b[0;34m)\u001b[0m  \u001b[0;31m# type: ignore[misc]\u001b[0m\u001b[0;34m\u001b[0m\u001b[0;34m\u001b[0m\u001b[0m\n\u001b[1;32m   1738\u001b[0m         \u001b[0;32melse\u001b[0m\u001b[0;34m:\u001b[0m\u001b[0;34m\u001b[0m\u001b[0;34m\u001b[0m\u001b[0m\n\u001b[0;32m-> 1739\u001b[0;31m             \u001b[0;32mreturn\u001b[0m \u001b[0mself\u001b[0m\u001b[0;34m.\u001b[0m\u001b[0m_call_impl\u001b[0m\u001b[0;34m(\u001b[0m\u001b[0;34m*\u001b[0m\u001b[0margs\u001b[0m\u001b[0;34m,\u001b[0m \u001b[0;34m**\u001b[0m\u001b[0mkwargs\u001b[0m\u001b[0;34m)\u001b[0m\u001b[0;34m\u001b[0m\u001b[0;34m\u001b[0m\u001b[0m\n\u001b[0m\u001b[1;32m   1740\u001b[0m \u001b[0;34m\u001b[0m\u001b[0m\n\u001b[1;32m   1741\u001b[0m     \u001b[0;31m# torchrec tests the code consistency with the following code\u001b[0m\u001b[0;34m\u001b[0m\u001b[0;34m\u001b[0m\u001b[0m\n",
            "\u001b[0;32m/usr/local/lib/python3.11/dist-packages/torch/nn/modules/module.py\u001b[0m in \u001b[0;36m_call_impl\u001b[0;34m(self, *args, **kwargs)\u001b[0m\n\u001b[1;32m   1748\u001b[0m                 \u001b[0;32mor\u001b[0m \u001b[0m_global_backward_pre_hooks\u001b[0m \u001b[0;32mor\u001b[0m \u001b[0m_global_backward_hooks\u001b[0m\u001b[0;34m\u001b[0m\u001b[0;34m\u001b[0m\u001b[0m\n\u001b[1;32m   1749\u001b[0m                 or _global_forward_hooks or _global_forward_pre_hooks):\n\u001b[0;32m-> 1750\u001b[0;31m             \u001b[0;32mreturn\u001b[0m \u001b[0mforward_call\u001b[0m\u001b[0;34m(\u001b[0m\u001b[0;34m*\u001b[0m\u001b[0margs\u001b[0m\u001b[0;34m,\u001b[0m \u001b[0;34m**\u001b[0m\u001b[0mkwargs\u001b[0m\u001b[0;34m)\u001b[0m\u001b[0;34m\u001b[0m\u001b[0;34m\u001b[0m\u001b[0m\n\u001b[0m\u001b[1;32m   1751\u001b[0m \u001b[0;34m\u001b[0m\u001b[0m\n\u001b[1;32m   1752\u001b[0m         \u001b[0mresult\u001b[0m \u001b[0;34m=\u001b[0m \u001b[0;32mNone\u001b[0m\u001b[0;34m\u001b[0m\u001b[0;34m\u001b[0m\u001b[0m\n",
            "\u001b[0;32m/usr/local/lib/python3.11/dist-packages/torch/nn/modules/batchnorm.py\u001b[0m in \u001b[0;36mforward\u001b[0;34m(self, input)\u001b[0m\n\u001b[1;32m    158\u001b[0m \u001b[0;34m\u001b[0m\u001b[0m\n\u001b[1;32m    159\u001b[0m     \u001b[0;32mdef\u001b[0m \u001b[0mforward\u001b[0m\u001b[0;34m(\u001b[0m\u001b[0mself\u001b[0m\u001b[0;34m,\u001b[0m \u001b[0minput\u001b[0m\u001b[0;34m:\u001b[0m \u001b[0mTensor\u001b[0m\u001b[0;34m)\u001b[0m \u001b[0;34m->\u001b[0m \u001b[0mTensor\u001b[0m\u001b[0;34m:\u001b[0m\u001b[0;34m\u001b[0m\u001b[0;34m\u001b[0m\u001b[0m\n\u001b[0;32m--> 160\u001b[0;31m         \u001b[0mself\u001b[0m\u001b[0;34m.\u001b[0m\u001b[0m_check_input_dim\u001b[0m\u001b[0;34m(\u001b[0m\u001b[0minput\u001b[0m\u001b[0;34m)\u001b[0m\u001b[0;34m\u001b[0m\u001b[0;34m\u001b[0m\u001b[0m\n\u001b[0m\u001b[1;32m    161\u001b[0m \u001b[0;34m\u001b[0m\u001b[0m\n\u001b[1;32m    162\u001b[0m         \u001b[0;31m# exponential_average_factor is set to self.momentum\u001b[0m\u001b[0;34m\u001b[0m\u001b[0;34m\u001b[0m\u001b[0m\n",
            "\u001b[0;32m/usr/local/lib/python3.11/dist-packages/torch/nn/modules/batchnorm.py\u001b[0m in \u001b[0;36m_check_input_dim\u001b[0;34m(self, input)\u001b[0m\n\u001b[1;32m    449\u001b[0m \u001b[0;34m\u001b[0m\u001b[0m\n\u001b[1;32m    450\u001b[0m     \u001b[0;32mdef\u001b[0m \u001b[0m_check_input_dim\u001b[0m\u001b[0;34m(\u001b[0m\u001b[0mself\u001b[0m\u001b[0;34m,\u001b[0m \u001b[0minput\u001b[0m\u001b[0;34m)\u001b[0m\u001b[0;34m:\u001b[0m\u001b[0;34m\u001b[0m\u001b[0;34m\u001b[0m\u001b[0m\n\u001b[0;32m--> 451\u001b[0;31m         \u001b[0;32mif\u001b[0m \u001b[0minput\u001b[0m\u001b[0;34m.\u001b[0m\u001b[0mdim\u001b[0m\u001b[0;34m(\u001b[0m\u001b[0;34m)\u001b[0m \u001b[0;34m!=\u001b[0m \u001b[0;36m4\u001b[0m\u001b[0;34m:\u001b[0m\u001b[0;34m\u001b[0m\u001b[0;34m\u001b[0m\u001b[0m\n\u001b[0m\u001b[1;32m    452\u001b[0m             \u001b[0;32mraise\u001b[0m \u001b[0mValueError\u001b[0m\u001b[0;34m(\u001b[0m\u001b[0;34mf\"expected 4D input (got {input.dim()}D input)\"\u001b[0m\u001b[0;34m)\u001b[0m\u001b[0;34m\u001b[0m\u001b[0;34m\u001b[0m\u001b[0m\n\u001b[1;32m    453\u001b[0m \u001b[0;34m\u001b[0m\u001b[0m\n",
            "\u001b[0;31mKeyboardInterrupt\u001b[0m: "
          ]
        }
      ]
    },
    {
      "cell_type": "code",
      "source": [
        "# 只跑之前（Part4）跑过最好的{'τ': 5,  'α': 0.9}✖️「2,4,6」共三个组合\n",
        "import os, glob\n",
        "import torch\n",
        "import torch.nn.functional as F\n",
        "from torchvision import datasets, transforms\n",
        "from torchvision.models import resnet34, resnet18, resnet50\n",
        "from torch.utils.data import DataLoader\n",
        "import pandas as pd\n",
        "\n",
        "# ───── 0️⃣ Setup device & data loaders ─────\n",
        "device = torch.device('cuda' if torch.cuda.is_available() else 'cpu')\n",
        "mean = (0.4914, 0.4822, 0.4465)\n",
        "std  = (0.2470, 0.2435, 0.2616)\n",
        "train_transform = transforms.Compose([\n",
        "    transforms.RandomCrop(32, padding=4),\n",
        "    transforms.RandomHorizontalFlip(),\n",
        "    transforms.ToTensor(),\n",
        "    transforms.Normalize(mean, std),\n",
        "])\n",
        "test_transform = transforms.Compose([\n",
        "    transforms.ToTensor(),\n",
        "    transforms.Normalize(mean, std),\n",
        "])\n",
        "train_loader = DataLoader(\n",
        "    datasets.CIFAR10(root='data/', train=True,  download=True, transform=train_transform),\n",
        "    batch_size=128, shuffle=True,  num_workers=4, pin_memory=True\n",
        ")\n",
        "test_loader = DataLoader(\n",
        "    datasets.CIFAR10(root='data/', train=False, download=True, transform=test_transform),\n",
        "    batch_size=128, shuffle=False, num_workers=4, pin_memory=True\n",
        ")\n",
        "\n",
        "# ───── 1️⃣ Load your pretrained teachers ─────\n",
        "ckpt_paths = sorted(glob.glob(\"teacher_*_*_best.pth\"))\n",
        "if not ckpt_paths:\n",
        "    raise FileNotFoundError(\"No teacher checkpoints found\")\n",
        "all_teacher_models = []\n",
        "for path in ckpt_paths:\n",
        "    arch = os.path.basename(path).split(\"_\")[2]\n",
        "    ctor = {\"resnet18\":resnet18,\"resnet34\":resnet34,\"resnet50\":resnet50}[arch]\n",
        "    m = ctor(num_classes=10).to(device)\n",
        "    ck = torch.load(path, map_location=device)\n",
        "    m.load_state_dict(ck['model_state'])\n",
        "    m.eval()\n",
        "    for p in m.parameters(): p.requires_grad=False\n",
        "    all_teacher_models.append(m)\n",
        "print(f\"🔍 Loaded {len(all_teacher_models)} teachers\")\n",
        "\n",
        "# ───── 2️⃣ 拿到你之前跑好的 (τ,α) 组合 ─────\n",
        "rev_results = [\n",
        "     {'τ': 5,  'α': 0.9},\n",
        "\n",
        "]\n",
        "df_rev = pd.DataFrame(rev_results)\n",
        "combos = df_rev[['τ','α']].to_dict('records')  # list of dicts [{'τ':1,'α':0.1}, ...]\n",
        "\n",
        "# ───── 3️⃣ 只对 K=2,4,6 做叠加 ─────\n",
        "Ks = [4,6]\n",
        "num_epochs = 200\n",
        "final_results = []\n",
        "\n",
        "for K in Ks:\n",
        "    teachers = all_teacher_models[:K]\n",
        "    for combo in combos:\n",
        "        tau, alpha = combo['τ'], combo['α']\n",
        "\n",
        "        # fresh student & optimizer/scheduler\n",
        "        student   = resnet34(num_classes=10).to(device)\n",
        "        optimizer = torch.optim.SGD(student.parameters(), lr=0.1, momentum=0.9, weight_decay=5e-4)\n",
        "        scheduler = torch.optim.lr_scheduler.MultiStepLR(optimizer, milestones=[100,150], gamma=0.1)\n",
        "\n",
        "        # training\n",
        "        for epoch in range(1, num_epochs+1):\n",
        "            student.train()\n",
        "            run_loss = 0.0\n",
        "            for xb, yb in train_loader:\n",
        "                xb, yb = xb.to(device), yb.to(device)\n",
        "                optimizer.zero_grad()\n",
        "                # fuse K teachers\n",
        "                with torch.no_grad():\n",
        "                    C = teachers[0](xb).size(1)\n",
        "                    sum_soft = torch.zeros(xb.size(0), C, device=device)\n",
        "                    for tm in teachers:\n",
        "                        sum_soft += F.softmax(tm(xb)/tau, dim=1)\n",
        "                    p_avg = sum_soft / K\n",
        "                # distill+CE\n",
        "                s_logits = student(xb)\n",
        "                s_soft   = F.log_softmax(s_logits/tau, dim=1)\n",
        "                l_kl     = F.kl_div(s_soft, p_avg, reduction='batchmean') * (tau*tau)\n",
        "                l_ce     = F.cross_entropy(s_logits, yb)\n",
        "                loss     = alpha*l_kl + (1-alpha)*l_ce\n",
        "                loss.backward()\n",
        "                optimizer.step()\n",
        "                run_loss += loss.item()*xb.size(0)\n",
        "            scheduler.step()\n",
        "            # 每 50 epochs 打印一次\n",
        "            if epoch in (1,50,100,150,num_epochs):\n",
        "                print(f\"[K={K} τ={tau} α={alpha}] Epoch {epoch}/{num_epochs} loss={run_loss/len(train_loader.dataset):.4f}\")\n",
        "\n",
        "        # evaluation\n",
        "        student.eval()\n",
        "        correct=total=0\n",
        "        with torch.no_grad():\n",
        "            for xb,yb in test_loader:\n",
        "                xb,yb = xb.to(device), yb.to(device)\n",
        "                preds = student(xb).argmax(1)\n",
        "                correct += (preds==yb).sum().item()\n",
        "                total   += yb.size(0)\n",
        "        acc = 100.*correct/total\n",
        "\n",
        "        final_results.append({'K':K,'τ':tau,'α':alpha,'test_acc':acc})\n",
        "        print(f\"→ [K={K} τ={tau} α={alpha}] test_acc={acc:.2f}%\\n\")\n",
        "\n",
        "# ───── 4️⃣ 保存结果 ─────\n",
        "df_out = pd.DataFrame(final_results)\n",
        "df_out.to_csv(\"multi_teacher_246_sweep.csv\", index=False)\n",
        "print(\"✅ Done! \")\n",
        "\n"
      ],
      "metadata": {
        "colab": {
          "base_uri": "https://localhost:8080/"
        },
        "id": "o2v29p1owYQZ",
        "outputId": "4681c273-00e7-488d-bf60-7c01737560fb"
      },
      "execution_count": 18,
      "outputs": [
        {
          "output_type": "stream",
          "name": "stdout",
          "text": [
            "🔍 Loaded 5 teachers\n",
            "[K=4 τ=5 α=0.9] Epoch 1/200 loss=6.1676\n",
            "[K=4 τ=5 α=0.9] Epoch 50/200 loss=0.5977\n",
            "[K=4 τ=5 α=0.9] Epoch 100/200 loss=0.5673\n",
            "[K=4 τ=5 α=0.9] Epoch 150/200 loss=0.2341\n",
            "[K=4 τ=5 α=0.9] Epoch 200/200 loss=0.1658\n",
            "→ [K=4 τ=5 α=0.9] test_acc=82.98%\n",
            "\n",
            "[K=6 τ=5 α=0.9] Epoch 1/200 loss=2.5948\n",
            "[K=6 τ=5 α=0.9] Epoch 50/200 loss=-2.9111\n",
            "[K=6 τ=5 α=0.9] Epoch 100/200 loss=-2.9126\n",
            "[K=6 τ=5 α=0.9] Epoch 150/200 loss=-3.2254\n",
            "[K=6 τ=5 α=0.9] Epoch 200/200 loss=-3.2822\n",
            "→ [K=6 τ=5 α=0.9] test_acc=84.07%\n",
            "\n",
            "✅ Done! \n"
          ]
        }
      ]
    },
    {
      "cell_type": "markdown",
      "source": [
        "# 因为上面k=6的时候loss< 0（代码出错，因为只有五个checkpoint，之前却写了六个）所以运行以下代码（k=5）来测试一下。"
      ],
      "metadata": {
        "id": "kVT1DOXgTVQU"
      }
    },
    {
      "cell_type": "code",
      "source": [
        "# 只跑之前（Part4）跑过最好的{'τ': 5,  'α': 0.9}✖️「2,4,6」共三个组合\n",
        "import os, glob\n",
        "import torch\n",
        "import torch.nn.functional as F\n",
        "from torchvision import datasets, transforms\n",
        "from torchvision.models import resnet34, resnet18, resnet50\n",
        "from torch.utils.data import DataLoader\n",
        "import pandas as pd\n",
        "\n",
        "# ───── 0️⃣ Setup device & data loaders ─────\n",
        "device = torch.device('cuda' if torch.cuda.is_available() else 'cpu')\n",
        "mean = (0.4914, 0.4822, 0.4465)\n",
        "std  = (0.2470, 0.2435, 0.2616)\n",
        "train_transform = transforms.Compose([\n",
        "    transforms.RandomCrop(32, padding=4),\n",
        "    transforms.RandomHorizontalFlip(),\n",
        "    transforms.ToTensor(),\n",
        "    transforms.Normalize(mean, std),\n",
        "])\n",
        "test_transform = transforms.Compose([\n",
        "    transforms.ToTensor(),\n",
        "    transforms.Normalize(mean, std),\n",
        "])\n",
        "train_loader = DataLoader(\n",
        "    datasets.CIFAR10(root='data/', train=True,  download=True, transform=train_transform),\n",
        "    batch_size=128, shuffle=True,  num_workers=4, pin_memory=True\n",
        ")\n",
        "test_loader = DataLoader(\n",
        "    datasets.CIFAR10(root='data/', train=False, download=True, transform=test_transform),\n",
        "    batch_size=128, shuffle=False, num_workers=4, pin_memory=True\n",
        ")\n",
        "\n",
        "# ───── 1️⃣ Load your pretrained teachers ─────\n",
        "ckpt_paths = sorted(glob.glob(\"teacher_*_*_best.pth\"))\n",
        "if not ckpt_paths:\n",
        "    raise FileNotFoundError(\"No teacher checkpoints found\")\n",
        "all_teacher_models = []\n",
        "for path in ckpt_paths:\n",
        "    arch = os.path.basename(path).split(\"_\")[2]\n",
        "    ctor = {\"resnet18\":resnet18,\"resnet34\":resnet34,\"resnet50\":resnet50}[arch]\n",
        "    m = ctor(num_classes=10).to(device)\n",
        "    ck = torch.load(path, map_location=device)\n",
        "    m.load_state_dict(ck['model_state'])\n",
        "    m.eval()\n",
        "    for p in m.parameters(): p.requires_grad=False\n",
        "    all_teacher_models.append(m)\n",
        "print(f\"🔍 Loaded {len(all_teacher_models)} teachers\")\n",
        "\n",
        "# ───── 2️⃣ 拿到你之前跑好的 (τ,α) 组合 ─────\n",
        "rev_results = [\n",
        "     {'τ': 5,  'α': 0.9},\n",
        "\n",
        "]\n",
        "df_rev = pd.DataFrame(rev_results)\n",
        "combos = df_rev[['τ','α']].to_dict('records')  # list of dicts [{'τ':1,'α':0.1}, ...]\n",
        "\n",
        "# ───── 3️⃣ 只对 K=5 做叠加 ─────\n",
        "Ks = [5]\n",
        "num_epochs = 200\n",
        "final_results = []\n",
        "\n",
        "for K in Ks:\n",
        "    teachers = all_teacher_models[:K]\n",
        "    for combo in combos:\n",
        "        tau, alpha = combo['τ'], combo['α']\n",
        "\n",
        "        # fresh student & optimizer/scheduler\n",
        "        student   = resnet34(num_classes=10).to(device)\n",
        "        optimizer = torch.optim.SGD(student.parameters(), lr=0.1, momentum=0.9, weight_decay=5e-4)\n",
        "        scheduler = torch.optim.lr_scheduler.MultiStepLR(optimizer, milestones=[100,150], gamma=0.1)\n",
        "\n",
        "        # training\n",
        "        for epoch in range(1, num_epochs+1):\n",
        "            student.train()\n",
        "            run_loss = 0.0\n",
        "            for xb, yb in train_loader:\n",
        "                xb, yb = xb.to(device), yb.to(device)\n",
        "                optimizer.zero_grad()\n",
        "                # fuse K teachers\n",
        "                with torch.no_grad():\n",
        "                    C = teachers[0](xb).size(1)\n",
        "                    sum_soft = torch.zeros(xb.size(0), C, device=device)\n",
        "                    for tm in teachers:\n",
        "                        sum_soft += F.softmax(tm(xb)/tau, dim=1)\n",
        "                    p_avg = sum_soft / K\n",
        "                # distill+CE\n",
        "                s_logits = student(xb)\n",
        "                s_soft   = F.log_softmax(s_logits/tau, dim=1)\n",
        "                l_kl     = F.kl_div(s_soft, p_avg, reduction='batchmean') * (tau*tau)\n",
        "                l_ce     = F.cross_entropy(s_logits, yb)\n",
        "                loss     = alpha*l_kl + (1-alpha)*l_ce\n",
        "                loss.backward()\n",
        "                optimizer.step()\n",
        "                run_loss += loss.item()*xb.size(0)\n",
        "            scheduler.step()\n",
        "            # 每 50 epochs 打印一次\n",
        "            if epoch in (1,50,100,150,num_epochs):\n",
        "                print(f\"[K={K} τ={tau} α={alpha}] Epoch {epoch}/{num_epochs} loss={run_loss/len(train_loader.dataset):.4f}\")\n",
        "\n",
        "        # evaluation\n",
        "        student.eval()\n",
        "        correct=total=0\n",
        "        with torch.no_grad():\n",
        "            for xb,yb in test_loader:\n",
        "                xb,yb = xb.to(device), yb.to(device)\n",
        "                preds = student(xb).argmax(1)\n",
        "                correct += (preds==yb).sum().item()\n",
        "                total   += yb.size(0)\n",
        "        acc = 100.*correct/total\n",
        "\n",
        "        final_results.append({'K':K,'τ':tau,'α':alpha,'test_acc':acc})\n",
        "        print(f\"→ [K={K} τ={tau} α={alpha}] test_acc={acc:.2f}%\\n\")\n",
        "\n",
        "# ───── 4️⃣ 保存结果 ─────\n",
        "df_out = pd.DataFrame(final_results)\n",
        "df_out.to_csv(\"multi_teacher_246_sweep.csv\", index=False)\n",
        "print(\"✅ Done! \")\n",
        "\n"
      ],
      "metadata": {
        "colab": {
          "base_uri": "https://localhost:8080/"
        },
        "id": "_aCOZ-b4TOn8",
        "outputId": "532ba4c7-8170-4645-d284-865a16e5d412"
      },
      "execution_count": 19,
      "outputs": [
        {
          "output_type": "stream",
          "name": "stdout",
          "text": [
            "🔍 Loaded 5 teachers\n",
            "[K=5 τ=5 α=0.9] Epoch 1/200 loss=7.7488\n",
            "[K=5 τ=5 α=0.9] Epoch 50/200 loss=0.6674\n",
            "[K=5 τ=5 α=0.9] Epoch 100/200 loss=0.6132\n",
            "[K=5 τ=5 α=0.9] Epoch 150/200 loss=0.2405\n",
            "[K=5 τ=5 α=0.9] Epoch 200/200 loss=0.1672\n",
            "→ [K=5 τ=5 α=0.9] test_acc=83.78%\n",
            "\n",
            "✅ Done! \n"
          ]
        }
      ]
    },
    {
      "cell_type": "code",
      "source": [
        "# Part 6 遍历所有36个超参组合\n",
        "import os, glob\n",
        "import torch\n",
        "import torch.nn.functional as F\n",
        "from torchvision import datasets, transforms\n",
        "from torchvision.models import resnet34, resnet18, resnet50\n",
        "from torch.utils.data import DataLoader\n",
        "import pandas as pd\n",
        "\n",
        "# ───── 0️⃣ Setup device & data loaders ─────\n",
        "device = torch.device('cuda' if torch.cuda.is_available() else 'cpu')\n",
        "mean = (0.4914, 0.4822, 0.4465)\n",
        "std  = (0.2470, 0.2435, 0.2616)\n",
        "train_transform = transforms.Compose([\n",
        "    transforms.RandomCrop(32, padding=4),\n",
        "    transforms.RandomHorizontalFlip(),\n",
        "    transforms.ToTensor(),\n",
        "    transforms.Normalize(mean, std),\n",
        "])\n",
        "test_transform = transforms.Compose([\n",
        "    transforms.ToTensor(),\n",
        "    transforms.Normalize(mean, std),\n",
        "])\n",
        "train_loader = DataLoader(\n",
        "    datasets.CIFAR10(root='data/', train=True,  download=True, transform=train_transform),\n",
        "    batch_size=128, shuffle=True,  num_workers=4, pin_memory=True\n",
        ")\n",
        "test_loader = DataLoader(\n",
        "    datasets.CIFAR10(root='data/', train=False, download=True, transform=test_transform),\n",
        "    batch_size=128, shuffle=False, num_workers=4, pin_memory=True\n",
        ")\n",
        "\n",
        "# ───── 1️⃣ Load your pretrained teachers ─────\n",
        "ckpt_paths = sorted(glob.glob(\"teacher_*_*_best.pth\"))\n",
        "if not ckpt_paths:\n",
        "    raise FileNotFoundError(\"No teacher checkpoints found\")\n",
        "all_teacher_models = []\n",
        "for path in ckpt_paths:\n",
        "    arch = os.path.basename(path).split(\"_\")[2]\n",
        "    ctor = {\"resnet18\":resnet18,\"resnet34\":resnet34,\"resnet50\":resnet50}[arch]\n",
        "    m = ctor(num_classes=10).to(device)\n",
        "    ck = torch.load(path, map_location=device)\n",
        "    m.load_state_dict(ck['model_state'])\n",
        "    m.eval()\n",
        "    for p in m.parameters(): p.requires_grad=False\n",
        "    all_teacher_models.append(m)\n",
        "print(f\"🔍 Loaded {len(all_teacher_models)} teachers\")\n",
        "\n",
        "# ───── 2️⃣ 拿到你之前跑好的 (τ,α) 组合 ─────\n",
        "rev_results = [\n",
        "    {'τ': 1,  'α': 0.1}, {'τ': 1,  'α': 0.5}, {'τ': 1,  'α': 0.9},\n",
        "    {'τ': 5,  'α': 0.1}, {'τ': 5,  'α': 0.5}, {'τ': 5,  'α': 0.9},\n",
        "    {'τ': 10, 'α': 0.1}, {'τ': 10, 'α': 0.5}, {'τ': 10, 'α': 0.9},\n",
        "    {'τ': 20, 'α': 0.1}, {'τ': 20, 'α': 0.5}, {'τ': 20, 'α': 0.9},\n",
        "]\n",
        "df_rev = pd.DataFrame(rev_results)\n",
        "combos = df_rev[['τ','α']].to_dict('records')  # list of dicts [{'τ':1,'α':0.1}, ...]\n",
        "\n",
        "# ───── 3️⃣ 只对 K=2,4,6 做叠加 ─────\n",
        "Ks = [2,4,6]\n",
        "num_epochs = 200\n",
        "final_results = []\n",
        "\n",
        "for K in Ks:\n",
        "    teachers = all_teacher_models[:K]\n",
        "    for combo in combos:\n",
        "        tau, alpha = combo['τ'], combo['α']\n",
        "\n",
        "        # fresh student & optimizer/scheduler\n",
        "        student   = resnet34(num_classes=10).to(device)\n",
        "        optimizer = torch.optim.SGD(student.parameters(), lr=0.1, momentum=0.9, weight_decay=5e-4)\n",
        "        scheduler = torch.optim.lr_scheduler.MultiStepLR(optimizer, milestones=[100,150], gamma=0.1)\n",
        "\n",
        "        # training\n",
        "        for epoch in range(1, num_epochs+1):\n",
        "            student.train()\n",
        "            run_loss = 0.0\n",
        "            for xb, yb in train_loader:\n",
        "                xb, yb = xb.to(device), yb.to(device)\n",
        "                optimizer.zero_grad()\n",
        "                # fuse K teachers\n",
        "                with torch.no_grad():\n",
        "                    C = teachers[0](xb).size(1)\n",
        "                    sum_soft = torch.zeros(xb.size(0), C, device=device)\n",
        "                    for tm in teachers:\n",
        "                        sum_soft += F.softmax(tm(xb)/tau, dim=1)\n",
        "                    p_avg = sum_soft / K\n",
        "                # distill+CE\n",
        "                s_logits = student(xb)\n",
        "                s_soft   = F.log_softmax(s_logits/tau, dim=1)\n",
        "                l_kl     = F.kl_div(s_soft, p_avg, reduction='batchmean') * (tau*tau)\n",
        "                l_ce     = F.cross_entropy(s_logits, yb)\n",
        "                loss     = alpha*l_kl + (1-alpha)*l_ce\n",
        "                loss.backward()\n",
        "                optimizer.step()\n",
        "                run_loss += loss.item()*xb.size(0)\n",
        "            scheduler.step()\n",
        "            # 每 50 epochs 打印一次\n",
        "            if epoch in (1,50,100,150,num_epochs):\n",
        "                print(f\"[K={K} τ={tau} α={alpha}] Epoch {epoch}/{num_epochs} loss={run_loss/len(train_loader.dataset):.4f}\")\n",
        "\n",
        "        # evaluation\n",
        "        student.eval()\n",
        "        correct=total=0\n",
        "        with torch.no_grad():\n",
        "            for xb,yb in test_loader:\n",
        "                xb,yb = xb.to(device), yb.to(device)\n",
        "                preds = student(xb).argmax(1)\n",
        "                correct += (preds==yb).sum().item()\n",
        "                total   += yb.size(0)\n",
        "        acc = 100.*correct/total\n",
        "\n",
        "        final_results.append({'K':K,'τ':tau,'α':alpha,'test_acc':acc})\n",
        "        print(f\"→ [K={K} τ={tau} α={alpha}] test_acc={acc:.2f}%\\n\")\n",
        "\n",
        "# ───── 4️⃣ 保存结果 ─────\n",
        "df_out = pd.DataFrame(final_results)\n",
        "df_out.to_csv(\"multi_teacher_246_sweep.csv\", index=False)\n",
        "print(\"✅ Done! \")\n",
        "\n"
      ],
      "metadata": {
        "id": "aMohm4FKgUO4"
      },
      "execution_count": null,
      "outputs": []
    },
    {
      "cell_type": "code",
      "source": [
        "# Part 6 遍历所有36个超参组合\n",
        "import os, glob\n",
        "import torch\n",
        "import torch.nn.functional as F\n",
        "from torchvision import datasets, transforms\n",
        "from torchvision.models import resnet18, resnet34, resnet50\n",
        "from torch.utils.data import DataLoader\n",
        "from itertools import product\n",
        "import pandas as pd\n",
        "\n",
        "# ───── 0️⃣ Setup device & data loaders ─────\n",
        "device = torch.device('cuda' if torch.cuda.is_available() else 'cpu')\n",
        "\n",
        "# CIFAR‑10 transforms (same as in code 4)\n",
        "mean = (0.4914, 0.4822, 0.4465)\n",
        "std  = (0.2470, 0.2435, 0.2616)\n",
        "train_transform = transforms.Compose([\n",
        "    transforms.RandomCrop(32, padding=4),\n",
        "    transforms.RandomHorizontalFlip(),\n",
        "    transforms.ToTensor(),\n",
        "    transforms.Normalize(mean, std),\n",
        "])\n",
        "test_transform = transforms.Compose([\n",
        "    transforms.ToTensor(),\n",
        "    transforms.Normalize(mean, std),\n",
        "])\n",
        "\n",
        "batch_size = 128\n",
        "train_loader = DataLoader(\n",
        "    datasets.CIFAR10(root='data/', train=True,  download=True, transform=train_transform),\n",
        "    batch_size=batch_size, shuffle=True,  num_workers=4, pin_memory=True\n",
        ")\n",
        "test_loader = DataLoader(\n",
        "    datasets.CIFAR10(root='data/', train=False, download=True, transform=test_transform),\n",
        "    batch_size=batch_size, shuffle=False, num_workers=4, pin_memory=True\n",
        ")\n",
        "\n",
        "# ───── 1️⃣ Build all_teacher_models from your code 3 checkpoints ─────\n",
        "ckpt_paths = sorted(glob.glob(\"teacher_*_*_best.pth\"))\n",
        "if not ckpt_paths:\n",
        "    raise FileNotFoundError(\"No teacher checkpoints found matching teacher_*_*_best.pth\")\n",
        "\n",
        "all_teacher_models = []\n",
        "for path in ckpt_paths:\n",
        "    arch = os.path.basename(path).split(\"_\")[2]  # e.g. 'resnet34'\n",
        "    if   arch==\"resnet18\": ctor = resnet18\n",
        "    elif arch==\"resnet34\": ctor = resnet34\n",
        "    elif arch==\"resnet50\": ctor = resnet50\n",
        "    else: raise ValueError(f\"Unexpected arch {arch} in {path}\")\n",
        "    m = ctor(num_classes=10).to(device)\n",
        "    ck = torch.load(path, map_location=device)\n",
        "    m.load_state_dict(ck['model_state'])\n",
        "    m.eval()\n",
        "    for p in m.parameters(): p.requires_grad = False\n",
        "    all_teacher_models.append(m)\n",
        "\n",
        "print(f\"🔍  Loaded {len(all_teacher_models)} teachers from disk\")\n",
        "\n",
        "# ───── 2️⃣ Hyperparameters & sweep setup ─────\n",
        "taus       = [1, 5, 10, 20]\n",
        "alphas     = [0.1, 0.5, 0.9]\n",
        "Ks         = [2, 4, 8]\n",
        "num_epochs = 200\n",
        "\n",
        "results = []\n",
        "\n",
        "# ───── 3️⃣ Multi‑teacher KD sweep ─────\n",
        "for K in Ks:\n",
        "    teachers = all_teacher_models[:K]\n",
        "    for tau, alpha in product(taus, alphas):\n",
        "        # fresh student + optimizer/scheduler\n",
        "        student   = resnet34(num_classes=10).to(device)\n",
        "        optimizer = torch.optim.SGD(\n",
        "            student.parameters(), lr=0.1, momentum=0.9, weight_decay=5e-4\n",
        "        )\n",
        "        scheduler = torch.optim.lr_scheduler.MultiStepLR(\n",
        "            optimizer, milestones=[100,150], gamma=0.1\n",
        "        )\n",
        "\n",
        "        # training loop\n",
        "        for epoch in range(1, num_epochs+1):\n",
        "            student.train()\n",
        "            run_loss = 0.0\n",
        "\n",
        "            for xb, yb in train_loader:\n",
        "                xb, yb = xb.to(device), yb.to(device)\n",
        "                optimizer.zero_grad()\n",
        "                # fuse K teachers\n",
        "                with torch.no_grad():\n",
        "                    C = teachers[0](xb).size(1)\n",
        "                    sum_soft = torch.zeros(xb.size(0), C, device=device)\n",
        "                    for tm in teachers:\n",
        "                        sum_soft += F.softmax(tm(xb)/tau, dim=1)\n",
        "                    p_avg = sum_soft / K\n",
        "                # student forward + loss\n",
        "                s_logits = student(xb)\n",
        "                s_soft   = F.log_softmax(s_logits/tau, dim=1)\n",
        "                l_kl     = F.kl_div(s_soft, p_avg, reduction='batchmean') * (tau*tau)\n",
        "                l_ce     = F.cross_entropy(s_logits, yb)\n",
        "                loss     = alpha*l_kl + (1-alpha)*l_ce\n",
        "                loss.backward()\n",
        "                optimizer.step()\n",
        "                run_loss += loss.item()*xb.size(0)\n",
        "\n",
        "            scheduler.step()\n",
        "\n",
        "            # ── print periodic epoch info ──\n",
        "            if epoch == 1 or epoch == num_epochs or epoch % 50 == 0:\n",
        "                avg_loss = run_loss / len(train_loader.dataset)\n",
        "                print(f\"[K={K}, τ={tau}, α={alpha}] Epoch {epoch:03d}/{num_epochs} ― train_loss={avg_loss:.4f}\")\n",
        "\n",
        "        # evaluation\n",
        "        student.eval()\n",
        "        correct = total = 0\n",
        "        with torch.no_grad():\n",
        "            for xb,yb in test_loader:\n",
        "                xb,yb = xb.to(device), yb.to(device)\n",
        "                preds = student(xb).argmax(1)\n",
        "                correct += (preds==yb).sum().item()\n",
        "                total   += yb.size(0)\n",
        "        acc = 100.*correct/total\n",
        "\n",
        "        results.append({'K':K, 'tau':tau, 'alpha':alpha, 'test_acc':acc})\n",
        "        print(f\"→ K={K}, τ={tau}, α={alpha}  →  test_acc={acc:.2f}%\\n\")\n",
        "\n",
        "# ───── Done ─────\n",
        "df_results = pd.DataFrame(results)\n",
        "df_results.to_csv(\"multi_teacher_sweep.csv\", index=False)\n",
        "print(\"✅ Sweep complete, saved to multi_teacher_sweep.csv\")\n"
      ],
      "metadata": {
        "id": "1gXtf9yLW2MI"
      },
      "execution_count": null,
      "outputs": []
    },
    {
      "cell_type": "markdown",
      "source": [
        "# 新的 code 6\n",
        "新的 code 6 正是在新的 code 3（把强化训练后的 teacher checkpoints 存到 `checkpoints/single_teacher/`）的基础上，来检验用「真正变强」的 teacher 模型去蒸馏对 student 的效果有多大提升。换句话说：\n",
        "\n",
        "1. **新的 code 3** 让你的 ResNet‑50 teacher 真正跑到 ∼90%+ 的水平，并把 checkpoint 全都存到 `checkpoints/single_teacher/` 目录下，和旧的 `teacher_*_*_best.pth` 不会互相覆盖。  \n",
        "2. **rerun code 6** 就是在这批真实好用的 teacher 上，用先前在 Part 4 找到的最佳 \\{τ=5, α=0.9\\}，分别测试 K=2,4,6 三种老师数量对 student 最终精度的影响。  \n",
        "3. 这样做的意义就是：  \n",
        "   - **不用再跑 36 个** (K×τ×α) 组合，直接锁定最有可能打赢硬标签的「黄金超参」；  \n",
        "   - 确保蒸馏所用的 teacher 真的是你刚刚 mixup+label‐smoothing 训练出来、在验证集跑到 ∼89–90%+ 的那几位，而不是旧 teacher；  \n",
        "   - 快速对比：K=2、4、6 这三个点，student 能提升到什么水平，从而判断要不要大规模扩充 teacher 数量。  \n",
        "\n",
        "如果你不把 code 6 重新跑一遍，它只会加载旧有的、只有 ∼76% 验证精度的 teachers──那当然拿不到好的 student 蒸馏效果。  \n",
        "\n",
        "所以 **下一步** 就是用新的、90%+ 的 teacher checkpoints，跑一遍 code 6，看看在 \\{τ=5,α=0.9\\} 下 K=2、4、6 时，student 最终能到几几％，再决定要不要把 K 再往上拉，或者混入不同超参做更细致的 sweep。"
      ],
      "metadata": {
        "id": "QY3TJua6ImW2"
      }
    },
    {
      "cell_type": "code",
      "source": [
        "import os, glob\n",
        "import torch\n",
        "import torch.nn.functional as F\n",
        "from torchvision import datasets, transforms\n",
        "from torchvision.models import resnet34, resnet18, resnet50\n",
        "from torch.utils.data import DataLoader\n",
        "import pandas as pd\n",
        "\n",
        "# ───── 0️⃣ Setup device & data loaders ─────\n",
        "device = torch.device('cuda' if torch.cuda.is_available() else 'cpu')\n",
        "mean = (0.4914, 0.4822, 0.4465)\n",
        "std  = (0.2470, 0.2435, 0.2616)\n",
        "train_transform = transforms.Compose([\n",
        "    transforms.RandomCrop(32, padding=4),\n",
        "    transforms.RandomHorizontalFlip(),\n",
        "    transforms.ToTensor(),\n",
        "    transforms.Normalize(mean, std),\n",
        "])\n",
        "test_transform = transforms.Compose([\n",
        "    transforms.ToTensor(),\n",
        "    transforms.Normalize(mean, std),\n",
        "])\n",
        "train_loader = DataLoader(\n",
        "    datasets.CIFAR10(root='data/', train=True, download=True, transform=train_transform),\n",
        "    batch_size=128, shuffle=True, num_workers=4, pin_memory=True\n",
        ")\n",
        "test_loader = DataLoader(\n",
        "    datasets.CIFAR10(root='data/', train=False, download=True, transform=test_transform),\n",
        "    batch_size=128, shuffle=False, num_workers=4, pin_memory=True\n",
        ")\n",
        "\n",
        "# ───── 1️⃣ Load pretrained teachers ─────\n",
        "ckpt_paths = sorted(glob.glob(\"teacher_*_*_best.pth\"))\n",
        "if not ckpt_paths:\n",
        "    raise FileNotFoundError(\"No teacher checkpoints found\")\n",
        "all_teacher_models = []\n",
        "for path in ckpt_paths:\n",
        "    arch = os.path.basename(path).split(\"_\")[2]  # 'resnet34' 等\n",
        "    ctor = {\"resnet18\": resnet18, \"resnet34\": resnet34, \"resnet50\": resnet50}[arch]\n",
        "    m = ctor(num_classes=10).to(device)\n",
        "    ck = torch.load(path, map_location=device)\n",
        "    m.load_state_dict(ck['model_state'])\n",
        "    m.eval()\n",
        "    for p in m.parameters(): p.requires_grad = False\n",
        "    all_teacher_models.append(m)\n",
        "print(f\"🔍 Loaded {len(all_teacher_models)} teachers\")\n",
        "\n",
        "# ───── 2️⃣ 固定 (τ,α) 仅这一组 ─────\n",
        "tau, alpha = 5, 0.9\n",
        "\n",
        "# ───── 3️⃣ 只对 K = 2,4,6 做多教师蒸馏 ─────\n",
        "Ks = [2, 4, 6]\n",
        "num_epochs = 200\n",
        "final_results = []\n",
        "\n",
        "for K in Ks:\n",
        "    teachers = all_teacher_models[:K]\n",
        "    print(f\"\\n=== Multi‑teacher KD with K={K}, τ={tau}, α={alpha} ===\")\n",
        "    # 注意：在每个 K 下都要 fresh 一个 student\n",
        "    student = None\n",
        "    for epoch in [1, 50, 100, 150, num_epochs]:\n",
        "        # 第一次循环前才 new model\n",
        "        if student is None:\n",
        "            student = resnet34(num_classes=10).to(device)\n",
        "            optimizer = torch.optim.SGD(\n",
        "                student.parameters(), lr=0.1, momentum=0.9, weight_decay=5e-4\n",
        "            )\n",
        "            scheduler = torch.optim.lr_scheduler.MultiStepLR(\n",
        "                optimizer, milestones=[100,150], gamma=0.1\n",
        "            )\n",
        "\n",
        "        # 从上次的 epoch+1 跑到当前 epoch\n",
        "        start = 1 if epoch==1 else prev_epoch+1\n",
        "        run_loss = 0.0\n",
        "        student.train()\n",
        "        for e in range(start, epoch+1):\n",
        "            for xb, yb in train_loader:\n",
        "                xb, yb = xb.to(device), yb.to(device)\n",
        "                optimizer.zero_grad()\n",
        "                # fuse K teachers\n",
        "                with torch.no_grad():\n",
        "                    C = teachers[0](xb).size(1)\n",
        "                    sum_soft = torch.zeros(xb.size(0), C, device=device)\n",
        "                    for tm in teachers:\n",
        "                        sum_soft += F.softmax(tm(xb)/tau, dim=1)\n",
        "                    p_avg = sum_soft / K\n",
        "                # distill + CE\n",
        "                logits_s = student(xb)\n",
        "                s_soft   = F.log_softmax(logits_s/tau, dim=1)\n",
        "                l_kl     = F.kl_div(s_soft, p_avg, reduction='batchmean') * (tau*tau)\n",
        "                l_ce     = F.cross_entropy(logits_s, yb)\n",
        "                loss     = alpha*l_kl + (1-alpha)*l_ce\n",
        "                loss.backward()\n",
        "                optimizer.step()\n",
        "                run_loss += loss.item()*xb.size(0)\n",
        "            scheduler.step()\n",
        "\n",
        "        prev_epoch = epoch\n",
        "        avg_loss = run_loss / len(train_loader.dataset)\n",
        "        print(f\"[K={K} τ={tau} α={alpha}] Epoch {epoch}/{num_epochs}  train_loss={avg_loss:.4f}\")\n",
        "\n",
        "    # ── 最终评估 ──\n",
        "    student.eval()\n",
        "    correct = total = 0\n",
        "    with torch.no_grad():\n",
        "        for xb, yb in test_loader:\n",
        "            xb, yb = xb.to(device), yb.to(device)\n",
        "            preds = student(xb).argmax(1)\n",
        "            correct += (preds==yb).sum().item()\n",
        "            total   += yb.size(0)\n",
        "    acc = 100.*correct/total\n",
        "\n",
        "    final_results.append({'K':K, 'τ':tau, 'α':alpha, 'test_acc':acc})\n",
        "    print(f\"→ [K={K} τ={tau} α={alpha}] test_acc={acc:.2f}%\\n\")\n",
        "\n",
        "# ───── 4️⃣ 保存结果 ─────\n",
        "df_out = pd.DataFrame(final_results)\n",
        "df_out.to_csv(\"multi_teacher_246_only.csv\", index=False)\n",
        "print(\"✅ Done! Results saved to multi_teacher_246_only.csv\")\n"
      ],
      "metadata": {
        "colab": {
          "base_uri": "https://localhost:8080/"
        },
        "id": "756s70TJIkXB",
        "outputId": "09fd0300-53ad-4b88-d343-029bdaa37f6c"
      },
      "execution_count": 22,
      "outputs": [
        {
          "output_type": "stream",
          "name": "stdout",
          "text": [
            "🔍 Loaded 5 teachers\n",
            "\n",
            "=== Multi‑teacher KD with K=2, τ=5, α=0.9 ===\n",
            "[K=2 τ=5 α=0.9] Epoch 1/200  train_loss=5.9960\n",
            "[K=2 τ=5 α=0.9] Epoch 50/200  train_loss=44.7222\n",
            "[K=2 τ=5 α=0.9] Epoch 100/200  train_loss=31.8692\n",
            "[K=2 τ=5 α=0.9] Epoch 150/200  train_loss=14.3353\n",
            "[K=2 τ=5 α=0.9] Epoch 200/200  train_loss=10.4413\n",
            "→ [K=2 τ=5 α=0.9] test_acc=81.04%\n",
            "\n",
            "\n",
            "=== Multi‑teacher KD with K=4, τ=5, α=0.9 ===\n",
            "[K=4 τ=5 α=0.9] Epoch 1/200  train_loss=6.2748\n",
            "[K=4 τ=5 α=0.9] Epoch 50/200  train_loss=46.6638\n",
            "[K=4 τ=5 α=0.9] Epoch 100/200  train_loss=29.6004\n",
            "[K=4 τ=5 α=0.9] Epoch 150/200  train_loss=12.4816\n",
            "[K=4 τ=5 α=0.9] Epoch 200/200  train_loss=8.9397\n",
            "→ [K=4 τ=5 α=0.9] test_acc=83.03%\n",
            "\n",
            "\n",
            "=== Multi‑teacher KD with K=6, τ=5, α=0.9 ===\n",
            "[K=6 τ=5 α=0.9] Epoch 1/200  train_loss=2.3555\n",
            "[K=6 τ=5 α=0.9] Epoch 50/200  train_loss=-128.3479\n",
            "[K=6 τ=5 α=0.9] Epoch 100/200  train_loss=-145.7046\n",
            "[K=6 τ=5 α=0.9] Epoch 150/200  train_loss=-160.6823\n",
            "[K=6 τ=5 α=0.9] Epoch 200/200  train_loss=-163.7050\n",
            "→ [K=6 τ=5 α=0.9] test_acc=83.82%\n",
            "\n",
            "✅ Done! Results saved to multi_teacher_246_only.csv\n"
          ]
        }
      ]
    },
    {
      "cell_type": "markdown",
      "source": [
        "# part7：Results Visualization & Analysis"
      ],
      "metadata": {
        "id": "9ZDvJz1L9gNy"
      }
    },
    {
      "cell_type": "code",
      "source": [
        "import os\n",
        "import pandas as pd\n",
        "import matplotlib.pyplot as plt\n",
        "\n",
        "# 1. Load the three CSVs into DataFrames\n",
        "for fn in (\"baseline.csv\",\"single_teacher.csv\",\"multi_teacher.csv\"):\n",
        "    if not os.path.isfile(fn):\n",
        "        raise FileNotFoundError(f\"Required file not found: {fn}\")\n",
        "\n",
        "df_base   = pd.read_csv(\"baseline.csv\"       ).rename(columns={'test_acc':'acc_base'})\n",
        "df_single = pd.read_csv(\"single_teacher.csv\" ).rename(columns={'test_acc':'acc_single'})\n",
        "df_multi  = pd.read_csv(\"multi_teacher.csv\"  ).rename(columns={'test_acc':'acc_multi'})\n",
        "\n",
        "# 2. Merge on the grid indices (tau, alpha, K)\n",
        "df = df_base.merge(df_single, on=['tau','alpha','K']) \\\n",
        "            .merge(df_multi,  on=['tau','alpha','K'])\n",
        "\n",
        "# 3. Compute Δ‑columns\n",
        "df['Δ_single'] = df['acc_single'] - df['acc_base']\n",
        "df['Δ_multi']  = df['acc_multi']  - df['acc_base']\n",
        "\n",
        "# 4. Quantitative tables\n",
        "print(\"\\n=== Full Accuracy Comparison ===\")\n",
        "print(df[['tau','alpha','K','acc_base','acc_single','acc_multi']]\n",
        "      .sort_values(['K','alpha','tau'])\n",
        "      .to_string(index=False))\n",
        "\n",
        "print(\"\\n=== Δ-Single‑Teacher Accuracy Pivot ===\")\n",
        "pivot_single = df.pivot_table(index=['tau','alpha'], columns='K', values='Δ_single')\n",
        "print(pivot_single)\n",
        "\n",
        "print(\"\\n=== Δ-Multi‑Teacher Accuracy Pivot ===\")\n",
        "pivot_multi  = df.pivot_table(index=['tau','alpha'], columns='K', values='Δ_multi')\n",
        "print(pivot_multi)\n",
        "\n",
        "# 5. Save combined table (optional)\n",
        "df.to_csv(\"combined_results.csv\", index=False)\n",
        "\n",
        "\n",
        "# 6. Visualization: Accuracy vs Temperature for each (α, K)\n",
        "for alpha in sorted(df['alpha'].unique()):\n",
        "    for K in sorted(df['K'].unique()):\n",
        "        sub = df[(df.alpha==alpha)&(df.K==K)].sort_values('tau')\n",
        "        plt.figure()\n",
        "        plt.plot(sub.tau, sub.acc_base,   'k--',   label='Hard‑label baseline')\n",
        "        plt.plot(sub.tau, sub.acc_single, 'b-o',   label='Single‑teacher KD')\n",
        "        plt.plot(sub.tau, sub.acc_multi,  'r-s',   label=f'Multi‑teacher KD (K={K})')\n",
        "        plt.title(f'Accuracy vs τ  (α={alpha}, K={K})')\n",
        "        plt.xlabel('Temperature τ')\n",
        "        plt.ylabel('Test Accuracy (%)')\n",
        "        plt.legend()\n",
        "        plt.grid(True)\n",
        "        plt.savefig(f\"acc_vs_tau_alpha{alpha}_K{K}.png\")\n",
        "        plt.close()\n",
        "\n",
        "# 7. Visualization: Δ-Multi vs K at best (τ, α)\n",
        "best_idx    = df['acc_multi'].idxmax()\n",
        "best_tau    = df.at[best_idx, 'tau']\n",
        "best_alpha  = df.at[best_idx, 'alpha']\n",
        "best_slice  = df[(df.tau==best_tau)&(df.alpha==best_alpha)].sort_values('K')\n",
        "\n",
        "plt.figure()\n",
        "plt.bar(best_slice.K.astype(str), best_slice['Δ_multi'], color='skyblue')\n",
        "plt.title(f'Δ‑Multi‑Teacher Accuracy vs K  (τ={best_tau}, α={best_alpha})')\n",
        "plt.xlabel('Number of Teachers K')\n",
        "plt.ylabel('Δ‑Accuracy (%)')\n",
        "plt.grid(axis='y')\n",
        "plt.savefig(\"delta_vs_K.png\")\n",
        "plt.close()\n",
        "\n",
        "print(f\"\\nPlotted:\\n - Accuracy vs τ curves for each (α,K)\\n - Δ‑Accuracy vs K at best τ={best_tau}, α={best_alpha}\\n\")\n"
      ],
      "metadata": {
        "id": "sZx3DMP2L2zf"
      },
      "execution_count": null,
      "outputs": []
    }
  ]
}